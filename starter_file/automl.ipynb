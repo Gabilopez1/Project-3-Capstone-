{
 "cells": [
  {
   "cell_type": "markdown",
   "metadata": {},
   "source": [
    "# Automated ML\n",
    "\n",
    "TODO: Import Dependencies. In the cell below, import all the dependencies that you will need to complete the project."
   ]
  },
  {
   "cell_type": "code",
   "execution_count": 47,
   "metadata": {
    "gather": {
     "logged": 1598423888013
    },
    "jupyter": {
     "outputs_hidden": false,
     "source_hidden": false
    },
    "nteract": {
     "transient": {
      "deleting": false
     }
    }
   },
   "outputs": [
    {
     "name": "stdout",
     "output_type": "stream",
     "text": [
      "SDK version: 1.19.0\n"
     ]
    }
   ],
   "source": [
    "import logging\n",
    "import os\n",
    "import csv\n",
    "\n",
    "from matplotlib import pyplot as plt\n",
    "import numpy as np\n",
    "import pandas as pd\n",
    "from sklearn import datasets\n",
    "import pkg_resources\n",
    "\n",
    "import azureml.core\n",
    "from azureml.core.experiment import Experiment\n",
    "from azureml.core.workspace import Workspace\n",
    "from azureml.core.model import Model\n",
    "from azureml.core.experiment import Experiment\n",
    "from azureml.train.automl import AutoMLConfig\n",
    "from azureml.core.dataset import Dataset\n",
    "from azureml.core.environment import Environment\n",
    "from azureml.core.model import InferenceConfig\n",
    "from azureml.core.webservice import LocalWebservice, AciWebservice\n",
    "import json\n",
    "import numpy as np\n",
    "from azureml.automl.core.shared import constants\n",
    "\n",
    "from azureml.pipeline.steps import AutoMLStep\n",
    "\n",
    "# Check core SDK version number\n",
    "print(\"SDK version:\", azureml.core.VERSION)"
   ]
  },
  {
   "cell_type": "markdown",
   "metadata": {},
   "source": [
    "## Dataset\n",
    "\n",
    "### Overview\n",
    "TODO: In this markdown cell, give an overview of the dataset you are using. Also mention the task you will be performing.\n",
    "\n",
    "\n",
    "TODO: Get data. In the cell below, write code to access the data you will be using in this project. Remember that the dataset needs to be external."
   ]
  },
  {
   "cell_type": "code",
   "execution_count": 2,
   "metadata": {},
   "outputs": [
    {
     "name": "stdout",
     "output_type": "stream",
     "text": [
      "quick-starts-ws-134390\n",
      "aml-quickstarts-134390\n",
      "southcentralus\n",
      "3d1a56d2-7c81-4118-9790-f85d1acf0c77\n"
     ]
    }
   ],
   "source": [
    "ws = Workspace.from_config()\n",
    "print(ws.name, ws.resource_group, ws.location, ws.subscription_id, sep = '\\n')"
   ]
  },
  {
   "cell_type": "code",
   "execution_count": 22,
   "metadata": {
    "gather": {
     "logged": 1598423890461
    },
    "jupyter": {
     "outputs_hidden": false,
     "source_hidden": false
    },
    "nteract": {
     "transient": {
      "deleting": false
     }
    }
   },
   "outputs": [
    {
     "data": {
      "text/html": [
       "<table style=\"width:100%\"><tr><th>Name</th><th>Workspace</th><th>Report Page</th><th>Docs Page</th></tr><tr><td>ml-capstone-1</td><td>quick-starts-ws-134390</td><td><a href=\"https://ml.azure.com/experiments/ml-capstone-1?wsid=/subscriptions/3d1a56d2-7c81-4118-9790-f85d1acf0c77/resourcegroups/aml-quickstarts-134390/workspaces/quick-starts-ws-134390\" target=\"_blank\" rel=\"noopener\">Link to Azure Machine Learning studio</a></td><td><a href=\"https://docs.microsoft.com/en-us/python/api/azureml-core/azureml.core.experiment.Experiment?view=azure-ml-py\" target=\"_blank\" rel=\"noopener\">Link to Documentation</a></td></tr></table>"
      ],
      "text/plain": [
       "Experiment(Name: ml-capstone-1,\n",
       "Workspace: quick-starts-ws-134390)"
      ]
     },
     "execution_count": 22,
     "metadata": {},
     "output_type": "execute_result"
    }
   ],
   "source": [
    "# Choose a name for the run history container in the workspace.\n",
    "# NOTE: update these to match your existing experiment name\n",
    "experiment_name = 'ml-capstone-1'\n",
    "#project_folder = './capstone-project'\n",
    "\n",
    "experiment = Experiment(ws, experiment_name)\n",
    "experiment"
   ]
  },
  {
   "cell_type": "code",
   "execution_count": 4,
   "metadata": {},
   "outputs": [
    {
     "name": "stdout",
     "output_type": "stream",
     "text": [
      "Creating\n",
      "Succeeded.................................................................................................................\n",
      "AmlCompute wait for completion finished\n",
      "\n",
      "Wait timeout has been reached\n",
      "Current provisioning state of AmlCompute is \"Succeeded\" and current node count is \"0\"\n"
     ]
    }
   ],
   "source": [
    "#Create or Attach an AmlCompute cluster\n",
    "\n",
    "from azureml.core.compute import AmlCompute\n",
    "from azureml.core.compute import ComputeTarget\n",
    "from azureml.core.compute_target import ComputeTargetException\n",
    "\n",
    "# NOTE: update the cluster name to match the existing cluster\n",
    "# Choose a name for your CPU cluster\n",
    "amlcompute_cluster_name = \"auto-ml\"\n",
    "\n",
    "# Verify that cluster does not exist already\n",
    "try:\n",
    "    compute_target = ComputeTarget(workspace=ws, name=amlcompute_cluster_name)\n",
    "    print('Found existing cluster, use it.')\n",
    "except ComputeTargetException:\n",
    "    compute_config = AmlCompute.provisioning_configuration(vm_size='STANDARD_D2_V2',# for GPU, use \"STANDARD_NC6\"\n",
    "                                                           #vm_priority = 'lowpriority', # optional\n",
    "                                                           max_nodes=4)\n",
    "    compute_target = ComputeTarget.create(ws, amlcompute_cluster_name, compute_config)\n",
    "\n",
    "compute_target.wait_for_completion(show_output=True, min_node_count = 1, timeout_in_minutes = 10)\n",
    "# For a more detailed view of current AmlCompute status, use get_status()."
   ]
  },
  {
   "cell_type": "code",
   "execution_count": 5,
   "metadata": {},
   "outputs": [
    {
     "data": {
      "text/html": [
       "<div>\n",
       "<style scoped>\n",
       "    .dataframe tbody tr th:only-of-type {\n",
       "        vertical-align: middle;\n",
       "    }\n",
       "\n",
       "    .dataframe tbody tr th {\n",
       "        vertical-align: top;\n",
       "    }\n",
       "\n",
       "    .dataframe thead th {\n",
       "        text-align: right;\n",
       "    }\n",
       "</style>\n",
       "<table border=\"1\" class=\"dataframe\">\n",
       "  <thead>\n",
       "    <tr style=\"text-align: right;\">\n",
       "      <th></th>\n",
       "      <th>fixed acidity</th>\n",
       "      <th>volatile acidity</th>\n",
       "      <th>citric acid</th>\n",
       "      <th>residual sugar</th>\n",
       "      <th>chlorides</th>\n",
       "      <th>free sulfur dioxide</th>\n",
       "      <th>total sulfur dioxide</th>\n",
       "      <th>density</th>\n",
       "      <th>pH</th>\n",
       "      <th>sulphates</th>\n",
       "      <th>alcohol</th>\n",
       "      <th>quality</th>\n",
       "    </tr>\n",
       "  </thead>\n",
       "  <tbody>\n",
       "    <tr>\n",
       "      <th>count</th>\n",
       "      <td>1599.000000</td>\n",
       "      <td>1599.000000</td>\n",
       "      <td>1599.000000</td>\n",
       "      <td>1599.000000</td>\n",
       "      <td>1599.000000</td>\n",
       "      <td>1595.000000</td>\n",
       "      <td>1597.000000</td>\n",
       "      <td>1599.000000</td>\n",
       "      <td>1599.000000</td>\n",
       "      <td>1599.000000</td>\n",
       "      <td>1599.000000</td>\n",
       "      <td>1599.000000</td>\n",
       "    </tr>\n",
       "    <tr>\n",
       "      <th>mean</th>\n",
       "      <td>8.319637</td>\n",
       "      <td>0.527821</td>\n",
       "      <td>0.270976</td>\n",
       "      <td>2.538806</td>\n",
       "      <td>0.087467</td>\n",
       "      <td>15.838871</td>\n",
       "      <td>46.428929</td>\n",
       "      <td>0.996747</td>\n",
       "      <td>3.311113</td>\n",
       "      <td>0.658149</td>\n",
       "      <td>10.422983</td>\n",
       "      <td>5.636023</td>\n",
       "    </tr>\n",
       "    <tr>\n",
       "      <th>std</th>\n",
       "      <td>1.741096</td>\n",
       "      <td>0.179060</td>\n",
       "      <td>0.194801</td>\n",
       "      <td>1.409928</td>\n",
       "      <td>0.047065</td>\n",
       "      <td>10.423696</td>\n",
       "      <td>32.897570</td>\n",
       "      <td>0.001887</td>\n",
       "      <td>0.154386</td>\n",
       "      <td>0.169507</td>\n",
       "      <td>1.065668</td>\n",
       "      <td>0.807569</td>\n",
       "    </tr>\n",
       "    <tr>\n",
       "      <th>min</th>\n",
       "      <td>4.600000</td>\n",
       "      <td>0.120000</td>\n",
       "      <td>0.000000</td>\n",
       "      <td>0.900000</td>\n",
       "      <td>0.012000</td>\n",
       "      <td>1.000000</td>\n",
       "      <td>6.000000</td>\n",
       "      <td>0.990070</td>\n",
       "      <td>2.740000</td>\n",
       "      <td>0.330000</td>\n",
       "      <td>8.400000</td>\n",
       "      <td>3.000000</td>\n",
       "    </tr>\n",
       "    <tr>\n",
       "      <th>25%</th>\n",
       "      <td>7.100000</td>\n",
       "      <td>0.390000</td>\n",
       "      <td>0.090000</td>\n",
       "      <td>1.900000</td>\n",
       "      <td>0.070000</td>\n",
       "      <td>7.000000</td>\n",
       "      <td>22.000000</td>\n",
       "      <td>0.995600</td>\n",
       "      <td>3.210000</td>\n",
       "      <td>0.550000</td>\n",
       "      <td>9.500000</td>\n",
       "      <td>5.000000</td>\n",
       "    </tr>\n",
       "    <tr>\n",
       "      <th>50%</th>\n",
       "      <td>7.900000</td>\n",
       "      <td>0.520000</td>\n",
       "      <td>0.260000</td>\n",
       "      <td>2.200000</td>\n",
       "      <td>0.079000</td>\n",
       "      <td>14.000000</td>\n",
       "      <td>38.000000</td>\n",
       "      <td>0.996750</td>\n",
       "      <td>3.310000</td>\n",
       "      <td>0.620000</td>\n",
       "      <td>10.200000</td>\n",
       "      <td>6.000000</td>\n",
       "    </tr>\n",
       "    <tr>\n",
       "      <th>75%</th>\n",
       "      <td>9.200000</td>\n",
       "      <td>0.640000</td>\n",
       "      <td>0.420000</td>\n",
       "      <td>2.600000</td>\n",
       "      <td>0.090000</td>\n",
       "      <td>21.000000</td>\n",
       "      <td>62.000000</td>\n",
       "      <td>0.997835</td>\n",
       "      <td>3.400000</td>\n",
       "      <td>0.730000</td>\n",
       "      <td>11.100000</td>\n",
       "      <td>6.000000</td>\n",
       "    </tr>\n",
       "    <tr>\n",
       "      <th>max</th>\n",
       "      <td>15.900000</td>\n",
       "      <td>1.580000</td>\n",
       "      <td>1.000000</td>\n",
       "      <td>15.500000</td>\n",
       "      <td>0.611000</td>\n",
       "      <td>72.000000</td>\n",
       "      <td>289.000000</td>\n",
       "      <td>1.003690</td>\n",
       "      <td>4.010000</td>\n",
       "      <td>2.000000</td>\n",
       "      <td>14.900000</td>\n",
       "      <td>8.000000</td>\n",
       "    </tr>\n",
       "  </tbody>\n",
       "</table>\n",
       "</div>"
      ],
      "text/plain": [
       "       fixed acidity  volatile acidity  citric acid  residual sugar  \\\n",
       "count    1599.000000       1599.000000  1599.000000     1599.000000   \n",
       "mean        8.319637          0.527821     0.270976        2.538806   \n",
       "std         1.741096          0.179060     0.194801        1.409928   \n",
       "min         4.600000          0.120000     0.000000        0.900000   \n",
       "25%         7.100000          0.390000     0.090000        1.900000   \n",
       "50%         7.900000          0.520000     0.260000        2.200000   \n",
       "75%         9.200000          0.640000     0.420000        2.600000   \n",
       "max        15.900000          1.580000     1.000000       15.500000   \n",
       "\n",
       "         chlorides  free sulfur dioxide  total sulfur dioxide      density  \\\n",
       "count  1599.000000          1595.000000           1597.000000  1599.000000   \n",
       "mean      0.087467            15.838871             46.428929     0.996747   \n",
       "std       0.047065            10.423696             32.897570     0.001887   \n",
       "min       0.012000             1.000000              6.000000     0.990070   \n",
       "25%       0.070000             7.000000             22.000000     0.995600   \n",
       "50%       0.079000            14.000000             38.000000     0.996750   \n",
       "75%       0.090000            21.000000             62.000000     0.997835   \n",
       "max       0.611000            72.000000            289.000000     1.003690   \n",
       "\n",
       "                pH    sulphates      alcohol      quality  \n",
       "count  1599.000000  1599.000000  1599.000000  1599.000000  \n",
       "mean      3.311113     0.658149    10.422983     5.636023  \n",
       "std       0.154386     0.169507     1.065668     0.807569  \n",
       "min       2.740000     0.330000     8.400000     3.000000  \n",
       "25%       3.210000     0.550000     9.500000     5.000000  \n",
       "50%       3.310000     0.620000    10.200000     6.000000  \n",
       "75%       3.400000     0.730000    11.100000     6.000000  \n",
       "max       4.010000     2.000000    14.900000     8.000000  "
      ]
     },
     "execution_count": 5,
     "metadata": {},
     "output_type": "execute_result"
    }
   ],
   "source": [
    "# Try to load the dataset from the Workspace. Otherwise, create it from the file\n",
    "# NOTE: update the key to match the dataset name\n",
    "found = False\n",
    "key = \"wine-quality\"\n",
    "description_text = \" Datasets from wine quality of red wine the Portuguese Vinho Verde wine\"\n",
    "\n",
    "if key in ws.datasets.keys(): \n",
    "        found = True\n",
    "        dataset = ws.datasets[key] \n",
    "\n",
    "if not found:\n",
    "        # Create AML Dataset and register it into Workspace\n",
    "        example_data = 'https://archive.ics.uci.edu/ml/machine-learning-databases/wine-quality/winequality-red.csv'\n",
    "        dataset = Dataset.Tabular.from_delimited_files(example_data)        \n",
    "        #Register Dataset in Workspace\n",
    "        dataset = dataset.register(workspace=ws,\n",
    "                                   name=key,\n",
    "                                   description=description_text)\n",
    "\n",
    "\n",
    "df = dataset.to_pandas_dataframe()\n",
    "df.describe()"
   ]
  },
  {
   "cell_type": "code",
   "execution_count": 6,
   "metadata": {},
   "outputs": [
    {
     "data": {
      "text/html": [
       "<div>\n",
       "<style scoped>\n",
       "    .dataframe tbody tr th:only-of-type {\n",
       "        vertical-align: middle;\n",
       "    }\n",
       "\n",
       "    .dataframe tbody tr th {\n",
       "        vertical-align: top;\n",
       "    }\n",
       "\n",
       "    .dataframe thead th {\n",
       "        text-align: right;\n",
       "    }\n",
       "</style>\n",
       "<table border=\"1\" class=\"dataframe\">\n",
       "  <thead>\n",
       "    <tr style=\"text-align: right;\">\n",
       "      <th></th>\n",
       "      <th>fixed acidity</th>\n",
       "      <th>volatile acidity</th>\n",
       "      <th>citric acid</th>\n",
       "      <th>residual sugar</th>\n",
       "      <th>chlorides</th>\n",
       "      <th>free sulfur dioxide</th>\n",
       "      <th>total sulfur dioxide</th>\n",
       "      <th>density</th>\n",
       "      <th>pH</th>\n",
       "      <th>sulphates</th>\n",
       "      <th>alcohol</th>\n",
       "      <th>quality</th>\n",
       "    </tr>\n",
       "  </thead>\n",
       "  <tbody>\n",
       "    <tr>\n",
       "      <th>0</th>\n",
       "      <td>7.4</td>\n",
       "      <td>0.70</td>\n",
       "      <td>0.00</td>\n",
       "      <td>1.9</td>\n",
       "      <td>0.076</td>\n",
       "      <td>11</td>\n",
       "      <td>34</td>\n",
       "      <td>0.9978</td>\n",
       "      <td>3.51</td>\n",
       "      <td>0.56</td>\n",
       "      <td>9.4</td>\n",
       "      <td>5</td>\n",
       "    </tr>\n",
       "    <tr>\n",
       "      <th>1</th>\n",
       "      <td>7.8</td>\n",
       "      <td>0.88</td>\n",
       "      <td>0.00</td>\n",
       "      <td>2.6</td>\n",
       "      <td>0.098</td>\n",
       "      <td>25</td>\n",
       "      <td>67</td>\n",
       "      <td>0.9968</td>\n",
       "      <td>3.20</td>\n",
       "      <td>0.68</td>\n",
       "      <td>9.8</td>\n",
       "      <td>5</td>\n",
       "    </tr>\n",
       "    <tr>\n",
       "      <th>2</th>\n",
       "      <td>7.8</td>\n",
       "      <td>0.76</td>\n",
       "      <td>0.04</td>\n",
       "      <td>2.3</td>\n",
       "      <td>0.092</td>\n",
       "      <td>15</td>\n",
       "      <td>54</td>\n",
       "      <td>0.9970</td>\n",
       "      <td>3.26</td>\n",
       "      <td>0.65</td>\n",
       "      <td>9.8</td>\n",
       "      <td>5</td>\n",
       "    </tr>\n",
       "    <tr>\n",
       "      <th>3</th>\n",
       "      <td>11.2</td>\n",
       "      <td>0.28</td>\n",
       "      <td>0.56</td>\n",
       "      <td>1.9</td>\n",
       "      <td>0.075</td>\n",
       "      <td>17</td>\n",
       "      <td>60</td>\n",
       "      <td>0.9980</td>\n",
       "      <td>3.16</td>\n",
       "      <td>0.58</td>\n",
       "      <td>9.8</td>\n",
       "      <td>6</td>\n",
       "    </tr>\n",
       "    <tr>\n",
       "      <th>4</th>\n",
       "      <td>7.4</td>\n",
       "      <td>0.70</td>\n",
       "      <td>0.00</td>\n",
       "      <td>1.9</td>\n",
       "      <td>0.076</td>\n",
       "      <td>11</td>\n",
       "      <td>34</td>\n",
       "      <td>0.9978</td>\n",
       "      <td>3.51</td>\n",
       "      <td>0.56</td>\n",
       "      <td>9.4</td>\n",
       "      <td>5</td>\n",
       "    </tr>\n",
       "  </tbody>\n",
       "</table>\n",
       "</div>"
      ],
      "text/plain": [
       "   fixed acidity  volatile acidity  citric acid  residual sugar  chlorides  \\\n",
       "0            7.4              0.70         0.00             1.9      0.076   \n",
       "1            7.8              0.88         0.00             2.6      0.098   \n",
       "2            7.8              0.76         0.04             2.3      0.092   \n",
       "3           11.2              0.28         0.56             1.9      0.075   \n",
       "4            7.4              0.70         0.00             1.9      0.076   \n",
       "\n",
       "   free sulfur dioxide  total sulfur dioxide  density    pH  sulphates  \\\n",
       "0                   11                    34   0.9978  3.51       0.56   \n",
       "1                   25                    67   0.9968  3.20       0.68   \n",
       "2                   15                    54   0.9970  3.26       0.65   \n",
       "3                   17                    60   0.9980  3.16       0.58   \n",
       "4                   11                    34   0.9978  3.51       0.56   \n",
       "\n",
       "   alcohol  quality  \n",
       "0      9.4        5  \n",
       "1      9.8        5  \n",
       "2      9.8        5  \n",
       "3      9.8        6  \n",
       "4      9.4        5  "
      ]
     },
     "execution_count": 6,
     "metadata": {},
     "output_type": "execute_result"
    }
   ],
   "source": [
    "#Review Dataset\n",
    "dataset.take(5).to_pandas_dataframe()"
   ]
  },
  {
   "cell_type": "markdown",
   "metadata": {},
   "source": [
    "## AutoML Configuration\n",
    "\n",
    "TODO: Explain why you chose the automl settings and cofiguration you used below."
   ]
  },
  {
   "cell_type": "code",
   "execution_count": 11,
   "metadata": {
    "gather": {
     "logged": 1598429217746
    },
    "jupyter": {
     "outputs_hidden": false,
     "source_hidden": false
    },
    "nteract": {
     "transient": {
      "deleting": false
     }
    }
   },
   "outputs": [],
   "source": [
    "automl_settings = {\n",
    "    \"experiment_timeout_minutes\": 20,\n",
    "    \"max_concurrent_iterations\": 5,\n",
    "    \"primary_metric\" : 'accuracy',\n",
    "    \"training_data\": dataset,\n",
    "    \"label_column_name\":'quality',\n",
    "    \"n_cross_validations\" :4,\n",
    "    \"featurization\" : 'auto',\n",
    "    \"task\" : 'classification',\n",
    "    \"enable_early_stopping\": True,\n",
    "    \"debug_log\" : \"automl_errors.log\",\n",
    "    \n",
    "}\n",
    "automl_config = AutoMLConfig(compute_target=compute_target,\n",
    "                             **automl_settings\n",
    "                            )"
   ]
  },
  {
   "cell_type": "code",
   "execution_count": 12,
   "metadata": {
    "gather": {
     "logged": 1598431107951
    },
    "jupyter": {
     "outputs_hidden": false,
     "source_hidden": false
    },
    "nteract": {
     "transient": {
      "deleting": false
     }
    }
   },
   "outputs": [
    {
     "name": "stdout",
     "output_type": "stream",
     "text": [
      "Running on remote.\n",
      "No run_configuration provided, running on auto-ml with default configuration\n",
      "Running on remote compute: auto-ml\n",
      "Parent Run ID: AutoML_0c8c06cc-26f8-49d0-a58c-28fba24f6557\n",
      "\n",
      "Current status: FeaturesGeneration. Generating features for the dataset.\n",
      "Current status: DatasetCrossValidationSplit. Generating individually featurized CV splits.\n",
      "Current status: ModelSelection. Beginning model selection.\n",
      "\n",
      "****************************************************************************************************\n",
      "DATA GUARDRAILS: \n",
      "\n",
      "TYPE:         Class balancing detection\n",
      "STATUS:       ALERTED\n",
      "DESCRIPTION:  To decrease model bias, please cancel the current run and fix balancing problem.\n",
      "              Learn more about imbalanced data: https://aka.ms/AutomatedMLImbalancedData\n",
      "DETAILS:      Imbalanced data can lead to a falsely perceived positive effect of a model's accuracy because the input data has bias towards one class.\n",
      "+---------------------------------+---------------------------------+--------------------------------------+\n",
      "|Size of the smallest class       |Name/Label of the smallest class |Number of samples in the training data|\n",
      "+=================================+=================================+======================================+\n",
      "|10                               |3                                |1599                                  |\n",
      "+---------------------------------+---------------------------------+--------------------------------------+\n",
      "\n",
      "****************************************************************************************************\n",
      "\n",
      "TYPE:         Missing feature values imputation\n",
      "STATUS:       DONE\n",
      "DESCRIPTION:  If the missing values are expected, let the run complete. Otherwise cancel the current run and use a script to customize the handling of missing feature values that may be more appropriate based on the data type and business requirement.\n",
      "              Learn more about missing value imputation: https://aka.ms/AutomatedMLFeaturization\n",
      "DETAILS:      \n",
      "+---------------------------------+---------------------------------+---------------------------------+\n",
      "|Column name                      |Missing value count              |Imputation type                  |\n",
      "+=================================+=================================+=================================+\n",
      "|free sulfur dioxide              |4                                |mean                             |\n",
      "|total sulfur dioxide             |2                                |mean                             |\n",
      "+---------------------------------+---------------------------------+---------------------------------+\n",
      "\n",
      "****************************************************************************************************\n",
      "\n",
      "TYPE:         High cardinality feature detection\n",
      "STATUS:       PASSED\n",
      "DESCRIPTION:  Your inputs were analyzed, and no high cardinality features were detected.\n",
      "              Learn more about high cardinality feature handling: https://aka.ms/AutomatedMLFeaturization\n",
      "\n",
      "****************************************************************************************************\n",
      "\n",
      "****************************************************************************************************\n",
      "ITERATION: The iteration being evaluated.\n",
      "PIPELINE: A summary description of the pipeline being evaluated.\n",
      "DURATION: Time taken for the current iteration.\n",
      "METRIC: The result of computing score on the fitted pipeline.\n",
      "BEST: The best observed score thus far.\n",
      "****************************************************************************************************\n",
      "\n",
      " ITERATION   PIPELINE                                       DURATION      METRIC      BEST\n",
      "         3   MinMaxScaler RandomForest                      0:00:47       0.6029    0.6029\n",
      "         1   MaxAbsScaler XGBoostClassifier                 0:00:54       0.6392    0.6392\n",
      "         0   MaxAbsScaler LightGBM                          0:00:56       0.6892    0.6892\n",
      "         4   MinMaxScaler RandomForest                      0:00:47       0.5441    0.6892\n",
      "         7   StandardScalerWrapper XGBoostClassifier        0:00:43       0.6216    0.6892\n",
      "         8   MinMaxScaler SVM                               0:00:50       0.6172    0.6892\n",
      "         2   MinMaxScaler RandomForest                      0:03:29       0.6148    0.6892\n",
      "         5   MaxAbsScaler LightGBM                          0:03:29       0.6260    0.6892\n",
      "         6   MaxAbsScaler GradientBoosting                  0:03:25       0.5879    0.6892\n",
      "         9   MaxAbsScaler LightGBM                          0:01:04       0.6123    0.6892\n",
      "        10   MaxAbsScaler GradientBoosting                  0:00:53       0.6129    0.6892\n",
      "        11   SparseNormalizer XGBoostClassifier             0:00:39       0.6310    0.6892\n",
      "        12   SparseNormalizer XGBoostClassifier             0:00:43       0.6398    0.6892\n",
      "        13   SparseNormalizer XGBoostClassifier             0:00:49       0.6323    0.6892\n",
      "        14   RobustScaler RandomForest                      0:00:46       0.5822    0.6892\n",
      "        15   MaxAbsScaler LightGBM                          0:00:37       0.5835    0.6892\n",
      "        16   SparseNormalizer LightGBM                      0:00:51       0.5491    0.6892\n",
      "        17   StandardScalerWrapper RandomForest             0:00:49       0.5979    0.6892\n",
      "        18   MinMaxScaler LightGBM                          0:00:56       0.6135    0.6892\n",
      "        19   SparseNormalizer XGBoostClassifier             0:00:49       0.6223    0.6892\n",
      "        20   StandardScalerWrapper LightGBM                 0:00:44       0.6060    0.6892\n",
      "        21   MinMaxScaler RandomForest                      0:00:54       0.5804    0.6892\n",
      "        22   StandardScalerWrapper LightGBM                 0:00:48       0.6166    0.6892\n",
      "        25   StandardScalerWrapper LightGBM                 0:00:42       0.4671    0.6892\n",
      "        23   SparseNormalizer XGBoostClassifier             0:01:09       0.6029    0.6892\n",
      "        24   StandardScalerWrapper LightGBM                 0:01:05       0.6010    0.6892\n",
      "        26   MaxAbsScaler RandomForest                      0:00:48       0.4146    0.6892\n",
      "        27   StandardScalerWrapper LogisticRegression       0:00:47       0.5879    0.6892\n",
      "        28   MinMaxScaler LogisticRegression                0:00:42       0.5829    0.6892\n",
      "        29   SparseNormalizer XGBoostClassifier             0:00:38       0.5685    0.6892\n",
      "        30   MaxAbsScaler LightGBM                          0:00:45       0.5797    0.6892\n",
      "        31   MaxAbsScaler LightGBM                          0:00:52       0.6266    0.6892\n",
      "        32   StandardScalerWrapper LightGBM                 0:00:42       0.6173    0.6892\n",
      "        33   SparseNormalizer XGBoostClassifier             0:00:39       0.5622    0.6892\n",
      "        35                                                  0:00:13          nan    0.6892\n",
      "        34   SparseNormalizer LightGBM                      0:00:42       0.5991    0.6892\n",
      "        36                                                  0:00:16          nan    0.6892\n",
      "        37                                                  0:00:19          nan    0.6892\n",
      "        38    VotingEnsemble                                0:01:25       0.7017    0.7017\n",
      "        39    StackEnsemble                                 0:04:58       0.6879    0.7017\n",
      "\n",
      "\n",
      "****************************************************************************************************\n",
      "DATA GUARDRAILS: \n",
      "\n",
      "TYPE:         Class balancing detection\n",
      "STATUS:       ALERTED\n",
      "DESCRIPTION:  To decrease model bias, please cancel the current run and fix balancing problem.\n",
      "              Learn more about imbalanced data: https://aka.ms/AutomatedMLImbalancedData\n",
      "DETAILS:      Imbalanced data can lead to a falsely perceived positive effect of a model's accuracy because the input data has bias towards one class.\n",
      "+---------------------------------+---------------------------------+--------------------------------------+\n",
      "|Size of the smallest class       |Name/Label of the smallest class |Number of samples in the training data|\n",
      "+=================================+=================================+======================================+\n",
      "|10                               |3                                |1599                                  |\n",
      "+---------------------------------+---------------------------------+--------------------------------------+\n"
     ]
    },
    {
     "name": "stdout",
     "output_type": "stream",
     "text": [
      "\n",
      "****************************************************************************************************\n",
      "\n",
      "TYPE:         Missing feature values imputation\n",
      "STATUS:       DONE\n",
      "DESCRIPTION:  If the missing values are expected, let the run complete. Otherwise cancel the current run and use a script to customize the handling of missing feature values that may be more appropriate based on the data type and business requirement.\n",
      "              Learn more about missing value imputation: https://aka.ms/AutomatedMLFeaturization\n",
      "DETAILS:      \n",
      "+---------------------------------+---------------------------------+---------------------------------+\n",
      "|Column name                      |Missing value count              |Imputation type                  |\n",
      "+=================================+=================================+=================================+\n",
      "|free sulfur dioxide              |4                                |mean                             |\n",
      "|total sulfur dioxide             |2                                |mean                             |\n",
      "+---------------------------------+---------------------------------+---------------------------------+\n",
      "\n",
      "****************************************************************************************************\n",
      "\n",
      "TYPE:         High cardinality feature detection\n",
      "STATUS:       PASSED\n",
      "DESCRIPTION:  Your inputs were analyzed, and no high cardinality features were detected.\n",
      "              Learn more about high cardinality feature handling: https://aka.ms/AutomatedMLFeaturization\n",
      "\n",
      "****************************************************************************************************\n",
      "\n",
      "****************************************************************************************************\n",
      "ITERATION: The iteration being evaluated.\n",
      "PIPELINE: A summary description of the pipeline being evaluated.\n",
      "DURATION: Time taken for the current iteration.\n",
      "METRIC: The result of computing score on the fitted pipeline.\n",
      "BEST: The best observed score thus far.\n",
      "****************************************************************************************************\n",
      "\n",
      " ITERATION   PIPELINE                                       DURATION      METRIC      BEST\n",
      "         0   MaxAbsScaler LightGBM                          0:00:56       0.6892    0.6892\n",
      "         1   MaxAbsScaler XGBoostClassifier                 0:00:54       0.6392    0.6892\n",
      "         2   MinMaxScaler RandomForest                      0:03:29       0.6148    0.6892\n",
      "         3   MinMaxScaler RandomForest                      0:00:47       0.6029    0.6892\n",
      "         4   MinMaxScaler RandomForest                      0:00:47       0.5441    0.6892\n",
      "         5   MaxAbsScaler LightGBM                          0:03:29       0.6260    0.6892\n",
      "         6   MaxAbsScaler GradientBoosting                  0:03:25       0.5879    0.6892\n",
      "         7   StandardScalerWrapper XGBoostClassifier        0:00:43       0.6216    0.6892\n",
      "         8   MinMaxScaler SVM                               0:00:50       0.6172    0.6892\n",
      "         9   MaxAbsScaler LightGBM                          0:01:04       0.6123    0.6892\n",
      "        10   MaxAbsScaler GradientBoosting                  0:00:53       0.6129    0.6892\n",
      "        11   SparseNormalizer XGBoostClassifier             0:00:39       0.6310    0.6892\n",
      "        12   SparseNormalizer XGBoostClassifier             0:00:43       0.6398    0.6892\n",
      "        13   SparseNormalizer XGBoostClassifier             0:00:49       0.6323    0.6892\n",
      "        14   RobustScaler RandomForest                      0:00:46       0.5822    0.6892\n",
      "        15   MaxAbsScaler LightGBM                          0:00:37       0.5835    0.6892\n",
      "        16   SparseNormalizer LightGBM                      0:00:51       0.5491    0.6892\n",
      "        17   StandardScalerWrapper RandomForest             0:00:49       0.5979    0.6892\n",
      "        18   MinMaxScaler LightGBM                          0:00:56       0.6135    0.6892\n",
      "        19   SparseNormalizer XGBoostClassifier             0:00:49       0.6223    0.6892\n",
      "        20   StandardScalerWrapper LightGBM                 0:00:44       0.6060    0.6892\n",
      "        21   MinMaxScaler RandomForest                      0:00:54       0.5804    0.6892\n",
      "        22   StandardScalerWrapper LightGBM                 0:00:48       0.6166    0.6892\n",
      "        23   SparseNormalizer XGBoostClassifier             0:01:09       0.6029    0.6892\n",
      "        24   StandardScalerWrapper LightGBM                 0:01:05       0.6010    0.6892\n",
      "        25   StandardScalerWrapper LightGBM                 0:00:42       0.4671    0.6892\n",
      "        26   MaxAbsScaler RandomForest                      0:00:48       0.4146    0.6892\n",
      "        27   StandardScalerWrapper LogisticRegression       0:00:47       0.5879    0.6892\n",
      "        28   MinMaxScaler LogisticRegression                0:00:42       0.5829    0.6892\n",
      "        29   SparseNormalizer XGBoostClassifier             0:00:38       0.5685    0.6892\n",
      "        30   MaxAbsScaler LightGBM                          0:00:45       0.5797    0.6892\n",
      "        31   MaxAbsScaler LightGBM                          0:00:52       0.6266    0.6892\n",
      "        32   StandardScalerWrapper LightGBM                 0:00:42       0.6173    0.6892\n",
      "        33   SparseNormalizer XGBoostClassifier             0:00:39       0.5622    0.6892\n",
      "        34   SparseNormalizer LightGBM                      0:00:42       0.5991    0.6892\n",
      "        35                                                  0:00:13          nan    0.6892\n",
      "        36                                                  0:00:16          nan    0.6892\n",
      "        37                                                  0:00:19          nan    0.6892\n",
      "        38    VotingEnsemble                                0:01:25       0.7017    0.7017\n",
      "        39    StackEnsemble                                 0:04:58       0.6879    0.7017\n"
     ]
    },
    {
     "data": {
      "text/plain": [
       "{'runId': 'AutoML_0c8c06cc-26f8-49d0-a58c-28fba24f6557',\n",
       " 'target': 'auto-ml',\n",
       " 'status': 'Completed',\n",
       " 'startTimeUtc': '2021-01-11T22:59:52.832469Z',\n",
       " 'endTimeUtc': '2021-01-11T23:27:44.110322Z',\n",
       " 'properties': {'num_iterations': '1000',\n",
       "  'training_type': 'TrainFull',\n",
       "  'acquisition_function': 'EI',\n",
       "  'primary_metric': 'accuracy',\n",
       "  'train_split': '0',\n",
       "  'acquisition_parameter': '0',\n",
       "  'num_cross_validation': '4',\n",
       "  'target': 'auto-ml',\n",
       "  'AMLSettingsJsonString': '{\"path\":null,\"name\":\"ml-capstone-1\",\"subscription_id\":\"3d1a56d2-7c81-4118-9790-f85d1acf0c77\",\"resource_group\":\"aml-quickstarts-134390\",\"workspace_name\":\"quick-starts-ws-134390\",\"region\":\"southcentralus\",\"compute_target\":\"auto-ml\",\"spark_service\":null,\"azure_service\":\"remote\",\"many_models\":false,\"pipeline_fetch_max_batch_size\":1,\"iterations\":1000,\"primary_metric\":\"accuracy\",\"task_type\":\"classification\",\"data_script\":null,\"validation_size\":0.0,\"n_cross_validations\":4,\"y_min\":null,\"y_max\":null,\"num_classes\":null,\"featurization\":\"auto\",\"_ignore_package_version_incompatibilities\":false,\"is_timeseries\":false,\"max_cores_per_iteration\":1,\"max_concurrent_iterations\":5,\"iteration_timeout_minutes\":null,\"mem_in_mb\":null,\"enforce_time_on_windows\":false,\"experiment_timeout_minutes\":20,\"experiment_exit_score\":null,\"whitelist_models\":null,\"blacklist_algos\":[\"TensorFlowLinearClassifier\",\"TensorFlowDNN\"],\"supported_models\":[\"LogisticRegression\",\"SGD\",\"KNN\",\"LightGBM\",\"SVM\",\"DecisionTree\",\"TensorFlowDNN\",\"ExtremeRandomTrees\",\"XGBoostClassifier\",\"BernoulliNaiveBayes\",\"RandomForest\",\"GradientBoosting\",\"AveragedPerceptronClassifier\",\"TensorFlowLinearClassifier\",\"LinearSVM\",\"MultinomialNaiveBayes\"],\"auto_blacklist\":true,\"blacklist_samples_reached\":false,\"exclude_nan_labels\":true,\"verbosity\":20,\"_debug_log\":\"azureml_automl.log\",\"show_warnings\":false,\"model_explainability\":true,\"service_url\":null,\"sdk_url\":null,\"sdk_packages\":null,\"enable_onnx_compatible_models\":false,\"enable_split_onnx_featurizer_estimator_models\":false,\"vm_type\":\"STANDARD_D2_V2\",\"telemetry_verbosity\":20,\"send_telemetry\":true,\"enable_dnn\":false,\"scenario\":\"SDK-1.13.0\",\"environment_label\":null,\"force_text_dnn\":false,\"enable_feature_sweeping\":true,\"enable_early_stopping\":true,\"early_stopping_n_iters\":10,\"metrics\":null,\"enable_ensembling\":true,\"enable_stack_ensembling\":true,\"ensemble_iterations\":15,\"enable_tf\":false,\"enable_subsampling\":null,\"subsample_seed\":null,\"enable_nimbusml\":false,\"enable_streaming\":false,\"force_streaming\":false,\"track_child_runs\":true,\"allowed_private_models\":[],\"label_column_name\":\"quality\",\"weight_column_name\":null,\"cv_split_column_names\":null,\"enable_local_managed\":false,\"_local_managed_run_id\":null,\"cost_mode\":1,\"lag_length\":0,\"metric_operation\":\"maximize\",\"preprocess\":true}',\n",
       "  'DataPrepJsonString': '{\\\\\"training_data\\\\\": \\\\\"{\\\\\\\\\\\\\"blocks\\\\\\\\\\\\\": [{\\\\\\\\\\\\\"id\\\\\\\\\\\\\": \\\\\\\\\\\\\"19fc4c2f-b2d3-42c6-b48a-22116aeb6733\\\\\\\\\\\\\", \\\\\\\\\\\\\"type\\\\\\\\\\\\\": \\\\\\\\\\\\\"Microsoft.DPrep.GetDatastoreFilesBlock\\\\\\\\\\\\\", \\\\\\\\\\\\\"arguments\\\\\\\\\\\\\": {\\\\\\\\\\\\\"datastores\\\\\\\\\\\\\": [{\\\\\\\\\\\\\"datastoreName\\\\\\\\\\\\\": \\\\\\\\\\\\\"workspaceblobstore\\\\\\\\\\\\\", \\\\\\\\\\\\\"path\\\\\\\\\\\\\": \\\\\\\\\\\\\"UI/01-11-2021_094414_UTC/winequality-red.csv\\\\\\\\\\\\\", \\\\\\\\\\\\\"resourceGroup\\\\\\\\\\\\\": \\\\\\\\\\\\\"aml-quickstarts-134390\\\\\\\\\\\\\", \\\\\\\\\\\\\"subscription\\\\\\\\\\\\\": \\\\\\\\\\\\\"3d1a56d2-7c81-4118-9790-f85d1acf0c77\\\\\\\\\\\\\", \\\\\\\\\\\\\"workspaceName\\\\\\\\\\\\\": \\\\\\\\\\\\\"quick-starts-ws-134390\\\\\\\\\\\\\"}]}, \\\\\\\\\\\\\"localData\\\\\\\\\\\\\": {}, \\\\\\\\\\\\\"isEnabled\\\\\\\\\\\\\": true, \\\\\\\\\\\\\"name\\\\\\\\\\\\\": null, \\\\\\\\\\\\\"annotation\\\\\\\\\\\\\": null}, {\\\\\\\\\\\\\"id\\\\\\\\\\\\\": \\\\\\\\\\\\\"51c47664-0ba9-4545-b2af-3a2615d163ea\\\\\\\\\\\\\", \\\\\\\\\\\\\"type\\\\\\\\\\\\\": \\\\\\\\\\\\\"Microsoft.DPrep.ParseDelimitedBlock\\\\\\\\\\\\\", \\\\\\\\\\\\\"arguments\\\\\\\\\\\\\": {\\\\\\\\\\\\\"columnHeadersMode\\\\\\\\\\\\\": 1, \\\\\\\\\\\\\"fileEncoding\\\\\\\\\\\\\": 0, \\\\\\\\\\\\\"handleQuotedLineBreaks\\\\\\\\\\\\\": false, \\\\\\\\\\\\\"preview\\\\\\\\\\\\\": false, \\\\\\\\\\\\\"separator\\\\\\\\\\\\\": \\\\\\\\\\\\\";\\\\\\\\\\\\\", \\\\\\\\\\\\\"skipRows\\\\\\\\\\\\\": 0, \\\\\\\\\\\\\"skipRowsMode\\\\\\\\\\\\\": 0}, \\\\\\\\\\\\\"localData\\\\\\\\\\\\\": {}, \\\\\\\\\\\\\"isEnabled\\\\\\\\\\\\\": true, \\\\\\\\\\\\\"name\\\\\\\\\\\\\": null, \\\\\\\\\\\\\"annotation\\\\\\\\\\\\\": null}, {\\\\\\\\\\\\\"id\\\\\\\\\\\\\": \\\\\\\\\\\\\"8126dbd5-ca30-469f-bc4b-e3054843fd16\\\\\\\\\\\\\", \\\\\\\\\\\\\"type\\\\\\\\\\\\\": \\\\\\\\\\\\\"Microsoft.DPrep.DropColumnsBlock\\\\\\\\\\\\\", \\\\\\\\\\\\\"arguments\\\\\\\\\\\\\": {\\\\\\\\\\\\\"columns\\\\\\\\\\\\\": {\\\\\\\\\\\\\"type\\\\\\\\\\\\\": 0, \\\\\\\\\\\\\"details\\\\\\\\\\\\\": {\\\\\\\\\\\\\"selectedColumns\\\\\\\\\\\\\": [\\\\\\\\\\\\\"Path\\\\\\\\\\\\\"]}}}, \\\\\\\\\\\\\"localData\\\\\\\\\\\\\": {}, \\\\\\\\\\\\\"isEnabled\\\\\\\\\\\\\": true, \\\\\\\\\\\\\"name\\\\\\\\\\\\\": null, \\\\\\\\\\\\\"annotation\\\\\\\\\\\\\": null}, {\\\\\\\\\\\\\"id\\\\\\\\\\\\\": \\\\\\\\\\\\\"70bb287a-9752-46f0-9d6a-e5cd0f21652d\\\\\\\\\\\\\", \\\\\\\\\\\\\"type\\\\\\\\\\\\\": \\\\\\\\\\\\\"Microsoft.DPrep.SetColumnTypesBlock\\\\\\\\\\\\\", \\\\\\\\\\\\\"arguments\\\\\\\\\\\\\": {\\\\\\\\\\\\\"columnConversion\\\\\\\\\\\\\": [{\\\\\\\\\\\\\"column\\\\\\\\\\\\\": {\\\\\\\\\\\\\"type\\\\\\\\\\\\\": 2, \\\\\\\\\\\\\"details\\\\\\\\\\\\\": {\\\\\\\\\\\\\"selectedColumn\\\\\\\\\\\\\": \\\\\\\\\\\\\"Path\\\\\\\\\\\\\"}}, \\\\\\\\\\\\\"typeProperty\\\\\\\\\\\\\": 0}, {\\\\\\\\\\\\\"column\\\\\\\\\\\\\": {\\\\\\\\\\\\\"type\\\\\\\\\\\\\": 2, \\\\\\\\\\\\\"details\\\\\\\\\\\\\": {\\\\\\\\\\\\\"selectedColumn\\\\\\\\\\\\\": \\\\\\\\\\\\\"fixed acidity\\\\\\\\\\\\\"}}, \\\\\\\\\\\\\"typeProperty\\\\\\\\\\\\\": 3}, {\\\\\\\\\\\\\"column\\\\\\\\\\\\\": {\\\\\\\\\\\\\"type\\\\\\\\\\\\\": 2, \\\\\\\\\\\\\"details\\\\\\\\\\\\\": {\\\\\\\\\\\\\"selectedColumn\\\\\\\\\\\\\": \\\\\\\\\\\\\"volatile acidity\\\\\\\\\\\\\"}}, \\\\\\\\\\\\\"typeProperty\\\\\\\\\\\\\": 3}, {\\\\\\\\\\\\\"column\\\\\\\\\\\\\": {\\\\\\\\\\\\\"type\\\\\\\\\\\\\": 2, \\\\\\\\\\\\\"details\\\\\\\\\\\\\": {\\\\\\\\\\\\\"selectedColumn\\\\\\\\\\\\\": \\\\\\\\\\\\\"citric acid\\\\\\\\\\\\\"}}, \\\\\\\\\\\\\"typeProperty\\\\\\\\\\\\\": 3}, {\\\\\\\\\\\\\"column\\\\\\\\\\\\\": {\\\\\\\\\\\\\"type\\\\\\\\\\\\\": 2, \\\\\\\\\\\\\"details\\\\\\\\\\\\\": {\\\\\\\\\\\\\"selectedColumn\\\\\\\\\\\\\": \\\\\\\\\\\\\"residual sugar\\\\\\\\\\\\\"}}, \\\\\\\\\\\\\"typeProperty\\\\\\\\\\\\\": 3}, {\\\\\\\\\\\\\"column\\\\\\\\\\\\\": {\\\\\\\\\\\\\"type\\\\\\\\\\\\\": 2, \\\\\\\\\\\\\"details\\\\\\\\\\\\\": {\\\\\\\\\\\\\"selectedColumn\\\\\\\\\\\\\": \\\\\\\\\\\\\"chlorides\\\\\\\\\\\\\"}}, \\\\\\\\\\\\\"typeProperty\\\\\\\\\\\\\": 3}, {\\\\\\\\\\\\\"column\\\\\\\\\\\\\": {\\\\\\\\\\\\\"type\\\\\\\\\\\\\": 2, \\\\\\\\\\\\\"details\\\\\\\\\\\\\": {\\\\\\\\\\\\\"selectedColumn\\\\\\\\\\\\\": \\\\\\\\\\\\\"free sulfur dioxide\\\\\\\\\\\\\"}}, \\\\\\\\\\\\\"typeProperty\\\\\\\\\\\\\": 2}, {\\\\\\\\\\\\\"column\\\\\\\\\\\\\": {\\\\\\\\\\\\\"type\\\\\\\\\\\\\": 2, \\\\\\\\\\\\\"details\\\\\\\\\\\\\": {\\\\\\\\\\\\\"selectedColumn\\\\\\\\\\\\\": \\\\\\\\\\\\\"total sulfur dioxide\\\\\\\\\\\\\"}}, \\\\\\\\\\\\\"typeProperty\\\\\\\\\\\\\": 2}, {\\\\\\\\\\\\\"column\\\\\\\\\\\\\": {\\\\\\\\\\\\\"type\\\\\\\\\\\\\": 2, \\\\\\\\\\\\\"details\\\\\\\\\\\\\": {\\\\\\\\\\\\\"selectedColumn\\\\\\\\\\\\\": \\\\\\\\\\\\\"density\\\\\\\\\\\\\"}}, \\\\\\\\\\\\\"typeProperty\\\\\\\\\\\\\": 3}, {\\\\\\\\\\\\\"column\\\\\\\\\\\\\": {\\\\\\\\\\\\\"type\\\\\\\\\\\\\": 2, \\\\\\\\\\\\\"details\\\\\\\\\\\\\": {\\\\\\\\\\\\\"selectedColumn\\\\\\\\\\\\\": \\\\\\\\\\\\\"pH\\\\\\\\\\\\\"}}, \\\\\\\\\\\\\"typeProperty\\\\\\\\\\\\\": 3}, {\\\\\\\\\\\\\"column\\\\\\\\\\\\\": {\\\\\\\\\\\\\"type\\\\\\\\\\\\\": 2, \\\\\\\\\\\\\"details\\\\\\\\\\\\\": {\\\\\\\\\\\\\"selectedColumn\\\\\\\\\\\\\": \\\\\\\\\\\\\"sulphates\\\\\\\\\\\\\"}}, \\\\\\\\\\\\\"typeProperty\\\\\\\\\\\\\": 3}, {\\\\\\\\\\\\\"column\\\\\\\\\\\\\": {\\\\\\\\\\\\\"type\\\\\\\\\\\\\": 2, \\\\\\\\\\\\\"details\\\\\\\\\\\\\": {\\\\\\\\\\\\\"selectedColumn\\\\\\\\\\\\\": \\\\\\\\\\\\\"alcohol\\\\\\\\\\\\\"}}, \\\\\\\\\\\\\"typeProperty\\\\\\\\\\\\\": 3}, {\\\\\\\\\\\\\"column\\\\\\\\\\\\\": {\\\\\\\\\\\\\"type\\\\\\\\\\\\\": 2, \\\\\\\\\\\\\"details\\\\\\\\\\\\\": {\\\\\\\\\\\\\"selectedColumn\\\\\\\\\\\\\": \\\\\\\\\\\\\"quality\\\\\\\\\\\\\"}}, \\\\\\\\\\\\\"typeProperty\\\\\\\\\\\\\": 2}]}, \\\\\\\\\\\\\"localData\\\\\\\\\\\\\": {}, \\\\\\\\\\\\\"isEnabled\\\\\\\\\\\\\": true, \\\\\\\\\\\\\"name\\\\\\\\\\\\\": null, \\\\\\\\\\\\\"annotation\\\\\\\\\\\\\": null}], \\\\\\\\\\\\\"inspectors\\\\\\\\\\\\\": [], \\\\\\\\\\\\\"meta\\\\\\\\\\\\\": {\\\\\\\\\\\\\"savedDatasetId\\\\\\\\\\\\\": \\\\\\\\\\\\\"0c9849f5-79aa-4bf7-9e03-58fe48c17da7\\\\\\\\\\\\\", \\\\\\\\\\\\\"datasetType\\\\\\\\\\\\\": \\\\\\\\\\\\\"tabular\\\\\\\\\\\\\", \\\\\\\\\\\\\"subscriptionId\\\\\\\\\\\\\": \\\\\\\\\\\\\"3d1a56d2-7c81-4118-9790-f85d1acf0c77\\\\\\\\\\\\\", \\\\\\\\\\\\\"workspaceId\\\\\\\\\\\\\": \\\\\\\\\\\\\"8eedd800-6402-4069-9246-2d37b5ecd289\\\\\\\\\\\\\", \\\\\\\\\\\\\"workspaceLocation\\\\\\\\\\\\\": \\\\\\\\\\\\\"southcentralus\\\\\\\\\\\\\"}}\\\\\", \\\\\"activities\\\\\": 0}',\n",
       "  'EnableSubsampling': None,\n",
       "  'runTemplate': 'AutoML',\n",
       "  'azureml.runsource': 'automl',\n",
       "  'display_task_type': 'classification',\n",
       "  'dependencies_versions': '{\"azureml-widgets\": \"1.19.0\", \"azureml-train\": \"1.19.0\", \"azureml-train-restclients-hyperdrive\": \"1.19.0\", \"azureml-train-core\": \"1.19.0\", \"azureml-train-automl\": \"1.19.0\", \"azureml-train-automl-runtime\": \"1.19.0\", \"azureml-train-automl-client\": \"1.19.0\", \"azureml-tensorboard\": \"1.19.0\", \"azureml-telemetry\": \"1.19.0\", \"azureml-sdk\": \"1.19.0\", \"azureml-samples\": \"0+unknown\", \"azureml-pipeline\": \"1.19.0\", \"azureml-pipeline-steps\": \"1.19.0\", \"azureml-pipeline-core\": \"1.19.0\", \"azureml-opendatasets\": \"1.19.0\", \"azureml-model-management-sdk\": \"1.0.1b6.post1\", \"azureml-mlflow\": \"1.19.0\", \"azureml-interpret\": \"1.19.0\", \"azureml-explain-model\": \"1.19.0\", \"azureml-defaults\": \"1.19.0\", \"azureml-dataset-runtime\": \"1.19.0\", \"azureml-dataprep\": \"2.6.1\", \"azureml-dataprep-rslex\": \"1.4.0\", \"azureml-dataprep-native\": \"26.0.0\", \"azureml-datadrift\": \"1.19.0\", \"azureml-core\": \"1.19.0\", \"azureml-contrib-services\": \"1.19.0\", \"azureml-contrib-server\": \"1.19.0\", \"azureml-contrib-reinforcementlearning\": \"1.19.0\", \"azureml-contrib-pipeline-steps\": \"1.19.0\", \"azureml-contrib-notebook\": \"1.19.0\", \"azureml-contrib-interpret\": \"1.19.0\", \"azureml-contrib-gbdt\": \"1.19.0\", \"azureml-contrib-fairness\": \"1.19.0\", \"azureml-contrib-dataset\": \"1.19.0\", \"azureml-cli-common\": \"1.19.0\", \"azureml-automl-runtime\": \"1.19.0\", \"azureml-automl-core\": \"1.19.0\", \"azureml-accel-models\": \"1.19.0\"}',\n",
       "  '_aml_system_scenario_identification': 'Remote.Parent',\n",
       "  'ClientType': 'SDK',\n",
       "  'environment_cpu_name': 'AzureML-AutoML',\n",
       "  'environment_cpu_label': 'prod',\n",
       "  'environment_gpu_name': 'AzureML-AutoML-GPU',\n",
       "  'environment_gpu_label': 'prod',\n",
       "  'root_attribution': 'automl',\n",
       "  'attribution': 'AutoML',\n",
       "  'Orchestrator': 'AutoML',\n",
       "  'CancelUri': 'https://southcentralus.experiments.azureml.net/jasmine/v1.0/subscriptions/3d1a56d2-7c81-4118-9790-f85d1acf0c77/resourceGroups/aml-quickstarts-134390/providers/Microsoft.MachineLearningServices/workspaces/quick-starts-ws-134390/experimentids/485a13d8-7958-4c7f-8ef7-15271feefeb1/cancel/AutoML_0c8c06cc-26f8-49d0-a58c-28fba24f6557',\n",
       "  'ClientSdkVersion': '1.19.0',\n",
       "  'snapshotId': '00000000-0000-0000-0000-000000000000',\n",
       "  'SetupRunId': 'AutoML_0c8c06cc-26f8-49d0-a58c-28fba24f6557_setup',\n",
       "  'SetupRunContainerId': 'dcid.AutoML_0c8c06cc-26f8-49d0-a58c-28fba24f6557_setup',\n",
       "  'FeaturizationRunJsonPath': 'featurizer_container.json',\n",
       "  'FeaturizationRunId': 'AutoML_0c8c06cc-26f8-49d0-a58c-28fba24f6557_featurize',\n",
       "  'ProblemInfoJsonString': '{\"dataset_num_categorical\": 0, \"is_sparse\": false, \"subsampling\": false, \"dataset_classes\": 6, \"dataset_features\": 11, \"dataset_samples\": 1599, \"single_frequency_class_detected\": false}',\n",
       "  'ModelExplainRunId': 'AutoML_0c8c06cc-26f8-49d0-a58c-28fba24f6557_ModelExplain'},\n",
       " 'inputDatasets': [{'dataset': {'id': '0c9849f5-79aa-4bf7-9e03-58fe48c17da7'}, 'consumptionDetails': {'type': 'RunInput', 'inputName': 'training_data', 'mechanism': 'Direct'}}],\n",
       " 'outputDatasets': [],\n",
       " 'logFiles': {}}"
      ]
     },
     "execution_count": 12,
     "metadata": {},
     "output_type": "execute_result"
    }
   ],
   "source": [
    "# TODO: Submit your experiment\n",
    "from azureml.widgets import RunDetails\n",
    "\n",
    "automl_run = experiment.submit(automl_config, show_output=True)\n",
    "automl_run.wait_for_completion(show_output=True)"
   ]
  },
  {
   "cell_type": "markdown",
   "metadata": {},
   "source": [
    "## Run Details\n",
    "\n",
    "OPTIONAL: Write about the different models trained and their performance. Why do you think some models did better than others?\n",
    "\n",
    "TODO: In the cell below, use the `RunDetails` widget to show the different experiments."
   ]
  },
  {
   "cell_type": "code",
   "execution_count": 13,
   "metadata": {
    "gather": {
     "logged": 1598431121770
    },
    "jupyter": {
     "outputs_hidden": false,
     "source_hidden": false
    },
    "nteract": {
     "transient": {
      "deleting": false
     }
    }
   },
   "outputs": [
    {
     "data": {
      "application/vnd.jupyter.widget-view+json": {
       "model_id": "c2acbd408f8a41879bfde58e2fd7f929",
       "version_major": 2,
       "version_minor": 0
      },
      "text/plain": [
       "_AutoMLWidget(widget_settings={'childWidgetDisplay': 'popup', 'send_telemetry': False, 'log_level': 'INFO', 's…"
      ]
     },
     "metadata": {},
     "output_type": "display_data"
    },
    {
     "data": {
      "application/aml.mini.widget.v1": "{\"status\": \"Completed\", \"workbench_run_details_uri\": \"https://ml.azure.com/experiments/ml-capstone-1/runs/AutoML_0c8c06cc-26f8-49d0-a58c-28fba24f6557?wsid=/subscriptions/3d1a56d2-7c81-4118-9790-f85d1acf0c77/resourcegroups/aml-quickstarts-134390/workspaces/quick-starts-ws-134390\", \"run_id\": \"AutoML_0c8c06cc-26f8-49d0-a58c-28fba24f6557\", \"run_properties\": {\"run_id\": \"AutoML_0c8c06cc-26f8-49d0-a58c-28fba24f6557\", \"created_utc\": \"2021-01-11T22:59:38.160473Z\", \"properties\": {\"num_iterations\": \"1000\", \"training_type\": \"TrainFull\", \"acquisition_function\": \"EI\", \"primary_metric\": \"accuracy\", \"train_split\": \"0\", \"acquisition_parameter\": \"0\", \"num_cross_validation\": \"4\", \"target\": \"auto-ml\", \"AMLSettingsJsonString\": \"{\\\"path\\\":null,\\\"name\\\":\\\"ml-capstone-1\\\",\\\"subscription_id\\\":\\\"3d1a56d2-7c81-4118-9790-f85d1acf0c77\\\",\\\"resource_group\\\":\\\"aml-quickstarts-134390\\\",\\\"workspace_name\\\":\\\"quick-starts-ws-134390\\\",\\\"region\\\":\\\"southcentralus\\\",\\\"compute_target\\\":\\\"auto-ml\\\",\\\"spark_service\\\":null,\\\"azure_service\\\":\\\"remote\\\",\\\"many_models\\\":false,\\\"pipeline_fetch_max_batch_size\\\":1,\\\"iterations\\\":1000,\\\"primary_metric\\\":\\\"accuracy\\\",\\\"task_type\\\":\\\"classification\\\",\\\"data_script\\\":null,\\\"validation_size\\\":0.0,\\\"n_cross_validations\\\":4,\\\"y_min\\\":null,\\\"y_max\\\":null,\\\"num_classes\\\":null,\\\"featurization\\\":\\\"auto\\\",\\\"_ignore_package_version_incompatibilities\\\":false,\\\"is_timeseries\\\":false,\\\"max_cores_per_iteration\\\":1,\\\"max_concurrent_iterations\\\":5,\\\"iteration_timeout_minutes\\\":null,\\\"mem_in_mb\\\":null,\\\"enforce_time_on_windows\\\":false,\\\"experiment_timeout_minutes\\\":20,\\\"experiment_exit_score\\\":null,\\\"whitelist_models\\\":null,\\\"blacklist_algos\\\":[\\\"TensorFlowLinearClassifier\\\",\\\"TensorFlowDNN\\\"],\\\"supported_models\\\":[\\\"LogisticRegression\\\",\\\"SGD\\\",\\\"KNN\\\",\\\"LightGBM\\\",\\\"SVM\\\",\\\"DecisionTree\\\",\\\"TensorFlowDNN\\\",\\\"ExtremeRandomTrees\\\",\\\"XGBoostClassifier\\\",\\\"BernoulliNaiveBayes\\\",\\\"RandomForest\\\",\\\"GradientBoosting\\\",\\\"AveragedPerceptronClassifier\\\",\\\"TensorFlowLinearClassifier\\\",\\\"LinearSVM\\\",\\\"MultinomialNaiveBayes\\\"],\\\"auto_blacklist\\\":true,\\\"blacklist_samples_reached\\\":false,\\\"exclude_nan_labels\\\":true,\\\"verbosity\\\":20,\\\"_debug_log\\\":\\\"azureml_automl.log\\\",\\\"show_warnings\\\":false,\\\"model_explainability\\\":true,\\\"service_url\\\":null,\\\"sdk_url\\\":null,\\\"sdk_packages\\\":null,\\\"enable_onnx_compatible_models\\\":false,\\\"enable_split_onnx_featurizer_estimator_models\\\":false,\\\"vm_type\\\":\\\"STANDARD_D2_V2\\\",\\\"telemetry_verbosity\\\":20,\\\"send_telemetry\\\":true,\\\"enable_dnn\\\":false,\\\"scenario\\\":\\\"SDK-1.13.0\\\",\\\"environment_label\\\":null,\\\"force_text_dnn\\\":false,\\\"enable_feature_sweeping\\\":true,\\\"enable_early_stopping\\\":true,\\\"early_stopping_n_iters\\\":10,\\\"metrics\\\":null,\\\"enable_ensembling\\\":true,\\\"enable_stack_ensembling\\\":true,\\\"ensemble_iterations\\\":15,\\\"enable_tf\\\":false,\\\"enable_subsampling\\\":null,\\\"subsample_seed\\\":null,\\\"enable_nimbusml\\\":false,\\\"enable_streaming\\\":false,\\\"force_streaming\\\":false,\\\"track_child_runs\\\":true,\\\"allowed_private_models\\\":[],\\\"label_column_name\\\":\\\"quality\\\",\\\"weight_column_name\\\":null,\\\"cv_split_column_names\\\":null,\\\"enable_local_managed\\\":false,\\\"_local_managed_run_id\\\":null,\\\"cost_mode\\\":1,\\\"lag_length\\\":0,\\\"metric_operation\\\":\\\"maximize\\\",\\\"preprocess\\\":true}\", \"DataPrepJsonString\": \"{\\\\\\\"training_data\\\\\\\": \\\\\\\"{\\\\\\\\\\\\\\\"blocks\\\\\\\\\\\\\\\": [{\\\\\\\\\\\\\\\"id\\\\\\\\\\\\\\\": \\\\\\\\\\\\\\\"19fc4c2f-b2d3-42c6-b48a-22116aeb6733\\\\\\\\\\\\\\\", \\\\\\\\\\\\\\\"type\\\\\\\\\\\\\\\": \\\\\\\\\\\\\\\"Microsoft.DPrep.GetDatastoreFilesBlock\\\\\\\\\\\\\\\", \\\\\\\\\\\\\\\"arguments\\\\\\\\\\\\\\\": {\\\\\\\\\\\\\\\"datastores\\\\\\\\\\\\\\\": [{\\\\\\\\\\\\\\\"datastoreName\\\\\\\\\\\\\\\": \\\\\\\\\\\\\\\"workspaceblobstore\\\\\\\\\\\\\\\", \\\\\\\\\\\\\\\"path\\\\\\\\\\\\\\\": \\\\\\\\\\\\\\\"UI/01-11-2021_094414_UTC/winequality-red.csv\\\\\\\\\\\\\\\", \\\\\\\\\\\\\\\"resourceGroup\\\\\\\\\\\\\\\": \\\\\\\\\\\\\\\"aml-quickstarts-134390\\\\\\\\\\\\\\\", \\\\\\\\\\\\\\\"subscription\\\\\\\\\\\\\\\": \\\\\\\\\\\\\\\"3d1a56d2-7c81-4118-9790-f85d1acf0c77\\\\\\\\\\\\\\\", \\\\\\\\\\\\\\\"workspaceName\\\\\\\\\\\\\\\": \\\\\\\\\\\\\\\"quick-starts-ws-134390\\\\\\\\\\\\\\\"}]}, \\\\\\\\\\\\\\\"localData\\\\\\\\\\\\\\\": {}, \\\\\\\\\\\\\\\"isEnabled\\\\\\\\\\\\\\\": true, \\\\\\\\\\\\\\\"name\\\\\\\\\\\\\\\": null, \\\\\\\\\\\\\\\"annotation\\\\\\\\\\\\\\\": null}, {\\\\\\\\\\\\\\\"id\\\\\\\\\\\\\\\": \\\\\\\\\\\\\\\"51c47664-0ba9-4545-b2af-3a2615d163ea\\\\\\\\\\\\\\\", \\\\\\\\\\\\\\\"type\\\\\\\\\\\\\\\": \\\\\\\\\\\\\\\"Microsoft.DPrep.ParseDelimitedBlock\\\\\\\\\\\\\\\", \\\\\\\\\\\\\\\"arguments\\\\\\\\\\\\\\\": {\\\\\\\\\\\\\\\"columnHeadersMode\\\\\\\\\\\\\\\": 1, \\\\\\\\\\\\\\\"fileEncoding\\\\\\\\\\\\\\\": 0, \\\\\\\\\\\\\\\"handleQuotedLineBreaks\\\\\\\\\\\\\\\": false, \\\\\\\\\\\\\\\"preview\\\\\\\\\\\\\\\": false, \\\\\\\\\\\\\\\"separator\\\\\\\\\\\\\\\": \\\\\\\\\\\\\\\";\\\\\\\\\\\\\\\", \\\\\\\\\\\\\\\"skipRows\\\\\\\\\\\\\\\": 0, \\\\\\\\\\\\\\\"skipRowsMode\\\\\\\\\\\\\\\": 0}, \\\\\\\\\\\\\\\"localData\\\\\\\\\\\\\\\": {}, \\\\\\\\\\\\\\\"isEnabled\\\\\\\\\\\\\\\": true, \\\\\\\\\\\\\\\"name\\\\\\\\\\\\\\\": null, \\\\\\\\\\\\\\\"annotation\\\\\\\\\\\\\\\": null}, {\\\\\\\\\\\\\\\"id\\\\\\\\\\\\\\\": \\\\\\\\\\\\\\\"8126dbd5-ca30-469f-bc4b-e3054843fd16\\\\\\\\\\\\\\\", \\\\\\\\\\\\\\\"type\\\\\\\\\\\\\\\": \\\\\\\\\\\\\\\"Microsoft.DPrep.DropColumnsBlock\\\\\\\\\\\\\\\", \\\\\\\\\\\\\\\"arguments\\\\\\\\\\\\\\\": {\\\\\\\\\\\\\\\"columns\\\\\\\\\\\\\\\": {\\\\\\\\\\\\\\\"type\\\\\\\\\\\\\\\": 0, \\\\\\\\\\\\\\\"details\\\\\\\\\\\\\\\": {\\\\\\\\\\\\\\\"selectedColumns\\\\\\\\\\\\\\\": [\\\\\\\\\\\\\\\"Path\\\\\\\\\\\\\\\"]}}}, \\\\\\\\\\\\\\\"localData\\\\\\\\\\\\\\\": {}, \\\\\\\\\\\\\\\"isEnabled\\\\\\\\\\\\\\\": true, \\\\\\\\\\\\\\\"name\\\\\\\\\\\\\\\": null, \\\\\\\\\\\\\\\"annotation\\\\\\\\\\\\\\\": null}, {\\\\\\\\\\\\\\\"id\\\\\\\\\\\\\\\": \\\\\\\\\\\\\\\"70bb287a-9752-46f0-9d6a-e5cd0f21652d\\\\\\\\\\\\\\\", \\\\\\\\\\\\\\\"type\\\\\\\\\\\\\\\": \\\\\\\\\\\\\\\"Microsoft.DPrep.SetColumnTypesBlock\\\\\\\\\\\\\\\", \\\\\\\\\\\\\\\"arguments\\\\\\\\\\\\\\\": {\\\\\\\\\\\\\\\"columnConversion\\\\\\\\\\\\\\\": [{\\\\\\\\\\\\\\\"column\\\\\\\\\\\\\\\": {\\\\\\\\\\\\\\\"type\\\\\\\\\\\\\\\": 2, \\\\\\\\\\\\\\\"details\\\\\\\\\\\\\\\": {\\\\\\\\\\\\\\\"selectedColumn\\\\\\\\\\\\\\\": \\\\\\\\\\\\\\\"Path\\\\\\\\\\\\\\\"}}, \\\\\\\\\\\\\\\"typeProperty\\\\\\\\\\\\\\\": 0}, {\\\\\\\\\\\\\\\"column\\\\\\\\\\\\\\\": {\\\\\\\\\\\\\\\"type\\\\\\\\\\\\\\\": 2, \\\\\\\\\\\\\\\"details\\\\\\\\\\\\\\\": {\\\\\\\\\\\\\\\"selectedColumn\\\\\\\\\\\\\\\": \\\\\\\\\\\\\\\"fixed acidity\\\\\\\\\\\\\\\"}}, \\\\\\\\\\\\\\\"typeProperty\\\\\\\\\\\\\\\": 3}, {\\\\\\\\\\\\\\\"column\\\\\\\\\\\\\\\": {\\\\\\\\\\\\\\\"type\\\\\\\\\\\\\\\": 2, \\\\\\\\\\\\\\\"details\\\\\\\\\\\\\\\": {\\\\\\\\\\\\\\\"selectedColumn\\\\\\\\\\\\\\\": \\\\\\\\\\\\\\\"volatile acidity\\\\\\\\\\\\\\\"}}, \\\\\\\\\\\\\\\"typeProperty\\\\\\\\\\\\\\\": 3}, {\\\\\\\\\\\\\\\"column\\\\\\\\\\\\\\\": {\\\\\\\\\\\\\\\"type\\\\\\\\\\\\\\\": 2, \\\\\\\\\\\\\\\"details\\\\\\\\\\\\\\\": {\\\\\\\\\\\\\\\"selectedColumn\\\\\\\\\\\\\\\": \\\\\\\\\\\\\\\"citric acid\\\\\\\\\\\\\\\"}}, \\\\\\\\\\\\\\\"typeProperty\\\\\\\\\\\\\\\": 3}, {\\\\\\\\\\\\\\\"column\\\\\\\\\\\\\\\": {\\\\\\\\\\\\\\\"type\\\\\\\\\\\\\\\": 2, \\\\\\\\\\\\\\\"details\\\\\\\\\\\\\\\": {\\\\\\\\\\\\\\\"selectedColumn\\\\\\\\\\\\\\\": \\\\\\\\\\\\\\\"residual sugar\\\\\\\\\\\\\\\"}}, \\\\\\\\\\\\\\\"typeProperty\\\\\\\\\\\\\\\": 3}, {\\\\\\\\\\\\\\\"column\\\\\\\\\\\\\\\": {\\\\\\\\\\\\\\\"type\\\\\\\\\\\\\\\": 2, \\\\\\\\\\\\\\\"details\\\\\\\\\\\\\\\": {\\\\\\\\\\\\\\\"selectedColumn\\\\\\\\\\\\\\\": \\\\\\\\\\\\\\\"chlorides\\\\\\\\\\\\\\\"}}, \\\\\\\\\\\\\\\"typeProperty\\\\\\\\\\\\\\\": 3}, {\\\\\\\\\\\\\\\"column\\\\\\\\\\\\\\\": {\\\\\\\\\\\\\\\"type\\\\\\\\\\\\\\\": 2, \\\\\\\\\\\\\\\"details\\\\\\\\\\\\\\\": {\\\\\\\\\\\\\\\"selectedColumn\\\\\\\\\\\\\\\": \\\\\\\\\\\\\\\"free sulfur dioxide\\\\\\\\\\\\\\\"}}, \\\\\\\\\\\\\\\"typeProperty\\\\\\\\\\\\\\\": 2}, {\\\\\\\\\\\\\\\"column\\\\\\\\\\\\\\\": {\\\\\\\\\\\\\\\"type\\\\\\\\\\\\\\\": 2, \\\\\\\\\\\\\\\"details\\\\\\\\\\\\\\\": {\\\\\\\\\\\\\\\"selectedColumn\\\\\\\\\\\\\\\": \\\\\\\\\\\\\\\"total sulfur dioxide\\\\\\\\\\\\\\\"}}, \\\\\\\\\\\\\\\"typeProperty\\\\\\\\\\\\\\\": 2}, {\\\\\\\\\\\\\\\"column\\\\\\\\\\\\\\\": {\\\\\\\\\\\\\\\"type\\\\\\\\\\\\\\\": 2, \\\\\\\\\\\\\\\"details\\\\\\\\\\\\\\\": {\\\\\\\\\\\\\\\"selectedColumn\\\\\\\\\\\\\\\": \\\\\\\\\\\\\\\"density\\\\\\\\\\\\\\\"}}, \\\\\\\\\\\\\\\"typeProperty\\\\\\\\\\\\\\\": 3}, {\\\\\\\\\\\\\\\"column\\\\\\\\\\\\\\\": {\\\\\\\\\\\\\\\"type\\\\\\\\\\\\\\\": 2, \\\\\\\\\\\\\\\"details\\\\\\\\\\\\\\\": {\\\\\\\\\\\\\\\"selectedColumn\\\\\\\\\\\\\\\": \\\\\\\\\\\\\\\"pH\\\\\\\\\\\\\\\"}}, \\\\\\\\\\\\\\\"typeProperty\\\\\\\\\\\\\\\": 3}, {\\\\\\\\\\\\\\\"column\\\\\\\\\\\\\\\": {\\\\\\\\\\\\\\\"type\\\\\\\\\\\\\\\": 2, \\\\\\\\\\\\\\\"details\\\\\\\\\\\\\\\": {\\\\\\\\\\\\\\\"selectedColumn\\\\\\\\\\\\\\\": \\\\\\\\\\\\\\\"sulphates\\\\\\\\\\\\\\\"}}, \\\\\\\\\\\\\\\"typeProperty\\\\\\\\\\\\\\\": 3}, {\\\\\\\\\\\\\\\"column\\\\\\\\\\\\\\\": {\\\\\\\\\\\\\\\"type\\\\\\\\\\\\\\\": 2, \\\\\\\\\\\\\\\"details\\\\\\\\\\\\\\\": {\\\\\\\\\\\\\\\"selectedColumn\\\\\\\\\\\\\\\": \\\\\\\\\\\\\\\"alcohol\\\\\\\\\\\\\\\"}}, \\\\\\\\\\\\\\\"typeProperty\\\\\\\\\\\\\\\": 3}, {\\\\\\\\\\\\\\\"column\\\\\\\\\\\\\\\": {\\\\\\\\\\\\\\\"type\\\\\\\\\\\\\\\": 2, \\\\\\\\\\\\\\\"details\\\\\\\\\\\\\\\": {\\\\\\\\\\\\\\\"selectedColumn\\\\\\\\\\\\\\\": \\\\\\\\\\\\\\\"quality\\\\\\\\\\\\\\\"}}, \\\\\\\\\\\\\\\"typeProperty\\\\\\\\\\\\\\\": 2}]}, \\\\\\\\\\\\\\\"localData\\\\\\\\\\\\\\\": {}, \\\\\\\\\\\\\\\"isEnabled\\\\\\\\\\\\\\\": true, \\\\\\\\\\\\\\\"name\\\\\\\\\\\\\\\": null, \\\\\\\\\\\\\\\"annotation\\\\\\\\\\\\\\\": null}], \\\\\\\\\\\\\\\"inspectors\\\\\\\\\\\\\\\": [], \\\\\\\\\\\\\\\"meta\\\\\\\\\\\\\\\": {\\\\\\\\\\\\\\\"savedDatasetId\\\\\\\\\\\\\\\": \\\\\\\\\\\\\\\"0c9849f5-79aa-4bf7-9e03-58fe48c17da7\\\\\\\\\\\\\\\", \\\\\\\\\\\\\\\"datasetType\\\\\\\\\\\\\\\": \\\\\\\\\\\\\\\"tabular\\\\\\\\\\\\\\\", \\\\\\\\\\\\\\\"subscriptionId\\\\\\\\\\\\\\\": \\\\\\\\\\\\\\\"3d1a56d2-7c81-4118-9790-f85d1acf0c77\\\\\\\\\\\\\\\", \\\\\\\\\\\\\\\"workspaceId\\\\\\\\\\\\\\\": \\\\\\\\\\\\\\\"8eedd800-6402-4069-9246-2d37b5ecd289\\\\\\\\\\\\\\\", \\\\\\\\\\\\\\\"workspaceLocation\\\\\\\\\\\\\\\": \\\\\\\\\\\\\\\"southcentralus\\\\\\\\\\\\\\\"}}\\\\\\\", \\\\\\\"activities\\\\\\\": 0}\", \"EnableSubsampling\": null, \"runTemplate\": \"AutoML\", \"azureml.runsource\": \"automl\", \"display_task_type\": \"classification\", \"dependencies_versions\": \"{\\\"azureml-widgets\\\": \\\"1.19.0\\\", \\\"azureml-train\\\": \\\"1.19.0\\\", \\\"azureml-train-restclients-hyperdrive\\\": \\\"1.19.0\\\", \\\"azureml-train-core\\\": \\\"1.19.0\\\", \\\"azureml-train-automl\\\": \\\"1.19.0\\\", \\\"azureml-train-automl-runtime\\\": \\\"1.19.0\\\", \\\"azureml-train-automl-client\\\": \\\"1.19.0\\\", \\\"azureml-tensorboard\\\": \\\"1.19.0\\\", \\\"azureml-telemetry\\\": \\\"1.19.0\\\", \\\"azureml-sdk\\\": \\\"1.19.0\\\", \\\"azureml-samples\\\": \\\"0+unknown\\\", \\\"azureml-pipeline\\\": \\\"1.19.0\\\", \\\"azureml-pipeline-steps\\\": \\\"1.19.0\\\", \\\"azureml-pipeline-core\\\": \\\"1.19.0\\\", \\\"azureml-opendatasets\\\": \\\"1.19.0\\\", \\\"azureml-model-management-sdk\\\": \\\"1.0.1b6.post1\\\", \\\"azureml-mlflow\\\": \\\"1.19.0\\\", \\\"azureml-interpret\\\": \\\"1.19.0\\\", \\\"azureml-explain-model\\\": \\\"1.19.0\\\", \\\"azureml-defaults\\\": \\\"1.19.0\\\", \\\"azureml-dataset-runtime\\\": \\\"1.19.0\\\", \\\"azureml-dataprep\\\": \\\"2.6.1\\\", \\\"azureml-dataprep-rslex\\\": \\\"1.4.0\\\", \\\"azureml-dataprep-native\\\": \\\"26.0.0\\\", \\\"azureml-datadrift\\\": \\\"1.19.0\\\", \\\"azureml-core\\\": \\\"1.19.0\\\", \\\"azureml-contrib-services\\\": \\\"1.19.0\\\", \\\"azureml-contrib-server\\\": \\\"1.19.0\\\", \\\"azureml-contrib-reinforcementlearning\\\": \\\"1.19.0\\\", \\\"azureml-contrib-pipeline-steps\\\": \\\"1.19.0\\\", \\\"azureml-contrib-notebook\\\": \\\"1.19.0\\\", \\\"azureml-contrib-interpret\\\": \\\"1.19.0\\\", \\\"azureml-contrib-gbdt\\\": \\\"1.19.0\\\", \\\"azureml-contrib-fairness\\\": \\\"1.19.0\\\", \\\"azureml-contrib-dataset\\\": \\\"1.19.0\\\", \\\"azureml-cli-common\\\": \\\"1.19.0\\\", \\\"azureml-automl-runtime\\\": \\\"1.19.0\\\", \\\"azureml-automl-core\\\": \\\"1.19.0\\\", \\\"azureml-accel-models\\\": \\\"1.19.0\\\"}\", \"_aml_system_scenario_identification\": \"Remote.Parent\", \"ClientType\": \"SDK\", \"environment_cpu_name\": \"AzureML-AutoML\", \"environment_cpu_label\": \"prod\", \"environment_gpu_name\": \"AzureML-AutoML-GPU\", \"environment_gpu_label\": \"prod\", \"root_attribution\": \"automl\", \"attribution\": \"AutoML\", \"Orchestrator\": \"AutoML\", \"CancelUri\": \"https://southcentralus.experiments.azureml.net/jasmine/v1.0/subscriptions/3d1a56d2-7c81-4118-9790-f85d1acf0c77/resourceGroups/aml-quickstarts-134390/providers/Microsoft.MachineLearningServices/workspaces/quick-starts-ws-134390/experimentids/485a13d8-7958-4c7f-8ef7-15271feefeb1/cancel/AutoML_0c8c06cc-26f8-49d0-a58c-28fba24f6557\", \"ClientSdkVersion\": \"1.19.0\", \"snapshotId\": \"00000000-0000-0000-0000-000000000000\", \"SetupRunId\": \"AutoML_0c8c06cc-26f8-49d0-a58c-28fba24f6557_setup\", \"SetupRunContainerId\": \"dcid.AutoML_0c8c06cc-26f8-49d0-a58c-28fba24f6557_setup\", \"FeaturizationRunJsonPath\": \"featurizer_container.json\", \"FeaturizationRunId\": \"AutoML_0c8c06cc-26f8-49d0-a58c-28fba24f6557_featurize\", \"ProblemInfoJsonString\": \"{\\\"dataset_num_categorical\\\": 0, \\\"is_sparse\\\": false, \\\"subsampling\\\": false, \\\"dataset_classes\\\": 6, \\\"dataset_features\\\": 11, \\\"dataset_samples\\\": 1599, \\\"single_frequency_class_detected\\\": false}\", \"ModelExplainRunId\": \"AutoML_0c8c06cc-26f8-49d0-a58c-28fba24f6557_ModelExplain\"}, \"tags\": {\"model_explain_run\": \"best_run\", \"_aml_system_azureml.automlComponent\": \"AutoML\", \"pipeline_id\": \"\", \"score\": \"\", \"predicted_cost\": \"\", \"fit_time\": \"\", \"training_percent\": \"\", \"iteration\": \"\", \"run_preprocessor\": \"\", \"run_algorithm\": \"\", \"dynamic_whitelisting_iterations\": \"<25>;<30>;<35>;\", \"automl_best_child_run_id\": \"AutoML_0c8c06cc-26f8-49d0-a58c-28fba24f6557_38\", \"model_explain_best_run_child_id\": \"AutoML_0c8c06cc-26f8-49d0-a58c-28fba24f6557_38\"}, \"end_time_utc\": \"2021-01-11T23:27:44.110322Z\", \"status\": \"Completed\", \"log_files\": {}, \"log_groups\": [], \"run_duration\": \"0:28:05\"}, \"child_runs\": [{\"run_id\": \"AutoML_0c8c06cc-26f8-49d0-a58c-28fba24f6557_0\", \"run_number\": 50, \"metric\": null, \"status\": \"Completed\", \"run_type\": \"azureml.scriptrun\", \"training_percent\": \"100\", \"start_time\": \"2021-01-11T23:11:41.23325Z\", \"end_time\": \"2021-01-11T23:12:37.093705Z\", \"created_time\": \"2021-01-11T23:09:40.820924Z\", \"created_time_dt\": \"2021-01-11T23:09:40.820924Z\", \"duration\": \"0:02:56\", \"iteration\": \"0\", \"goal\": \"accuracy_max\", \"run_name\": \"MaxAbsScaler, LightGBM\", \"run_properties\": \"copy=True\", \"primary_metric\": 0.68919486, \"best_metric\": 0.68919486}, {\"run_id\": \"AutoML_0c8c06cc-26f8-49d0-a58c-28fba24f6557_1\", \"run_number\": 51, \"metric\": null, \"status\": \"Completed\", \"run_type\": \"azureml.scriptrun\", \"training_percent\": \"100\", \"start_time\": \"2021-01-11T23:10:43.108468Z\", \"end_time\": \"2021-01-11T23:11:37.149987Z\", \"created_time\": \"2021-01-11T23:09:40.835886Z\", \"created_time_dt\": \"2021-01-11T23:09:40.835886Z\", \"duration\": \"0:01:56\", \"iteration\": \"1\", \"goal\": \"accuracy_max\", \"run_name\": \"MaxAbsScaler, XGBoostClassifier\", \"run_properties\": \"copy=True\", \"primary_metric\": 0.63915257, \"best_metric\": 0.68919486}, {\"run_id\": \"AutoML_0c8c06cc-26f8-49d0-a58c-28fba24f6557_3\", \"run_number\": 52, \"metric\": null, \"status\": \"Completed\", \"run_type\": \"azureml.scriptrun\", \"training_percent\": \"100\", \"start_time\": \"2021-01-11T23:09:53.093801Z\", \"end_time\": \"2021-01-11T23:10:40.556234Z\", \"created_time\": \"2021-01-11T23:09:40.846209Z\", \"created_time_dt\": \"2021-01-11T23:09:40.846209Z\", \"duration\": \"0:00:59\", \"iteration\": \"3\", \"goal\": \"accuracy_max\", \"run_name\": \"MinMaxScaler, RandomForest\", \"run_properties\": \"copy=True, feature_range=(0, 1\", \"primary_metric\": 0.60287907, \"best_metric\": 0.68919486}, {\"run_id\": \"AutoML_0c8c06cc-26f8-49d0-a58c-28fba24f6557_2\", \"run_number\": 53, \"metric\": null, \"status\": \"Completed\", \"run_type\": \"azureml.scriptrun\", \"training_percent\": \"100\", \"start_time\": \"2021-01-11T23:12:46.640769Z\", \"end_time\": \"2021-01-11T23:16:15.639985Z\", \"created_time\": \"2021-01-11T23:09:40.887627Z\", \"created_time_dt\": \"2021-01-11T23:09:40.887627Z\", \"duration\": \"0:06:34\", \"iteration\": \"2\", \"goal\": \"accuracy_max\", \"run_name\": \"MinMaxScaler, RandomForest\", \"run_properties\": \"copy=True, feature_range=(0, 1\", \"primary_metric\": 0.61475877, \"best_metric\": 0.68919486}, {\"run_id\": \"AutoML_0c8c06cc-26f8-49d0-a58c-28fba24f6557_4\", \"run_number\": 54, \"metric\": null, \"status\": \"Completed\", \"run_type\": \"azureml.scriptrun\", \"training_percent\": \"100\", \"start_time\": \"2021-01-11T23:12:36.62463Z\", \"end_time\": \"2021-01-11T23:13:23.133992Z\", \"created_time\": \"2021-01-11T23:09:40.843606Z\", \"created_time_dt\": \"2021-01-11T23:09:40.843606Z\", \"duration\": \"0:03:42\", \"iteration\": \"4\", \"goal\": \"accuracy_max\", \"run_name\": \"MinMaxScaler, RandomForest\", \"run_properties\": \"copy=True, feature_range=(0, 1\", \"primary_metric\": 0.54410714, \"best_metric\": 0.68919486}, {\"run_id\": \"AutoML_0c8c06cc-26f8-49d0-a58c-28fba24f6557_5\", \"run_number\": 55, \"metric\": null, \"status\": \"Completed\", \"run_type\": \"azureml.scriptrun\", \"training_percent\": \"100\", \"start_time\": \"2021-01-11T23:12:48.087921Z\", \"end_time\": \"2021-01-11T23:16:16.671108Z\", \"created_time\": \"2021-01-11T23:10:43.869353Z\", \"created_time_dt\": \"2021-01-11T23:10:43.869353Z\", \"duration\": \"0:05:32\", \"iteration\": \"5\", \"goal\": \"accuracy_max\", \"run_name\": \"MaxAbsScaler, LightGBM\", \"run_properties\": \"copy=True\", \"primary_metric\": 0.6260166, \"best_metric\": 0.68919486}, {\"run_id\": \"AutoML_0c8c06cc-26f8-49d0-a58c-28fba24f6557_6\", \"run_number\": 56, \"metric\": null, \"status\": \"Completed\", \"run_type\": \"azureml.scriptrun\", \"training_percent\": \"100\", \"start_time\": \"2021-01-11T23:12:48.992851Z\", \"end_time\": \"2021-01-11T23:16:13.638581Z\", \"created_time\": \"2021-01-11T23:11:40.400051Z\", \"created_time_dt\": \"2021-01-11T23:11:40.400051Z\", \"duration\": \"0:04:33\", \"iteration\": \"6\", \"goal\": \"accuracy_max\", \"run_name\": \"MaxAbsScaler, GradientBoosting\", \"run_properties\": \"copy=True\", \"primary_metric\": 0.58785401, \"best_metric\": 0.68919486}, {\"run_id\": \"AutoML_0c8c06cc-26f8-49d0-a58c-28fba24f6557_7\", \"run_number\": 57, \"metric\": null, \"status\": \"Completed\", \"run_type\": \"azureml.scriptrun\", \"training_percent\": \"100\", \"start_time\": \"2021-01-11T23:13:28.593861Z\", \"end_time\": \"2021-01-11T23:14:11.218619Z\", \"created_time\": \"2021-01-11T23:12:41.017405Z\", \"created_time_dt\": \"2021-01-11T23:12:41.017405Z\", \"duration\": \"0:01:30\", \"iteration\": \"7\", \"goal\": \"accuracy_max\", \"run_name\": \"StandardScalerWrapper, XGBoostClassifier\", \"run_properties\": \"<azureml.automl.runtime.shared.model_wrappers.StandardScalerWrapper object at 0x7ff5f8db5cc0\", \"primary_metric\": 0.62164944, \"best_metric\": 0.68919486}, {\"run_id\": \"AutoML_0c8c06cc-26f8-49d0-a58c-28fba24f6557_8\", \"run_number\": 58, \"metric\": null, \"status\": \"Completed\", \"run_type\": \"azureml.scriptrun\", \"training_percent\": \"100\", \"start_time\": \"2021-01-11T23:14:17.711803Z\", \"end_time\": \"2021-01-11T23:15:08.130165Z\", \"created_time\": \"2021-01-11T23:13:26.253107Z\", \"created_time_dt\": \"2021-01-11T23:13:26.253107Z\", \"duration\": \"0:01:41\", \"iteration\": \"8\", \"goal\": \"accuracy_max\", \"run_name\": \"MinMaxScaler, SVM\", \"run_properties\": \"copy=True, feature_range=(0, 1\", \"primary_metric\": 0.61724781, \"best_metric\": 0.68919486}, {\"run_id\": \"AutoML_0c8c06cc-26f8-49d0-a58c-28fba24f6557_9\", \"run_number\": 59, \"metric\": null, \"status\": \"Completed\", \"run_type\": \"azureml.scriptrun\", \"training_percent\": \"100\", \"start_time\": \"2021-01-11T23:15:12.273236Z\", \"end_time\": \"2021-01-11T23:16:15.97555Z\", \"created_time\": \"2021-01-11T23:14:15.563877Z\", \"created_time_dt\": \"2021-01-11T23:14:15.563877Z\", \"duration\": \"0:02:00\", \"iteration\": \"9\", \"goal\": \"accuracy_max\", \"run_name\": \"MaxAbsScaler, LightGBM\", \"run_properties\": \"copy=True\", \"primary_metric\": 0.61226347, \"best_metric\": 0.68919486}, {\"run_id\": \"AutoML_0c8c06cc-26f8-49d0-a58c-28fba24f6557_10\", \"run_number\": 60, \"metric\": null, \"status\": \"Completed\", \"run_type\": \"azureml.scriptrun\", \"training_percent\": \"100\", \"start_time\": \"2021-01-11T23:16:13.631401Z\", \"end_time\": \"2021-01-11T23:17:06.780131Z\", \"created_time\": \"2021-01-11T23:15:10.765036Z\", \"created_time_dt\": \"2021-01-11T23:15:10.765036Z\", \"duration\": \"0:01:56\", \"iteration\": \"10\", \"goal\": \"accuracy_max\", \"run_name\": \"MaxAbsScaler, GradientBoosting\", \"run_properties\": \"copy=True\", \"primary_metric\": 0.61288847, \"best_metric\": 0.68919486}, {\"run_id\": \"AutoML_0c8c06cc-26f8-49d0-a58c-28fba24f6557_11\", \"run_number\": 61, \"metric\": null, \"status\": \"Completed\", \"run_type\": \"azureml.scriptrun\", \"training_percent\": \"100\", \"start_time\": \"2021-01-11T23:16:27.821537Z\", \"end_time\": \"2021-01-11T23:17:07.144294Z\", \"created_time\": \"2021-01-11T23:16:16.187304Z\", \"created_time_dt\": \"2021-01-11T23:16:16.187304Z\", \"duration\": \"0:00:50\", \"iteration\": \"11\", \"goal\": \"accuracy_max\", \"run_name\": \"SparseNormalizer, XGBoostClassifier\", \"run_properties\": \"<azureml.automl.runtime.shared.model_wrappers.SparseNormalizer object at 0x7fb7092faf60\", \"primary_metric\": 0.63102287, \"best_metric\": 0.68919486}, {\"run_id\": \"AutoML_0c8c06cc-26f8-49d0-a58c-28fba24f6557_12\", \"run_number\": 62, \"metric\": null, \"status\": \"Completed\", \"run_type\": \"azureml.scriptrun\", \"training_percent\": \"100\", \"start_time\": \"2021-01-11T23:16:32.837852Z\", \"end_time\": \"2021-01-11T23:17:15.710289Z\", \"created_time\": \"2021-01-11T23:16:20.480599Z\", \"created_time_dt\": \"2021-01-11T23:16:20.480599Z\", \"duration\": \"0:00:55\", \"iteration\": \"12\", \"goal\": \"accuracy_max\", \"run_name\": \"SparseNormalizer, XGBoostClassifier\", \"run_properties\": \"<azureml.automl.runtime.shared.model_wrappers.SparseNormalizer object at 0x7feca73f6898\", \"primary_metric\": 0.6397807, \"best_metric\": 0.68919486}, {\"run_id\": \"AutoML_0c8c06cc-26f8-49d0-a58c-28fba24f6557_14\", \"run_number\": 63, \"metric\": null, \"status\": \"Completed\", \"run_type\": \"azureml.scriptrun\", \"training_percent\": \"100\", \"start_time\": \"2021-01-11T23:17:08.076874Z\", \"end_time\": \"2021-01-11T23:17:54.238452Z\", \"created_time\": \"2021-01-11T23:16:20.510221Z\", \"created_time_dt\": \"2021-01-11T23:16:20.510221Z\", \"duration\": \"0:01:33\", \"iteration\": \"14\", \"goal\": \"accuracy_max\", \"run_name\": \"RobustScaler, RandomForest\", \"run_properties\": \"copy=True, quantile_range=[25, 75], with_centering=False,\\n             with_scaling=True\", \"primary_metric\": 0.58223371, \"best_metric\": 0.68919486}, {\"run_id\": \"AutoML_0c8c06cc-26f8-49d0-a58c-28fba24f6557_13\", \"run_number\": 64, \"metric\": null, \"status\": \"Completed\", \"run_type\": \"azureml.scriptrun\", \"training_percent\": \"100\", \"start_time\": \"2021-01-11T23:16:33.526155Z\", \"end_time\": \"2021-01-11T23:17:22.143834Z\", \"created_time\": \"2021-01-11T23:16:20.539698Z\", \"created_time_dt\": \"2021-01-11T23:16:20.539698Z\", \"duration\": \"0:01:01\", \"iteration\": \"13\", \"goal\": \"accuracy_max\", \"run_name\": \"SparseNormalizer, XGBoostClassifier\", \"run_properties\": \"<azureml.automl.runtime.shared.model_wrappers.SparseNormalizer object at 0x7f6f903939b0\", \"primary_metric\": 0.63226504, \"best_metric\": 0.68919486}, {\"run_id\": \"AutoML_0c8c06cc-26f8-49d0-a58c-28fba24f6557_16\", \"run_number\": 65, \"metric\": null, \"status\": \"Completed\", \"run_type\": \"azureml.scriptrun\", \"training_percent\": \"100\", \"start_time\": \"2021-01-11T23:17:22.809788Z\", \"end_time\": \"2021-01-11T23:18:14.173066Z\", \"created_time\": \"2021-01-11T23:17:08.735641Z\", \"created_time_dt\": \"2021-01-11T23:17:08.735641Z\", \"duration\": \"0:01:05\", \"iteration\": \"16\", \"goal\": \"accuracy_max\", \"run_name\": \"SparseNormalizer, LightGBM\", \"run_properties\": \"<azureml.automl.runtime.shared.model_wrappers.SparseNormalizer object at 0x7f2bb6d75080\", \"primary_metric\": 0.54910244, \"best_metric\": 0.68919486}, {\"run_id\": \"AutoML_0c8c06cc-26f8-49d0-a58c-28fba24f6557_15\", \"run_number\": 66, \"metric\": null, \"status\": \"Completed\", \"run_type\": \"azureml.scriptrun\", \"training_percent\": \"100\", \"start_time\": \"2021-01-11T23:17:19.434598Z\", \"end_time\": \"2021-01-11T23:17:56.421257Z\", \"created_time\": \"2021-01-11T23:17:08.737999Z\", \"created_time_dt\": \"2021-01-11T23:17:08.737999Z\", \"duration\": \"0:00:47\", \"iteration\": \"15\", \"goal\": \"accuracy_max\", \"run_name\": \"MaxAbsScaler, LightGBM\", \"run_properties\": \"copy=True\", \"primary_metric\": 0.58349624, \"best_metric\": 0.68919486}, {\"run_id\": \"AutoML_0c8c06cc-26f8-49d0-a58c-28fba24f6557_17\", \"run_number\": 67, \"metric\": null, \"status\": \"Completed\", \"run_type\": \"azureml.scriptrun\", \"training_percent\": \"100\", \"start_time\": \"2021-01-11T23:17:31.361207Z\", \"end_time\": \"2021-01-11T23:18:20.675889Z\", \"created_time\": \"2021-01-11T23:17:17.49595Z\", \"created_time_dt\": \"2021-01-11T23:17:17.49595Z\", \"duration\": \"0:01:03\", \"iteration\": \"17\", \"goal\": \"accuracy_max\", \"run_name\": \"StandardScalerWrapper, RandomForest\", \"run_properties\": \"<azureml.automl.runtime.shared.model_wrappers.StandardScalerWrapper object at 0x7fa3c8228fd0\", \"primary_metric\": 0.59787751, \"best_metric\": 0.68919486}, {\"run_id\": \"AutoML_0c8c06cc-26f8-49d0-a58c-28fba24f6557_18\", \"run_number\": 68, \"metric\": null, \"status\": \"Completed\", \"run_type\": \"azureml.scriptrun\", \"training_percent\": \"100\", \"start_time\": \"2021-01-11T23:17:57.62579Z\", \"end_time\": \"2021-01-11T23:18:53.495513Z\", \"created_time\": \"2021-01-11T23:17:24.073914Z\", \"created_time_dt\": \"2021-01-11T23:17:24.073914Z\", \"duration\": \"0:01:29\", \"iteration\": \"18\", \"goal\": \"accuracy_max\", \"run_name\": \"MinMaxScaler, LightGBM\", \"run_properties\": \"copy=True, feature_range=(0, 1\", \"primary_metric\": 0.61351347, \"best_metric\": 0.68919486}, {\"run_id\": \"AutoML_0c8c06cc-26f8-49d0-a58c-28fba24f6557_19\", \"run_number\": 69, \"metric\": null, \"status\": \"Completed\", \"run_type\": \"azureml.scriptrun\", \"training_percent\": \"100\", \"start_time\": \"2021-01-11T23:18:09.617969Z\", \"end_time\": \"2021-01-11T23:18:58.501357Z\", \"created_time\": \"2021-01-11T23:17:56.36356Z\", \"created_time_dt\": \"2021-01-11T23:17:56.36356Z\", \"duration\": \"0:01:02\", \"iteration\": \"19\", \"goal\": \"accuracy_max\", \"run_name\": \"SparseNormalizer, XGBoostClassifier\", \"run_properties\": \"<azureml.automl.runtime.shared.model_wrappers.SparseNormalizer object at 0x7fdb92b6ccf8\", \"primary_metric\": 0.6222713, \"best_metric\": 0.68919486}, {\"run_id\": \"AutoML_0c8c06cc-26f8-49d0-a58c-28fba24f6557_20\", \"run_number\": 70, \"metric\": null, \"status\": \"Completed\", \"run_type\": \"azureml.scriptrun\", \"training_percent\": \"100\", \"start_time\": \"2021-01-11T23:18:17.480798Z\", \"end_time\": \"2021-01-11T23:19:01.676242Z\", \"created_time\": \"2021-01-11T23:18:00.830539Z\", \"created_time_dt\": \"2021-01-11T23:18:00.830539Z\", \"duration\": \"0:01:00\", \"iteration\": \"20\", \"goal\": \"accuracy_max\", \"run_name\": \"StandardScalerWrapper, LightGBM\", \"run_properties\": \"<azureml.automl.runtime.shared.model_wrappers.StandardScalerWrapper object at 0x7f367badac50\", \"primary_metric\": 0.60600564, \"best_metric\": 0.68919486}, {\"run_id\": \"AutoML_0c8c06cc-26f8-49d0-a58c-28fba24f6557_21\", \"run_number\": 71, \"metric\": null, \"status\": \"Completed\", \"run_type\": \"azureml.scriptrun\", \"training_percent\": \"100\", \"start_time\": \"2021-01-11T23:18:26.145146Z\", \"end_time\": \"2021-01-11T23:19:19.762351Z\", \"created_time\": \"2021-01-11T23:18:16.144532Z\", \"created_time_dt\": \"2021-01-11T23:18:16.144532Z\", \"duration\": \"0:01:03\", \"iteration\": \"21\", \"goal\": \"accuracy_max\", \"run_name\": \"MinMaxScaler, RandomForest\", \"run_properties\": \"copy=True, feature_range=(0, 1\", \"primary_metric\": 0.58037124, \"best_metric\": 0.68919486}, {\"run_id\": \"AutoML_0c8c06cc-26f8-49d0-a58c-28fba24f6557_22\", \"run_number\": 72, \"metric\": null, \"status\": \"Completed\", \"run_type\": \"azureml.scriptrun\", \"training_percent\": \"100\", \"start_time\": \"2021-01-11T23:18:55.93689Z\", \"end_time\": \"2021-01-11T23:19:44.120569Z\", \"created_time\": \"2021-01-11T23:18:23.081805Z\", \"created_time_dt\": \"2021-01-11T23:18:23.081805Z\", \"duration\": \"0:01:21\", \"iteration\": \"22\", \"goal\": \"accuracy_max\", \"run_name\": \"StandardScalerWrapper, LightGBM\", \"run_properties\": \"<azureml.automl.runtime.shared.model_wrappers.StandardScalerWrapper object at 0x7f7ab2ea1c18\", \"primary_metric\": 0.6166416, \"best_metric\": 0.68919486}, {\"run_id\": \"AutoML_0c8c06cc-26f8-49d0-a58c-28fba24f6557_23\", \"run_number\": 73, \"metric\": null, \"status\": \"Completed\", \"run_type\": \"azureml.scriptrun\", \"training_percent\": \"100\", \"start_time\": \"2021-01-11T23:19:05.964088Z\", \"end_time\": \"2021-01-11T23:20:14.535615Z\", \"created_time\": \"2021-01-11T23:18:55.525151Z\", \"created_time_dt\": \"2021-01-11T23:18:55.525151Z\", \"duration\": \"0:01:19\", \"iteration\": \"23\", \"goal\": \"accuracy_max\", \"run_name\": \"SparseNormalizer, XGBoostClassifier\", \"run_properties\": \"<azureml.automl.runtime.shared.model_wrappers.SparseNormalizer object at 0x7f5f0b29c748\", \"primary_metric\": 0.60287594, \"best_metric\": 0.68919486}, {\"run_id\": \"AutoML_0c8c06cc-26f8-49d0-a58c-28fba24f6557_24\", \"run_number\": 74, \"metric\": null, \"status\": \"Completed\", \"run_type\": \"azureml.scriptrun\", \"training_percent\": \"100\", \"start_time\": \"2021-01-11T23:19:10.158925Z\", \"end_time\": \"2021-01-11T23:20:15.593549Z\", \"created_time\": \"2021-01-11T23:19:00.360465Z\", \"created_time_dt\": \"2021-01-11T23:19:00.360465Z\", \"duration\": \"0:01:15\", \"iteration\": \"24\", \"goal\": \"accuracy_max\", \"run_name\": \"StandardScalerWrapper, LightGBM\", \"run_properties\": \"<azureml.automl.runtime.shared.model_wrappers.StandardScalerWrapper object at 0x7f48f2ac6940\", \"primary_metric\": 0.60100407, \"best_metric\": 0.68919486}, {\"run_id\": \"AutoML_0c8c06cc-26f8-49d0-a58c-28fba24f6557_25\", \"run_number\": 75, \"metric\": null, \"status\": \"Completed\", \"run_type\": \"azureml.scriptrun\", \"training_percent\": \"100\", \"start_time\": \"2021-01-11T23:19:23.661528Z\", \"end_time\": \"2021-01-11T23:20:05.921754Z\", \"created_time\": \"2021-01-11T23:19:04.398241Z\", \"created_time_dt\": \"2021-01-11T23:19:04.398241Z\", \"duration\": \"0:01:01\", \"iteration\": \"25\", \"goal\": \"accuracy_max\", \"run_name\": \"StandardScalerWrapper, LightGBM\", \"run_properties\": \"<azureml.automl.runtime.shared.model_wrappers.StandardScalerWrapper object at 0x7f9b78449588\", \"primary_metric\": 0.46712719, \"best_metric\": 0.68919486}, {\"run_id\": \"AutoML_0c8c06cc-26f8-49d0-a58c-28fba24f6557_26\", \"run_number\": 76, \"metric\": null, \"status\": \"Completed\", \"run_type\": \"azureml.scriptrun\", \"training_percent\": \"100\", \"start_time\": \"2021-01-11T23:19:49.848935Z\", \"end_time\": \"2021-01-11T23:20:37.981174Z\", \"created_time\": \"2021-01-11T23:19:21.666728Z\", \"created_time_dt\": \"2021-01-11T23:19:21.666728Z\", \"duration\": \"0:01:16\", \"iteration\": \"26\", \"goal\": \"accuracy_max\", \"run_name\": \"MaxAbsScaler, RandomForest\", \"run_properties\": \"copy=True\", \"primary_metric\": 0.41464756, \"best_metric\": 0.68919486}, {\"run_id\": \"AutoML_0c8c06cc-26f8-49d0-a58c-28fba24f6557_27\", \"run_number\": 77, \"metric\": null, \"status\": \"Completed\", \"run_type\": \"azureml.scriptrun\", \"training_percent\": \"100\", \"start_time\": \"2021-01-11T23:20:19.034525Z\", \"end_time\": \"2021-01-11T23:21:06.507138Z\", \"created_time\": \"2021-01-11T23:19:45.98438Z\", \"created_time_dt\": \"2021-01-11T23:19:45.98438Z\", \"duration\": \"0:01:20\", \"iteration\": \"27\", \"goal\": \"accuracy_max\", \"run_name\": \"StandardScalerWrapper, LogisticRegression\", \"run_properties\": \"<azureml.automl.runtime.shared.model_wrappers.StandardScalerWrapper object at 0x7f98704383c8\", \"primary_metric\": 0.58786341, \"best_metric\": 0.68919486}, {\"run_id\": \"AutoML_0c8c06cc-26f8-49d0-a58c-28fba24f6557_28\", \"run_number\": 78, \"metric\": null, \"status\": \"Completed\", \"run_type\": \"azureml.scriptrun\", \"training_percent\": \"100\", \"start_time\": \"2021-01-11T23:20:22.596862Z\", \"end_time\": \"2021-01-11T23:21:04.223442Z\", \"created_time\": \"2021-01-11T23:20:12.300951Z\", \"created_time_dt\": \"2021-01-11T23:20:12.300951Z\", \"duration\": \"0:00:51\", \"iteration\": \"28\", \"goal\": \"accuracy_max\", \"run_name\": \"MinMaxScaler, LogisticRegression\", \"run_properties\": \"copy=True, feature_range=(0, 1\", \"primary_metric\": 0.58285088, \"best_metric\": 0.68919486}, {\"run_id\": \"AutoML_0c8c06cc-26f8-49d0-a58c-28fba24f6557_29\", \"run_number\": 79, \"metric\": null, \"status\": \"Completed\", \"run_type\": \"azureml.scriptrun\", \"training_percent\": \"100\", \"start_time\": \"2021-01-11T23:20:27.857045Z\", \"end_time\": \"2021-01-11T23:21:06.003737Z\", \"created_time\": \"2021-01-11T23:20:16.191079Z\", \"created_time_dt\": \"2021-01-11T23:20:16.191079Z\", \"duration\": \"0:00:49\", \"iteration\": \"29\", \"goal\": \"accuracy_max\", \"run_name\": \"SparseNormalizer, XGBoostClassifier\", \"run_properties\": \"<azureml.automl.runtime.shared.model_wrappers.SparseNormalizer object at 0x7fb475f6fef0\", \"primary_metric\": 0.56847901, \"best_metric\": 0.68919486}, {\"run_id\": \"AutoML_0c8c06cc-26f8-49d0-a58c-28fba24f6557_30\", \"run_number\": 80, \"metric\": null, \"status\": \"Completed\", \"run_type\": \"azureml.scriptrun\", \"training_percent\": \"100\", \"start_time\": \"2021-01-11T23:20:41.598239Z\", \"end_time\": \"2021-01-11T23:21:26.573804Z\", \"created_time\": \"2021-01-11T23:20:21.757199Z\", \"created_time_dt\": \"2021-01-11T23:20:21.757199Z\", \"duration\": \"0:01:04\", \"iteration\": \"30\", \"goal\": \"accuracy_max\", \"run_name\": \"MaxAbsScaler, LightGBM\", \"run_properties\": \"copy=True\", \"primary_metric\": 0.57973058, \"best_metric\": 0.68919486}, {\"run_id\": \"AutoML_0c8c06cc-26f8-49d0-a58c-28fba24f6557_31\", \"run_number\": 81, \"metric\": null, \"status\": \"Completed\", \"run_type\": \"azureml.scriptrun\", \"training_percent\": \"100\", \"start_time\": \"2021-01-11T23:21:09.953082Z\", \"end_time\": \"2021-01-11T23:22:01.88967Z\", \"created_time\": \"2021-01-11T23:20:44.632536Z\", \"created_time_dt\": \"2021-01-11T23:20:44.632536Z\", \"duration\": \"0:01:17\", \"iteration\": \"31\", \"goal\": \"accuracy_max\", \"run_name\": \"MaxAbsScaler, LightGBM\", \"run_properties\": \"copy=True\", \"primary_metric\": 0.62664004, \"best_metric\": 0.68919486}, {\"run_id\": \"AutoML_0c8c06cc-26f8-49d0-a58c-28fba24f6557_32\", \"run_number\": 82, \"metric\": null, \"status\": \"Completed\", \"run_type\": \"azureml.scriptrun\", \"training_percent\": \"100\", \"start_time\": \"2021-01-11T23:21:15.783084Z\", \"end_time\": \"2021-01-11T23:21:57.447272Z\", \"created_time\": \"2021-01-11T23:21:06.11863Z\", \"created_time_dt\": \"2021-01-11T23:21:06.11863Z\", \"duration\": \"0:00:51\", \"iteration\": \"32\", \"goal\": \"accuracy_max\", \"run_name\": \"StandardScalerWrapper, LightGBM\", \"run_properties\": \"<azureml.automl.runtime.shared.model_wrappers.StandardScalerWrapper object at 0x7f72dc46ba58\", \"primary_metric\": 0.61726347, \"best_metric\": 0.68919486}, {\"run_id\": \"AutoML_0c8c06cc-26f8-49d0-a58c-28fba24f6557_33\", \"run_number\": 83, \"metric\": null, \"status\": \"Completed\", \"run_type\": \"azureml.scriptrun\", \"training_percent\": \"100\", \"start_time\": \"2021-01-11T23:21:19.824543Z\", \"end_time\": \"2021-01-11T23:21:58.7077Z\", \"created_time\": \"2021-01-11T23:21:09.249187Z\", \"created_time_dt\": \"2021-01-11T23:21:09.249187Z\", \"duration\": \"0:00:49\", \"iteration\": \"33\", \"goal\": \"accuracy_max\", \"run_name\": \"SparseNormalizer, XGBoostClassifier\", \"run_properties\": \"<azureml.automl.runtime.shared.model_wrappers.SparseNormalizer object at 0x7f24db2fcc50\", \"primary_metric\": 0.56221178, \"best_metric\": 0.68919486}, {\"run_id\": \"AutoML_0c8c06cc-26f8-49d0-a58c-28fba24f6557_34\", \"run_number\": 84, \"metric\": null, \"status\": \"Canceled\", \"run_type\": \"azureml.scriptrun\", \"training_percent\": \"100\", \"start_time\": \"2021-01-11T23:21:32.765697Z\", \"end_time\": \"2021-01-11T23:22:15.01746Z\", \"created_time\": \"2021-01-11T23:21:09.278103Z\", \"created_time_dt\": \"2021-01-11T23:21:09.278103Z\", \"duration\": \"0:01:05\", \"iteration\": \"34\", \"goal\": \"accuracy_max\", \"run_name\": \"SparseNormalizer, LightGBM\", \"run_properties\": \"<azureml.automl.runtime.shared.model_wrappers.SparseNormalizer object at 0x7f54b7ae0630\", \"primary_metric\": 0.59912437, \"best_metric\": 0.68919486}, {\"run_id\": \"AutoML_0c8c06cc-26f8-49d0-a58c-28fba24f6557_35\", \"run_number\": 85, \"metric\": null, \"status\": \"Canceled\", \"run_type\": \"azureml.scriptrun\", \"training_percent\": \"100\", \"start_time\": \"2021-01-11T23:22:01.718488Z\", \"end_time\": \"2021-01-11T23:22:14.425176Z\", \"created_time\": \"2021-01-11T23:21:29.646492Z\", \"created_time_dt\": \"2021-01-11T23:21:29.646492Z\", \"duration\": \"0:00:44\", \"iteration\": \"35\", \"goal\": null, \"run_name\": \"Canceled\", \"run_properties\": null}, {\"run_id\": \"AutoML_0c8c06cc-26f8-49d0-a58c-28fba24f6557_36\", \"run_number\": 86, \"metric\": null, \"status\": \"Canceled\", \"run_type\": \"azureml.scriptrun\", \"training_percent\": \"100\", \"start_time\": \"2021-01-11T23:21:59.519606Z\", \"end_time\": \"2021-01-11T23:22:15.833641Z\", \"created_time\": \"2021-01-11T23:21:59.519606Z\", \"created_time_dt\": \"2021-01-11T23:21:59.519606Z\", \"duration\": \"0:00:16\", \"iteration\": \"36\", \"goal\": null, \"run_name\": \"Canceled\", \"run_properties\": null}, {\"run_id\": \"AutoML_0c8c06cc-26f8-49d0-a58c-28fba24f6557_37\", \"run_number\": 87, \"metric\": null, \"status\": \"Canceled\", \"run_type\": \"azureml.scriptrun\", \"training_percent\": \"100\", \"start_time\": \"2021-01-11T23:22:02.900959Z\", \"end_time\": \"2021-01-11T23:22:21.552223Z\", \"created_time\": \"2021-01-11T23:22:02.900959Z\", \"created_time_dt\": \"2021-01-11T23:22:02.900959Z\", \"duration\": \"0:00:18\", \"iteration\": \"37\", \"goal\": null, \"run_name\": \"Canceled\", \"run_properties\": null}, {\"run_id\": \"AutoML_0c8c06cc-26f8-49d0-a58c-28fba24f6557_39\", \"run_number\": 88, \"metric\": null, \"status\": \"Completed\", \"run_type\": \"azureml.scriptrun\", \"training_percent\": \"100\", \"start_time\": \"2021-01-11T23:22:33.406016Z\", \"end_time\": \"2021-01-11T23:27:31.420093Z\", \"created_time\": \"2021-01-11T23:22:22.624186Z\", \"created_time_dt\": \"2021-01-11T23:22:22.624186Z\", \"duration\": \"0:05:08\", \"iteration\": \"39\", \"goal\": \"accuracy_max\", \"run_name\": \"StackEnsemble\", \"run_properties\": \"base_learners=[('0',\\n                                        Pipeline(memory=None,\\n                                                 steps=[('maxabsscaler',\\n                                                         MaxAbsScaler(copy=True\", \"primary_metric\": 0.68793703, \"best_metric\": 0.70170269}, {\"run_id\": \"AutoML_0c8c06cc-26f8-49d0-a58c-28fba24f6557_38\", \"run_number\": 89, \"metric\": null, \"status\": \"Completed\", \"run_type\": \"azureml.scriptrun\", \"training_percent\": \"100\", \"start_time\": \"2021-01-11T23:22:33.015325Z\", \"end_time\": \"2021-01-11T23:23:58.268833Z\", \"created_time\": \"2021-01-11T23:22:22.621779Z\", \"created_time_dt\": \"2021-01-11T23:22:22.621779Z\", \"duration\": \"0:01:35\", \"iteration\": \"38\", \"goal\": \"accuracy_max\", \"run_name\": \"VotingEnsemble\", \"run_properties\": \"classification_labels=None,\\n                              estimators=[('0',\\n                                           Pipeline(memory=None,\\n                                                    steps=[('maxabsscaler',\\n                                                            MaxAbsScaler(copy=True\", \"primary_metric\": 0.70170269, \"best_metric\": 0.70170269}], \"children_metrics\": {\"categories\": [0], \"series\": {\"f1_score_macro\": [{\"categories\": [\"0\", \"1\", \"2\", \"3\", \"4\", \"5\", \"6\", \"7\", \"8\", \"9\", \"10\", \"11\", \"12\", \"13\", \"14\", \"15\", \"16\", \"17\", \"18\", \"19\", \"20\", \"21\", \"22\", \"23\", \"24\", \"25\", \"26\", \"27\", \"28\", \"29\", \"30\", \"31\", \"32\", \"33\", \"34\", \"38\", \"39\"], \"mode\": \"markers\", \"name\": \"f1_score_macro\", \"stepped\": false, \"type\": \"scatter\", \"data\": [0.37128370323288584, 0.3216747887268557, 0.26929641869772725, 0.25191624306347327, 0.35254698550730135, 0.3185173366042991, 0.2219122065104647, 0.29242612736953116, 0.2778511494797955, 0.26428588481645787, 0.2844621416405992, 0.32143916044210896, 0.3276358210984587, 0.3334350578130446, 0.21242206598098964, 0.2433752122136338, 0.22708443707203066, 0.2466645942293724, 0.265471131639786, 0.29136714884959436, 0.25750836312416814, 0.21140564416398885, 0.2692822614642633, 0.28487096986164956, 0.2535703460539584, 0.1334951244183069, 0.2692577870897141, 0.3192017092622929, 0.2435358798025527, 0.2825025842766804, 0.21165346723476866, 0.295256848460006, 0.2831353890378581, 0.2348935933325843, 0.3019950351602874, 0.37943671044263416, 0.334195199956384]}, {\"categories\": [\"0\", \"1\", \"2\", \"3\", \"4\", \"5\", \"6\", \"7\", \"8\", \"9\", \"10\", \"11\", \"12\", \"13\", \"14\", \"15\", \"16\", \"17\", \"18\", \"19\", \"20\", \"21\", \"22\", \"23\", \"24\", \"25\", \"26\", \"27\", \"28\", \"29\", \"30\", \"31\", \"32\", \"33\", \"34\", \"38\", \"39\"], \"mode\": \"lines\", \"name\": \"f1_score_macro_max\", \"stepped\": true, \"type\": \"scatter\", \"data\": [0.37128370323288584, 0.37128370323288584, 0.37128370323288584, 0.37128370323288584, 0.37128370323288584, 0.37128370323288584, 0.37128370323288584, 0.37128370323288584, 0.37128370323288584, 0.37128370323288584, 0.37128370323288584, 0.37128370323288584, 0.37128370323288584, 0.37128370323288584, 0.37128370323288584, 0.37128370323288584, 0.37128370323288584, 0.37128370323288584, 0.37128370323288584, 0.37128370323288584, 0.37128370323288584, 0.37128370323288584, 0.37128370323288584, 0.37128370323288584, 0.37128370323288584, 0.37128370323288584, 0.37128370323288584, 0.37128370323288584, 0.37128370323288584, 0.37128370323288584, 0.37128370323288584, 0.37128370323288584, 0.37128370323288584, 0.37128370323288584, 0.37128370323288584, 0.37943671044263416, 0.37943671044263416]}], \"accuracy\": [{\"categories\": [\"0\", \"1\", \"2\", \"3\", \"4\", \"5\", \"6\", \"7\", \"8\", \"9\", \"10\", \"11\", \"12\", \"13\", \"14\", \"15\", \"16\", \"17\", \"18\", \"19\", \"20\", \"21\", \"22\", \"23\", \"24\", \"25\", \"26\", \"27\", \"28\", \"29\", \"30\", \"31\", \"32\", \"33\", \"34\", \"38\", \"39\"], \"mode\": \"markers\", \"name\": \"accuracy\", \"stepped\": false, \"type\": \"scatter\", \"data\": [0.6891948621553885, 0.6391525689223058, 0.6147587719298245, 0.6028790726817043, 0.5441071428571429, 0.626016604010025, 0.5878540100250627, 0.6216494360902256, 0.6172478070175439, 0.6122634711779449, 0.6128884711779449, 0.6310228696741854, 0.639780701754386, 0.632265037593985, 0.5822337092731831, 0.5834962406015037, 0.5491024436090226, 0.5978775062656642, 0.6135134711779449, 0.6222713032581454, 0.6060056390977444, 0.5803712406015038, 0.616641604010025, 0.6028759398496241, 0.6010040726817042, 0.46712719298245614, 0.4146475563909775, 0.5878634085213033, 0.5828508771929825, 0.5684790100250626, 0.5797305764411027, 0.626640037593985, 0.6172634711779448, 0.5622117794486216, 0.5991243734335839, 0.701702694235589, 0.6879370300751879]}, {\"categories\": [\"0\", \"1\", \"2\", \"3\", \"4\", \"5\", \"6\", \"7\", \"8\", \"9\", \"10\", \"11\", \"12\", \"13\", \"14\", \"15\", \"16\", \"17\", \"18\", \"19\", \"20\", \"21\", \"22\", \"23\", \"24\", \"25\", \"26\", \"27\", \"28\", \"29\", \"30\", \"31\", \"32\", \"33\", \"34\", \"38\", \"39\"], \"mode\": \"lines\", \"name\": \"accuracy_max\", \"stepped\": true, \"type\": \"scatter\", \"data\": [0.6891948621553885, 0.6891948621553885, 0.6891948621553885, 0.6891948621553885, 0.6891948621553885, 0.6891948621553885, 0.6891948621553885, 0.6891948621553885, 0.6891948621553885, 0.6891948621553885, 0.6891948621553885, 0.6891948621553885, 0.6891948621553885, 0.6891948621553885, 0.6891948621553885, 0.6891948621553885, 0.6891948621553885, 0.6891948621553885, 0.6891948621553885, 0.6891948621553885, 0.6891948621553885, 0.6891948621553885, 0.6891948621553885, 0.6891948621553885, 0.6891948621553885, 0.6891948621553885, 0.6891948621553885, 0.6891948621553885, 0.6891948621553885, 0.6891948621553885, 0.6891948621553885, 0.6891948621553885, 0.6891948621553885, 0.6891948621553885, 0.6891948621553885, 0.701702694235589, 0.701702694235589]}], \"average_precision_score_micro\": [{\"categories\": [\"0\", \"1\", \"2\", \"3\", \"4\", \"5\", \"6\", \"7\", \"8\", \"9\", \"10\", \"11\", \"12\", \"13\", \"14\", \"15\", \"16\", \"17\", \"18\", \"19\", \"20\", \"21\", \"22\", \"23\", \"24\", \"25\", \"26\", \"27\", \"28\", \"29\", \"30\", \"31\", \"32\", \"33\", \"34\", \"38\", \"39\"], \"mode\": \"markers\", \"name\": \"average_precision_score_micro\", \"stepped\": false, \"type\": \"scatter\", \"data\": [0.7094813329943583, 0.6733177290718192, 0.6414045354490079, 0.6265294840478075, 0.587076473638243, 0.658915475370583, 0.6230162357228223, 0.6573160677685876, 0.619542978065853, 0.6392177415328245, 0.6400203024576732, 0.672170719604723, 0.6822501065170142, 0.7057334203388191, 0.6162682305963344, 0.6168417704446482, 0.578855635325218, 0.6289772394126045, 0.641673899432613, 0.658956039061927, 0.6361738696619738, 0.6095365989558347, 0.6479425912476937, 0.648571843885185, 0.6219634135256741, 0.5611228622950103, 0.42485828852544183, 0.6227954376094161, 0.6175989051631193, 0.5919667201584683, 0.6138653116759638, 0.6609224482289525, 0.6555122316273738, 0.605302498664085, 0.629010228725204, 0.7189784976065015, 0.720235795751602]}, {\"categories\": [\"0\", \"1\", \"2\", \"3\", \"4\", \"5\", \"6\", \"7\", \"8\", \"9\", \"10\", \"11\", \"12\", \"13\", \"14\", \"15\", \"16\", \"17\", \"18\", \"19\", \"20\", \"21\", \"22\", \"23\", \"24\", \"25\", \"26\", \"27\", \"28\", \"29\", \"30\", \"31\", \"32\", \"33\", \"34\", \"38\", \"39\"], \"mode\": \"lines\", \"name\": \"average_precision_score_micro_max\", \"stepped\": true, \"type\": \"scatter\", \"data\": [0.7094813329943583, 0.7094813329943583, 0.7094813329943583, 0.7094813329943583, 0.7094813329943583, 0.7094813329943583, 0.7094813329943583, 0.7094813329943583, 0.7094813329943583, 0.7094813329943583, 0.7094813329943583, 0.7094813329943583, 0.7094813329943583, 0.7094813329943583, 0.7094813329943583, 0.7094813329943583, 0.7094813329943583, 0.7094813329943583, 0.7094813329943583, 0.7094813329943583, 0.7094813329943583, 0.7094813329943583, 0.7094813329943583, 0.7094813329943583, 0.7094813329943583, 0.7094813329943583, 0.7094813329943583, 0.7094813329943583, 0.7094813329943583, 0.7094813329943583, 0.7094813329943583, 0.7094813329943583, 0.7094813329943583, 0.7094813329943583, 0.7094813329943583, 0.7189784976065015, 0.720235795751602]}], \"f1_score_weighted\": [{\"categories\": [\"0\", \"1\", \"2\", \"3\", \"4\", \"5\", \"6\", \"7\", \"8\", \"9\", \"10\", \"11\", \"12\", \"13\", \"14\", \"15\", \"16\", \"17\", \"18\", \"19\", \"20\", \"21\", \"22\", \"23\", \"24\", \"25\", \"26\", \"27\", \"28\", \"29\", \"30\", \"31\", \"32\", \"33\", \"34\", \"38\", \"39\"], \"mode\": \"markers\", \"name\": \"f1_score_weighted\", \"stepped\": false, \"type\": \"scatter\", \"data\": [0.6717718973305791, 0.6222406295670422, 0.5814227518050622, 0.5645182296785325, 0.5547177793037739, 0.6091364180673786, 0.5361810268096989, 0.5996632157472104, 0.5890164167771043, 0.5776541827489345, 0.5896034660417604, 0.6122737413457017, 0.6224024401075481, 0.6171358788341127, 0.5280664628259076, 0.5453451744707313, 0.512495633124774, 0.5574145819701222, 0.5789043441107911, 0.6006396653848354, 0.5690104094802844, 0.5254137752514534, 0.5845640432172567, 0.5845837230637595, 0.563041389633453, 0.33435091961076385, 0.44607991042750494, 0.5666516524803685, 0.546202371585379, 0.5540547980776485, 0.5255788170086971, 0.6039338010588635, 0.5921214393905517, 0.5279735960792293, 0.5807626533730933, 0.6823669042816088, 0.6676485920375368]}, {\"categories\": [\"0\", \"1\", \"2\", \"3\", \"4\", \"5\", \"6\", \"7\", \"8\", \"9\", \"10\", \"11\", \"12\", \"13\", \"14\", \"15\", \"16\", \"17\", \"18\", \"19\", \"20\", \"21\", \"22\", \"23\", \"24\", \"25\", \"26\", \"27\", \"28\", \"29\", \"30\", \"31\", \"32\", \"33\", \"34\", \"38\", \"39\"], \"mode\": \"lines\", \"name\": \"f1_score_weighted_max\", \"stepped\": true, \"type\": \"scatter\", \"data\": [0.6717718973305791, 0.6717718973305791, 0.6717718973305791, 0.6717718973305791, 0.6717718973305791, 0.6717718973305791, 0.6717718973305791, 0.6717718973305791, 0.6717718973305791, 0.6717718973305791, 0.6717718973305791, 0.6717718973305791, 0.6717718973305791, 0.6717718973305791, 0.6717718973305791, 0.6717718973305791, 0.6717718973305791, 0.6717718973305791, 0.6717718973305791, 0.6717718973305791, 0.6717718973305791, 0.6717718973305791, 0.6717718973305791, 0.6717718973305791, 0.6717718973305791, 0.6717718973305791, 0.6717718973305791, 0.6717718973305791, 0.6717718973305791, 0.6717718973305791, 0.6717718973305791, 0.6717718973305791, 0.6717718973305791, 0.6717718973305791, 0.6717718973305791, 0.6823669042816088, 0.6823669042816088]}], \"weighted_accuracy\": [{\"categories\": [\"0\", \"1\", \"2\", \"3\", \"4\", \"5\", \"6\", \"7\", \"8\", \"9\", \"10\", \"11\", \"12\", \"13\", \"14\", \"15\", \"16\", \"17\", \"18\", \"19\", \"20\", \"21\", \"22\", \"23\", \"24\", \"25\", \"26\", \"27\", \"28\", \"29\", \"30\", \"31\", \"32\", \"33\", \"34\", \"38\", \"39\"], \"mode\": \"markers\", \"name\": \"weighted_accuracy\", \"stepped\": false, \"type\": \"scatter\", \"data\": [0.7404931225762962, 0.6946701963358048, 0.6921281165811696, 0.6833493550272897, 0.5580282605826488, 0.6803091050143517, 0.6777043295934014, 0.683049694295451, 0.690286890330146, 0.6908589536639209, 0.6776292307660093, 0.6902872918121674, 0.6979905685429171, 0.6855615401538964, 0.6726833148697625, 0.6627311976149054, 0.6229429714279568, 0.6795426755424555, 0.6919310056825041, 0.6856188959425307, 0.6855855017773711, 0.6710734705045461, 0.6934927319321196, 0.6616588518129413, 0.6803547348586526, 0.5424701435042959, 0.4155129093313873, 0.648264136579795, 0.6608818574288666, 0.6140380462758305, 0.668053100857971, 0.6898516918323045, 0.6849118563114384, 0.6363133649996826, 0.6575720083793819, 0.757898436163069, 0.7455396323300815]}, {\"categories\": [\"0\", \"1\", \"2\", \"3\", \"4\", \"5\", \"6\", \"7\", \"8\", \"9\", \"10\", \"11\", \"12\", \"13\", \"14\", \"15\", \"16\", \"17\", \"18\", \"19\", \"20\", \"21\", \"22\", \"23\", \"24\", \"25\", \"26\", \"27\", \"28\", \"29\", \"30\", \"31\", \"32\", \"33\", \"34\", \"38\", \"39\"], \"mode\": \"lines\", \"name\": \"weighted_accuracy_max\", \"stepped\": true, \"type\": \"scatter\", \"data\": [0.7404931225762962, 0.7404931225762962, 0.7404931225762962, 0.7404931225762962, 0.7404931225762962, 0.7404931225762962, 0.7404931225762962, 0.7404931225762962, 0.7404931225762962, 0.7404931225762962, 0.7404931225762962, 0.7404931225762962, 0.7404931225762962, 0.7404931225762962, 0.7404931225762962, 0.7404931225762962, 0.7404931225762962, 0.7404931225762962, 0.7404931225762962, 0.7404931225762962, 0.7404931225762962, 0.7404931225762962, 0.7404931225762962, 0.7404931225762962, 0.7404931225762962, 0.7404931225762962, 0.7404931225762962, 0.7404931225762962, 0.7404931225762962, 0.7404931225762962, 0.7404931225762962, 0.7404931225762962, 0.7404931225762962, 0.7404931225762962, 0.7404931225762962, 0.757898436163069, 0.757898436163069]}], \"AUC_weighted\": [{\"categories\": [\"0\", \"1\", \"2\", \"3\", \"4\", \"5\", \"6\", \"7\", \"8\", \"9\", \"10\", \"11\", \"12\", \"13\", \"14\", \"15\", \"16\", \"17\", \"18\", \"19\", \"20\", \"21\", \"22\", \"23\", \"24\", \"25\", \"26\", \"27\", \"28\", \"29\", \"30\", \"31\", \"32\", \"33\", \"34\", \"38\", \"39\"], \"mode\": \"markers\", \"name\": \"AUC_weighted\", \"stepped\": false, \"type\": \"scatter\", \"data\": [0.8278290118883691, 0.7989528850873897, 0.7719540413891608, 0.7638026516186756, 0.7608536071339688, 0.79198184392296, 0.7623168794167294, 0.7824483822443653, 0.7739535918353155, 0.7774328170071475, 0.772030423261255, 0.7877425553011724, 0.7936601576602179, 0.8098689262930551, 0.7582005587523435, 0.7591538572109542, 0.711506481939687, 0.7683936258990007, 0.7781469259059303, 0.7791869335303943, 0.7730726716001061, 0.7554941464275758, 0.7807992039068812, 0.7709260562344327, 0.7630841285605144, 0.7451362859341552, 0.7090844408615301, 0.7584430098127757, 0.7541406060504243, 0.7319236526304321, 0.7636469674973329, 0.7859365300323466, 0.7834347618602537, 0.731773658502163, 0.7587656416157492, 0.830726704612128, 0.8333608804851719]}, {\"categories\": [\"0\", \"1\", \"2\", \"3\", \"4\", \"5\", \"6\", \"7\", \"8\", \"9\", \"10\", \"11\", \"12\", \"13\", \"14\", \"15\", \"16\", \"17\", \"18\", \"19\", \"20\", \"21\", \"22\", \"23\", \"24\", \"25\", \"26\", \"27\", \"28\", \"29\", \"30\", \"31\", \"32\", \"33\", \"34\", \"38\", \"39\"], \"mode\": \"lines\", \"name\": \"AUC_weighted_max\", \"stepped\": true, \"type\": \"scatter\", \"data\": [0.8278290118883691, 0.8278290118883691, 0.8278290118883691, 0.8278290118883691, 0.8278290118883691, 0.8278290118883691, 0.8278290118883691, 0.8278290118883691, 0.8278290118883691, 0.8278290118883691, 0.8278290118883691, 0.8278290118883691, 0.8278290118883691, 0.8278290118883691, 0.8278290118883691, 0.8278290118883691, 0.8278290118883691, 0.8278290118883691, 0.8278290118883691, 0.8278290118883691, 0.8278290118883691, 0.8278290118883691, 0.8278290118883691, 0.8278290118883691, 0.8278290118883691, 0.8278290118883691, 0.8278290118883691, 0.8278290118883691, 0.8278290118883691, 0.8278290118883691, 0.8278290118883691, 0.8278290118883691, 0.8278290118883691, 0.8278290118883691, 0.8278290118883691, 0.830726704612128, 0.8333608804851719]}], \"precision_score_weighted\": [{\"categories\": [\"0\", \"1\", \"2\", \"3\", \"4\", \"5\", \"6\", \"7\", \"8\", \"9\", \"10\", \"11\", \"12\", \"13\", \"14\", \"15\", \"16\", \"17\", \"18\", \"19\", \"20\", \"21\", \"22\", \"23\", \"24\", \"25\", \"26\", \"27\", \"28\", \"29\", \"30\", \"31\", \"32\", \"33\", \"34\", \"38\", \"39\"], \"mode\": \"markers\", \"name\": \"precision_score_weighted\", \"stepped\": false, \"type\": \"scatter\", \"data\": [0.660788584817299, 0.6123997919446214, 0.6041940465491888, 0.5963394420113405, 0.5843886730926873, 0.6018306323843956, 0.5517251593691139, 0.593762893946551, 0.5836233742726717, 0.5995514248217337, 0.5832969647107964, 0.613356019370825, 0.6152840532421866, 0.6095295662504753, 0.4858449305129994, 0.5830245592079851, 0.535940208543302, 0.5958197045257279, 0.6102031955651407, 0.5978604706436543, 0.5914493969501904, 0.481156558834261, 0.5946324266856584, 0.5767987964800861, 0.5954393808047859, 0.29608336061940127, 0.5614641948779238, 0.558964551165532, 0.5542881456358383, 0.5493307179123735, 0.4838995415875542, 0.5974580492796547, 0.5846457835628883, 0.5519447961506398, 0.5732671990000096, 0.6724388153308987, 0.6526049215052265]}, {\"categories\": [\"0\", \"1\", \"2\", \"3\", \"4\", \"5\", \"6\", \"7\", \"8\", \"9\", \"10\", \"11\", \"12\", \"13\", \"14\", \"15\", \"16\", \"17\", \"18\", \"19\", \"20\", \"21\", \"22\", \"23\", \"24\", \"25\", \"26\", \"27\", \"28\", \"29\", \"30\", \"31\", \"32\", \"33\", \"34\", \"38\", \"39\"], \"mode\": \"lines\", \"name\": \"precision_score_weighted_max\", \"stepped\": true, \"type\": \"scatter\", \"data\": [0.660788584817299, 0.660788584817299, 0.660788584817299, 0.660788584817299, 0.660788584817299, 0.660788584817299, 0.660788584817299, 0.660788584817299, 0.660788584817299, 0.660788584817299, 0.660788584817299, 0.660788584817299, 0.660788584817299, 0.660788584817299, 0.660788584817299, 0.660788584817299, 0.660788584817299, 0.660788584817299, 0.660788584817299, 0.660788584817299, 0.660788584817299, 0.660788584817299, 0.660788584817299, 0.660788584817299, 0.660788584817299, 0.660788584817299, 0.660788584817299, 0.660788584817299, 0.660788584817299, 0.660788584817299, 0.660788584817299, 0.660788584817299, 0.660788584817299, 0.660788584817299, 0.660788584817299, 0.6724388153308987, 0.6724388153308987]}], \"average_precision_score_macro\": [{\"categories\": [\"0\", \"1\", \"2\", \"3\", \"4\", \"5\", \"6\", \"7\", \"8\", \"9\", \"10\", \"11\", \"12\", \"13\", \"14\", \"15\", \"16\", \"17\", \"18\", \"19\", \"20\", \"21\", \"22\", \"23\", \"24\", \"25\", \"26\", \"27\", \"28\", \"29\", \"30\", \"31\", \"32\", \"33\", \"34\", \"38\", \"39\"], \"mode\": \"markers\", \"name\": \"average_precision_score_macro\", \"stepped\": false, \"type\": \"scatter\", \"data\": [0.4425456653996472, 0.38436307777684614, 0.359110056876271, 0.37344291473284563, 0.4250616185197763, 0.39070467921930035, 0.4153269090676994, 0.41327698655993156, 0.3797070947280112, 0.38588341562813033, 0.39075924805227114, 0.4006319375353646, 0.40752107925545533, 0.4239958530670755, 0.3703982682938612, 0.40130156695723945, 0.33597404867518554, 0.3905437212544155, 0.39400018538371223, 0.42219621611483044, 0.4251932533950317, 0.3793003288787234, 0.4072918991954051, 0.3922969553415538, 0.4288805835219072, 0.325669148657003, 0.3336427199936873, 0.40778399249757186, 0.39698864368350584, 0.3645802084757468, 0.3717437774463639, 0.42381366028623996, 0.37910410429536884, 0.36990519042470366, 0.4220527333618942, 0.45852285491909595, 0.46202921025130306]}, {\"categories\": [\"0\", \"1\", \"2\", \"3\", \"4\", \"5\", \"6\", \"7\", \"8\", \"9\", \"10\", \"11\", \"12\", \"13\", \"14\", \"15\", \"16\", \"17\", \"18\", \"19\", \"20\", \"21\", \"22\", \"23\", \"24\", \"25\", \"26\", \"27\", \"28\", \"29\", \"30\", \"31\", \"32\", \"33\", \"34\", \"38\", \"39\"], \"mode\": \"lines\", \"name\": \"average_precision_score_macro_max\", \"stepped\": true, \"type\": \"scatter\", \"data\": [0.4425456653996472, 0.4425456653996472, 0.4425456653996472, 0.4425456653996472, 0.4425456653996472, 0.4425456653996472, 0.4425456653996472, 0.4425456653996472, 0.4425456653996472, 0.4425456653996472, 0.4425456653996472, 0.4425456653996472, 0.4425456653996472, 0.4425456653996472, 0.4425456653996472, 0.4425456653996472, 0.4425456653996472, 0.4425456653996472, 0.4425456653996472, 0.4425456653996472, 0.4425456653996472, 0.4425456653996472, 0.4425456653996472, 0.4425456653996472, 0.4425456653996472, 0.4425456653996472, 0.4425456653996472, 0.4425456653996472, 0.4425456653996472, 0.4425456653996472, 0.4425456653996472, 0.4425456653996472, 0.4425456653996472, 0.4425456653996472, 0.4425456653996472, 0.45852285491909595, 0.46202921025130306]}], \"recall_score_weighted\": [{\"categories\": [\"0\", \"1\", \"2\", \"3\", \"4\", \"5\", \"6\", \"7\", \"8\", \"9\", \"10\", \"11\", \"12\", \"13\", \"14\", \"15\", \"16\", \"17\", \"18\", \"19\", \"20\", \"21\", \"22\", \"23\", \"24\", \"25\", \"26\", \"27\", \"28\", \"29\", \"30\", \"31\", \"32\", \"33\", \"34\", \"38\", \"39\"], \"mode\": \"markers\", \"name\": \"recall_score_weighted\", \"stepped\": false, \"type\": \"scatter\", \"data\": [0.6891948621553885, 0.6391525689223058, 0.6147587719298245, 0.6028790726817043, 0.5441071428571429, 0.626016604010025, 0.5878540100250625, 0.6216494360902256, 0.6172478070175439, 0.6122634711779449, 0.6128884711779449, 0.6310228696741854, 0.639780701754386, 0.632265037593985, 0.5822337092731831, 0.5834962406015037, 0.5491024436090226, 0.5978775062656642, 0.6135134711779449, 0.6222713032581454, 0.6060056390977444, 0.5803712406015038, 0.616641604010025, 0.6028759398496241, 0.6010040726817042, 0.46712719298245614, 0.4146475563909775, 0.5878634085213033, 0.5828508771929825, 0.5684790100250626, 0.5797305764411027, 0.626640037593985, 0.6172634711779448, 0.5622117794486216, 0.5991243734335839, 0.701702694235589, 0.6879370300751879]}, {\"categories\": [\"0\", \"1\", \"2\", \"3\", \"4\", \"5\", \"6\", \"7\", \"8\", \"9\", \"10\", \"11\", \"12\", \"13\", \"14\", \"15\", \"16\", \"17\", \"18\", \"19\", \"20\", \"21\", \"22\", \"23\", \"24\", \"25\", \"26\", \"27\", \"28\", \"29\", \"30\", \"31\", \"32\", \"33\", \"34\", \"38\", \"39\"], \"mode\": \"lines\", \"name\": \"recall_score_weighted_max\", \"stepped\": true, \"type\": \"scatter\", \"data\": [0.6891948621553885, 0.6891948621553885, 0.6891948621553885, 0.6891948621553885, 0.6891948621553885, 0.6891948621553885, 0.6891948621553885, 0.6891948621553885, 0.6891948621553885, 0.6891948621553885, 0.6891948621553885, 0.6891948621553885, 0.6891948621553885, 0.6891948621553885, 0.6891948621553885, 0.6891948621553885, 0.6891948621553885, 0.6891948621553885, 0.6891948621553885, 0.6891948621553885, 0.6891948621553885, 0.6891948621553885, 0.6891948621553885, 0.6891948621553885, 0.6891948621553885, 0.6891948621553885, 0.6891948621553885, 0.6891948621553885, 0.6891948621553885, 0.6891948621553885, 0.6891948621553885, 0.6891948621553885, 0.6891948621553885, 0.6891948621553885, 0.6891948621553885, 0.701702694235589, 0.701702694235589]}], \"norm_macro_recall\": [{\"categories\": [\"0\", \"1\", \"2\", \"3\", \"4\", \"5\", \"6\", \"7\", \"8\", \"9\", \"10\", \"11\", \"12\", \"13\", \"14\", \"15\", \"16\", \"17\", \"18\", \"19\", \"20\", \"21\", \"22\", \"23\", \"24\", \"25\", \"26\", \"27\", \"28\", \"29\", \"30\", \"31\", \"32\", \"33\", \"34\", \"38\", \"39\"], \"mode\": \"markers\", \"name\": \"norm_macro_recall\", \"stepped\": false, \"type\": \"scatter\", \"data\": [0.23757832108440746, 0.18326708754202842, 0.12498120614045241, 0.11046687010266246, 0.32887220972703196, 0.1740097505713278, 0.08813442389570506, 0.15084876013862697, 0.13356930991690133, 0.12001613805392172, 0.1409902547917268, 0.17679292100924018, 0.18409081252110382, 0.19415073897013801, 0.08191790792028326, 0.09923622938340773, 0.08141556946108754, 0.10547137344341738, 0.12075078544401457, 0.14719023725158864, 0.11412488054685228, 0.08099329693210996, 0.1252203684847222, 0.14194526195556925, 0.11128388376200868, 0.024559314105194532, 0.2944825636366886, 0.18112867402336752, 0.10052892213452613, 0.1404317218506661, 0.08148629289913262, 0.15304908627666852, 0.13980715172433777, 0.08992533744745095, 0.15473843793485137, 0.23914759421430903, 0.20299290914831866]}, {\"categories\": [\"0\", \"1\", \"2\", \"3\", \"4\", \"5\", \"6\", \"7\", \"8\", \"9\", \"10\", \"11\", \"12\", \"13\", \"14\", \"15\", \"16\", \"17\", \"18\", \"19\", \"20\", \"21\", \"22\", \"23\", \"24\", \"25\", \"26\", \"27\", \"28\", \"29\", \"30\", \"31\", \"32\", \"33\", \"34\", \"38\", \"39\"], \"mode\": \"lines\", \"name\": \"norm_macro_recall_max\", \"stepped\": true, \"type\": \"scatter\", \"data\": [0.23757832108440746, 0.23757832108440746, 0.23757832108440746, 0.23757832108440746, 0.32887220972703196, 0.32887220972703196, 0.32887220972703196, 0.32887220972703196, 0.32887220972703196, 0.32887220972703196, 0.32887220972703196, 0.32887220972703196, 0.32887220972703196, 0.32887220972703196, 0.32887220972703196, 0.32887220972703196, 0.32887220972703196, 0.32887220972703196, 0.32887220972703196, 0.32887220972703196, 0.32887220972703196, 0.32887220972703196, 0.32887220972703196, 0.32887220972703196, 0.32887220972703196, 0.32887220972703196, 0.32887220972703196, 0.32887220972703196, 0.32887220972703196, 0.32887220972703196, 0.32887220972703196, 0.32887220972703196, 0.32887220972703196, 0.32887220972703196, 0.32887220972703196, 0.32887220972703196, 0.32887220972703196]}], \"AUC_micro\": [{\"categories\": [\"0\", \"1\", \"2\", \"3\", \"4\", \"5\", \"6\", \"7\", \"8\", \"9\", \"10\", \"11\", \"12\", \"13\", \"14\", \"15\", \"16\", \"17\", \"18\", \"19\", \"20\", \"21\", \"22\", \"23\", \"24\", \"25\", \"26\", \"27\", \"28\", \"29\", \"30\", \"31\", \"32\", \"33\", \"34\", \"38\", \"39\"], \"mode\": \"markers\", \"name\": \"AUC_micro\", \"stepped\": false, \"type\": \"scatter\", \"data\": [0.9256631223912696, 0.9159297025654676, 0.9068446000486413, 0.9031874125633633, 0.8822591360322407, 0.9138664117118455, 0.8991060322092826, 0.9074943775439539, 0.9067101307662955, 0.9034271437816817, 0.9087623719660995, 0.9086533933812444, 0.9111656189031476, 0.9183262815246136, 0.8999886645311979, 0.8972087823588577, 0.8863052017536008, 0.9056855353962914, 0.9042943963645015, 0.9078568046054987, 0.9032682055742427, 0.8946078534918122, 0.9065611858790146, 0.905144643771867, 0.9020999586332688, 0.872285729965578, 0.8114441434393471, 0.9033203875800089, 0.9017394524374847, 0.890374992758761, 0.8922863556938242, 0.9116514599409709, 0.9103296786550494, 0.8908147288902866, 0.9022873719837657, 0.9268082533518948, 0.9281069355229394]}, {\"categories\": [\"0\", \"1\", \"2\", \"3\", \"4\", \"5\", \"6\", \"7\", \"8\", \"9\", \"10\", \"11\", \"12\", \"13\", \"14\", \"15\", \"16\", \"17\", \"18\", \"19\", \"20\", \"21\", \"22\", \"23\", \"24\", \"25\", \"26\", \"27\", \"28\", \"29\", \"30\", \"31\", \"32\", \"33\", \"34\", \"38\", \"39\"], \"mode\": \"lines\", \"name\": \"AUC_micro_max\", \"stepped\": true, \"type\": \"scatter\", \"data\": [0.9256631223912696, 0.9256631223912696, 0.9256631223912696, 0.9256631223912696, 0.9256631223912696, 0.9256631223912696, 0.9256631223912696, 0.9256631223912696, 0.9256631223912696, 0.9256631223912696, 0.9256631223912696, 0.9256631223912696, 0.9256631223912696, 0.9256631223912696, 0.9256631223912696, 0.9256631223912696, 0.9256631223912696, 0.9256631223912696, 0.9256631223912696, 0.9256631223912696, 0.9256631223912696, 0.9256631223912696, 0.9256631223912696, 0.9256631223912696, 0.9256631223912696, 0.9256631223912696, 0.9256631223912696, 0.9256631223912696, 0.9256631223912696, 0.9256631223912696, 0.9256631223912696, 0.9256631223912696, 0.9256631223912696, 0.9256631223912696, 0.9256631223912696, 0.9268082533518948, 0.9281069355229394]}], \"recall_score_macro\": [{\"categories\": [\"0\", \"1\", \"2\", \"3\", \"4\", \"5\", \"6\", \"7\", \"8\", \"9\", \"10\", \"11\", \"12\", \"13\", \"14\", \"15\", \"16\", \"17\", \"18\", \"19\", \"20\", \"21\", \"22\", \"23\", \"24\", \"25\", \"26\", \"27\", \"28\", \"29\", \"30\", \"31\", \"32\", \"33\", \"34\", \"38\", \"39\"], \"mode\": \"markers\", \"name\": \"recall_score_macro\", \"stepped\": false, \"type\": \"scatter\", \"data\": [0.3646486009036729, 0.319389239618357, 0.27081767178371036, 0.25872239175221873, 0.44072684143919333, 0.31167479214277316, 0.24011201991308753, 0.29237396678218913, 0.27797442493075114, 0.2666801150449348, 0.28415854565977233, 0.31399410084103346, 0.32007567710091983, 0.3284589491417817, 0.23493158993356938, 0.2493635244861731, 0.23451297455090628, 0.2545594778695145, 0.26729232120334545, 0.2893251977096572, 0.2617707337890436, 0.2341610807767583, 0.2710169737372685, 0.28495438496297437, 0.25940323646834057, 0.18713276175432875, 0.41206880303057386, 0.31760722835280625, 0.25044076844543844, 0.28369310154222177, 0.2345719107492772, 0.2942075718972238, 0.2831726264369481, 0.2416044478728758, 0.29561536494570945, 0.3659563285119242, 0.3358274242902656]}, {\"categories\": [\"0\", \"1\", \"2\", \"3\", \"4\", \"5\", \"6\", \"7\", \"8\", \"9\", \"10\", \"11\", \"12\", \"13\", \"14\", \"15\", \"16\", \"17\", \"18\", \"19\", \"20\", \"21\", \"22\", \"23\", \"24\", \"25\", \"26\", \"27\", \"28\", \"29\", \"30\", \"31\", \"32\", \"33\", \"34\", \"38\", \"39\"], \"mode\": \"lines\", \"name\": \"recall_score_macro_max\", \"stepped\": true, \"type\": \"scatter\", \"data\": [0.3646486009036729, 0.3646486009036729, 0.3646486009036729, 0.3646486009036729, 0.44072684143919333, 0.44072684143919333, 0.44072684143919333, 0.44072684143919333, 0.44072684143919333, 0.44072684143919333, 0.44072684143919333, 0.44072684143919333, 0.44072684143919333, 0.44072684143919333, 0.44072684143919333, 0.44072684143919333, 0.44072684143919333, 0.44072684143919333, 0.44072684143919333, 0.44072684143919333, 0.44072684143919333, 0.44072684143919333, 0.44072684143919333, 0.44072684143919333, 0.44072684143919333, 0.44072684143919333, 0.44072684143919333, 0.44072684143919333, 0.44072684143919333, 0.44072684143919333, 0.44072684143919333, 0.44072684143919333, 0.44072684143919333, 0.44072684143919333, 0.44072684143919333, 0.44072684143919333, 0.44072684143919333]}], \"f1_score_micro\": [{\"categories\": [\"0\", \"1\", \"2\", \"3\", \"4\", \"5\", \"6\", \"7\", \"8\", \"9\", \"10\", \"11\", \"12\", \"13\", \"14\", \"15\", \"16\", \"17\", \"18\", \"19\", \"20\", \"21\", \"22\", \"23\", \"24\", \"25\", \"26\", \"27\", \"28\", \"29\", \"30\", \"31\", \"32\", \"33\", \"34\", \"38\", \"39\"], \"mode\": \"markers\", \"name\": \"f1_score_micro\", \"stepped\": false, \"type\": \"scatter\", \"data\": [0.6891948621553885, 0.6391525689223058, 0.6147587719298245, 0.6028790726817043, 0.5441071428571429, 0.626016604010025, 0.5878540100250627, 0.6216494360902256, 0.6172478070175439, 0.6122634711779449, 0.6128884711779449, 0.6310228696741854, 0.639780701754386, 0.632265037593985, 0.5822337092731831, 0.5834962406015037, 0.5491024436090226, 0.5978775062656642, 0.6135134711779449, 0.6222713032581454, 0.6060056390977444, 0.5803712406015038, 0.616641604010025, 0.6028759398496241, 0.6010040726817042, 0.46712719298245614, 0.4146475563909775, 0.5878634085213033, 0.5828508771929825, 0.5684790100250626, 0.5797305764411027, 0.626640037593985, 0.6172634711779448, 0.5622117794486216, 0.5991243734335839, 0.701702694235589, 0.6879370300751879]}, {\"categories\": [\"0\", \"1\", \"2\", \"3\", \"4\", \"5\", \"6\", \"7\", \"8\", \"9\", \"10\", \"11\", \"12\", \"13\", \"14\", \"15\", \"16\", \"17\", \"18\", \"19\", \"20\", \"21\", \"22\", \"23\", \"24\", \"25\", \"26\", \"27\", \"28\", \"29\", \"30\", \"31\", \"32\", \"33\", \"34\", \"38\", \"39\"], \"mode\": \"lines\", \"name\": \"f1_score_micro_max\", \"stepped\": true, \"type\": \"scatter\", \"data\": [0.6891948621553885, 0.6891948621553885, 0.6891948621553885, 0.6891948621553885, 0.6891948621553885, 0.6891948621553885, 0.6891948621553885, 0.6891948621553885, 0.6891948621553885, 0.6891948621553885, 0.6891948621553885, 0.6891948621553885, 0.6891948621553885, 0.6891948621553885, 0.6891948621553885, 0.6891948621553885, 0.6891948621553885, 0.6891948621553885, 0.6891948621553885, 0.6891948621553885, 0.6891948621553885, 0.6891948621553885, 0.6891948621553885, 0.6891948621553885, 0.6891948621553885, 0.6891948621553885, 0.6891948621553885, 0.6891948621553885, 0.6891948621553885, 0.6891948621553885, 0.6891948621553885, 0.6891948621553885, 0.6891948621553885, 0.6891948621553885, 0.6891948621553885, 0.701702694235589, 0.701702694235589]}], \"AUC_macro\": [{\"categories\": [\"0\", \"1\", \"2\", \"3\", \"4\", \"5\", \"6\", \"7\", \"8\", \"9\", \"10\", \"11\", \"12\", \"13\", \"14\", \"15\", \"16\", \"17\", \"18\", \"19\", \"20\", \"21\", \"22\", \"23\", \"24\", \"25\", \"26\", \"27\", \"28\", \"29\", \"30\", \"31\", \"32\", \"33\", \"34\", \"38\", \"39\"], \"mode\": \"markers\", \"name\": \"AUC_macro\", \"stepped\": false, \"type\": \"scatter\", \"data\": [0.837965974836816, 0.8198851659608234, 0.8016307737528053, 0.7973956980368127, 0.8103063747634218, 0.8266381885886476, 0.7943736648301369, 0.7662331429134378, 0.8164290936417172, 0.7943120602206939, 0.8225037234157301, 0.7872422894615342, 0.7769329172821023, 0.8146151222095114, 0.8052132997421428, 0.787533149032865, 0.7413638551012461, 0.823024299527242, 0.813005775087877, 0.7927567329006264, 0.8133900599840568, 0.797776630095399, 0.8115450669073294, 0.7834418457389243, 0.7954064177726241, 0.7275758021083292, 0.7645831936106118, 0.8094758923350742, 0.803610428282418, 0.7337881175843481, 0.7861298717697941, 0.8163227392979546, 0.8154319485945927, 0.7409690373148998, 0.7651687495498487, 0.8309055490307218, 0.8612404962979479]}, {\"categories\": [\"0\", \"1\", \"2\", \"3\", \"4\", \"5\", \"6\", \"7\", \"8\", \"9\", \"10\", \"11\", \"12\", \"13\", \"14\", \"15\", \"16\", \"17\", \"18\", \"19\", \"20\", \"21\", \"22\", \"23\", \"24\", \"25\", \"26\", \"27\", \"28\", \"29\", \"30\", \"31\", \"32\", \"33\", \"34\", \"38\", \"39\"], \"mode\": \"lines\", \"name\": \"AUC_macro_max\", \"stepped\": true, \"type\": \"scatter\", \"data\": [0.837965974836816, 0.837965974836816, 0.837965974836816, 0.837965974836816, 0.837965974836816, 0.837965974836816, 0.837965974836816, 0.837965974836816, 0.837965974836816, 0.837965974836816, 0.837965974836816, 0.837965974836816, 0.837965974836816, 0.837965974836816, 0.837965974836816, 0.837965974836816, 0.837965974836816, 0.837965974836816, 0.837965974836816, 0.837965974836816, 0.837965974836816, 0.837965974836816, 0.837965974836816, 0.837965974836816, 0.837965974836816, 0.837965974836816, 0.837965974836816, 0.837965974836816, 0.837965974836816, 0.837965974836816, 0.837965974836816, 0.837965974836816, 0.837965974836816, 0.837965974836816, 0.837965974836816, 0.837965974836816, 0.8612404962979479]}], \"recall_score_micro\": [{\"categories\": [\"0\", \"1\", \"2\", \"3\", \"4\", \"5\", \"6\", \"7\", \"8\", \"9\", \"10\", \"11\", \"12\", \"13\", \"14\", \"15\", \"16\", \"17\", \"18\", \"19\", \"20\", \"21\", \"22\", \"23\", \"24\", \"25\", \"26\", \"27\", \"28\", \"29\", \"30\", \"31\", \"32\", \"33\", \"34\", \"38\", \"39\"], \"mode\": \"markers\", \"name\": \"recall_score_micro\", \"stepped\": false, \"type\": \"scatter\", \"data\": [0.6891948621553885, 0.6391525689223058, 0.6147587719298245, 0.6028790726817043, 0.5441071428571429, 0.626016604010025, 0.5878540100250627, 0.6216494360902256, 0.6172478070175439, 0.6122634711779449, 0.6128884711779449, 0.6310228696741854, 0.639780701754386, 0.632265037593985, 0.5822337092731831, 0.5834962406015037, 0.5491024436090226, 0.5978775062656642, 0.6135134711779449, 0.6222713032581454, 0.6060056390977444, 0.5803712406015038, 0.616641604010025, 0.6028759398496241, 0.6010040726817042, 0.46712719298245614, 0.4146475563909775, 0.5878634085213033, 0.5828508771929825, 0.5684790100250626, 0.5797305764411027, 0.626640037593985, 0.6172634711779448, 0.5622117794486216, 0.5991243734335839, 0.701702694235589, 0.6879370300751879]}, {\"categories\": [\"0\", \"1\", \"2\", \"3\", \"4\", \"5\", \"6\", \"7\", \"8\", \"9\", \"10\", \"11\", \"12\", \"13\", \"14\", \"15\", \"16\", \"17\", \"18\", \"19\", \"20\", \"21\", \"22\", \"23\", \"24\", \"25\", \"26\", \"27\", \"28\", \"29\", \"30\", \"31\", \"32\", \"33\", \"34\", \"38\", \"39\"], \"mode\": \"lines\", \"name\": \"recall_score_micro_max\", \"stepped\": true, \"type\": \"scatter\", \"data\": [0.6891948621553885, 0.6891948621553885, 0.6891948621553885, 0.6891948621553885, 0.6891948621553885, 0.6891948621553885, 0.6891948621553885, 0.6891948621553885, 0.6891948621553885, 0.6891948621553885, 0.6891948621553885, 0.6891948621553885, 0.6891948621553885, 0.6891948621553885, 0.6891948621553885, 0.6891948621553885, 0.6891948621553885, 0.6891948621553885, 0.6891948621553885, 0.6891948621553885, 0.6891948621553885, 0.6891948621553885, 0.6891948621553885, 0.6891948621553885, 0.6891948621553885, 0.6891948621553885, 0.6891948621553885, 0.6891948621553885, 0.6891948621553885, 0.6891948621553885, 0.6891948621553885, 0.6891948621553885, 0.6891948621553885, 0.6891948621553885, 0.6891948621553885, 0.701702694235589, 0.701702694235589]}], \"matthews_correlation\": [{\"categories\": [\"0\", \"1\", \"2\", \"3\", \"4\", \"5\", \"6\", \"7\", \"8\", \"9\", \"10\", \"11\", \"12\", \"13\", \"14\", \"15\", \"16\", \"17\", \"18\", \"19\", \"20\", \"21\", \"22\", \"23\", \"24\", \"25\", \"26\", \"27\", \"28\", \"29\", \"30\", \"31\", \"32\", \"33\", \"34\", \"38\", \"39\"], \"mode\": \"markers\", \"name\": \"matthews_correlation\", \"stepped\": false, \"type\": \"scatter\", \"data\": [0.4994464264350637, 0.4188861604799509, 0.3624046708778546, 0.3415325605306055, 0.33435087440765754, 0.394523625672222, 0.30982191865924935, 0.38442295006251637, 0.369079511165383, 0.35767188075424927, 0.36671914312648607, 0.4003997855545214, 0.41725858285632966, 0.40702306671722116, 0.30103043926442524, 0.3065717946505452, 0.24908853346136778, 0.332826072842286, 0.3595847856842729, 0.3832960993244921, 0.3466182372353511, 0.2962520878717128, 0.36689861074601904, 0.35621736363939704, 0.3386735806997885, 0.10688694148800135, 0.23414604938759664, 0.3280767950072777, 0.30905404798102, 0.30748431590373027, 0.2982605680834447, 0.38970063888879747, 0.3726267450575648, 0.2760256713577612, 0.349274247476173, 0.5164512763694954, 0.49473601857834937]}, {\"categories\": [\"0\", \"1\", \"2\", \"3\", \"4\", \"5\", \"6\", \"7\", \"8\", \"9\", \"10\", \"11\", \"12\", \"13\", \"14\", \"15\", \"16\", \"17\", \"18\", \"19\", \"20\", \"21\", \"22\", \"23\", \"24\", \"25\", \"26\", \"27\", \"28\", \"29\", \"30\", \"31\", \"32\", \"33\", \"34\", \"38\", \"39\"], \"mode\": \"lines\", \"name\": \"matthews_correlation_max\", \"stepped\": true, \"type\": \"scatter\", \"data\": [0.4994464264350637, 0.4994464264350637, 0.4994464264350637, 0.4994464264350637, 0.4994464264350637, 0.4994464264350637, 0.4994464264350637, 0.4994464264350637, 0.4994464264350637, 0.4994464264350637, 0.4994464264350637, 0.4994464264350637, 0.4994464264350637, 0.4994464264350637, 0.4994464264350637, 0.4994464264350637, 0.4994464264350637, 0.4994464264350637, 0.4994464264350637, 0.4994464264350637, 0.4994464264350637, 0.4994464264350637, 0.4994464264350637, 0.4994464264350637, 0.4994464264350637, 0.4994464264350637, 0.4994464264350637, 0.4994464264350637, 0.4994464264350637, 0.4994464264350637, 0.4994464264350637, 0.4994464264350637, 0.4994464264350637, 0.4994464264350637, 0.4994464264350637, 0.5164512763694954, 0.5164512763694954]}], \"log_loss\": [{\"categories\": [\"0\", \"1\", \"2\", \"3\", \"4\", \"5\", \"6\", \"7\", \"8\", \"9\", \"10\", \"11\", \"12\", \"13\", \"14\", \"15\", \"16\", \"17\", \"18\", \"19\", \"20\", \"21\", \"22\", \"23\", \"24\", \"25\", \"26\", \"27\", \"28\", \"29\", \"30\", \"31\", \"32\", \"33\", \"34\", \"38\", \"39\"], \"mode\": \"markers\", \"name\": \"log_loss\", \"stepped\": false, \"type\": \"scatter\", \"data\": [0.9876441097274047, 0.911101145454783, 0.9539987801066313, 0.9757338839687716, 1.1332145588731148, 0.9228774331626943, 0.9990573919126863, 1.2137303846824674, 0.9591648614204406, 0.9917754683040311, 0.9336574707244535, 1.213355604212499, 0.9902379611692368, 0.9197559953197931, 0.992974631698895, 1.0193056543035788, 1.0459438894908517, 0.9573778456909379, 0.9841487669247331, 0.9610492494253189, 0.9848169591758731, 1.027395486620329, 0.9688268491186799, 0.9580812740422193, 0.9850587266880073, 1.173512490379811, 1.355219307372148, 0.9712184405565565, 0.9769236371251326, 1.0573087866403266, 1.0593203751632998, 0.9269773282140688, 0.9359467793651207, 1.289814574905754, 0.9746013895069381, 0.8848797260384818, 0.8422987347777995]}, {\"categories\": [\"0\", \"1\", \"2\", \"3\", \"4\", \"5\", \"6\", \"7\", \"8\", \"9\", \"10\", \"11\", \"12\", \"13\", \"14\", \"15\", \"16\", \"17\", \"18\", \"19\", \"20\", \"21\", \"22\", \"23\", \"24\", \"25\", \"26\", \"27\", \"28\", \"29\", \"30\", \"31\", \"32\", \"33\", \"34\", \"38\", \"39\"], \"mode\": \"lines\", \"name\": \"log_loss_min\", \"stepped\": true, \"type\": \"scatter\", \"data\": [0.9876441097274047, 0.911101145454783, 0.911101145454783, 0.911101145454783, 0.911101145454783, 0.911101145454783, 0.911101145454783, 0.911101145454783, 0.911101145454783, 0.911101145454783, 0.911101145454783, 0.911101145454783, 0.911101145454783, 0.911101145454783, 0.911101145454783, 0.911101145454783, 0.911101145454783, 0.911101145454783, 0.911101145454783, 0.911101145454783, 0.911101145454783, 0.911101145454783, 0.911101145454783, 0.911101145454783, 0.911101145454783, 0.911101145454783, 0.911101145454783, 0.911101145454783, 0.911101145454783, 0.911101145454783, 0.911101145454783, 0.911101145454783, 0.911101145454783, 0.911101145454783, 0.911101145454783, 0.8848797260384818, 0.8422987347777995]}], \"balanced_accuracy\": [{\"categories\": [\"0\", \"1\", \"2\", \"3\", \"4\", \"5\", \"6\", \"7\", \"8\", \"9\", \"10\", \"11\", \"12\", \"13\", \"14\", \"15\", \"16\", \"17\", \"18\", \"19\", \"20\", \"21\", \"22\", \"23\", \"24\", \"25\", \"26\", \"27\", \"28\", \"29\", \"30\", \"31\", \"32\", \"33\", \"34\", \"38\", \"39\"], \"mode\": \"markers\", \"name\": \"balanced_accuracy\", \"stepped\": false, \"type\": \"scatter\", \"data\": [0.3646486009036729, 0.319389239618357, 0.27081767178371036, 0.25872239175221873, 0.44072684143919333, 0.31167479214277316, 0.24011201991308753, 0.29237396678218913, 0.27797442493075114, 0.2666801150449348, 0.28415854565977233, 0.31399410084103346, 0.32007567710091983, 0.3284589491417817, 0.23493158993356938, 0.2493635244861731, 0.23451297455090628, 0.2545594778695145, 0.26729232120334545, 0.2893251977096572, 0.2617707337890436, 0.2341610807767583, 0.2710169737372685, 0.28495438496297437, 0.25940323646834057, 0.18713276175432875, 0.41206880303057386, 0.31760722835280625, 0.25044076844543844, 0.28369310154222177, 0.2345719107492772, 0.2942075718972238, 0.2831726264369481, 0.2416044478728758, 0.29561536494570945, 0.3659563285119242, 0.3358274242902656]}, {\"categories\": [\"0\", \"1\", \"2\", \"3\", \"4\", \"5\", \"6\", \"7\", \"8\", \"9\", \"10\", \"11\", \"12\", \"13\", \"14\", \"15\", \"16\", \"17\", \"18\", \"19\", \"20\", \"21\", \"22\", \"23\", \"24\", \"25\", \"26\", \"27\", \"28\", \"29\", \"30\", \"31\", \"32\", \"33\", \"34\", \"38\", \"39\"], \"mode\": \"lines\", \"name\": \"balanced_accuracy_max\", \"stepped\": true, \"type\": \"scatter\", \"data\": [0.3646486009036729, 0.3646486009036729, 0.3646486009036729, 0.3646486009036729, 0.44072684143919333, 0.44072684143919333, 0.44072684143919333, 0.44072684143919333, 0.44072684143919333, 0.44072684143919333, 0.44072684143919333, 0.44072684143919333, 0.44072684143919333, 0.44072684143919333, 0.44072684143919333, 0.44072684143919333, 0.44072684143919333, 0.44072684143919333, 0.44072684143919333, 0.44072684143919333, 0.44072684143919333, 0.44072684143919333, 0.44072684143919333, 0.44072684143919333, 0.44072684143919333, 0.44072684143919333, 0.44072684143919333, 0.44072684143919333, 0.44072684143919333, 0.44072684143919333, 0.44072684143919333, 0.44072684143919333, 0.44072684143919333, 0.44072684143919333, 0.44072684143919333, 0.44072684143919333, 0.44072684143919333]}], \"average_precision_score_weighted\": [{\"categories\": [\"0\", \"1\", \"2\", \"3\", \"4\", \"5\", \"6\", \"7\", \"8\", \"9\", \"10\", \"11\", \"12\", \"13\", \"14\", \"15\", \"16\", \"17\", \"18\", \"19\", \"20\", \"21\", \"22\", \"23\", \"24\", \"25\", \"26\", \"27\", \"28\", \"29\", \"30\", \"31\", \"32\", \"33\", \"34\", \"38\", \"39\"], \"mode\": \"markers\", \"name\": \"average_precision_score_weighted\", \"stepped\": false, \"type\": \"scatter\", \"data\": [0.6951457156111502, 0.6557644322758991, 0.6269066344182632, 0.6106688017353914, 0.6208711397080815, 0.6418057941465962, 0.6168819115464662, 0.6440607101473087, 0.60727261348651, 0.6333441725249647, 0.623150539043918, 0.6620285629462295, 0.6717166289641217, 0.6948088336210966, 0.6064362343050365, 0.6098653496547188, 0.5633997760496932, 0.6162181222190823, 0.6345920227033873, 0.6423571881678062, 0.6241117413765154, 0.6034484379273112, 0.6365005129343171, 0.6304013366943519, 0.6131839963791272, 0.5840994756772152, 0.5442269035441836, 0.5996096699286981, 0.5965549354140408, 0.5865200217087295, 0.6166070243587667, 0.6471732906155397, 0.6383605005273156, 0.5908673850878875, 0.6146087352166653, 0.7038890972399255, 0.7022620311133914]}, {\"categories\": [\"0\", \"1\", \"2\", \"3\", \"4\", \"5\", \"6\", \"7\", \"8\", \"9\", \"10\", \"11\", \"12\", \"13\", \"14\", \"15\", \"16\", \"17\", \"18\", \"19\", \"20\", \"21\", \"22\", \"23\", \"24\", \"25\", \"26\", \"27\", \"28\", \"29\", \"30\", \"31\", \"32\", \"33\", \"34\", \"38\", \"39\"], \"mode\": \"lines\", \"name\": \"average_precision_score_weighted_max\", \"stepped\": true, \"type\": \"scatter\", \"data\": [0.6951457156111502, 0.6951457156111502, 0.6951457156111502, 0.6951457156111502, 0.6951457156111502, 0.6951457156111502, 0.6951457156111502, 0.6951457156111502, 0.6951457156111502, 0.6951457156111502, 0.6951457156111502, 0.6951457156111502, 0.6951457156111502, 0.6951457156111502, 0.6951457156111502, 0.6951457156111502, 0.6951457156111502, 0.6951457156111502, 0.6951457156111502, 0.6951457156111502, 0.6951457156111502, 0.6951457156111502, 0.6951457156111502, 0.6951457156111502, 0.6951457156111502, 0.6951457156111502, 0.6951457156111502, 0.6951457156111502, 0.6951457156111502, 0.6951457156111502, 0.6951457156111502, 0.6951457156111502, 0.6951457156111502, 0.6951457156111502, 0.6951457156111502, 0.7038890972399255, 0.7038890972399255]}], \"precision_score_micro\": [{\"categories\": [\"0\", \"1\", \"2\", \"3\", \"4\", \"5\", \"6\", \"7\", \"8\", \"9\", \"10\", \"11\", \"12\", \"13\", \"14\", \"15\", \"16\", \"17\", \"18\", \"19\", \"20\", \"21\", \"22\", \"23\", \"24\", \"25\", \"26\", \"27\", \"28\", \"29\", \"30\", \"31\", \"32\", \"33\", \"34\", \"38\", \"39\"], \"mode\": \"markers\", \"name\": \"precision_score_micro\", \"stepped\": false, \"type\": \"scatter\", \"data\": [0.6891948621553885, 0.6391525689223058, 0.6147587719298245, 0.6028790726817043, 0.5441071428571429, 0.626016604010025, 0.5878540100250627, 0.6216494360902256, 0.6172478070175439, 0.6122634711779449, 0.6128884711779449, 0.6310228696741854, 0.639780701754386, 0.632265037593985, 0.5822337092731831, 0.5834962406015037, 0.5491024436090226, 0.5978775062656642, 0.6135134711779449, 0.6222713032581454, 0.6060056390977444, 0.5803712406015038, 0.616641604010025, 0.6028759398496241, 0.6010040726817042, 0.46712719298245614, 0.4146475563909775, 0.5878634085213033, 0.5828508771929825, 0.5684790100250626, 0.5797305764411027, 0.626640037593985, 0.6172634711779448, 0.5622117794486216, 0.5991243734335839, 0.701702694235589, 0.6879370300751879]}, {\"categories\": [\"0\", \"1\", \"2\", \"3\", \"4\", \"5\", \"6\", \"7\", \"8\", \"9\", \"10\", \"11\", \"12\", \"13\", \"14\", \"15\", \"16\", \"17\", \"18\", \"19\", \"20\", \"21\", \"22\", \"23\", \"24\", \"25\", \"26\", \"27\", \"28\", \"29\", \"30\", \"31\", \"32\", \"33\", \"34\", \"38\", \"39\"], \"mode\": \"lines\", \"name\": \"precision_score_micro_max\", \"stepped\": true, \"type\": \"scatter\", \"data\": [0.6891948621553885, 0.6891948621553885, 0.6891948621553885, 0.6891948621553885, 0.6891948621553885, 0.6891948621553885, 0.6891948621553885, 0.6891948621553885, 0.6891948621553885, 0.6891948621553885, 0.6891948621553885, 0.6891948621553885, 0.6891948621553885, 0.6891948621553885, 0.6891948621553885, 0.6891948621553885, 0.6891948621553885, 0.6891948621553885, 0.6891948621553885, 0.6891948621553885, 0.6891948621553885, 0.6891948621553885, 0.6891948621553885, 0.6891948621553885, 0.6891948621553885, 0.6891948621553885, 0.6891948621553885, 0.6891948621553885, 0.6891948621553885, 0.6891948621553885, 0.6891948621553885, 0.6891948621553885, 0.6891948621553885, 0.6891948621553885, 0.6891948621553885, 0.701702694235589, 0.701702694235589]}], \"precision_score_macro\": [{\"categories\": [\"0\", \"1\", \"2\", \"3\", \"4\", \"5\", \"6\", \"7\", \"8\", \"9\", \"10\", \"11\", \"12\", \"13\", \"14\", \"15\", \"16\", \"17\", \"18\", \"19\", \"20\", \"21\", \"22\", \"23\", \"24\", \"25\", \"26\", \"27\", \"28\", \"29\", \"30\", \"31\", \"32\", \"33\", \"34\", \"38\", \"39\"], \"mode\": \"markers\", \"name\": \"precision_score_macro\", \"stepped\": false, \"type\": \"scatter\", \"data\": [0.4046596228105871, 0.33245986390511234, 0.3328800204690389, 0.33042149948318406, 0.3342935165623796, 0.3546210969493856, 0.2921786837548418, 0.30750977136880864, 0.3021994827606296, 0.32760109620970373, 0.3016254150585448, 0.36019357364304194, 0.3581038000250065, 0.36511034788415164, 0.19494317132037658, 0.32721342021064653, 0.2919519059694554, 0.333111087013764, 0.3410892140867843, 0.3124262591863889, 0.3239983867909328, 0.19314984199201038, 0.31486998069851857, 0.29378628099960424, 0.3274343301436077, 0.11867995998225339, 0.2907916109584503, 0.34286744854311635, 0.2869906654716061, 0.29781141234544384, 0.19408305436294987, 0.3121535612731802, 0.300917539028978, 0.293567146336567, 0.331020415536099, 0.4354051289417077, 0.33660490636084756]}, {\"categories\": [\"0\", \"1\", \"2\", \"3\", \"4\", \"5\", \"6\", \"7\", \"8\", \"9\", \"10\", \"11\", \"12\", \"13\", \"14\", \"15\", \"16\", \"17\", \"18\", \"19\", \"20\", \"21\", \"22\", \"23\", \"24\", \"25\", \"26\", \"27\", \"28\", \"29\", \"30\", \"31\", \"32\", \"33\", \"34\", \"38\", \"39\"], \"mode\": \"lines\", \"name\": \"precision_score_macro_max\", \"stepped\": true, \"type\": \"scatter\", \"data\": [0.4046596228105871, 0.4046596228105871, 0.4046596228105871, 0.4046596228105871, 0.4046596228105871, 0.4046596228105871, 0.4046596228105871, 0.4046596228105871, 0.4046596228105871, 0.4046596228105871, 0.4046596228105871, 0.4046596228105871, 0.4046596228105871, 0.4046596228105871, 0.4046596228105871, 0.4046596228105871, 0.4046596228105871, 0.4046596228105871, 0.4046596228105871, 0.4046596228105871, 0.4046596228105871, 0.4046596228105871, 0.4046596228105871, 0.4046596228105871, 0.4046596228105871, 0.4046596228105871, 0.4046596228105871, 0.4046596228105871, 0.4046596228105871, 0.4046596228105871, 0.4046596228105871, 0.4046596228105871, 0.4046596228105871, 0.4046596228105871, 0.4046596228105871, 0.4354051289417077, 0.4354051289417077]}]}, \"metricName\": null, \"primaryMetricName\": \"accuracy\", \"showLegend\": false}, \"run_metrics\": [{\"name\": \"experiment_status\", \"run_id\": \"AutoML_0c8c06cc-26f8-49d0-a58c-28fba24f6557\", \"categories\": [0, 1, 2, 3, 4, 5, 6, 7, 8, 9, 10, 11, 12, 13, 14], \"series\": [{\"data\": [\"DatasetEvaluation\", \"FeaturesGeneration\", \"DatasetFeaturization\", \"DatasetFeaturizationCompleted\", \"DatasetBalancing\", \"DatasetCrossValidationSplit\", \"ModelSelection\", \"BestRunExplainModel\", \"ModelExplanationDataSetSetup\", \"PickSurrogateModel\", \"EngineeredFeatureExplanations\", \"EngineeredFeatureExplanations\", \"RawFeaturesExplanations\", \"RawFeaturesExplanations\", \"BestRunExplainModel\"]}]}, {\"name\": \"experiment_status_description\", \"run_id\": \"AutoML_0c8c06cc-26f8-49d0-a58c-28fba24f6557\", \"categories\": [0, 1, 2, 3, 4, 5, 6, 7, 8, 9, 10, 11, 12, 13, 14], \"series\": [{\"data\": [\"Gathering dataset statistics.\", \"Generating features for the dataset.\", \"Beginning to fit featurizers and featurize the dataset.\", \"Completed fit featurizers and featurizing the dataset.\", \"Performing class balancing sweeping\", \"Generating individually featurized CV splits.\", \"Beginning model selection.\", \"Best run model explanations started\", \"Model explanations data setup completed\", \"Choosing LightGBM as the surrogate model for explanations\", \"Computation of engineered features started\", \"Computation of engineered features completed\", \"Computation of raw features started\", \"Computation of raw features completed\", \"Best run model explanations completed\"]}]}, {\"name\": \"average_precision_score_micro\", \"run_id\": \"AutoML_0c8c06cc-26f8-49d0-a58c-28fba24f6557\", \"categories\": [0], \"series\": [{\"data\": [0.7189784976065015]}]}, {\"name\": \"precision_score_micro\", \"run_id\": \"AutoML_0c8c06cc-26f8-49d0-a58c-28fba24f6557\", \"categories\": [0], \"series\": [{\"data\": [0.701702694235589]}]}, {\"name\": \"average_precision_score_macro\", \"run_id\": \"AutoML_0c8c06cc-26f8-49d0-a58c-28fba24f6557\", \"categories\": [0], \"series\": [{\"data\": [0.45852285491909595]}]}, {\"name\": \"precision_score_macro\", \"run_id\": \"AutoML_0c8c06cc-26f8-49d0-a58c-28fba24f6557\", \"categories\": [0], \"series\": [{\"data\": [0.4354051289417077]}]}, {\"name\": \"AUC_weighted\", \"run_id\": \"AutoML_0c8c06cc-26f8-49d0-a58c-28fba24f6557\", \"categories\": [0], \"series\": [{\"data\": [0.830726704612128]}]}, {\"name\": \"norm_macro_recall\", \"run_id\": \"AutoML_0c8c06cc-26f8-49d0-a58c-28fba24f6557\", \"categories\": [0], \"series\": [{\"data\": [0.23914759421430903]}]}, {\"name\": \"weighted_accuracy\", \"run_id\": \"AutoML_0c8c06cc-26f8-49d0-a58c-28fba24f6557\", \"categories\": [0], \"series\": [{\"data\": [0.757898436163069]}]}, {\"name\": \"recall_score_weighted\", \"run_id\": \"AutoML_0c8c06cc-26f8-49d0-a58c-28fba24f6557\", \"categories\": [0], \"series\": [{\"data\": [0.701702694235589]}]}, {\"name\": \"recall_score_macro\", \"run_id\": \"AutoML_0c8c06cc-26f8-49d0-a58c-28fba24f6557\", \"categories\": [0], \"series\": [{\"data\": [0.3659563285119242]}]}, {\"name\": \"balanced_accuracy\", \"run_id\": \"AutoML_0c8c06cc-26f8-49d0-a58c-28fba24f6557\", \"categories\": [0], \"series\": [{\"data\": [0.3659563285119242]}]}, {\"name\": \"f1_score_weighted\", \"run_id\": \"AutoML_0c8c06cc-26f8-49d0-a58c-28fba24f6557\", \"categories\": [0], \"series\": [{\"data\": [0.6823669042816088]}]}, {\"name\": \"precision_score_weighted\", \"run_id\": \"AutoML_0c8c06cc-26f8-49d0-a58c-28fba24f6557\", \"categories\": [0], \"series\": [{\"data\": [0.6724388153308987]}]}, {\"name\": \"average_precision_score_weighted\", \"run_id\": \"AutoML_0c8c06cc-26f8-49d0-a58c-28fba24f6557\", \"categories\": [0], \"series\": [{\"data\": [0.7038890972399255]}]}, {\"name\": \"recall_score_micro\", \"run_id\": \"AutoML_0c8c06cc-26f8-49d0-a58c-28fba24f6557\", \"categories\": [0], \"series\": [{\"data\": [0.701702694235589]}]}, {\"name\": \"matthews_correlation\", \"run_id\": \"AutoML_0c8c06cc-26f8-49d0-a58c-28fba24f6557\", \"categories\": [0], \"series\": [{\"data\": [0.5164512763694954]}]}, {\"name\": \"f1_score_micro\", \"run_id\": \"AutoML_0c8c06cc-26f8-49d0-a58c-28fba24f6557\", \"categories\": [0], \"series\": [{\"data\": [0.701702694235589]}]}, {\"name\": \"AUC_micro\", \"run_id\": \"AutoML_0c8c06cc-26f8-49d0-a58c-28fba24f6557\", \"categories\": [0], \"series\": [{\"data\": [0.9268082533518948]}]}, {\"name\": \"accuracy\", \"run_id\": \"AutoML_0c8c06cc-26f8-49d0-a58c-28fba24f6557\", \"categories\": [0], \"series\": [{\"data\": [0.701702694235589]}]}, {\"name\": \"log_loss\", \"run_id\": \"AutoML_0c8c06cc-26f8-49d0-a58c-28fba24f6557\", \"categories\": [0], \"series\": [{\"data\": [0.8848797260384818]}]}, {\"name\": \"f1_score_macro\", \"run_id\": \"AutoML_0c8c06cc-26f8-49d0-a58c-28fba24f6557\", \"categories\": [0], \"series\": [{\"data\": [0.37943671044263416]}]}, {\"name\": \"AUC_macro\", \"run_id\": \"AutoML_0c8c06cc-26f8-49d0-a58c-28fba24f6557\", \"categories\": [0], \"series\": [{\"data\": [0.8309055490307218]}]}], \"run_logs\": \"\\nRun is completed.\", \"graph\": {}, \"widget_settings\": {\"childWidgetDisplay\": \"popup\", \"send_telemetry\": false, \"log_level\": \"INFO\", \"sdk_version\": \"1.19.0\"}, \"loading\": false}"
     },
     "metadata": {},
     "output_type": "display_data"
    },
    {
     "name": "stdout",
     "output_type": "stream",
     "text": [
      "\n",
      "\n",
      "****************************************************************************************************\n",
      "DATA GUARDRAILS: \n",
      "\n",
      "TYPE:         Class balancing detection\n",
      "STATUS:       ALERTED\n",
      "DESCRIPTION:  To decrease model bias, please cancel the current run and fix balancing problem.\n",
      "              Learn more about imbalanced data: https://aka.ms/AutomatedMLImbalancedData\n",
      "DETAILS:      Imbalanced data can lead to a falsely perceived positive effect of a model's accuracy because the input data has bias towards one class.\n",
      "+---------------------------------+---------------------------------+--------------------------------------+\n",
      "|Size of the smallest class       |Name/Label of the smallest class |Number of samples in the training data|\n",
      "+=================================+=================================+======================================+\n",
      "|10                               |3                                |1599                                  |\n",
      "+---------------------------------+---------------------------------+--------------------------------------+\n",
      "\n",
      "****************************************************************************************************\n",
      "\n",
      "TYPE:         Missing feature values imputation\n",
      "STATUS:       DONE\n",
      "DESCRIPTION:  If the missing values are expected, let the run complete. Otherwise cancel the current run and use a script to customize the handling of missing feature values that may be more appropriate based on the data type and business requirement.\n",
      "              Learn more about missing value imputation: https://aka.ms/AutomatedMLFeaturization\n",
      "DETAILS:      \n",
      "+---------------------------------+---------------------------------+---------------------------------+\n",
      "|Column name                      |Missing value count              |Imputation type                  |\n",
      "+=================================+=================================+=================================+\n",
      "|free sulfur dioxide              |4                                |mean                             |\n",
      "|total sulfur dioxide             |2                                |mean                             |\n",
      "+---------------------------------+---------------------------------+---------------------------------+\n",
      "\n",
      "****************************************************************************************************\n",
      "\n",
      "TYPE:         High cardinality feature detection\n",
      "STATUS:       PASSED\n",
      "DESCRIPTION:  Your inputs were analyzed, and no high cardinality features were detected.\n",
      "              Learn more about high cardinality feature handling: https://aka.ms/AutomatedMLFeaturization\n",
      "\n",
      "****************************************************************************************************\n",
      "\n",
      "****************************************************************************************************\n",
      "ITERATION: The iteration being evaluated.\n",
      "PIPELINE: A summary description of the pipeline being evaluated.\n",
      "DURATION: Time taken for the current iteration.\n",
      "METRIC: The result of computing score on the fitted pipeline.\n",
      "BEST: The best observed score thus far.\n",
      "****************************************************************************************************\n",
      "\n",
      " ITERATION   PIPELINE                                       DURATION      METRIC      BEST\n",
      "         0   MaxAbsScaler LightGBM                          0:00:56       0.6892    0.6892\n",
      "         1   MaxAbsScaler XGBoostClassifier                 0:00:54       0.6392    0.6892\n",
      "         2   MinMaxScaler RandomForest                      0:03:29       0.6148    0.6892\n",
      "         3   MinMaxScaler RandomForest                      0:00:47       0.6029    0.6892\n",
      "         4   MinMaxScaler RandomForest                      0:00:47       0.5441    0.6892\n",
      "         5   MaxAbsScaler LightGBM                          0:03:29       0.6260    0.6892\n",
      "         6   MaxAbsScaler GradientBoosting                  0:03:25       0.5879    0.6892\n",
      "         7   StandardScalerWrapper XGBoostClassifier        0:00:43       0.6216    0.6892\n",
      "         8   MinMaxScaler SVM                               0:00:50       0.6172    0.6892\n",
      "         9   MaxAbsScaler LightGBM                          0:01:04       0.6123    0.6892\n",
      "        10   MaxAbsScaler GradientBoosting                  0:00:53       0.6129    0.6892\n",
      "        11   SparseNormalizer XGBoostClassifier             0:00:39       0.6310    0.6892\n",
      "        12   SparseNormalizer XGBoostClassifier             0:00:43       0.6398    0.6892\n",
      "        13   SparseNormalizer XGBoostClassifier             0:00:49       0.6323    0.6892\n",
      "        14   RobustScaler RandomForest                      0:00:46       0.5822    0.6892\n",
      "        15   MaxAbsScaler LightGBM                          0:00:37       0.5835    0.6892\n",
      "        16   SparseNormalizer LightGBM                      0:00:51       0.5491    0.6892\n",
      "        17   StandardScalerWrapper RandomForest             0:00:49       0.5979    0.6892\n",
      "        18   MinMaxScaler LightGBM                          0:00:56       0.6135    0.6892\n",
      "        19   SparseNormalizer XGBoostClassifier             0:00:49       0.6223    0.6892\n",
      "        20   StandardScalerWrapper LightGBM                 0:00:44       0.6060    0.6892\n",
      "        21   MinMaxScaler RandomForest                      0:00:54       0.5804    0.6892\n",
      "        22   StandardScalerWrapper LightGBM                 0:00:48       0.6166    0.6892\n",
      "        23   SparseNormalizer XGBoostClassifier             0:01:09       0.6029    0.6892\n",
      "        24   StandardScalerWrapper LightGBM                 0:01:05       0.6010    0.6892\n",
      "        25   StandardScalerWrapper LightGBM                 0:00:42       0.4671    0.6892\n",
      "        26   MaxAbsScaler RandomForest                      0:00:48       0.4146    0.6892\n",
      "        27   StandardScalerWrapper LogisticRegression       0:00:47       0.5879    0.6892\n",
      "        28   MinMaxScaler LogisticRegression                0:00:42       0.5829    0.6892\n",
      "        29   SparseNormalizer XGBoostClassifier             0:00:38       0.5685    0.6892\n",
      "        30   MaxAbsScaler LightGBM                          0:00:45       0.5797    0.6892\n",
      "        31   MaxAbsScaler LightGBM                          0:00:52       0.6266    0.6892\n",
      "        32   StandardScalerWrapper LightGBM                 0:00:42       0.6173    0.6892\n",
      "        33   SparseNormalizer XGBoostClassifier             0:00:39       0.5622    0.6892\n",
      "        34   SparseNormalizer LightGBM                      0:00:42       0.5991    0.6892\n",
      "        35                                                  0:00:13          nan    0.6892\n",
      "        36                                                  0:00:16          nan    0.6892\n",
      "        37                                                  0:00:19          nan    0.6892\n",
      "        38    VotingEnsemble                                0:01:25       0.7017    0.7017\n",
      "        39    StackEnsemble                                 0:04:58       0.6879    0.7017\n"
     ]
    },
    {
     "data": {
      "text/plain": [
       "{'runId': 'AutoML_0c8c06cc-26f8-49d0-a58c-28fba24f6557',\n",
       " 'target': 'auto-ml',\n",
       " 'status': 'Completed',\n",
       " 'startTimeUtc': '2021-01-11T22:59:52.832469Z',\n",
       " 'endTimeUtc': '2021-01-11T23:27:44.110322Z',\n",
       " 'properties': {'num_iterations': '1000',\n",
       "  'training_type': 'TrainFull',\n",
       "  'acquisition_function': 'EI',\n",
       "  'primary_metric': 'accuracy',\n",
       "  'train_split': '0',\n",
       "  'acquisition_parameter': '0',\n",
       "  'num_cross_validation': '4',\n",
       "  'target': 'auto-ml',\n",
       "  'AMLSettingsJsonString': '{\"path\":null,\"name\":\"ml-capstone-1\",\"subscription_id\":\"3d1a56d2-7c81-4118-9790-f85d1acf0c77\",\"resource_group\":\"aml-quickstarts-134390\",\"workspace_name\":\"quick-starts-ws-134390\",\"region\":\"southcentralus\",\"compute_target\":\"auto-ml\",\"spark_service\":null,\"azure_service\":\"remote\",\"many_models\":false,\"pipeline_fetch_max_batch_size\":1,\"iterations\":1000,\"primary_metric\":\"accuracy\",\"task_type\":\"classification\",\"data_script\":null,\"validation_size\":0.0,\"n_cross_validations\":4,\"y_min\":null,\"y_max\":null,\"num_classes\":null,\"featurization\":\"auto\",\"_ignore_package_version_incompatibilities\":false,\"is_timeseries\":false,\"max_cores_per_iteration\":1,\"max_concurrent_iterations\":5,\"iteration_timeout_minutes\":null,\"mem_in_mb\":null,\"enforce_time_on_windows\":false,\"experiment_timeout_minutes\":20,\"experiment_exit_score\":null,\"whitelist_models\":null,\"blacklist_algos\":[\"TensorFlowLinearClassifier\",\"TensorFlowDNN\"],\"supported_models\":[\"LogisticRegression\",\"SGD\",\"KNN\",\"LightGBM\",\"SVM\",\"DecisionTree\",\"TensorFlowDNN\",\"ExtremeRandomTrees\",\"XGBoostClassifier\",\"BernoulliNaiveBayes\",\"RandomForest\",\"GradientBoosting\",\"AveragedPerceptronClassifier\",\"TensorFlowLinearClassifier\",\"LinearSVM\",\"MultinomialNaiveBayes\"],\"auto_blacklist\":true,\"blacklist_samples_reached\":false,\"exclude_nan_labels\":true,\"verbosity\":20,\"_debug_log\":\"azureml_automl.log\",\"show_warnings\":false,\"model_explainability\":true,\"service_url\":null,\"sdk_url\":null,\"sdk_packages\":null,\"enable_onnx_compatible_models\":false,\"enable_split_onnx_featurizer_estimator_models\":false,\"vm_type\":\"STANDARD_D2_V2\",\"telemetry_verbosity\":20,\"send_telemetry\":true,\"enable_dnn\":false,\"scenario\":\"SDK-1.13.0\",\"environment_label\":null,\"force_text_dnn\":false,\"enable_feature_sweeping\":true,\"enable_early_stopping\":true,\"early_stopping_n_iters\":10,\"metrics\":null,\"enable_ensembling\":true,\"enable_stack_ensembling\":true,\"ensemble_iterations\":15,\"enable_tf\":false,\"enable_subsampling\":null,\"subsample_seed\":null,\"enable_nimbusml\":false,\"enable_streaming\":false,\"force_streaming\":false,\"track_child_runs\":true,\"allowed_private_models\":[],\"label_column_name\":\"quality\",\"weight_column_name\":null,\"cv_split_column_names\":null,\"enable_local_managed\":false,\"_local_managed_run_id\":null,\"cost_mode\":1,\"lag_length\":0,\"metric_operation\":\"maximize\",\"preprocess\":true}',\n",
       "  'DataPrepJsonString': '{\\\\\"training_data\\\\\": \\\\\"{\\\\\\\\\\\\\"blocks\\\\\\\\\\\\\": [{\\\\\\\\\\\\\"id\\\\\\\\\\\\\": \\\\\\\\\\\\\"19fc4c2f-b2d3-42c6-b48a-22116aeb6733\\\\\\\\\\\\\", \\\\\\\\\\\\\"type\\\\\\\\\\\\\": \\\\\\\\\\\\\"Microsoft.DPrep.GetDatastoreFilesBlock\\\\\\\\\\\\\", \\\\\\\\\\\\\"arguments\\\\\\\\\\\\\": {\\\\\\\\\\\\\"datastores\\\\\\\\\\\\\": [{\\\\\\\\\\\\\"datastoreName\\\\\\\\\\\\\": \\\\\\\\\\\\\"workspaceblobstore\\\\\\\\\\\\\", \\\\\\\\\\\\\"path\\\\\\\\\\\\\": \\\\\\\\\\\\\"UI/01-11-2021_094414_UTC/winequality-red.csv\\\\\\\\\\\\\", \\\\\\\\\\\\\"resourceGroup\\\\\\\\\\\\\": \\\\\\\\\\\\\"aml-quickstarts-134390\\\\\\\\\\\\\", \\\\\\\\\\\\\"subscription\\\\\\\\\\\\\": \\\\\\\\\\\\\"3d1a56d2-7c81-4118-9790-f85d1acf0c77\\\\\\\\\\\\\", \\\\\\\\\\\\\"workspaceName\\\\\\\\\\\\\": \\\\\\\\\\\\\"quick-starts-ws-134390\\\\\\\\\\\\\"}]}, \\\\\\\\\\\\\"localData\\\\\\\\\\\\\": {}, \\\\\\\\\\\\\"isEnabled\\\\\\\\\\\\\": true, \\\\\\\\\\\\\"name\\\\\\\\\\\\\": null, \\\\\\\\\\\\\"annotation\\\\\\\\\\\\\": null}, {\\\\\\\\\\\\\"id\\\\\\\\\\\\\": \\\\\\\\\\\\\"51c47664-0ba9-4545-b2af-3a2615d163ea\\\\\\\\\\\\\", \\\\\\\\\\\\\"type\\\\\\\\\\\\\": \\\\\\\\\\\\\"Microsoft.DPrep.ParseDelimitedBlock\\\\\\\\\\\\\", \\\\\\\\\\\\\"arguments\\\\\\\\\\\\\": {\\\\\\\\\\\\\"columnHeadersMode\\\\\\\\\\\\\": 1, \\\\\\\\\\\\\"fileEncoding\\\\\\\\\\\\\": 0, \\\\\\\\\\\\\"handleQuotedLineBreaks\\\\\\\\\\\\\": false, \\\\\\\\\\\\\"preview\\\\\\\\\\\\\": false, \\\\\\\\\\\\\"separator\\\\\\\\\\\\\": \\\\\\\\\\\\\";\\\\\\\\\\\\\", \\\\\\\\\\\\\"skipRows\\\\\\\\\\\\\": 0, \\\\\\\\\\\\\"skipRowsMode\\\\\\\\\\\\\": 0}, \\\\\\\\\\\\\"localData\\\\\\\\\\\\\": {}, \\\\\\\\\\\\\"isEnabled\\\\\\\\\\\\\": true, \\\\\\\\\\\\\"name\\\\\\\\\\\\\": null, \\\\\\\\\\\\\"annotation\\\\\\\\\\\\\": null}, {\\\\\\\\\\\\\"id\\\\\\\\\\\\\": \\\\\\\\\\\\\"8126dbd5-ca30-469f-bc4b-e3054843fd16\\\\\\\\\\\\\", \\\\\\\\\\\\\"type\\\\\\\\\\\\\": \\\\\\\\\\\\\"Microsoft.DPrep.DropColumnsBlock\\\\\\\\\\\\\", \\\\\\\\\\\\\"arguments\\\\\\\\\\\\\": {\\\\\\\\\\\\\"columns\\\\\\\\\\\\\": {\\\\\\\\\\\\\"type\\\\\\\\\\\\\": 0, \\\\\\\\\\\\\"details\\\\\\\\\\\\\": {\\\\\\\\\\\\\"selectedColumns\\\\\\\\\\\\\": [\\\\\\\\\\\\\"Path\\\\\\\\\\\\\"]}}}, \\\\\\\\\\\\\"localData\\\\\\\\\\\\\": {}, \\\\\\\\\\\\\"isEnabled\\\\\\\\\\\\\": true, \\\\\\\\\\\\\"name\\\\\\\\\\\\\": null, \\\\\\\\\\\\\"annotation\\\\\\\\\\\\\": null}, {\\\\\\\\\\\\\"id\\\\\\\\\\\\\": \\\\\\\\\\\\\"70bb287a-9752-46f0-9d6a-e5cd0f21652d\\\\\\\\\\\\\", \\\\\\\\\\\\\"type\\\\\\\\\\\\\": \\\\\\\\\\\\\"Microsoft.DPrep.SetColumnTypesBlock\\\\\\\\\\\\\", \\\\\\\\\\\\\"arguments\\\\\\\\\\\\\": {\\\\\\\\\\\\\"columnConversion\\\\\\\\\\\\\": [{\\\\\\\\\\\\\"column\\\\\\\\\\\\\": {\\\\\\\\\\\\\"type\\\\\\\\\\\\\": 2, \\\\\\\\\\\\\"details\\\\\\\\\\\\\": {\\\\\\\\\\\\\"selectedColumn\\\\\\\\\\\\\": \\\\\\\\\\\\\"Path\\\\\\\\\\\\\"}}, \\\\\\\\\\\\\"typeProperty\\\\\\\\\\\\\": 0}, {\\\\\\\\\\\\\"column\\\\\\\\\\\\\": {\\\\\\\\\\\\\"type\\\\\\\\\\\\\": 2, \\\\\\\\\\\\\"details\\\\\\\\\\\\\": {\\\\\\\\\\\\\"selectedColumn\\\\\\\\\\\\\": \\\\\\\\\\\\\"fixed acidity\\\\\\\\\\\\\"}}, \\\\\\\\\\\\\"typeProperty\\\\\\\\\\\\\": 3}, {\\\\\\\\\\\\\"column\\\\\\\\\\\\\": {\\\\\\\\\\\\\"type\\\\\\\\\\\\\": 2, \\\\\\\\\\\\\"details\\\\\\\\\\\\\": {\\\\\\\\\\\\\"selectedColumn\\\\\\\\\\\\\": \\\\\\\\\\\\\"volatile acidity\\\\\\\\\\\\\"}}, \\\\\\\\\\\\\"typeProperty\\\\\\\\\\\\\": 3}, {\\\\\\\\\\\\\"column\\\\\\\\\\\\\": {\\\\\\\\\\\\\"type\\\\\\\\\\\\\": 2, \\\\\\\\\\\\\"details\\\\\\\\\\\\\": {\\\\\\\\\\\\\"selectedColumn\\\\\\\\\\\\\": \\\\\\\\\\\\\"citric acid\\\\\\\\\\\\\"}}, \\\\\\\\\\\\\"typeProperty\\\\\\\\\\\\\": 3}, {\\\\\\\\\\\\\"column\\\\\\\\\\\\\": {\\\\\\\\\\\\\"type\\\\\\\\\\\\\": 2, \\\\\\\\\\\\\"details\\\\\\\\\\\\\": {\\\\\\\\\\\\\"selectedColumn\\\\\\\\\\\\\": \\\\\\\\\\\\\"residual sugar\\\\\\\\\\\\\"}}, \\\\\\\\\\\\\"typeProperty\\\\\\\\\\\\\": 3}, {\\\\\\\\\\\\\"column\\\\\\\\\\\\\": {\\\\\\\\\\\\\"type\\\\\\\\\\\\\": 2, \\\\\\\\\\\\\"details\\\\\\\\\\\\\": {\\\\\\\\\\\\\"selectedColumn\\\\\\\\\\\\\": \\\\\\\\\\\\\"chlorides\\\\\\\\\\\\\"}}, \\\\\\\\\\\\\"typeProperty\\\\\\\\\\\\\": 3}, {\\\\\\\\\\\\\"column\\\\\\\\\\\\\": {\\\\\\\\\\\\\"type\\\\\\\\\\\\\": 2, \\\\\\\\\\\\\"details\\\\\\\\\\\\\": {\\\\\\\\\\\\\"selectedColumn\\\\\\\\\\\\\": \\\\\\\\\\\\\"free sulfur dioxide\\\\\\\\\\\\\"}}, \\\\\\\\\\\\\"typeProperty\\\\\\\\\\\\\": 2}, {\\\\\\\\\\\\\"column\\\\\\\\\\\\\": {\\\\\\\\\\\\\"type\\\\\\\\\\\\\": 2, \\\\\\\\\\\\\"details\\\\\\\\\\\\\": {\\\\\\\\\\\\\"selectedColumn\\\\\\\\\\\\\": \\\\\\\\\\\\\"total sulfur dioxide\\\\\\\\\\\\\"}}, \\\\\\\\\\\\\"typeProperty\\\\\\\\\\\\\": 2}, {\\\\\\\\\\\\\"column\\\\\\\\\\\\\": {\\\\\\\\\\\\\"type\\\\\\\\\\\\\": 2, \\\\\\\\\\\\\"details\\\\\\\\\\\\\": {\\\\\\\\\\\\\"selectedColumn\\\\\\\\\\\\\": \\\\\\\\\\\\\"density\\\\\\\\\\\\\"}}, \\\\\\\\\\\\\"typeProperty\\\\\\\\\\\\\": 3}, {\\\\\\\\\\\\\"column\\\\\\\\\\\\\": {\\\\\\\\\\\\\"type\\\\\\\\\\\\\": 2, \\\\\\\\\\\\\"details\\\\\\\\\\\\\": {\\\\\\\\\\\\\"selectedColumn\\\\\\\\\\\\\": \\\\\\\\\\\\\"pH\\\\\\\\\\\\\"}}, \\\\\\\\\\\\\"typeProperty\\\\\\\\\\\\\": 3}, {\\\\\\\\\\\\\"column\\\\\\\\\\\\\": {\\\\\\\\\\\\\"type\\\\\\\\\\\\\": 2, \\\\\\\\\\\\\"details\\\\\\\\\\\\\": {\\\\\\\\\\\\\"selectedColumn\\\\\\\\\\\\\": \\\\\\\\\\\\\"sulphates\\\\\\\\\\\\\"}}, \\\\\\\\\\\\\"typeProperty\\\\\\\\\\\\\": 3}, {\\\\\\\\\\\\\"column\\\\\\\\\\\\\": {\\\\\\\\\\\\\"type\\\\\\\\\\\\\": 2, \\\\\\\\\\\\\"details\\\\\\\\\\\\\": {\\\\\\\\\\\\\"selectedColumn\\\\\\\\\\\\\": \\\\\\\\\\\\\"alcohol\\\\\\\\\\\\\"}}, \\\\\\\\\\\\\"typeProperty\\\\\\\\\\\\\": 3}, {\\\\\\\\\\\\\"column\\\\\\\\\\\\\": {\\\\\\\\\\\\\"type\\\\\\\\\\\\\": 2, \\\\\\\\\\\\\"details\\\\\\\\\\\\\": {\\\\\\\\\\\\\"selectedColumn\\\\\\\\\\\\\": \\\\\\\\\\\\\"quality\\\\\\\\\\\\\"}}, \\\\\\\\\\\\\"typeProperty\\\\\\\\\\\\\": 2}]}, \\\\\\\\\\\\\"localData\\\\\\\\\\\\\": {}, \\\\\\\\\\\\\"isEnabled\\\\\\\\\\\\\": true, \\\\\\\\\\\\\"name\\\\\\\\\\\\\": null, \\\\\\\\\\\\\"annotation\\\\\\\\\\\\\": null}], \\\\\\\\\\\\\"inspectors\\\\\\\\\\\\\": [], \\\\\\\\\\\\\"meta\\\\\\\\\\\\\": {\\\\\\\\\\\\\"savedDatasetId\\\\\\\\\\\\\": \\\\\\\\\\\\\"0c9849f5-79aa-4bf7-9e03-58fe48c17da7\\\\\\\\\\\\\", \\\\\\\\\\\\\"datasetType\\\\\\\\\\\\\": \\\\\\\\\\\\\"tabular\\\\\\\\\\\\\", \\\\\\\\\\\\\"subscriptionId\\\\\\\\\\\\\": \\\\\\\\\\\\\"3d1a56d2-7c81-4118-9790-f85d1acf0c77\\\\\\\\\\\\\", \\\\\\\\\\\\\"workspaceId\\\\\\\\\\\\\": \\\\\\\\\\\\\"8eedd800-6402-4069-9246-2d37b5ecd289\\\\\\\\\\\\\", \\\\\\\\\\\\\"workspaceLocation\\\\\\\\\\\\\": \\\\\\\\\\\\\"southcentralus\\\\\\\\\\\\\"}}\\\\\", \\\\\"activities\\\\\": 0}',\n",
       "  'EnableSubsampling': None,\n",
       "  'runTemplate': 'AutoML',\n",
       "  'azureml.runsource': 'automl',\n",
       "  'display_task_type': 'classification',\n",
       "  'dependencies_versions': '{\"azureml-widgets\": \"1.19.0\", \"azureml-train\": \"1.19.0\", \"azureml-train-restclients-hyperdrive\": \"1.19.0\", \"azureml-train-core\": \"1.19.0\", \"azureml-train-automl\": \"1.19.0\", \"azureml-train-automl-runtime\": \"1.19.0\", \"azureml-train-automl-client\": \"1.19.0\", \"azureml-tensorboard\": \"1.19.0\", \"azureml-telemetry\": \"1.19.0\", \"azureml-sdk\": \"1.19.0\", \"azureml-samples\": \"0+unknown\", \"azureml-pipeline\": \"1.19.0\", \"azureml-pipeline-steps\": \"1.19.0\", \"azureml-pipeline-core\": \"1.19.0\", \"azureml-opendatasets\": \"1.19.0\", \"azureml-model-management-sdk\": \"1.0.1b6.post1\", \"azureml-mlflow\": \"1.19.0\", \"azureml-interpret\": \"1.19.0\", \"azureml-explain-model\": \"1.19.0\", \"azureml-defaults\": \"1.19.0\", \"azureml-dataset-runtime\": \"1.19.0\", \"azureml-dataprep\": \"2.6.1\", \"azureml-dataprep-rslex\": \"1.4.0\", \"azureml-dataprep-native\": \"26.0.0\", \"azureml-datadrift\": \"1.19.0\", \"azureml-core\": \"1.19.0\", \"azureml-contrib-services\": \"1.19.0\", \"azureml-contrib-server\": \"1.19.0\", \"azureml-contrib-reinforcementlearning\": \"1.19.0\", \"azureml-contrib-pipeline-steps\": \"1.19.0\", \"azureml-contrib-notebook\": \"1.19.0\", \"azureml-contrib-interpret\": \"1.19.0\", \"azureml-contrib-gbdt\": \"1.19.0\", \"azureml-contrib-fairness\": \"1.19.0\", \"azureml-contrib-dataset\": \"1.19.0\", \"azureml-cli-common\": \"1.19.0\", \"azureml-automl-runtime\": \"1.19.0\", \"azureml-automl-core\": \"1.19.0\", \"azureml-accel-models\": \"1.19.0\"}',\n",
       "  '_aml_system_scenario_identification': 'Remote.Parent',\n",
       "  'ClientType': 'SDK',\n",
       "  'environment_cpu_name': 'AzureML-AutoML',\n",
       "  'environment_cpu_label': 'prod',\n",
       "  'environment_gpu_name': 'AzureML-AutoML-GPU',\n",
       "  'environment_gpu_label': 'prod',\n",
       "  'root_attribution': 'automl',\n",
       "  'attribution': 'AutoML',\n",
       "  'Orchestrator': 'AutoML',\n",
       "  'CancelUri': 'https://southcentralus.experiments.azureml.net/jasmine/v1.0/subscriptions/3d1a56d2-7c81-4118-9790-f85d1acf0c77/resourceGroups/aml-quickstarts-134390/providers/Microsoft.MachineLearningServices/workspaces/quick-starts-ws-134390/experimentids/485a13d8-7958-4c7f-8ef7-15271feefeb1/cancel/AutoML_0c8c06cc-26f8-49d0-a58c-28fba24f6557',\n",
       "  'ClientSdkVersion': '1.19.0',\n",
       "  'snapshotId': '00000000-0000-0000-0000-000000000000',\n",
       "  'SetupRunId': 'AutoML_0c8c06cc-26f8-49d0-a58c-28fba24f6557_setup',\n",
       "  'SetupRunContainerId': 'dcid.AutoML_0c8c06cc-26f8-49d0-a58c-28fba24f6557_setup',\n",
       "  'FeaturizationRunJsonPath': 'featurizer_container.json',\n",
       "  'FeaturizationRunId': 'AutoML_0c8c06cc-26f8-49d0-a58c-28fba24f6557_featurize',\n",
       "  'ProblemInfoJsonString': '{\"dataset_num_categorical\": 0, \"is_sparse\": false, \"subsampling\": false, \"dataset_classes\": 6, \"dataset_features\": 11, \"dataset_samples\": 1599, \"single_frequency_class_detected\": false}',\n",
       "  'ModelExplainRunId': 'AutoML_0c8c06cc-26f8-49d0-a58c-28fba24f6557_ModelExplain'},\n",
       " 'inputDatasets': [{'dataset': {'id': '0c9849f5-79aa-4bf7-9e03-58fe48c17da7'}, 'consumptionDetails': {'type': 'RunInput', 'inputName': 'training_data', 'mechanism': 'Direct'}}],\n",
       " 'outputDatasets': [],\n",
       " 'logFiles': {}}"
      ]
     },
     "execution_count": 13,
     "metadata": {},
     "output_type": "execute_result"
    }
   ],
   "source": [
    "#View more details from running cell\n",
    "from azureml.widgets import RunDetails\n",
    "\n",
    "RunDetails(automl_run).show()\n",
    "automl_run.wait_for_completion(show_output=True)"
   ]
  },
  {
   "cell_type": "markdown",
   "metadata": {},
   "source": [
    "## Best Model\n",
    "\n",
    "TODO: In the cell below, get the best model from the automl experiments and display all the properties of the model.\n",
    "\n"
   ]
  },
  {
   "cell_type": "code",
   "execution_count": 27,
   "metadata": {
    "gather": {
     "logged": 1598431426111
    },
    "jupyter": {
     "outputs_hidden": false,
     "source_hidden": false
    },
    "nteract": {
     "transient": {
      "deleting": false
     }
    }
   },
   "outputs": [
    {
     "name": "stdout",
     "output_type": "stream",
     "text": [
      "Run(Experiment: ml-capstone-1,\n",
      "Id: AutoML_0c8c06cc-26f8-49d0-a58c-28fba24f6557_38,\n",
      "Type: azureml.scriptrun,\n",
      "Status: Completed)\n"
     ]
    }
   ],
   "source": [
    "#TODO: Save the best model\n",
    "# Retrieve and save your best automl model.\n",
    "#Validate highest performance Model\n",
    "\n",
    "best_run, best_model =automl_run.get_output()\n",
    "print(best_run)"
   ]
  },
  {
   "cell_type": "code",
   "execution_count": 28,
   "metadata": {},
   "outputs": [
    {
     "name": "stdout",
     "output_type": "stream",
     "text": [
      "Pipeline(memory=None,\n",
      "         steps=[('datatransformer',\n",
      "                 DataTransformer(enable_dnn=None, enable_feature_sweeping=None,\n",
      "                                 feature_sweeping_config=None,\n",
      "                                 feature_sweeping_timeout=None,\n",
      "                                 featurization_config=None, force_text_dnn=None,\n",
      "                                 is_cross_validation=None,\n",
      "                                 is_onnx_compatible=None, logger=None,\n",
      "                                 observer=None, task=None, working_dir=None)),\n",
      "                ('prefittedsoftvotingclassifier',...\n",
      "                                                                                               nthread=None,\n",
      "                                                                                               objective='multi:softprob',\n",
      "                                                                                               random_state=0,\n",
      "                                                                                               reg_alpha=2.5,\n",
      "                                                                                               reg_lambda=1.5625,\n",
      "                                                                                               scale_pos_weight=1,\n",
      "                                                                                               seed=None,\n",
      "                                                                                               silent=None,\n",
      "                                                                                               subsample=1,\n",
      "                                                                                               tree_method='auto',\n",
      "                                                                                               verbose=-10,\n",
      "                                                                                               verbosity=0))],\n",
      "                                                                     verbose=False))],\n",
      "                                               flatten_transform=None,\n",
      "                                               weights=[0.45454545454545453,\n",
      "                                                        0.09090909090909091,\n",
      "                                                        0.2727272727272727,\n",
      "                                                        0.09090909090909091,\n",
      "                                                        0.09090909090909091]))],\n",
      "         verbose=False)\n"
     ]
    }
   ],
   "source": [
    "print(best_model)"
   ]
  },
  {
   "cell_type": "code",
   "execution_count": 29,
   "metadata": {},
   "outputs": [
    {
     "data": {
      "text/plain": [
       "{'accuracy': 0.701702694235589}"
      ]
     },
     "execution_count": 29,
     "metadata": {},
     "output_type": "execute_result"
    }
   ],
   "source": [
    "automl_run.get_metrics('accuracy')"
   ]
  },
  {
   "cell_type": "code",
   "execution_count": 30,
   "metadata": {},
   "outputs": [
    {
     "name": "stdout",
     "output_type": "stream",
     "text": [
      "https://ml.azure.com/experiments/ml-capstone-1/runs/AutoML_0c8c06cc-26f8-49d0-a58c-28fba24f6557?wsid=/subscriptions/3d1a56d2-7c81-4118-9790-f85d1acf0c77/resourcegroups/aml-quickstarts-134390/workspaces/quick-starts-ws-134390\n"
     ]
    }
   ],
   "source": [
    "print(automl_run.get_portal_url())"
   ]
  },
  {
   "cell_type": "code",
   "execution_count": 45,
   "metadata": {},
   "outputs": [
    {
     "data": {
      "text/plain": [
       "Model(workspace=Workspace.create(name='quick-starts-ws-134390', subscription_id='3d1a56d2-7c81-4118-9790-f85d1acf0c77', resource_group='aml-quickstarts-134390'), name=best_automl_run.pkl, id=best_automl_run.pkl:8, version=8, tags={}, properties={})"
      ]
     },
     "execution_count": 45,
     "metadata": {},
     "output_type": "execute_result"
    }
   ],
   "source": [
    "#SAVE model\n",
    "import joblib\n",
    "\n",
    "#model=best_run.register_model('best_model', model_path='outputs/model.joblib')\n",
    "best_run.register_model(model_name =\"best_automl_run.pkl\", model_path ='./')"
   ]
  },
  {
   "cell_type": "markdown",
   "metadata": {},
   "source": [
    "## Model Deployment\n",
    "\n",
    "Remember you have to deploy only one of the two models you trained.. Perform the steps in the rest of this notebook only if you wish to deploy this model.\n",
    "\n",
    "TODO: In the cell below, register the model, create an inference config and deploy the model as a web service."
   ]
  },
  {
   "cell_type": "code",
   "execution_count": 49,
   "metadata": {
    "gather": {
     "logged": 1598431435189
    },
    "jupyter": {
     "outputs_hidden": false,
     "source_hidden": false
    },
    "nteract": {
     "transient": {
      "deleting": false
     }
    }
   },
   "outputs": [
    {
     "name": "stdout",
     "output_type": "stream",
     "text": [
      "Registering model best_automl_run.pkl\n",
      "best_automl_run.pkl\tbest_automl_run.pkl:11\t11\n"
     ]
    }
   ],
   "source": [
    "#Register a model\n",
    "\n",
    "\n",
    "model = Model.register(workspace =ws, model_path= './', model_name='best_automl_run.pkl')\n",
    "best_run.download_file(constants.CONDA_ENV_FILE_PATH, 'myenv.yml')\n",
    "print(model.name, model.id, model.version, sep='\\t')"
   ]
  },
  {
   "cell_type": "markdown",
   "metadata": {
    "collapsed": true,
    "gather": {
     "logged": 1598431657736
    },
    "jupyter": {
     "outputs_hidden": false,
     "source_hidden": false
    },
    "nteract": {
     "transient": {
      "deleting": false
     }
    }
   },
   "source": [
    "TODO: In the cell below, send a request to the web service you deployed to test it."
   ]
  },
  {
   "cell_type": "code",
   "execution_count": null,
   "metadata": {
    "gather": {
     "logged": 1598432707604
    },
    "jupyter": {
     "outputs_hidden": false,
     "source_hidden": false
    },
    "nteract": {
     "transient": {
      "deleting": false
     }
    }
   },
   "outputs": [
    {
     "name": "stdout",
     "output_type": "stream",
     "text": [
      "Tips: You can try get_logs(): https://aka.ms/debugimage#dockerlog or local deployment: https://aka.ms/debugimage#debug-locally to debug if deployment takes longer than 10 minutes.\n",
      "Running............................................................."
     ]
    }
   ],
   "source": [
    "env = Environment.from_conda_specification(name=\"myenv\",file_path=\"myenv.yml\")\n",
    "inferencefinal = InferenceConfig(entry_script='score.py',environment=env) \n",
    "\n",
    "aci_config = AciWebservice.deploy_configuration(cpu_cores=1,auth_enabled=True,memory_gb=1,\n",
    "    tags = {'name':'deployment'},\n",
    "    description='Quality Portuguese red wine')\n",
    "service = Model.deploy(workspace=ws,name='demo-deploy', models=[model], inference_config=inferencefinal, deployment_config=aci_config)\n",
    "service.wait_for_deployment(show_output = True)"
   ]
  },
  {
   "cell_type": "markdown",
   "metadata": {
    "collapsed": true,
    "gather": {
     "logged": 1598432765711
    },
    "jupyter": {
     "outputs_hidden": false,
     "source_hidden": false
    },
    "nteract": {
     "transient": {
      "deleting": false
     }
    }
   },
   "source": [
    "TODO: In the cell below, print the logs of the web service and delete the service"
   ]
  },
  {
   "cell_type": "code",
   "execution_count": null,
   "metadata": {
    "jupyter": {
     "outputs_hidden": false,
     "source_hidden": false
    },
    "nteract": {
     "transient": {
      "deleting": false
     }
    }
   },
   "outputs": [],
   "source": []
  }
 ],
 "metadata": {
  "kernel_info": {
   "name": "python3-azureml"
  },
  "kernelspec": {
   "display_name": "Python 3",
   "language": "python",
   "name": "python3"
  },
  "language_info": {
   "codemirror_mode": {
    "name": "ipython",
    "version": 3
   },
   "file_extension": ".py",
   "mimetype": "text/x-python",
   "name": "python",
   "nbconvert_exporter": "python",
   "pygments_lexer": "ipython3",
   "version": "3.6.9"
  },
  "nteract": {
   "version": "nteract-front-end@1.0.0"
  }
 },
 "nbformat": 4,
 "nbformat_minor": 2
}
