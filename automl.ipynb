{
 "cells": [
  {
   "cell_type": "markdown",
   "metadata": {},
   "source": [
    "# Automated ML\n",
    "\n",
    "TODO: Import Dependencies. In the cell below, import all the dependencies that you will need to complete the project."
   ]
  },
  {
   "cell_type": "code",
   "execution_count": 1,
   "metadata": {
    "gather": {
     "logged": 1598423888013
    },
    "jupyter": {
     "outputs_hidden": false,
     "source_hidden": false
    },
    "nteract": {
     "transient": {
      "deleting": false
     }
    }
   },
   "outputs": [
    {
     "name": "stdout",
     "output_type": "stream",
     "text": [
      "SDK version: 1.20.0\n"
     ]
    }
   ],
   "source": [
    "import logging\n",
    "import os\n",
    "import csv\n",
    "\n",
    "from matplotlib import pyplot as plt\n",
    "import numpy as np\n",
    "import pandas as pd\n",
    "from sklearn import datasets\n",
    "import pkg_resources\n",
    "\n",
    "import azureml.core\n",
    "from azureml.core.experiment import Experiment\n",
    "from azureml.core.workspace import Workspace\n",
    "from azureml.core.model import Model\n",
    "from azureml.core.experiment import Experiment\n",
    "from azureml.train.automl import AutoMLConfig\n",
    "from azureml.core.dataset import Dataset\n",
    "from azureml.core.environment import Environment\n",
    "from azureml.core.model import InferenceConfig\n",
    "from azureml.core.webservice import LocalWebservice, AciWebservice\n",
    "import json\n",
    "import numpy as np\n",
    "from azureml.automl.core.shared import constants\n",
    "\n",
    "import joblib \n",
    "import azureml.automl\n",
    "from azureml.pipeline.core import PipelineData, TrainingOutput\n",
    "from azureml.pipeline.core import Pipeline\n",
    "import pickle\n",
    "from azureml.core.conda_dependencies import CondaDependencies\n",
    "from azureml.core.webservice import Webservice, AciWebservice\n",
    "\n",
    "import requests\n",
    "import json\n",
    "\n",
    "\n",
    "\n",
    "from azureml.core.compute import ComputeTarget\n",
    "from azureml.core.compute_target import ComputeTargetException\n",
    "from azureml.data.dataset_factory import TabularDatasetFactory\n",
    "from sklearn.model_selection import train_test_split\n",
    "\n",
    "\n",
    "\n",
    "from azureml.pipeline.steps import AutoMLStep\n",
    "\n",
    "# Check core SDK version number\n",
    "print(\"SDK version:\", azureml.core.VERSION)"
   ]
  },
  {
   "cell_type": "markdown",
   "metadata": {},
   "source": [
    "## Dataset\n",
    "\n",
    "### Overview\n",
    "TODO: In this markdown cell, give an overview of the dataset you are using. Also mention the task you will be performing.\n",
    "\n",
    "\n",
    "TODO: Get data. In the cell below, write code to access the data you will be using in this project. Remember that the dataset needs to be external."
   ]
  },
  {
   "cell_type": "code",
   "execution_count": 2,
   "metadata": {},
   "outputs": [
    {
     "name": "stdout",
     "output_type": "stream",
     "text": [
      "quick-starts-ws-136423\n",
      "aml-quickstarts-136423\n",
      "southcentralus\n",
      "5a4ab2ba-6c51-4805-8155-58759ad589d8\n"
     ]
    }
   ],
   "source": [
    "ws = Workspace.from_config()\n",
    "print(ws.name, ws.resource_group, ws.location, ws.subscription_id, sep = '\\n')"
   ]
  },
  {
   "cell_type": "code",
   "execution_count": 3,
   "metadata": {
    "gather": {
     "logged": 1598423890461
    },
    "jupyter": {
     "outputs_hidden": false,
     "source_hidden": false
    },
    "nteract": {
     "transient": {
      "deleting": false
     }
    }
   },
   "outputs": [
    {
     "data": {
      "text/html": [
       "<table style=\"width:100%\"><tr><th>Name</th><th>Workspace</th><th>Report Page</th><th>Docs Page</th></tr><tr><td>ml-capstone-1</td><td>quick-starts-ws-136423</td><td><a href=\"https://ml.azure.com/experiments/ml-capstone-1?wsid=/subscriptions/5a4ab2ba-6c51-4805-8155-58759ad589d8/resourcegroups/aml-quickstarts-136423/workspaces/quick-starts-ws-136423\" target=\"_blank\" rel=\"noopener\">Link to Azure Machine Learning studio</a></td><td><a href=\"https://docs.microsoft.com/en-us/python/api/azureml-core/azureml.core.experiment.Experiment?view=azure-ml-py\" target=\"_blank\" rel=\"noopener\">Link to Documentation</a></td></tr></table>"
      ],
      "text/plain": [
       "Experiment(Name: ml-capstone-1,\n",
       "Workspace: quick-starts-ws-136423)"
      ]
     },
     "execution_count": 3,
     "metadata": {},
     "output_type": "execute_result"
    }
   ],
   "source": [
    "# Choose a name for the run history container in the workspace.\n",
    "# NOTE: update these to match your existing experiment name\n",
    "experiment_name = 'ml-capstone-1'\n",
    "project_folder = './capstone-project'\n",
    "\n",
    "experiment = Experiment(ws, experiment_name)\n",
    "experiment"
   ]
  },
  {
   "cell_type": "code",
   "execution_count": 4,
   "metadata": {},
   "outputs": [
    {
     "name": "stdout",
     "output_type": "stream",
     "text": [
      "Creating\n",
      "Succeeded...............................................................................................................\n",
      "AmlCompute wait for completion finished\n",
      "\n",
      "Wait timeout has been reached\n",
      "Current provisioning state of AmlCompute is \"Succeeded\" and current node count is \"0\"\n"
     ]
    }
   ],
   "source": [
    "#Create or Attach an AmlCompute cluster\n",
    "\n",
    "from azureml.core.compute import AmlCompute\n",
    "from azureml.core.compute import ComputeTarget\n",
    "from azureml.core.compute_target import ComputeTargetException\n",
    "\n",
    "# NOTE: update the cluster name to match the existing cluster\n",
    "# Choose a name for your CPU cluster\n",
    "amlcompute_cluster_name = \"auto-ml\"\n",
    "\n",
    "# Verify that cluster does not exist already\n",
    "try:\n",
    "    compute_target = ComputeTarget(workspace=ws, name=amlcompute_cluster_name)\n",
    "    print('Found existing cluster, use it.')\n",
    "except ComputeTargetException:\n",
    "    compute_config = AmlCompute.provisioning_configuration(vm_size='STANDARD_D2_V2',# for GPU, use \"STANDARD_NC6\"\n",
    "                                                           #vm_priority = 'lowpriority', # optional\n",
    "                                                           max_nodes=4)\n",
    "    compute_target = ComputeTarget.create(ws, amlcompute_cluster_name, compute_config)\n",
    "\n",
    "compute_target.wait_for_completion(show_output=True, min_node_count = 1, timeout_in_minutes = 10)\n",
    "# For a more detailed view of current AmlCompute status, use get_status()."
   ]
  },
  {
   "cell_type": "code",
   "execution_count": 5,
   "metadata": {},
   "outputs": [
    {
     "data": {
      "text/html": [
       "<div>\n",
       "<style scoped>\n",
       "    .dataframe tbody tr th:only-of-type {\n",
       "        vertical-align: middle;\n",
       "    }\n",
       "\n",
       "    .dataframe tbody tr th {\n",
       "        vertical-align: top;\n",
       "    }\n",
       "\n",
       "    .dataframe thead th {\n",
       "        text-align: right;\n",
       "    }\n",
       "</style>\n",
       "<table border=\"1\" class=\"dataframe\">\n",
       "  <thead>\n",
       "    <tr style=\"text-align: right;\">\n",
       "      <th></th>\n",
       "      <th>fixed acidity</th>\n",
       "      <th>volatile acidity</th>\n",
       "      <th>citric acid</th>\n",
       "      <th>residual sugar</th>\n",
       "      <th>chlorides</th>\n",
       "      <th>free sulfur dioxide</th>\n",
       "      <th>total sulfur dioxide</th>\n",
       "      <th>density</th>\n",
       "      <th>pH</th>\n",
       "      <th>sulphates</th>\n",
       "      <th>alcohol</th>\n",
       "      <th>quality</th>\n",
       "    </tr>\n",
       "  </thead>\n",
       "  <tbody>\n",
       "    <tr>\n",
       "      <th>count</th>\n",
       "      <td>1599.000000</td>\n",
       "      <td>1599.000000</td>\n",
       "      <td>1599.000000</td>\n",
       "      <td>1599.000000</td>\n",
       "      <td>1599.000000</td>\n",
       "      <td>1595.000000</td>\n",
       "      <td>1597.000000</td>\n",
       "      <td>1599.000000</td>\n",
       "      <td>1599.000000</td>\n",
       "      <td>1599.000000</td>\n",
       "      <td>1599.000000</td>\n",
       "      <td>1599.000000</td>\n",
       "    </tr>\n",
       "    <tr>\n",
       "      <th>mean</th>\n",
       "      <td>8.319637</td>\n",
       "      <td>0.527821</td>\n",
       "      <td>0.270976</td>\n",
       "      <td>2.538806</td>\n",
       "      <td>0.087467</td>\n",
       "      <td>15.838871</td>\n",
       "      <td>46.428929</td>\n",
       "      <td>0.996747</td>\n",
       "      <td>3.311113</td>\n",
       "      <td>0.658149</td>\n",
       "      <td>10.422983</td>\n",
       "      <td>5.636023</td>\n",
       "    </tr>\n",
       "    <tr>\n",
       "      <th>std</th>\n",
       "      <td>1.741096</td>\n",
       "      <td>0.179060</td>\n",
       "      <td>0.194801</td>\n",
       "      <td>1.409928</td>\n",
       "      <td>0.047065</td>\n",
       "      <td>10.423696</td>\n",
       "      <td>32.897570</td>\n",
       "      <td>0.001887</td>\n",
       "      <td>0.154386</td>\n",
       "      <td>0.169507</td>\n",
       "      <td>1.065668</td>\n",
       "      <td>0.807569</td>\n",
       "    </tr>\n",
       "    <tr>\n",
       "      <th>min</th>\n",
       "      <td>4.600000</td>\n",
       "      <td>0.120000</td>\n",
       "      <td>0.000000</td>\n",
       "      <td>0.900000</td>\n",
       "      <td>0.012000</td>\n",
       "      <td>1.000000</td>\n",
       "      <td>6.000000</td>\n",
       "      <td>0.990070</td>\n",
       "      <td>2.740000</td>\n",
       "      <td>0.330000</td>\n",
       "      <td>8.400000</td>\n",
       "      <td>3.000000</td>\n",
       "    </tr>\n",
       "    <tr>\n",
       "      <th>25%</th>\n",
       "      <td>7.100000</td>\n",
       "      <td>0.390000</td>\n",
       "      <td>0.090000</td>\n",
       "      <td>1.900000</td>\n",
       "      <td>0.070000</td>\n",
       "      <td>7.000000</td>\n",
       "      <td>22.000000</td>\n",
       "      <td>0.995600</td>\n",
       "      <td>3.210000</td>\n",
       "      <td>0.550000</td>\n",
       "      <td>9.500000</td>\n",
       "      <td>5.000000</td>\n",
       "    </tr>\n",
       "    <tr>\n",
       "      <th>50%</th>\n",
       "      <td>7.900000</td>\n",
       "      <td>0.520000</td>\n",
       "      <td>0.260000</td>\n",
       "      <td>2.200000</td>\n",
       "      <td>0.079000</td>\n",
       "      <td>14.000000</td>\n",
       "      <td>38.000000</td>\n",
       "      <td>0.996750</td>\n",
       "      <td>3.310000</td>\n",
       "      <td>0.620000</td>\n",
       "      <td>10.200000</td>\n",
       "      <td>6.000000</td>\n",
       "    </tr>\n",
       "    <tr>\n",
       "      <th>75%</th>\n",
       "      <td>9.200000</td>\n",
       "      <td>0.640000</td>\n",
       "      <td>0.420000</td>\n",
       "      <td>2.600000</td>\n",
       "      <td>0.090000</td>\n",
       "      <td>21.000000</td>\n",
       "      <td>62.000000</td>\n",
       "      <td>0.997835</td>\n",
       "      <td>3.400000</td>\n",
       "      <td>0.730000</td>\n",
       "      <td>11.100000</td>\n",
       "      <td>6.000000</td>\n",
       "    </tr>\n",
       "    <tr>\n",
       "      <th>max</th>\n",
       "      <td>15.900000</td>\n",
       "      <td>1.580000</td>\n",
       "      <td>1.000000</td>\n",
       "      <td>15.500000</td>\n",
       "      <td>0.611000</td>\n",
       "      <td>72.000000</td>\n",
       "      <td>289.000000</td>\n",
       "      <td>1.003690</td>\n",
       "      <td>4.010000</td>\n",
       "      <td>2.000000</td>\n",
       "      <td>14.900000</td>\n",
       "      <td>8.000000</td>\n",
       "    </tr>\n",
       "  </tbody>\n",
       "</table>\n",
       "</div>"
      ],
      "text/plain": [
       "       fixed acidity  volatile acidity  citric acid  residual sugar  \\\n",
       "count    1599.000000       1599.000000  1599.000000     1599.000000   \n",
       "mean        8.319637          0.527821     0.270976        2.538806   \n",
       "std         1.741096          0.179060     0.194801        1.409928   \n",
       "min         4.600000          0.120000     0.000000        0.900000   \n",
       "25%         7.100000          0.390000     0.090000        1.900000   \n",
       "50%         7.900000          0.520000     0.260000        2.200000   \n",
       "75%         9.200000          0.640000     0.420000        2.600000   \n",
       "max        15.900000          1.580000     1.000000       15.500000   \n",
       "\n",
       "         chlorides  free sulfur dioxide  total sulfur dioxide      density  \\\n",
       "count  1599.000000          1595.000000           1597.000000  1599.000000   \n",
       "mean      0.087467            15.838871             46.428929     0.996747   \n",
       "std       0.047065            10.423696             32.897570     0.001887   \n",
       "min       0.012000             1.000000              6.000000     0.990070   \n",
       "25%       0.070000             7.000000             22.000000     0.995600   \n",
       "50%       0.079000            14.000000             38.000000     0.996750   \n",
       "75%       0.090000            21.000000             62.000000     0.997835   \n",
       "max       0.611000            72.000000            289.000000     1.003690   \n",
       "\n",
       "                pH    sulphates      alcohol      quality  \n",
       "count  1599.000000  1599.000000  1599.000000  1599.000000  \n",
       "mean      3.311113     0.658149    10.422983     5.636023  \n",
       "std       0.154386     0.169507     1.065668     0.807569  \n",
       "min       2.740000     0.330000     8.400000     3.000000  \n",
       "25%       3.210000     0.550000     9.500000     5.000000  \n",
       "50%       3.310000     0.620000    10.200000     6.000000  \n",
       "75%       3.400000     0.730000    11.100000     6.000000  \n",
       "max       4.010000     2.000000    14.900000     8.000000  "
      ]
     },
     "execution_count": 5,
     "metadata": {},
     "output_type": "execute_result"
    }
   ],
   "source": [
    "# Try to load the dataset from the Workspace. Otherwise, create it from the file\n",
    "# NOTE: update the key to match the dataset name\n",
    "found = False\n",
    "key = \"wine-quality\"\n",
    "description_text = \" Datasets from wine quality of red wine the Portuguese Vinho Verde wine\"\n",
    "\n",
    "if key in ws.datasets.keys(): \n",
    "        found = True\n",
    "        dataset = ws.datasets[key] \n",
    "\n",
    "if not found:\n",
    "        # Create AML Dataset and register it into Workspace\n",
    "        example_data = 'https://archive.ics.uci.edu/ml/machine-learning-databases/wine-quality/winequality-red.csv'\n",
    "        dataset = Dataset.Tabular.from_delimited_files(example_data)        \n",
    "        #Register Dataset in Workspace\n",
    "        dataset = dataset.register(workspace=ws,\n",
    "                                   name=key,\n",
    "                                   description=description_text)\n",
    "\n",
    "\n",
    "df = dataset.to_pandas_dataframe()\n",
    "df.describe()"
   ]
  },
  {
   "cell_type": "code",
   "execution_count": 6,
   "metadata": {},
   "outputs": [
    {
     "data": {
      "text/html": [
       "<div>\n",
       "<style scoped>\n",
       "    .dataframe tbody tr th:only-of-type {\n",
       "        vertical-align: middle;\n",
       "    }\n",
       "\n",
       "    .dataframe tbody tr th {\n",
       "        vertical-align: top;\n",
       "    }\n",
       "\n",
       "    .dataframe thead th {\n",
       "        text-align: right;\n",
       "    }\n",
       "</style>\n",
       "<table border=\"1\" class=\"dataframe\">\n",
       "  <thead>\n",
       "    <tr style=\"text-align: right;\">\n",
       "      <th></th>\n",
       "      <th>fixed acidity</th>\n",
       "      <th>volatile acidity</th>\n",
       "      <th>citric acid</th>\n",
       "      <th>residual sugar</th>\n",
       "      <th>chlorides</th>\n",
       "      <th>free sulfur dioxide</th>\n",
       "      <th>total sulfur dioxide</th>\n",
       "      <th>density</th>\n",
       "      <th>pH</th>\n",
       "      <th>sulphates</th>\n",
       "      <th>alcohol</th>\n",
       "      <th>quality</th>\n",
       "    </tr>\n",
       "  </thead>\n",
       "  <tbody>\n",
       "    <tr>\n",
       "      <th>0</th>\n",
       "      <td>7.4</td>\n",
       "      <td>0.70</td>\n",
       "      <td>0.00</td>\n",
       "      <td>1.9</td>\n",
       "      <td>0.076</td>\n",
       "      <td>11</td>\n",
       "      <td>34</td>\n",
       "      <td>0.9978</td>\n",
       "      <td>3.51</td>\n",
       "      <td>0.56</td>\n",
       "      <td>9.4</td>\n",
       "      <td>5</td>\n",
       "    </tr>\n",
       "    <tr>\n",
       "      <th>1</th>\n",
       "      <td>7.8</td>\n",
       "      <td>0.88</td>\n",
       "      <td>0.00</td>\n",
       "      <td>2.6</td>\n",
       "      <td>0.098</td>\n",
       "      <td>25</td>\n",
       "      <td>67</td>\n",
       "      <td>0.9968</td>\n",
       "      <td>3.20</td>\n",
       "      <td>0.68</td>\n",
       "      <td>9.8</td>\n",
       "      <td>5</td>\n",
       "    </tr>\n",
       "    <tr>\n",
       "      <th>2</th>\n",
       "      <td>7.8</td>\n",
       "      <td>0.76</td>\n",
       "      <td>0.04</td>\n",
       "      <td>2.3</td>\n",
       "      <td>0.092</td>\n",
       "      <td>15</td>\n",
       "      <td>54</td>\n",
       "      <td>0.9970</td>\n",
       "      <td>3.26</td>\n",
       "      <td>0.65</td>\n",
       "      <td>9.8</td>\n",
       "      <td>5</td>\n",
       "    </tr>\n",
       "    <tr>\n",
       "      <th>3</th>\n",
       "      <td>11.2</td>\n",
       "      <td>0.28</td>\n",
       "      <td>0.56</td>\n",
       "      <td>1.9</td>\n",
       "      <td>0.075</td>\n",
       "      <td>17</td>\n",
       "      <td>60</td>\n",
       "      <td>0.9980</td>\n",
       "      <td>3.16</td>\n",
       "      <td>0.58</td>\n",
       "      <td>9.8</td>\n",
       "      <td>6</td>\n",
       "    </tr>\n",
       "    <tr>\n",
       "      <th>4</th>\n",
       "      <td>7.4</td>\n",
       "      <td>0.70</td>\n",
       "      <td>0.00</td>\n",
       "      <td>1.9</td>\n",
       "      <td>0.076</td>\n",
       "      <td>11</td>\n",
       "      <td>34</td>\n",
       "      <td>0.9978</td>\n",
       "      <td>3.51</td>\n",
       "      <td>0.56</td>\n",
       "      <td>9.4</td>\n",
       "      <td>5</td>\n",
       "    </tr>\n",
       "  </tbody>\n",
       "</table>\n",
       "</div>"
      ],
      "text/plain": [
       "   fixed acidity  volatile acidity  citric acid  residual sugar  chlorides  \\\n",
       "0            7.4              0.70         0.00             1.9      0.076   \n",
       "1            7.8              0.88         0.00             2.6      0.098   \n",
       "2            7.8              0.76         0.04             2.3      0.092   \n",
       "3           11.2              0.28         0.56             1.9      0.075   \n",
       "4            7.4              0.70         0.00             1.9      0.076   \n",
       "\n",
       "   free sulfur dioxide  total sulfur dioxide  density    pH  sulphates  \\\n",
       "0                   11                    34   0.9978  3.51       0.56   \n",
       "1                   25                    67   0.9968  3.20       0.68   \n",
       "2                   15                    54   0.9970  3.26       0.65   \n",
       "3                   17                    60   0.9980  3.16       0.58   \n",
       "4                   11                    34   0.9978  3.51       0.56   \n",
       "\n",
       "   alcohol  quality  \n",
       "0      9.4        5  \n",
       "1      9.8        5  \n",
       "2      9.8        5  \n",
       "3      9.8        6  \n",
       "4      9.4        5  "
      ]
     },
     "execution_count": 6,
     "metadata": {},
     "output_type": "execute_result"
    }
   ],
   "source": [
    "#Review Dataset\n",
    "dataset.take(5).to_pandas_dataframe()"
   ]
  },
  {
   "cell_type": "code",
   "execution_count": 7,
   "metadata": {},
   "outputs": [
    {
     "name": "stdout",
     "output_type": "stream",
     "text": [
      "Uploading an estimated of 1 files\n",
      "Uploading ./training/train_data.csv\n",
      "Uploaded ./training/train_data.csv, 1 files out of an estimated total of 1\n",
      "Uploaded 1 files\n"
     ]
    },
    {
     "data": {
      "text/plain": [
       "$AZUREML_DATAREFERENCE_f5496765e08d48b1941b52f88bc88a0d"
      ]
     },
     "execution_count": 7,
     "metadata": {},
     "output_type": "execute_result"
    }
   ],
   "source": [
    "train, test = train_test_split(df, test_size=0.2, random_state=1 )\n",
    "\n",
    "if \"training\" not in os.listdir():\n",
    "    os.mkdir(\"./training\")\n",
    "\n",
    "if \"models\" not in os.listdir():\n",
    "    os.mkdir(\"./models\")\n",
    "if \"outputs\" not in os.listdir():\n",
    "    os.mkdir(\"./outputs\")\n",
    "\n",
    "train.to_csv(\"training/train_data.csv\", index = False)\n",
    "\n",
    "data_store = ws.get_default_datastore()\n",
    "data_store.upload(src_dir = \"./training\", target_path = 'capstone-project', overwrite = True,  show_progress = True)"
   ]
  },
  {
   "cell_type": "code",
   "execution_count": 8,
   "metadata": {},
   "outputs": [],
   "source": [
    "train_data = Dataset.Tabular.from_delimited_files(path=data_store.path(\"capstone-project/train_data.csv\"))"
   ]
  },
  {
   "cell_type": "markdown",
   "metadata": {},
   "source": [
    "## AutoML Configuration\n",
    "\n",
    "TODO: Explain why you chose the automl settings and cofiguration you used below."
   ]
  },
  {
   "cell_type": "code",
   "execution_count": 9,
   "metadata": {
    "gather": {
     "logged": 1598429217746
    },
    "jupyter": {
     "outputs_hidden": false,
     "source_hidden": false
    },
    "nteract": {
     "transient": {
      "deleting": false
     }
    }
   },
   "outputs": [],
   "source": [
    "automl_settings = {\n",
    "    \"experiment_timeout_minutes\": 20,\n",
    "    \"max_concurrent_iterations\": 5,\n",
    "    \"primary_metric\" : 'accuracy'    \n",
    "}\n",
    "\n",
    "# TODO: Put your automl config here\n",
    "automl_config = AutoMLConfig(\n",
    "    \n",
    "    compute_target = compute_target,\n",
    "    task = \"classification\",\n",
    "    training_data = train_data,\n",
    "    label_column_name = \"quality\",   \n",
    "    path = project_folder,\n",
    "    enable_early_stopping= True,\n",
    "    featurization= 'auto',\n",
    "    debug_log = \"automl_errors.log\",\n",
    "    **automl_settings \n",
    ")"
   ]
  },
  {
   "cell_type": "code",
   "execution_count": 10,
   "metadata": {
    "gather": {
     "logged": 1598431107951
    },
    "jupyter": {
     "outputs_hidden": false,
     "source_hidden": false
    },
    "nteract": {
     "transient": {
      "deleting": false
     }
    },
    "scrolled": false
   },
   "outputs": [
    {
     "name": "stdout",
     "output_type": "stream",
     "text": [
      "Running on remote.\n",
      "No run_configuration provided, running on auto-ml with default configuration\n",
      "Running on remote compute: auto-ml\n",
      "Parent Run ID: AutoML_d60e34fe-f18d-46a4-8dfe-77b12dca0a2f\n",
      "\n",
      "Current status: FeaturesGeneration. Generating features for the dataset.\n",
      "Current status: DatasetBalancing. Performing class balancing sweeping\n",
      "Current status: ModelSelection. Beginning model selection.\n",
      "\n",
      "****************************************************************************************************\n",
      "DATA GUARDRAILS: \n",
      "\n",
      "TYPE:         Cross validation\n",
      "STATUS:       DONE\n",
      "DESCRIPTION:  Each iteration of the trained model was validated through cross-validation.\n",
      "              \n",
      "DETAILS:      \n",
      "+---------------------------------+\n",
      "|Number of folds                  |\n",
      "+=================================+\n",
      "|3                                |\n",
      "+---------------------------------+\n",
      "\n",
      "****************************************************************************************************\n",
      "\n",
      "TYPE:         Class balancing detection\n",
      "STATUS:       ALERTED\n",
      "DESCRIPTION:  To decrease model bias, please cancel the current run and fix balancing problem.\n",
      "              Learn more about imbalanced data: https://aka.ms/AutomatedMLImbalancedData\n",
      "DETAILS:      Imbalanced data can lead to a falsely perceived positive effect of a model's accuracy because the input data has bias towards one class.\n",
      "+---------------------------------+---------------------------------+--------------------------------------+\n",
      "|Size of the smallest class       |Name/Label of the smallest class |Number of samples in the training data|\n",
      "+=================================+=================================+======================================+\n",
      "|9                                |3                                |1279                                  |\n",
      "+---------------------------------+---------------------------------+--------------------------------------+\n",
      "\n",
      "****************************************************************************************************\n",
      "\n",
      "TYPE:         Missing feature values imputation\n",
      "STATUS:       DONE\n",
      "DESCRIPTION:  If the missing values are expected, let the run complete. Otherwise cancel the current run and use a script to customize the handling of missing feature values that may be more appropriate based on the data type and business requirement.\n",
      "              Learn more about missing value imputation: https://aka.ms/AutomatedMLFeaturization\n",
      "DETAILS:      \n",
      "+---------------------------------+---------------------------------+---------------------------------+\n",
      "|Column name                      |Missing value count              |Imputation type                  |\n",
      "+=================================+=================================+=================================+\n",
      "|free sulfur dioxide              |3                                |mean                             |\n",
      "|total sulfur dioxide             |2                                |mean                             |\n",
      "+---------------------------------+---------------------------------+---------------------------------+\n",
      "\n",
      "****************************************************************************************************\n",
      "\n",
      "TYPE:         High cardinality feature detection\n",
      "STATUS:       PASSED\n",
      "DESCRIPTION:  Your inputs were analyzed, and no high cardinality features were detected.\n",
      "              Learn more about high cardinality feature handling: https://aka.ms/AutomatedMLFeaturization\n",
      "\n",
      "****************************************************************************************************\n",
      "\n",
      "****************************************************************************************************\n",
      "ITERATION: The iteration being evaluated.\n",
      "PIPELINE: A summary description of the pipeline being evaluated.\n",
      "DURATION: Time taken for the current iteration.\n",
      "METRIC: The result of computing score on the fitted pipeline.\n",
      "BEST: The best observed score thus far.\n",
      "****************************************************************************************************\n",
      "\n",
      " ITERATION   PIPELINE                                       DURATION      METRIC      BEST\n",
      "         0   MaxAbsScaler LightGBM                          0:00:50       0.6396    0.6396\n",
      "         4   MinMaxScaler RandomForest                      0:00:54       0.5434    0.6396\n",
      "         1   MaxAbsScaler XGBoostClassifier                 0:00:52       0.6145    0.6396\n",
      "         6   TruncatedSVDWrapper XGBoostClassifier          0:00:49       0.5934    0.6396\n",
      "         7   StandardScalerWrapper LightGBM                 0:00:58       0.6067    0.6396\n",
      "         8   MinMaxScaler SVM                               0:00:49       0.6145    0.6396\n",
      "         9   RobustScaler SVM                               0:00:51       0.6122    0.6396\n",
      "        10   MaxAbsScaler GradientBoosting                  0:00:58       0.5833    0.6396\n",
      "         2   MinMaxScaler RandomForest                      0:05:16       0.5919    0.6396\n",
      "         3   MinMaxScaler RandomForest                      0:05:23       0.5848    0.6396\n",
      "         5   StandardScalerWrapper XGBoostClassifier        0:05:23       0.6419    0.6419\n",
      "        11   SparseNormalizer LightGBM                      0:00:52       0.5270    0.6419\n",
      "        12   SparseNormalizer XGBoostClassifier             0:00:51       0.6013    0.6419\n",
      "        13   RobustScaler LightGBM                          0:00:55       0.5880    0.6419\n",
      "        14   StandardScalerWrapper RandomForest             0:00:45       0.5809    0.6419\n",
      "        15   SparseNormalizer XGBoostClassifier             0:00:50       0.5489    0.6419\n",
      "        16   StandardScalerWrapper LightGBM                 0:00:48       0.5981    0.6419\n",
      "        17   SparseNormalizer XGBoostClassifier             0:00:52       0.6013    0.6419\n",
      "        18   StandardScalerWrapper ExtremeRandomTrees       0:00:47       0.5708    0.6419\n",
      "        19   SparseNormalizer XGBoostClassifier             0:01:00       0.5934    0.6419\n",
      "        20   MinMaxScaler LightGBM                          0:00:53       0.6036    0.6419\n",
      "        21   MinMaxScaler RandomForest                      0:00:55       0.5801    0.6419\n",
      "        22   MinMaxScaler LightGBM                          0:00:46       0.5614    0.6419\n",
      "        23   StandardScalerWrapper LightGBM                 0:00:46       0.5895    0.6419\n",
      "        24   StandardScalerWrapper LightGBM                 0:00:50       0.5911    0.6419\n",
      "        25   SparseNormalizer XGBoostClassifier             0:00:52       0.5465    0.6419\n",
      "        26   SparseNormalizer LightGBM                      0:00:53       0.5364    0.6419\n",
      "        27   StandardScalerWrapper LightGBM                 0:00:47       0.5778    0.6419\n",
      "        28   StandardScalerWrapper ExtremeRandomTrees       0:00:51       0.5270    0.6419\n",
      "        29   MinMaxScaler LightGBM                          0:00:53       0.5895    0.6419\n",
      "        30   TruncatedSVDWrapper XGBoostClassifier          0:00:48       0.4230    0.6419\n",
      "        31   RobustScaler KNN                               0:00:44       0.5637    0.6419\n",
      "        32   SparseNormalizer XGBoostClassifier             0:01:00       0.5160    0.6419\n",
      "        33   MaxAbsScaler LogisticRegression                0:00:53       0.5880    0.6419\n",
      "        34   MaxAbsScaler ExtremeRandomTrees                0:00:48       0.3472    0.6419\n",
      "        35   SparseNormalizer XGBoostClassifier             0:00:47       0.5348    0.6419\n",
      "        36   StandardScalerWrapper LogisticRegression       0:00:39       0.4285    0.6419\n",
      "        37                                                  0:00:50          nan    0.6419\n",
      "        38    VotingEnsemble                                0:01:17       0.6661    0.6661\n",
      "        39    StackEnsemble                                 0:01:21       0.6490    0.6661\n",
      "\n",
      "\n",
      "****************************************************************************************************\n",
      "DATA GUARDRAILS: \n",
      "\n",
      "TYPE:         Cross validation\n",
      "STATUS:       DONE\n",
      "DESCRIPTION:  Each iteration of the trained model was validated through cross-validation.\n",
      "              \n",
      "DETAILS:      \n",
      "+---------------------------------+\n",
      "|Number of folds                  |\n",
      "+=================================+\n",
      "|3                                |\n",
      "+---------------------------------+\n"
     ]
    },
    {
     "name": "stdout",
     "output_type": "stream",
     "text": [
      "\n",
      "****************************************************************************************************\n",
      "\n",
      "TYPE:         Class balancing detection\n",
      "STATUS:       ALERTED\n",
      "DESCRIPTION:  To decrease model bias, please cancel the current run and fix balancing problem.\n",
      "              Learn more about imbalanced data: https://aka.ms/AutomatedMLImbalancedData\n",
      "DETAILS:      Imbalanced data can lead to a falsely perceived positive effect of a model's accuracy because the input data has bias towards one class.\n",
      "+---------------------------------+---------------------------------+--------------------------------------+\n",
      "|Size of the smallest class       |Name/Label of the smallest class |Number of samples in the training data|\n",
      "+=================================+=================================+======================================+\n",
      "|9                                |3                                |1279                                  |\n",
      "+---------------------------------+---------------------------------+--------------------------------------+\n",
      "\n",
      "****************************************************************************************************\n",
      "\n",
      "TYPE:         Missing feature values imputation\n",
      "STATUS:       DONE\n",
      "DESCRIPTION:  If the missing values are expected, let the run complete. Otherwise cancel the current run and use a script to customize the handling of missing feature values that may be more appropriate based on the data type and business requirement.\n",
      "              Learn more about missing value imputation: https://aka.ms/AutomatedMLFeaturization\n",
      "DETAILS:      \n",
      "+---------------------------------+---------------------------------+---------------------------------+\n",
      "|Column name                      |Missing value count              |Imputation type                  |\n",
      "+=================================+=================================+=================================+\n",
      "|free sulfur dioxide              |3                                |mean                             |\n",
      "|total sulfur dioxide             |2                                |mean                             |\n",
      "+---------------------------------+---------------------------------+---------------------------------+\n",
      "\n",
      "****************************************************************************************************\n",
      "\n",
      "TYPE:         High cardinality feature detection\n",
      "STATUS:       PASSED\n",
      "DESCRIPTION:  Your inputs were analyzed, and no high cardinality features were detected.\n",
      "              Learn more about high cardinality feature handling: https://aka.ms/AutomatedMLFeaturization\n",
      "\n",
      "****************************************************************************************************\n",
      "\n",
      "****************************************************************************************************\n",
      "ITERATION: The iteration being evaluated.\n",
      "PIPELINE: A summary description of the pipeline being evaluated.\n",
      "DURATION: Time taken for the current iteration.\n",
      "METRIC: The result of computing score on the fitted pipeline.\n",
      "BEST: The best observed score thus far.\n",
      "****************************************************************************************************\n",
      "\n",
      " ITERATION   PIPELINE                                       DURATION      METRIC      BEST\n",
      "         0   MaxAbsScaler LightGBM                          0:00:50       0.6396    0.6396\n",
      "         1   MaxAbsScaler XGBoostClassifier                 0:00:52       0.6145    0.6396\n",
      "         2   MinMaxScaler RandomForest                      0:05:16       0.5919    0.6396\n",
      "         3   MinMaxScaler RandomForest                      0:05:23       0.5848    0.6396\n",
      "         4   MinMaxScaler RandomForest                      0:00:54       0.5434    0.6396\n",
      "         5   StandardScalerWrapper XGBoostClassifier        0:05:23       0.6419    0.6419\n",
      "         6   TruncatedSVDWrapper XGBoostClassifier          0:00:49       0.5934    0.6419\n",
      "         7   StandardScalerWrapper LightGBM                 0:00:58       0.6067    0.6419\n",
      "         8   MinMaxScaler SVM                               0:00:49       0.6145    0.6419\n",
      "         9   RobustScaler SVM                               0:00:51       0.6122    0.6419\n",
      "        10   MaxAbsScaler GradientBoosting                  0:00:58       0.5833    0.6419\n",
      "        11   SparseNormalizer LightGBM                      0:00:52       0.5270    0.6419\n",
      "        12   SparseNormalizer XGBoostClassifier             0:00:51       0.6013    0.6419\n",
      "        13   RobustScaler LightGBM                          0:00:55       0.5880    0.6419\n",
      "        14   StandardScalerWrapper RandomForest             0:00:45       0.5809    0.6419\n",
      "        15   SparseNormalizer XGBoostClassifier             0:00:50       0.5489    0.6419\n",
      "        16   StandardScalerWrapper LightGBM                 0:00:48       0.5981    0.6419\n",
      "        17   SparseNormalizer XGBoostClassifier             0:00:52       0.6013    0.6419\n",
      "        18   StandardScalerWrapper ExtremeRandomTrees       0:00:47       0.5708    0.6419\n",
      "        19   SparseNormalizer XGBoostClassifier             0:01:00       0.5934    0.6419\n",
      "        20   MinMaxScaler LightGBM                          0:00:53       0.6036    0.6419\n",
      "        21   MinMaxScaler RandomForest                      0:00:55       0.5801    0.6419\n",
      "        22   MinMaxScaler LightGBM                          0:00:46       0.5614    0.6419\n",
      "        23   StandardScalerWrapper LightGBM                 0:00:46       0.5895    0.6419\n",
      "        24   StandardScalerWrapper LightGBM                 0:00:50       0.5911    0.6419\n",
      "        25   SparseNormalizer XGBoostClassifier             0:00:52       0.5465    0.6419\n",
      "        26   SparseNormalizer LightGBM                      0:00:53       0.5364    0.6419\n",
      "        27   StandardScalerWrapper LightGBM                 0:00:47       0.5778    0.6419\n",
      "        28   StandardScalerWrapper ExtremeRandomTrees       0:00:51       0.5270    0.6419\n",
      "        29   MinMaxScaler LightGBM                          0:00:53       0.5895    0.6419\n",
      "        30   TruncatedSVDWrapper XGBoostClassifier          0:00:48       0.4230    0.6419\n",
      "        31   RobustScaler KNN                               0:00:44       0.5637    0.6419\n",
      "        32   SparseNormalizer XGBoostClassifier             0:01:00       0.5160    0.6419\n",
      "        33   MaxAbsScaler LogisticRegression                0:00:53       0.5880    0.6419\n",
      "        34   MaxAbsScaler ExtremeRandomTrees                0:00:48       0.3472    0.6419\n",
      "        35   SparseNormalizer XGBoostClassifier             0:00:47       0.5348    0.6419\n",
      "        36   StandardScalerWrapper LogisticRegression       0:00:39       0.4285    0.6419\n",
      "        37                                                  0:00:50          nan    0.6419\n",
      "        38    VotingEnsemble                                0:01:17       0.6661    0.6661\n",
      "        39    StackEnsemble                                 0:01:21       0.6490    0.6661\n"
     ]
    },
    {
     "data": {
      "text/plain": [
       "{'runId': 'AutoML_d60e34fe-f18d-46a4-8dfe-77b12dca0a2f',\n",
       " 'target': 'auto-ml',\n",
       " 'status': 'Completed',\n",
       " 'startTimeUtc': '2021-01-28T20:07:32.531814Z',\n",
       " 'endTimeUtc': '2021-01-28T20:35:46.288451Z',\n",
       " 'properties': {'num_iterations': '1000',\n",
       "  'training_type': 'TrainFull',\n",
       "  'acquisition_function': 'EI',\n",
       "  'primary_metric': 'accuracy',\n",
       "  'train_split': '0',\n",
       "  'acquisition_parameter': '0',\n",
       "  'num_cross_validation': None,\n",
       "  'target': 'auto-ml',\n",
       "  'AMLSettingsJsonString': '{\"path\":null,\"name\":\"ml-capstone-1\",\"subscription_id\":\"5a4ab2ba-6c51-4805-8155-58759ad589d8\",\"resource_group\":\"aml-quickstarts-136423\",\"workspace_name\":\"quick-starts-ws-136423\",\"region\":\"southcentralus\",\"compute_target\":\"auto-ml\",\"spark_service\":null,\"azure_service\":\"remote\",\"many_models\":false,\"pipeline_fetch_max_batch_size\":1,\"iterations\":1000,\"primary_metric\":\"accuracy\",\"task_type\":\"classification\",\"data_script\":null,\"validation_size\":0.0,\"n_cross_validations\":null,\"y_min\":null,\"y_max\":null,\"num_classes\":null,\"featurization\":\"auto\",\"_ignore_package_version_incompatibilities\":false,\"is_timeseries\":false,\"max_cores_per_iteration\":1,\"max_concurrent_iterations\":5,\"iteration_timeout_minutes\":null,\"mem_in_mb\":null,\"enforce_time_on_windows\":false,\"experiment_timeout_minutes\":20,\"experiment_exit_score\":null,\"whitelist_models\":null,\"blacklist_algos\":[\"TensorFlowLinearClassifier\",\"TensorFlowDNN\"],\"supported_models\":[\"SGD\",\"ExtremeRandomTrees\",\"LinearSVM\",\"MultinomialNaiveBayes\",\"DecisionTree\",\"AveragedPerceptronClassifier\",\"TensorFlowLinearClassifier\",\"TensorFlowDNN\",\"RandomForest\",\"BernoulliNaiveBayes\",\"XGBoostClassifier\",\"GradientBoosting\",\"LightGBM\",\"LogisticRegression\",\"KNN\",\"SVM\"],\"auto_blacklist\":true,\"blacklist_samples_reached\":false,\"exclude_nan_labels\":true,\"verbosity\":20,\"_debug_log\":\"azureml_automl.log\",\"show_warnings\":false,\"model_explainability\":true,\"service_url\":null,\"sdk_url\":null,\"sdk_packages\":null,\"enable_onnx_compatible_models\":false,\"enable_split_onnx_featurizer_estimator_models\":false,\"vm_type\":\"STANDARD_D2_V2\",\"telemetry_verbosity\":20,\"send_telemetry\":true,\"enable_dnn\":false,\"scenario\":\"SDK-1.13.0\",\"environment_label\":null,\"force_text_dnn\":false,\"enable_feature_sweeping\":true,\"enable_early_stopping\":true,\"early_stopping_n_iters\":10,\"metrics\":null,\"enable_ensembling\":true,\"enable_stack_ensembling\":true,\"ensemble_iterations\":15,\"enable_tf\":false,\"enable_subsampling\":null,\"subsample_seed\":null,\"enable_nimbusml\":false,\"enable_streaming\":false,\"force_streaming\":false,\"track_child_runs\":true,\"allowed_private_models\":[],\"label_column_name\":\"quality\",\"weight_column_name\":null,\"cv_split_column_names\":null,\"enable_local_managed\":false,\"_local_managed_run_id\":null,\"cost_mode\":1,\"lag_length\":0,\"metric_operation\":\"maximize\",\"preprocess\":true}',\n",
       "  'DataPrepJsonString': '{\\\\\"training_data\\\\\": \\\\\"{\\\\\\\\\\\\\"blocks\\\\\\\\\\\\\": [{\\\\\\\\\\\\\"id\\\\\\\\\\\\\": \\\\\\\\\\\\\"eb88e819-8119-4f31-bba4-463668a740ab\\\\\\\\\\\\\", \\\\\\\\\\\\\"type\\\\\\\\\\\\\": \\\\\\\\\\\\\"Microsoft.DPrep.GetDatastoreFilesBlock\\\\\\\\\\\\\", \\\\\\\\\\\\\"arguments\\\\\\\\\\\\\": {\\\\\\\\\\\\\"datastores\\\\\\\\\\\\\": [{\\\\\\\\\\\\\"datastoreName\\\\\\\\\\\\\": \\\\\\\\\\\\\"workspaceblobstore\\\\\\\\\\\\\", \\\\\\\\\\\\\"path\\\\\\\\\\\\\": \\\\\\\\\\\\\"capstone-project/train_data.csv\\\\\\\\\\\\\", \\\\\\\\\\\\\"resourceGroup\\\\\\\\\\\\\": \\\\\\\\\\\\\"aml-quickstarts-136423\\\\\\\\\\\\\", \\\\\\\\\\\\\"subscription\\\\\\\\\\\\\": \\\\\\\\\\\\\"5a4ab2ba-6c51-4805-8155-58759ad589d8\\\\\\\\\\\\\", \\\\\\\\\\\\\"workspaceName\\\\\\\\\\\\\": \\\\\\\\\\\\\"quick-starts-ws-136423\\\\\\\\\\\\\"}]}, \\\\\\\\\\\\\"localData\\\\\\\\\\\\\": {}, \\\\\\\\\\\\\"isEnabled\\\\\\\\\\\\\": true, \\\\\\\\\\\\\"name\\\\\\\\\\\\\": null, \\\\\\\\\\\\\"annotation\\\\\\\\\\\\\": null}, {\\\\\\\\\\\\\"id\\\\\\\\\\\\\": \\\\\\\\\\\\\"5d09a567-b2ba-48d1-afc3-1e258a2271bb\\\\\\\\\\\\\", \\\\\\\\\\\\\"type\\\\\\\\\\\\\": \\\\\\\\\\\\\"Microsoft.DPrep.ParseDelimitedBlock\\\\\\\\\\\\\", \\\\\\\\\\\\\"arguments\\\\\\\\\\\\\": {\\\\\\\\\\\\\"columnHeadersMode\\\\\\\\\\\\\": 3, \\\\\\\\\\\\\"fileEncoding\\\\\\\\\\\\\": 0, \\\\\\\\\\\\\"handleQuotedLineBreaks\\\\\\\\\\\\\": false, \\\\\\\\\\\\\"preview\\\\\\\\\\\\\": false, \\\\\\\\\\\\\"separator\\\\\\\\\\\\\": \\\\\\\\\\\\\",\\\\\\\\\\\\\", \\\\\\\\\\\\\"skipRows\\\\\\\\\\\\\": 0, \\\\\\\\\\\\\"skipRowsMode\\\\\\\\\\\\\": 0}, \\\\\\\\\\\\\"localData\\\\\\\\\\\\\": {}, \\\\\\\\\\\\\"isEnabled\\\\\\\\\\\\\": true, \\\\\\\\\\\\\"name\\\\\\\\\\\\\": null, \\\\\\\\\\\\\"annotation\\\\\\\\\\\\\": null}, {\\\\\\\\\\\\\"id\\\\\\\\\\\\\": \\\\\\\\\\\\\"478c4e05-55c8-4cd4-b16f-b4b026b329fc\\\\\\\\\\\\\", \\\\\\\\\\\\\"type\\\\\\\\\\\\\": \\\\\\\\\\\\\"Microsoft.DPrep.DropColumnsBlock\\\\\\\\\\\\\", \\\\\\\\\\\\\"arguments\\\\\\\\\\\\\": {\\\\\\\\\\\\\"columns\\\\\\\\\\\\\": {\\\\\\\\\\\\\"type\\\\\\\\\\\\\": 0, \\\\\\\\\\\\\"details\\\\\\\\\\\\\": {\\\\\\\\\\\\\"selectedColumns\\\\\\\\\\\\\": [\\\\\\\\\\\\\"Path\\\\\\\\\\\\\"]}}}, \\\\\\\\\\\\\"localData\\\\\\\\\\\\\": {}, \\\\\\\\\\\\\"isEnabled\\\\\\\\\\\\\": true, \\\\\\\\\\\\\"name\\\\\\\\\\\\\": null, \\\\\\\\\\\\\"annotation\\\\\\\\\\\\\": null}, {\\\\\\\\\\\\\"id\\\\\\\\\\\\\": \\\\\\\\\\\\\"9432e6b8-6e63-4d5c-85cd-516833af11e3\\\\\\\\\\\\\", \\\\\\\\\\\\\"type\\\\\\\\\\\\\": \\\\\\\\\\\\\"Microsoft.DPrep.SetColumnTypesBlock\\\\\\\\\\\\\", \\\\\\\\\\\\\"arguments\\\\\\\\\\\\\": {\\\\\\\\\\\\\"columnConversion\\\\\\\\\\\\\": [{\\\\\\\\\\\\\"column\\\\\\\\\\\\\": {\\\\\\\\\\\\\"type\\\\\\\\\\\\\": 2, \\\\\\\\\\\\\"details\\\\\\\\\\\\\": {\\\\\\\\\\\\\"selectedColumn\\\\\\\\\\\\\": \\\\\\\\\\\\\"fixed acidity\\\\\\\\\\\\\"}}, \\\\\\\\\\\\\"typeProperty\\\\\\\\\\\\\": 3}, {\\\\\\\\\\\\\"column\\\\\\\\\\\\\": {\\\\\\\\\\\\\"type\\\\\\\\\\\\\": 2, \\\\\\\\\\\\\"details\\\\\\\\\\\\\": {\\\\\\\\\\\\\"selectedColumn\\\\\\\\\\\\\": \\\\\\\\\\\\\"volatile acidity\\\\\\\\\\\\\"}}, \\\\\\\\\\\\\"typeProperty\\\\\\\\\\\\\": 3}, {\\\\\\\\\\\\\"column\\\\\\\\\\\\\": {\\\\\\\\\\\\\"type\\\\\\\\\\\\\": 2, \\\\\\\\\\\\\"details\\\\\\\\\\\\\": {\\\\\\\\\\\\\"selectedColumn\\\\\\\\\\\\\": \\\\\\\\\\\\\"citric acid\\\\\\\\\\\\\"}}, \\\\\\\\\\\\\"typeProperty\\\\\\\\\\\\\": 3}, {\\\\\\\\\\\\\"column\\\\\\\\\\\\\": {\\\\\\\\\\\\\"type\\\\\\\\\\\\\": 2, \\\\\\\\\\\\\"details\\\\\\\\\\\\\": {\\\\\\\\\\\\\"selectedColumn\\\\\\\\\\\\\": \\\\\\\\\\\\\"residual sugar\\\\\\\\\\\\\"}}, \\\\\\\\\\\\\"typeProperty\\\\\\\\\\\\\": 3}, {\\\\\\\\\\\\\"column\\\\\\\\\\\\\": {\\\\\\\\\\\\\"type\\\\\\\\\\\\\": 2, \\\\\\\\\\\\\"details\\\\\\\\\\\\\": {\\\\\\\\\\\\\"selectedColumn\\\\\\\\\\\\\": \\\\\\\\\\\\\"chlorides\\\\\\\\\\\\\"}}, \\\\\\\\\\\\\"typeProperty\\\\\\\\\\\\\": 3}, {\\\\\\\\\\\\\"column\\\\\\\\\\\\\": {\\\\\\\\\\\\\"type\\\\\\\\\\\\\": 2, \\\\\\\\\\\\\"details\\\\\\\\\\\\\": {\\\\\\\\\\\\\"selectedColumn\\\\\\\\\\\\\": \\\\\\\\\\\\\"free sulfur dioxide\\\\\\\\\\\\\"}}, \\\\\\\\\\\\\"typeProperty\\\\\\\\\\\\\": 3}, {\\\\\\\\\\\\\"column\\\\\\\\\\\\\": {\\\\\\\\\\\\\"type\\\\\\\\\\\\\": 2, \\\\\\\\\\\\\"details\\\\\\\\\\\\\": {\\\\\\\\\\\\\"selectedColumn\\\\\\\\\\\\\": \\\\\\\\\\\\\"total sulfur dioxide\\\\\\\\\\\\\"}}, \\\\\\\\\\\\\"typeProperty\\\\\\\\\\\\\": 3}, {\\\\\\\\\\\\\"column\\\\\\\\\\\\\": {\\\\\\\\\\\\\"type\\\\\\\\\\\\\": 2, \\\\\\\\\\\\\"details\\\\\\\\\\\\\": {\\\\\\\\\\\\\"selectedColumn\\\\\\\\\\\\\": \\\\\\\\\\\\\"density\\\\\\\\\\\\\"}}, \\\\\\\\\\\\\"typeProperty\\\\\\\\\\\\\": 3}, {\\\\\\\\\\\\\"column\\\\\\\\\\\\\": {\\\\\\\\\\\\\"type\\\\\\\\\\\\\": 2, \\\\\\\\\\\\\"details\\\\\\\\\\\\\": {\\\\\\\\\\\\\"selectedColumn\\\\\\\\\\\\\": \\\\\\\\\\\\\"pH\\\\\\\\\\\\\"}}, \\\\\\\\\\\\\"typeProperty\\\\\\\\\\\\\": 3}, {\\\\\\\\\\\\\"column\\\\\\\\\\\\\": {\\\\\\\\\\\\\"type\\\\\\\\\\\\\": 2, \\\\\\\\\\\\\"details\\\\\\\\\\\\\": {\\\\\\\\\\\\\"selectedColumn\\\\\\\\\\\\\": \\\\\\\\\\\\\"sulphates\\\\\\\\\\\\\"}}, \\\\\\\\\\\\\"typeProperty\\\\\\\\\\\\\": 3}, {\\\\\\\\\\\\\"column\\\\\\\\\\\\\": {\\\\\\\\\\\\\"type\\\\\\\\\\\\\": 2, \\\\\\\\\\\\\"details\\\\\\\\\\\\\": {\\\\\\\\\\\\\"selectedColumn\\\\\\\\\\\\\": \\\\\\\\\\\\\"alcohol\\\\\\\\\\\\\"}}, \\\\\\\\\\\\\"typeProperty\\\\\\\\\\\\\": 3}, {\\\\\\\\\\\\\"column\\\\\\\\\\\\\": {\\\\\\\\\\\\\"type\\\\\\\\\\\\\": 2, \\\\\\\\\\\\\"details\\\\\\\\\\\\\": {\\\\\\\\\\\\\"selectedColumn\\\\\\\\\\\\\": \\\\\\\\\\\\\"quality\\\\\\\\\\\\\"}}, \\\\\\\\\\\\\"typeProperty\\\\\\\\\\\\\": 2}]}, \\\\\\\\\\\\\"localData\\\\\\\\\\\\\": {}, \\\\\\\\\\\\\"isEnabled\\\\\\\\\\\\\": true, \\\\\\\\\\\\\"name\\\\\\\\\\\\\": null, \\\\\\\\\\\\\"annotation\\\\\\\\\\\\\": null}], \\\\\\\\\\\\\"inspectors\\\\\\\\\\\\\": [], \\\\\\\\\\\\\"meta\\\\\\\\\\\\\": {\\\\\\\\\\\\\"savedDatasetId\\\\\\\\\\\\\": \\\\\\\\\\\\\"678ebf6f-ff60-4ce2-8395-fc2ab5862b93\\\\\\\\\\\\\", \\\\\\\\\\\\\"datasetType\\\\\\\\\\\\\": \\\\\\\\\\\\\"tabular\\\\\\\\\\\\\", \\\\\\\\\\\\\"subscriptionId\\\\\\\\\\\\\": \\\\\\\\\\\\\"5a4ab2ba-6c51-4805-8155-58759ad589d8\\\\\\\\\\\\\", \\\\\\\\\\\\\"workspaceId\\\\\\\\\\\\\": \\\\\\\\\\\\\"82304189-6bdf-429e-a1f4-e4b46a0be72a\\\\\\\\\\\\\", \\\\\\\\\\\\\"workspaceLocation\\\\\\\\\\\\\": \\\\\\\\\\\\\"southcentralus\\\\\\\\\\\\\"}}\\\\\", \\\\\"activities\\\\\": 0}',\n",
       "  'EnableSubsampling': None,\n",
       "  'runTemplate': 'AutoML',\n",
       "  'azureml.runsource': 'automl',\n",
       "  'display_task_type': 'classification',\n",
       "  'dependencies_versions': '{\"azureml-widgets\": \"1.20.0\", \"azureml-train\": \"1.20.0\", \"azureml-train-restclients-hyperdrive\": \"1.20.0\", \"azureml-train-core\": \"1.20.0\", \"azureml-train-automl\": \"1.20.0\", \"azureml-train-automl-runtime\": \"1.20.0\", \"azureml-train-automl-client\": \"1.20.0\", \"azureml-tensorboard\": \"1.20.0\", \"azureml-telemetry\": \"1.20.0\", \"azureml-sdk\": \"1.20.0\", \"azureml-samples\": \"0+unknown\", \"azureml-pipeline\": \"1.20.0\", \"azureml-pipeline-steps\": \"1.20.0\", \"azureml-pipeline-core\": \"1.20.0\", \"azureml-opendatasets\": \"1.20.0\", \"azureml-model-management-sdk\": \"1.0.1b6.post1\", \"azureml-mlflow\": \"1.20.0.post1\", \"azureml-interpret\": \"1.20.0\", \"azureml-explain-model\": \"1.20.0\", \"azureml-defaults\": \"1.20.0\", \"azureml-dataset-runtime\": \"1.20.0\", \"azureml-dataprep\": \"2.7.3\", \"azureml-dataprep-rslex\": \"1.5.0\", \"azureml-dataprep-native\": \"27.0.0\", \"azureml-datadrift\": \"1.20.0\", \"azureml-core\": \"1.20.0\", \"azureml-contrib-services\": \"1.20.0\", \"azureml-contrib-server\": \"1.20.0\", \"azureml-contrib-reinforcementlearning\": \"1.20.0\", \"azureml-contrib-pipeline-steps\": \"1.20.0\", \"azureml-contrib-notebook\": \"1.20.0\", \"azureml-contrib-interpret\": \"1.20.0\", \"azureml-contrib-gbdt\": \"1.20.0\", \"azureml-contrib-fairness\": \"1.20.0\", \"azureml-contrib-dataset\": \"1.20.0\", \"azureml-cli-common\": \"1.20.0\", \"azureml-automl-runtime\": \"1.20.0\", \"azureml-automl-core\": \"1.20.0\", \"azureml-accel-models\": \"1.20.0\"}',\n",
       "  '_aml_system_scenario_identification': 'Remote.Parent',\n",
       "  'ClientType': 'SDK',\n",
       "  'environment_cpu_name': 'AzureML-AutoML',\n",
       "  'environment_cpu_label': 'prod',\n",
       "  'environment_gpu_name': 'AzureML-AutoML-GPU',\n",
       "  'environment_gpu_label': 'prod',\n",
       "  'root_attribution': 'automl',\n",
       "  'attribution': 'AutoML',\n",
       "  'Orchestrator': 'AutoML',\n",
       "  'CancelUri': 'https://southcentralus.experiments.azureml.net/jasmine/v1.0/subscriptions/5a4ab2ba-6c51-4805-8155-58759ad589d8/resourceGroups/aml-quickstarts-136423/providers/Microsoft.MachineLearningServices/workspaces/quick-starts-ws-136423/experimentids/1ca522c4-2918-4e30-a1ea-9ce372bef5e2/cancel/AutoML_d60e34fe-f18d-46a4-8dfe-77b12dca0a2f',\n",
       "  'ClientSdkVersion': '1.20.0.post1',\n",
       "  'snapshotId': '00000000-0000-0000-0000-000000000000',\n",
       "  'SetupRunId': 'AutoML_d60e34fe-f18d-46a4-8dfe-77b12dca0a2f_setup',\n",
       "  'SetupRunContainerId': 'dcid.AutoML_d60e34fe-f18d-46a4-8dfe-77b12dca0a2f_setup',\n",
       "  'FeaturizationRunJsonPath': 'featurizer_container.json',\n",
       "  'FeaturizationRunId': 'AutoML_d60e34fe-f18d-46a4-8dfe-77b12dca0a2f_featurize',\n",
       "  'ProblemInfoJsonString': '{\"dataset_num_categorical\": 0, \"is_sparse\": false, \"subsampling\": false, \"dataset_classes\": 6, \"dataset_features\": 11, \"dataset_samples\": 1279, \"single_frequency_class_detected\": false}',\n",
       "  'ModelExplainRunId': 'AutoML_d60e34fe-f18d-46a4-8dfe-77b12dca0a2f_ModelExplain'},\n",
       " 'inputDatasets': [{'dataset': {'id': '678ebf6f-ff60-4ce2-8395-fc2ab5862b93'}, 'consumptionDetails': {'type': 'RunInput', 'inputName': 'training_data', 'mechanism': 'Direct'}}],\n",
       " 'outputDatasets': [],\n",
       " 'logFiles': {},\n",
       " 'submittedBy': 'ODL_User 136423'}"
      ]
     },
     "execution_count": 10,
     "metadata": {},
     "output_type": "execute_result"
    }
   ],
   "source": [
    "# TODO: Submit your experiment\n",
    "from azureml.widgets import RunDetails\n",
    "\n",
    "automl_run = experiment.submit(automl_config, show_output=True)\n",
    "automl_run.wait_for_completion(show_output=True)"
   ]
  },
  {
   "cell_type": "markdown",
   "metadata": {},
   "source": [
    "## Run Details\n",
    "\n",
    "OPTIONAL: Write about the different models trained and their performance. Why do you think some models did better than others?\n",
    "\n",
    "TODO: In the cell below, use the `RunDetails` widget to show the different experiments."
   ]
  },
  {
   "cell_type": "code",
   "execution_count": 17,
   "metadata": {
    "gather": {
     "logged": 1598431121770
    },
    "jupyter": {
     "outputs_hidden": false,
     "source_hidden": false
    },
    "nteract": {
     "transient": {
      "deleting": false
     }
    }
   },
   "outputs": [
    {
     "data": {
      "application/vnd.jupyter.widget-view+json": {
       "model_id": "9043834091a24751bf3d0a0abde02ce8",
       "version_major": 2,
       "version_minor": 0
      },
      "text/plain": [
       "_AutoMLWidget(widget_settings={'childWidgetDisplay': 'popup', 'send_telemetry': False, 'log_level': 'INFO', 's…"
      ]
     },
     "metadata": {},
     "output_type": "display_data"
    },
    {
     "data": {
      "application/aml.mini.widget.v1": "{\"status\": \"Completed\", \"workbench_run_details_uri\": \"https://ml.azure.com/experiments/ml-capstone-1/runs/AutoML_f2600643-baea-4a05-8786-d99bb8e114b5?wsid=/subscriptions/d7f39349-a66b-446e-aba6-0053c2cf1c11/resourcegroups/aml-quickstarts-136033/workspaces/quick-starts-ws-136033\", \"run_id\": \"AutoML_f2600643-baea-4a05-8786-d99bb8e114b5\", \"run_properties\": {\"run_id\": \"AutoML_f2600643-baea-4a05-8786-d99bb8e114b5\", \"created_utc\": \"2021-01-25T21:07:25.196888Z\", \"properties\": {\"num_iterations\": \"1000\", \"training_type\": \"TrainFull\", \"acquisition_function\": \"EI\", \"primary_metric\": \"accuracy\", \"train_split\": \"0\", \"acquisition_parameter\": \"0\", \"num_cross_validation\": null, \"target\": \"auto-ml\", \"AMLSettingsJsonString\": \"{\\\"path\\\":null,\\\"name\\\":\\\"ml-capstone-1\\\",\\\"subscription_id\\\":\\\"d7f39349-a66b-446e-aba6-0053c2cf1c11\\\",\\\"resource_group\\\":\\\"aml-quickstarts-136033\\\",\\\"workspace_name\\\":\\\"quick-starts-ws-136033\\\",\\\"region\\\":\\\"southcentralus\\\",\\\"compute_target\\\":\\\"auto-ml\\\",\\\"spark_service\\\":null,\\\"azure_service\\\":\\\"remote\\\",\\\"many_models\\\":false,\\\"pipeline_fetch_max_batch_size\\\":1,\\\"iterations\\\":1000,\\\"primary_metric\\\":\\\"accuracy\\\",\\\"task_type\\\":\\\"classification\\\",\\\"data_script\\\":null,\\\"validation_size\\\":0.0,\\\"n_cross_validations\\\":null,\\\"y_min\\\":null,\\\"y_max\\\":null,\\\"num_classes\\\":null,\\\"featurization\\\":\\\"auto\\\",\\\"_ignore_package_version_incompatibilities\\\":false,\\\"is_timeseries\\\":false,\\\"max_cores_per_iteration\\\":1,\\\"max_concurrent_iterations\\\":5,\\\"iteration_timeout_minutes\\\":null,\\\"mem_in_mb\\\":null,\\\"enforce_time_on_windows\\\":false,\\\"experiment_timeout_minutes\\\":20,\\\"experiment_exit_score\\\":null,\\\"whitelist_models\\\":null,\\\"blacklist_algos\\\":[\\\"TensorFlowLinearClassifier\\\",\\\"TensorFlowDNN\\\"],\\\"supported_models\\\":[\\\"MultinomialNaiveBayes\\\",\\\"BernoulliNaiveBayes\\\",\\\"ExtremeRandomTrees\\\",\\\"RandomForest\\\",\\\"LightGBM\\\",\\\"SGD\\\",\\\"GradientBoosting\\\",\\\"LinearSVM\\\",\\\"XGBoostClassifier\\\",\\\"LogisticRegression\\\",\\\"SVM\\\",\\\"KNN\\\",\\\"DecisionTree\\\",\\\"TensorFlowLinearClassifier\\\",\\\"TensorFlowDNN\\\",\\\"AveragedPerceptronClassifier\\\"],\\\"auto_blacklist\\\":true,\\\"blacklist_samples_reached\\\":false,\\\"exclude_nan_labels\\\":true,\\\"verbosity\\\":20,\\\"_debug_log\\\":\\\"azureml_automl.log\\\",\\\"show_warnings\\\":false,\\\"model_explainability\\\":true,\\\"service_url\\\":null,\\\"sdk_url\\\":null,\\\"sdk_packages\\\":null,\\\"enable_onnx_compatible_models\\\":false,\\\"enable_split_onnx_featurizer_estimator_models\\\":false,\\\"vm_type\\\":\\\"STANDARD_D2_V2\\\",\\\"telemetry_verbosity\\\":20,\\\"send_telemetry\\\":true,\\\"enable_dnn\\\":false,\\\"scenario\\\":\\\"SDK-1.13.0\\\",\\\"environment_label\\\":null,\\\"force_text_dnn\\\":false,\\\"enable_feature_sweeping\\\":true,\\\"enable_early_stopping\\\":true,\\\"early_stopping_n_iters\\\":10,\\\"metrics\\\":null,\\\"enable_ensembling\\\":true,\\\"enable_stack_ensembling\\\":true,\\\"ensemble_iterations\\\":15,\\\"enable_tf\\\":false,\\\"enable_subsampling\\\":null,\\\"subsample_seed\\\":null,\\\"enable_nimbusml\\\":false,\\\"enable_streaming\\\":false,\\\"force_streaming\\\":false,\\\"track_child_runs\\\":true,\\\"allowed_private_models\\\":[],\\\"label_column_name\\\":\\\"quality\\\",\\\"weight_column_name\\\":null,\\\"cv_split_column_names\\\":null,\\\"enable_local_managed\\\":false,\\\"_local_managed_run_id\\\":null,\\\"cost_mode\\\":1,\\\"lag_length\\\":0,\\\"metric_operation\\\":\\\"maximize\\\",\\\"preprocess\\\":true}\", \"DataPrepJsonString\": \"{\\\\\\\"training_data\\\\\\\": \\\\\\\"{\\\\\\\\\\\\\\\"blocks\\\\\\\\\\\\\\\": [{\\\\\\\\\\\\\\\"id\\\\\\\\\\\\\\\": \\\\\\\\\\\\\\\"5a539b37-3975-40ff-9c80-63628b1801df\\\\\\\\\\\\\\\", \\\\\\\\\\\\\\\"type\\\\\\\\\\\\\\\": \\\\\\\\\\\\\\\"Microsoft.DPrep.GetDatastoreFilesBlock\\\\\\\\\\\\\\\", \\\\\\\\\\\\\\\"arguments\\\\\\\\\\\\\\\": {\\\\\\\\\\\\\\\"datastores\\\\\\\\\\\\\\\": [{\\\\\\\\\\\\\\\"datastoreName\\\\\\\\\\\\\\\": \\\\\\\\\\\\\\\"workspaceblobstore\\\\\\\\\\\\\\\", \\\\\\\\\\\\\\\"path\\\\\\\\\\\\\\\": \\\\\\\\\\\\\\\"capstone-project/train_data.csv\\\\\\\\\\\\\\\", \\\\\\\\\\\\\\\"resourceGroup\\\\\\\\\\\\\\\": \\\\\\\\\\\\\\\"aml-quickstarts-136033\\\\\\\\\\\\\\\", \\\\\\\\\\\\\\\"subscription\\\\\\\\\\\\\\\": \\\\\\\\\\\\\\\"d7f39349-a66b-446e-aba6-0053c2cf1c11\\\\\\\\\\\\\\\", \\\\\\\\\\\\\\\"workspaceName\\\\\\\\\\\\\\\": \\\\\\\\\\\\\\\"quick-starts-ws-136033\\\\\\\\\\\\\\\"}]}, \\\\\\\\\\\\\\\"localData\\\\\\\\\\\\\\\": {}, \\\\\\\\\\\\\\\"isEnabled\\\\\\\\\\\\\\\": true, \\\\\\\\\\\\\\\"name\\\\\\\\\\\\\\\": null, \\\\\\\\\\\\\\\"annotation\\\\\\\\\\\\\\\": null}, {\\\\\\\\\\\\\\\"id\\\\\\\\\\\\\\\": \\\\\\\\\\\\\\\"4d9b56cd-7bda-47be-97f0-242389e32d44\\\\\\\\\\\\\\\", \\\\\\\\\\\\\\\"type\\\\\\\\\\\\\\\": \\\\\\\\\\\\\\\"Microsoft.DPrep.ParseDelimitedBlock\\\\\\\\\\\\\\\", \\\\\\\\\\\\\\\"arguments\\\\\\\\\\\\\\\": {\\\\\\\\\\\\\\\"columnHeadersMode\\\\\\\\\\\\\\\": 3, \\\\\\\\\\\\\\\"fileEncoding\\\\\\\\\\\\\\\": 0, \\\\\\\\\\\\\\\"handleQuotedLineBreaks\\\\\\\\\\\\\\\": false, \\\\\\\\\\\\\\\"preview\\\\\\\\\\\\\\\": false, \\\\\\\\\\\\\\\"separator\\\\\\\\\\\\\\\": \\\\\\\\\\\\\\\",\\\\\\\\\\\\\\\", \\\\\\\\\\\\\\\"skipRows\\\\\\\\\\\\\\\": 0, \\\\\\\\\\\\\\\"skipRowsMode\\\\\\\\\\\\\\\": 0}, \\\\\\\\\\\\\\\"localData\\\\\\\\\\\\\\\": {}, \\\\\\\\\\\\\\\"isEnabled\\\\\\\\\\\\\\\": true, \\\\\\\\\\\\\\\"name\\\\\\\\\\\\\\\": null, \\\\\\\\\\\\\\\"annotation\\\\\\\\\\\\\\\": null}, {\\\\\\\\\\\\\\\"id\\\\\\\\\\\\\\\": \\\\\\\\\\\\\\\"1354d160-c911-4fb1-b2f2-1993fc5f7edd\\\\\\\\\\\\\\\", \\\\\\\\\\\\\\\"type\\\\\\\\\\\\\\\": \\\\\\\\\\\\\\\"Microsoft.DPrep.DropColumnsBlock\\\\\\\\\\\\\\\", \\\\\\\\\\\\\\\"arguments\\\\\\\\\\\\\\\": {\\\\\\\\\\\\\\\"columns\\\\\\\\\\\\\\\": {\\\\\\\\\\\\\\\"type\\\\\\\\\\\\\\\": 0, \\\\\\\\\\\\\\\"details\\\\\\\\\\\\\\\": {\\\\\\\\\\\\\\\"selectedColumns\\\\\\\\\\\\\\\": [\\\\\\\\\\\\\\\"Path\\\\\\\\\\\\\\\"]}}}, \\\\\\\\\\\\\\\"localData\\\\\\\\\\\\\\\": {}, \\\\\\\\\\\\\\\"isEnabled\\\\\\\\\\\\\\\": true, \\\\\\\\\\\\\\\"name\\\\\\\\\\\\\\\": null, \\\\\\\\\\\\\\\"annotation\\\\\\\\\\\\\\\": null}, {\\\\\\\\\\\\\\\"id\\\\\\\\\\\\\\\": \\\\\\\\\\\\\\\"293b76db-39a8-4911-b242-ba6987fca27f\\\\\\\\\\\\\\\", \\\\\\\\\\\\\\\"type\\\\\\\\\\\\\\\": \\\\\\\\\\\\\\\"Microsoft.DPrep.SetColumnTypesBlock\\\\\\\\\\\\\\\", \\\\\\\\\\\\\\\"arguments\\\\\\\\\\\\\\\": {\\\\\\\\\\\\\\\"columnConversion\\\\\\\\\\\\\\\": [{\\\\\\\\\\\\\\\"column\\\\\\\\\\\\\\\": {\\\\\\\\\\\\\\\"type\\\\\\\\\\\\\\\": 2, \\\\\\\\\\\\\\\"details\\\\\\\\\\\\\\\": {\\\\\\\\\\\\\\\"selectedColumn\\\\\\\\\\\\\\\": \\\\\\\\\\\\\\\"fixed acidity\\\\\\\\\\\\\\\"}}, \\\\\\\\\\\\\\\"typeProperty\\\\\\\\\\\\\\\": 3}, {\\\\\\\\\\\\\\\"column\\\\\\\\\\\\\\\": {\\\\\\\\\\\\\\\"type\\\\\\\\\\\\\\\": 2, \\\\\\\\\\\\\\\"details\\\\\\\\\\\\\\\": {\\\\\\\\\\\\\\\"selectedColumn\\\\\\\\\\\\\\\": \\\\\\\\\\\\\\\"volatile acidity\\\\\\\\\\\\\\\"}}, \\\\\\\\\\\\\\\"typeProperty\\\\\\\\\\\\\\\": 3}, {\\\\\\\\\\\\\\\"column\\\\\\\\\\\\\\\": {\\\\\\\\\\\\\\\"type\\\\\\\\\\\\\\\": 2, \\\\\\\\\\\\\\\"details\\\\\\\\\\\\\\\": {\\\\\\\\\\\\\\\"selectedColumn\\\\\\\\\\\\\\\": \\\\\\\\\\\\\\\"citric acid\\\\\\\\\\\\\\\"}}, \\\\\\\\\\\\\\\"typeProperty\\\\\\\\\\\\\\\": 3}, {\\\\\\\\\\\\\\\"column\\\\\\\\\\\\\\\": {\\\\\\\\\\\\\\\"type\\\\\\\\\\\\\\\": 2, \\\\\\\\\\\\\\\"details\\\\\\\\\\\\\\\": {\\\\\\\\\\\\\\\"selectedColumn\\\\\\\\\\\\\\\": \\\\\\\\\\\\\\\"residual sugar\\\\\\\\\\\\\\\"}}, \\\\\\\\\\\\\\\"typeProperty\\\\\\\\\\\\\\\": 3}, {\\\\\\\\\\\\\\\"column\\\\\\\\\\\\\\\": {\\\\\\\\\\\\\\\"type\\\\\\\\\\\\\\\": 2, \\\\\\\\\\\\\\\"details\\\\\\\\\\\\\\\": {\\\\\\\\\\\\\\\"selectedColumn\\\\\\\\\\\\\\\": \\\\\\\\\\\\\\\"chlorides\\\\\\\\\\\\\\\"}}, \\\\\\\\\\\\\\\"typeProperty\\\\\\\\\\\\\\\": 3}, {\\\\\\\\\\\\\\\"column\\\\\\\\\\\\\\\": {\\\\\\\\\\\\\\\"type\\\\\\\\\\\\\\\": 2, \\\\\\\\\\\\\\\"details\\\\\\\\\\\\\\\": {\\\\\\\\\\\\\\\"selectedColumn\\\\\\\\\\\\\\\": \\\\\\\\\\\\\\\"free sulfur dioxide\\\\\\\\\\\\\\\"}}, \\\\\\\\\\\\\\\"typeProperty\\\\\\\\\\\\\\\": 3}, {\\\\\\\\\\\\\\\"column\\\\\\\\\\\\\\\": {\\\\\\\\\\\\\\\"type\\\\\\\\\\\\\\\": 2, \\\\\\\\\\\\\\\"details\\\\\\\\\\\\\\\": {\\\\\\\\\\\\\\\"selectedColumn\\\\\\\\\\\\\\\": \\\\\\\\\\\\\\\"total sulfur dioxide\\\\\\\\\\\\\\\"}}, \\\\\\\\\\\\\\\"typeProperty\\\\\\\\\\\\\\\": 3}, {\\\\\\\\\\\\\\\"column\\\\\\\\\\\\\\\": {\\\\\\\\\\\\\\\"type\\\\\\\\\\\\\\\": 2, \\\\\\\\\\\\\\\"details\\\\\\\\\\\\\\\": {\\\\\\\\\\\\\\\"selectedColumn\\\\\\\\\\\\\\\": \\\\\\\\\\\\\\\"density\\\\\\\\\\\\\\\"}}, \\\\\\\\\\\\\\\"typeProperty\\\\\\\\\\\\\\\": 3}, {\\\\\\\\\\\\\\\"column\\\\\\\\\\\\\\\": {\\\\\\\\\\\\\\\"type\\\\\\\\\\\\\\\": 2, \\\\\\\\\\\\\\\"details\\\\\\\\\\\\\\\": {\\\\\\\\\\\\\\\"selectedColumn\\\\\\\\\\\\\\\": \\\\\\\\\\\\\\\"pH\\\\\\\\\\\\\\\"}}, \\\\\\\\\\\\\\\"typeProperty\\\\\\\\\\\\\\\": 3}, {\\\\\\\\\\\\\\\"column\\\\\\\\\\\\\\\": {\\\\\\\\\\\\\\\"type\\\\\\\\\\\\\\\": 2, \\\\\\\\\\\\\\\"details\\\\\\\\\\\\\\\": {\\\\\\\\\\\\\\\"selectedColumn\\\\\\\\\\\\\\\": \\\\\\\\\\\\\\\"sulphates\\\\\\\\\\\\\\\"}}, \\\\\\\\\\\\\\\"typeProperty\\\\\\\\\\\\\\\": 3}, {\\\\\\\\\\\\\\\"column\\\\\\\\\\\\\\\": {\\\\\\\\\\\\\\\"type\\\\\\\\\\\\\\\": 2, \\\\\\\\\\\\\\\"details\\\\\\\\\\\\\\\": {\\\\\\\\\\\\\\\"selectedColumn\\\\\\\\\\\\\\\": \\\\\\\\\\\\\\\"alcohol\\\\\\\\\\\\\\\"}}, \\\\\\\\\\\\\\\"typeProperty\\\\\\\\\\\\\\\": 3}, {\\\\\\\\\\\\\\\"column\\\\\\\\\\\\\\\": {\\\\\\\\\\\\\\\"type\\\\\\\\\\\\\\\": 2, \\\\\\\\\\\\\\\"details\\\\\\\\\\\\\\\": {\\\\\\\\\\\\\\\"selectedColumn\\\\\\\\\\\\\\\": \\\\\\\\\\\\\\\"quality\\\\\\\\\\\\\\\"}}, \\\\\\\\\\\\\\\"typeProperty\\\\\\\\\\\\\\\": 2}]}, \\\\\\\\\\\\\\\"localData\\\\\\\\\\\\\\\": {}, \\\\\\\\\\\\\\\"isEnabled\\\\\\\\\\\\\\\": true, \\\\\\\\\\\\\\\"name\\\\\\\\\\\\\\\": null, \\\\\\\\\\\\\\\"annotation\\\\\\\\\\\\\\\": null}], \\\\\\\\\\\\\\\"inspectors\\\\\\\\\\\\\\\": [], \\\\\\\\\\\\\\\"meta\\\\\\\\\\\\\\\": {\\\\\\\\\\\\\\\"savedDatasetId\\\\\\\\\\\\\\\": \\\\\\\\\\\\\\\"c938b7ff-b871-4c64-8778-10a5ca015bba\\\\\\\\\\\\\\\", \\\\\\\\\\\\\\\"datasetType\\\\\\\\\\\\\\\": \\\\\\\\\\\\\\\"tabular\\\\\\\\\\\\\\\", \\\\\\\\\\\\\\\"subscriptionId\\\\\\\\\\\\\\\": \\\\\\\\\\\\\\\"d7f39349-a66b-446e-aba6-0053c2cf1c11\\\\\\\\\\\\\\\", \\\\\\\\\\\\\\\"workspaceId\\\\\\\\\\\\\\\": \\\\\\\\\\\\\\\"89c022fe-3c8f-458b-b94c-316da60f1ca3\\\\\\\\\\\\\\\", \\\\\\\\\\\\\\\"workspaceLocation\\\\\\\\\\\\\\\": \\\\\\\\\\\\\\\"southcentralus\\\\\\\\\\\\\\\"}}\\\\\\\", \\\\\\\"activities\\\\\\\": 0}\", \"EnableSubsampling\": null, \"runTemplate\": \"AutoML\", \"azureml.runsource\": \"automl\", \"display_task_type\": \"classification\", \"dependencies_versions\": \"{\\\"azureml-widgets\\\": \\\"1.19.0\\\", \\\"azureml-train\\\": \\\"1.19.0\\\", \\\"azureml-train-restclients-hyperdrive\\\": \\\"1.19.0\\\", \\\"azureml-train-core\\\": \\\"1.19.0\\\", \\\"azureml-train-automl\\\": \\\"1.19.0\\\", \\\"azureml-train-automl-runtime\\\": \\\"1.19.0\\\", \\\"azureml-train-automl-client\\\": \\\"1.19.0\\\", \\\"azureml-tensorboard\\\": \\\"1.19.0\\\", \\\"azureml-telemetry\\\": \\\"1.19.0\\\", \\\"azureml-sdk\\\": \\\"1.19.0\\\", \\\"azureml-samples\\\": \\\"0+unknown\\\", \\\"azureml-pipeline\\\": \\\"1.19.0\\\", \\\"azureml-pipeline-steps\\\": \\\"1.19.0\\\", \\\"azureml-pipeline-core\\\": \\\"1.19.0\\\", \\\"azureml-opendatasets\\\": \\\"1.19.0\\\", \\\"azureml-model-management-sdk\\\": \\\"1.0.1b6.post1\\\", \\\"azureml-mlflow\\\": \\\"1.19.0\\\", \\\"azureml-interpret\\\": \\\"1.19.0\\\", \\\"azureml-explain-model\\\": \\\"1.19.0\\\", \\\"azureml-defaults\\\": \\\"1.19.0\\\", \\\"azureml-dataset-runtime\\\": \\\"1.19.0.post1\\\", \\\"azureml-dataprep\\\": \\\"2.6.1\\\", \\\"azureml-dataprep-rslex\\\": \\\"1.4.0\\\", \\\"azureml-dataprep-native\\\": \\\"26.0.0\\\", \\\"azureml-datadrift\\\": \\\"1.19.0\\\", \\\"azureml-core\\\": \\\"1.19.0\\\", \\\"azureml-contrib-services\\\": \\\"1.19.0\\\", \\\"azureml-contrib-server\\\": \\\"1.19.0\\\", \\\"azureml-contrib-reinforcementlearning\\\": \\\"1.19.0\\\", \\\"azureml-contrib-pipeline-steps\\\": \\\"1.19.0\\\", \\\"azureml-contrib-notebook\\\": \\\"1.19.0\\\", \\\"azureml-contrib-interpret\\\": \\\"1.19.0\\\", \\\"azureml-contrib-gbdt\\\": \\\"1.19.0\\\", \\\"azureml-contrib-fairness\\\": \\\"1.19.0\\\", \\\"azureml-contrib-dataset\\\": \\\"1.19.0\\\", \\\"azureml-cli-common\\\": \\\"1.19.0\\\", \\\"azureml-automl-runtime\\\": \\\"1.19.0\\\", \\\"azureml-automl-core\\\": \\\"1.19.0\\\", \\\"azureml-accel-models\\\": \\\"1.19.0\\\"}\", \"_aml_system_scenario_identification\": \"Remote.Parent\", \"ClientType\": \"SDK\", \"environment_cpu_name\": \"AzureML-AutoML\", \"environment_cpu_label\": \"prod\", \"environment_gpu_name\": \"AzureML-AutoML-GPU\", \"environment_gpu_label\": \"prod\", \"root_attribution\": \"automl\", \"attribution\": \"AutoML\", \"Orchestrator\": \"AutoML\", \"CancelUri\": \"https://southcentralus.experiments.azureml.net/jasmine/v1.0/subscriptions/d7f39349-a66b-446e-aba6-0053c2cf1c11/resourceGroups/aml-quickstarts-136033/providers/Microsoft.MachineLearningServices/workspaces/quick-starts-ws-136033/experimentids/356deccb-8b3d-4873-a30e-6a02aa09d5ec/cancel/AutoML_f2600643-baea-4a05-8786-d99bb8e114b5\", \"ClientSdkVersion\": \"1.20.0.post1\", \"snapshotId\": \"00000000-0000-0000-0000-000000000000\", \"SetupRunId\": \"AutoML_f2600643-baea-4a05-8786-d99bb8e114b5_setup\", \"SetupRunContainerId\": \"dcid.AutoML_f2600643-baea-4a05-8786-d99bb8e114b5_setup\", \"FeaturizationRunJsonPath\": \"featurizer_container.json\", \"FeaturizationRunId\": \"AutoML_f2600643-baea-4a05-8786-d99bb8e114b5_featurize\", \"ProblemInfoJsonString\": \"{\\\"dataset_num_categorical\\\": 0, \\\"is_sparse\\\": false, \\\"subsampling\\\": false, \\\"dataset_classes\\\": 6, \\\"dataset_features\\\": 11, \\\"dataset_samples\\\": 1279, \\\"single_frequency_class_detected\\\": false}\", \"ModelExplainRunId\": \"AutoML_f2600643-baea-4a05-8786-d99bb8e114b5_ModelExplain\"}, \"tags\": {\"model_explain_run\": \"best_run\", \"_aml_system_azureml.automlComponent\": \"AutoML\", \"pipeline_id\": \"\", \"score\": \"\", \"predicted_cost\": \"\", \"fit_time\": \"\", \"training_percent\": \"\", \"iteration\": \"\", \"run_preprocessor\": \"\", \"run_algorithm\": \"\", \"dynamic_whitelisting_iterations\": \"<25>;<30>;<35>;\", \"automl_best_child_run_id\": \"AutoML_f2600643-baea-4a05-8786-d99bb8e114b5_38\", \"model_explain_best_run_child_id\": \"AutoML_f2600643-baea-4a05-8786-d99bb8e114b5_38\"}, \"end_time_utc\": \"2021-01-25T21:33:03.719469Z\", \"status\": \"Completed\", \"log_files\": {}, \"log_groups\": [], \"run_duration\": \"0:25:38\"}, \"child_runs\": [{\"run_id\": \"AutoML_f2600643-baea-4a05-8786-d99bb8e114b5_1\", \"run_number\": 5, \"metric\": null, \"status\": \"Completed\", \"run_type\": \"azureml.scriptrun\", \"training_percent\": \"100\", \"start_time\": \"2021-01-25T21:19:37.005922Z\", \"end_time\": \"2021-01-25T21:20:30.337392Z\", \"created_time\": \"2021-01-25T21:16:58.314366Z\", \"created_time_dt\": \"2021-01-25T21:16:58.314366Z\", \"duration\": \"0:03:32\", \"iteration\": \"1\", \"goal\": \"accuracy_max\", \"run_name\": \"MaxAbsScaler, XGBoostClassifier\", \"run_properties\": \"copy=True\", \"primary_metric\": 0.61453053, \"best_metric\": 0.63956599}, {\"run_id\": \"AutoML_f2600643-baea-4a05-8786-d99bb8e114b5_2\", \"run_number\": 6, \"metric\": null, \"status\": \"Completed\", \"run_type\": \"azureml.scriptrun\", \"training_percent\": \"100\", \"start_time\": \"2021-01-25T21:18:03.472108Z\", \"end_time\": \"2021-01-25T21:19:30.726332Z\", \"created_time\": \"2021-01-25T21:16:58.341007Z\", \"created_time_dt\": \"2021-01-25T21:16:58.341007Z\", \"duration\": \"0:02:32\", \"iteration\": \"2\", \"goal\": \"accuracy_max\", \"run_name\": \"MinMaxScaler, RandomForest\", \"run_properties\": \"copy=True, feature_range=(0, 1\", \"primary_metric\": 0.58092453, \"best_metric\": 0.63956599}, {\"run_id\": \"AutoML_f2600643-baea-4a05-8786-d99bb8e114b5_4\", \"run_number\": 7, \"metric\": null, \"status\": \"Completed\", \"run_type\": \"azureml.scriptrun\", \"training_percent\": \"100\", \"start_time\": \"2021-01-25T21:20:33.08394Z\", \"end_time\": \"2021-01-25T21:21:24.519298Z\", \"created_time\": \"2021-01-25T21:16:58.375723Z\", \"created_time_dt\": \"2021-01-25T21:16:58.375723Z\", \"duration\": \"0:04:26\", \"iteration\": \"4\", \"goal\": \"accuracy_max\", \"run_name\": \"MinMaxScaler, RandomForest\", \"run_properties\": \"copy=True, feature_range=(0, 1\", \"primary_metric\": 0.53245154, \"best_metric\": 0.63956599}, {\"run_id\": \"AutoML_f2600643-baea-4a05-8786-d99bb8e114b5_3\", \"run_number\": 8, \"metric\": null, \"status\": \"Completed\", \"run_type\": \"azureml.scriptrun\", \"training_percent\": \"100\", \"start_time\": \"2021-01-25T21:17:09.465543Z\", \"end_time\": \"2021-01-25T21:17:59.845772Z\", \"created_time\": \"2021-01-25T21:16:58.405725Z\", \"created_time_dt\": \"2021-01-25T21:16:58.405725Z\", \"duration\": \"0:01:01\", \"iteration\": \"3\", \"goal\": \"accuracy_max\", \"run_name\": \"MinMaxScaler, RandomForest\", \"run_properties\": \"copy=True, feature_range=(0, 1\", \"primary_metric\": 0.58952073, \"best_metric\": 0.63956599}, {\"run_id\": \"AutoML_f2600643-baea-4a05-8786-d99bb8e114b5_0\", \"run_number\": 9, \"metric\": null, \"status\": \"Completed\", \"run_type\": \"azureml.scriptrun\", \"training_percent\": \"100\", \"start_time\": \"2021-01-25T21:18:42.377578Z\", \"end_time\": \"2021-01-25T21:22:22.487694Z\", \"created_time\": \"2021-01-25T21:16:58.570447Z\", \"created_time_dt\": \"2021-01-25T21:16:58.570447Z\", \"duration\": \"0:05:23\", \"iteration\": \"0\", \"goal\": \"accuracy_max\", \"run_name\": \"MaxAbsScaler, LightGBM\", \"run_properties\": \"copy=True\", \"primary_metric\": 0.63956599, \"best_metric\": 0.63956599}, {\"run_id\": \"AutoML_f2600643-baea-4a05-8786-d99bb8e114b5_5\", \"run_number\": 10, \"metric\": null, \"status\": \"Completed\", \"run_type\": \"azureml.scriptrun\", \"training_percent\": \"100\", \"start_time\": \"2021-01-25T21:21:16.26409Z\", \"end_time\": \"2021-01-25T21:24:57.160163Z\", \"created_time\": \"2021-01-25T21:18:04.908836Z\", \"created_time_dt\": \"2021-01-25T21:18:04.908836Z\", \"duration\": \"0:06:52\", \"iteration\": \"5\", \"goal\": \"accuracy_max\", \"run_name\": \"StandardScalerWrapper, XGBoostClassifier\", \"run_properties\": \"<azureml.automl.runtime.shared.model_wrappers.StandardScalerWrapper object at 0x7fd91ea48a20\", \"primary_metric\": 0.62626213, \"best_metric\": 0.63956599}, {\"run_id\": \"AutoML_f2600643-baea-4a05-8786-d99bb8e114b5_6\", \"run_number\": 11, \"metric\": null, \"status\": \"Completed\", \"run_type\": \"azureml.scriptrun\", \"training_percent\": \"100\", \"start_time\": \"2021-01-25T21:21:16.53429Z\", \"end_time\": \"2021-01-25T21:26:44.262417Z\", \"created_time\": \"2021-01-25T21:19:33.364515Z\", \"created_time_dt\": \"2021-01-25T21:19:33.364515Z\", \"duration\": \"0:07:10\", \"iteration\": \"6\", \"goal\": \"accuracy_max\", \"run_name\": \"MinMaxScaler, SVM\", \"run_properties\": \"copy=True, feature_range=(0, 1\", \"primary_metric\": 0.60593983, \"best_metric\": 0.63956599}, {\"run_id\": \"AutoML_f2600643-baea-4a05-8786-d99bb8e114b5_7\", \"run_number\": 12, \"metric\": null, \"status\": \"Completed\", \"run_type\": \"azureml.scriptrun\", \"training_percent\": \"100\", \"start_time\": \"2021-01-25T21:21:27.386209Z\", \"end_time\": \"2021-01-25T21:22:29.941479Z\", \"created_time\": \"2021-01-25T21:20:33.207213Z\", \"created_time_dt\": \"2021-01-25T21:20:33.207213Z\", \"duration\": \"0:01:56\", \"iteration\": \"7\", \"goal\": \"accuracy_max\", \"run_name\": \"MinMaxScaler, SVM\", \"run_properties\": \"copy=True, feature_range=(0, 1\", \"primary_metric\": 0.59498704, \"best_metric\": 0.63956599}, {\"run_id\": \"AutoML_f2600643-baea-4a05-8786-d99bb8e114b5_8\", \"run_number\": 13, \"metric\": null, \"status\": \"Completed\", \"run_type\": \"azureml.scriptrun\", \"training_percent\": \"100\", \"start_time\": \"2021-01-25T21:22:21.524471Z\", \"end_time\": \"2021-01-25T21:23:12.661967Z\", \"created_time\": \"2021-01-25T21:21:27.334055Z\", \"created_time_dt\": \"2021-01-25T21:21:27.334055Z\", \"duration\": \"0:01:45\", \"iteration\": \"8\", \"goal\": \"accuracy_max\", \"run_name\": \"SparseNormalizer, XGBoostClassifier\", \"run_properties\": \"<azureml.automl.runtime.shared.model_wrappers.SparseNormalizer object at 0x7f2757ba05c0\", \"primary_metric\": 0.62081231, \"best_metric\": 0.63956599}, {\"run_id\": \"AutoML_f2600643-baea-4a05-8786-d99bb8e114b5_9\", \"run_number\": 14, \"metric\": null, \"status\": \"Completed\", \"run_type\": \"azureml.scriptrun\", \"training_percent\": \"100\", \"start_time\": \"2021-01-25T21:22:41.582616Z\", \"end_time\": \"2021-01-25T21:23:33.202271Z\", \"created_time\": \"2021-01-25T21:22:25.003587Z\", \"created_time_dt\": \"2021-01-25T21:22:25.003587Z\", \"duration\": \"0:01:08\", \"iteration\": \"9\", \"goal\": \"accuracy_max\", \"run_name\": \"SparseNormalizer, XGBoostClassifier\", \"run_properties\": \"<azureml.automl.runtime.shared.model_wrappers.SparseNormalizer object at 0x7fe861139908\", \"primary_metric\": 0.61923637, \"best_metric\": 0.63956599}, {\"run_id\": \"AutoML_f2600643-baea-4a05-8786-d99bb8e114b5_10\", \"run_number\": 15, \"metric\": null, \"status\": \"Completed\", \"run_type\": \"azureml.scriptrun\", \"training_percent\": \"100\", \"start_time\": \"2021-01-25T21:23:14.372812Z\", \"end_time\": \"2021-01-25T21:24:02.168441Z\", \"created_time\": \"2021-01-25T21:22:32.669865Z\", \"created_time_dt\": \"2021-01-25T21:22:32.669865Z\", \"duration\": \"0:01:29\", \"iteration\": \"10\", \"goal\": \"accuracy_max\", \"run_name\": \"SparseNormalizer, XGBoostClassifier\", \"run_properties\": \"<azureml.automl.runtime.shared.model_wrappers.SparseNormalizer object at 0x7f6ea7d64978\", \"primary_metric\": 0.59577135, \"best_metric\": 0.63956599}, {\"run_id\": \"AutoML_f2600643-baea-4a05-8786-d99bb8e114b5_11\", \"run_number\": 16, \"metric\": null, \"status\": \"Completed\", \"run_type\": \"azureml.scriptrun\", \"training_percent\": \"100\", \"start_time\": \"2021-01-25T21:23:35.303266Z\", \"end_time\": \"2021-01-25T21:24:26.495801Z\", \"created_time\": \"2021-01-25T21:23:15.071Z\", \"created_time_dt\": \"2021-01-25T21:23:15.071Z\", \"duration\": \"0:01:11\", \"iteration\": \"11\", \"goal\": \"accuracy_max\", \"run_name\": \"MaxAbsScaler, GradientBoosting\", \"run_properties\": \"copy=True\", \"primary_metric\": 0.59264512, \"best_metric\": 0.63956599}, {\"run_id\": \"AutoML_f2600643-baea-4a05-8786-d99bb8e114b5_12\", \"run_number\": 17, \"metric\": null, \"status\": \"Completed\", \"run_type\": \"azureml.scriptrun\", \"training_percent\": \"100\", \"start_time\": \"2021-01-25T21:24:07.915057Z\", \"end_time\": \"2021-01-25T21:24:58.317289Z\", \"created_time\": \"2021-01-25T21:23:35.568674Z\", \"created_time_dt\": \"2021-01-25T21:23:35.568674Z\", \"duration\": \"0:01:22\", \"iteration\": \"12\", \"goal\": \"accuracy_max\", \"run_name\": \"StandardScalerWrapper, RandomForest\", \"run_properties\": \"<azureml.automl.runtime.shared.model_wrappers.StandardScalerWrapper object at 0x7f549c91d9b0\", \"primary_metric\": 0.58404159, \"best_metric\": 0.63956599}, {\"run_id\": \"AutoML_f2600643-baea-4a05-8786-d99bb8e114b5_13\", \"run_number\": 18, \"metric\": null, \"status\": \"Completed\", \"run_type\": \"azureml.scriptrun\", \"training_percent\": \"100\", \"start_time\": \"2021-01-25T21:24:27.754264Z\", \"end_time\": \"2021-01-25T21:25:19.436169Z\", \"created_time\": \"2021-01-25T21:24:04.797351Z\", \"created_time_dt\": \"2021-01-25T21:24:04.797351Z\", \"duration\": \"0:01:14\", \"iteration\": \"13\", \"goal\": \"accuracy_max\", \"run_name\": \"MinMaxScaler, LightGBM\", \"run_properties\": \"copy=True, feature_range=(0, 1\", \"primary_metric\": 0.57623152, \"best_metric\": 0.63956599}, {\"run_id\": \"AutoML_f2600643-baea-4a05-8786-d99bb8e114b5_14\", \"run_number\": 19, \"metric\": null, \"status\": \"Completed\", \"run_type\": \"azureml.scriptrun\", \"training_percent\": \"100\", \"start_time\": \"2021-01-25T21:24:55.1313Z\", \"end_time\": \"2021-01-25T21:25:45.711816Z\", \"created_time\": \"2021-01-25T21:24:28.883041Z\", \"created_time_dt\": \"2021-01-25T21:24:28.883041Z\", \"duration\": \"0:01:16\", \"iteration\": \"14\", \"goal\": \"accuracy_max\", \"run_name\": \"MaxAbsScaler, LightGBM\", \"run_properties\": \"copy=True\", \"primary_metric\": 0.58484605, \"best_metric\": 0.63956599}, {\"run_id\": \"AutoML_f2600643-baea-4a05-8786-d99bb8e114b5_15\", \"run_number\": 20, \"metric\": null, \"status\": \"Completed\", \"run_type\": \"azureml.scriptrun\", \"training_percent\": \"100\", \"start_time\": \"2021-01-25T21:25:10.916149Z\", \"end_time\": \"2021-01-25T21:26:04.408534Z\", \"created_time\": \"2021-01-25T21:24:59.531054Z\", \"created_time_dt\": \"2021-01-25T21:24:59.531054Z\", \"duration\": \"0:01:04\", \"iteration\": \"15\", \"goal\": \"accuracy_max\", \"run_name\": \"StandardScalerWrapper, XGBoostClassifier\", \"run_properties\": \"<azureml.automl.runtime.shared.model_wrappers.StandardScalerWrapper object at 0x7f0dff8f9da0\", \"primary_metric\": 0.57935225, \"best_metric\": 0.63956599}, {\"run_id\": \"AutoML_f2600643-baea-4a05-8786-d99bb8e114b5_16\", \"run_number\": 21, \"metric\": null, \"status\": \"Completed\", \"run_type\": \"azureml.scriptrun\", \"training_percent\": \"100\", \"start_time\": \"2021-01-25T21:25:23.471146Z\", \"end_time\": \"2021-01-25T21:26:18.106329Z\", \"created_time\": \"2021-01-25T21:25:04.428082Z\", \"created_time_dt\": \"2021-01-25T21:25:04.428082Z\", \"duration\": \"0:01:13\", \"iteration\": \"16\", \"goal\": \"accuracy_max\", \"run_name\": \"StandardScalerWrapper, LightGBM\", \"run_properties\": \"<azureml.automl.runtime.shared.model_wrappers.StandardScalerWrapper object at 0x7ff612177b70\", \"primary_metric\": 0.58093919, \"best_metric\": 0.63956599}, {\"run_id\": \"AutoML_f2600643-baea-4a05-8786-d99bb8e114b5_17\", \"run_number\": 22, \"metric\": null, \"status\": \"Completed\", \"run_type\": \"azureml.scriptrun\", \"training_percent\": \"100\", \"start_time\": \"2021-01-25T21:25:46.64141Z\", \"end_time\": \"2021-01-25T21:26:35.479059Z\", \"created_time\": \"2021-01-25T21:25:21.90351Z\", \"created_time_dt\": \"2021-01-25T21:25:21.90351Z\", \"duration\": \"0:01:13\", \"iteration\": \"17\", \"goal\": \"accuracy_max\", \"run_name\": \"MaxAbsScaler, LightGBM\", \"run_properties\": \"copy=True\", \"primary_metric\": 0.58014755, \"best_metric\": 0.63956599}, {\"run_id\": \"AutoML_f2600643-baea-4a05-8786-d99bb8e114b5_18\", \"run_number\": 23, \"metric\": null, \"status\": \"Completed\", \"run_type\": \"azureml.scriptrun\", \"training_percent\": \"100\", \"start_time\": \"2021-01-25T21:26:08.663338Z\", \"end_time\": \"2021-01-25T21:26:59.140828Z\", \"created_time\": \"2021-01-25T21:25:48.103103Z\", \"created_time_dt\": \"2021-01-25T21:25:48.103103Z\", \"duration\": \"0:01:11\", \"iteration\": \"18\", \"goal\": \"accuracy_max\", \"run_name\": \"SparseNormalizer, XGBoostClassifier\", \"run_properties\": \"<azureml.automl.runtime.shared.model_wrappers.SparseNormalizer object at 0x7f7ae4934a20\", \"primary_metric\": 0.59264512, \"best_metric\": 0.63956599}, {\"run_id\": \"AutoML_f2600643-baea-4a05-8786-d99bb8e114b5_19\", \"run_number\": 24, \"metric\": null, \"status\": \"Completed\", \"run_type\": \"azureml.scriptrun\", \"training_percent\": \"100\", \"start_time\": \"2021-01-25T21:26:22.594118Z\", \"end_time\": \"2021-01-25T21:27:47.494698Z\", \"created_time\": \"2021-01-25T21:26:06.889698Z\", \"created_time_dt\": \"2021-01-25T21:26:06.889698Z\", \"duration\": \"0:01:40\", \"iteration\": \"19\", \"goal\": \"accuracy_max\", \"run_name\": \"StandardScalerWrapper, ExtremeRandomTrees\", \"run_properties\": \"<azureml.automl.runtime.shared.model_wrappers.StandardScalerWrapper object at 0x7f5a5e9642b0\", \"primary_metric\": 0.56842696, \"best_metric\": 0.63956599}, {\"run_id\": \"AutoML_f2600643-baea-4a05-8786-d99bb8e114b5_20\", \"run_number\": 25, \"metric\": null, \"status\": \"Completed\", \"run_type\": \"azureml.scriptrun\", \"training_percent\": \"100\", \"start_time\": \"2021-01-25T21:26:37.62835Z\", \"end_time\": \"2021-01-25T21:27:27.645969Z\", \"created_time\": \"2021-01-25T21:26:20.613787Z\", \"created_time_dt\": \"2021-01-25T21:26:20.613787Z\", \"duration\": \"0:01:07\", \"iteration\": \"20\", \"goal\": \"accuracy_max\", \"run_name\": \"StandardScalerWrapper, LightGBM\", \"run_properties\": \"<azureml.automl.runtime.shared.model_wrappers.StandardScalerWrapper object at 0x7ff1eb4f7978\", \"primary_metric\": 0.60593616, \"best_metric\": 0.63956599}, {\"run_id\": \"AutoML_f2600643-baea-4a05-8786-d99bb8e114b5_21\", \"run_number\": 26, \"metric\": null, \"status\": \"Completed\", \"run_type\": \"azureml.scriptrun\", \"training_percent\": \"100\", \"start_time\": \"2021-01-25T21:26:51.448666Z\", \"end_time\": \"2021-01-25T21:27:43.398785Z\", \"created_time\": \"2021-01-25T21:26:37.916361Z\", \"created_time_dt\": \"2021-01-25T21:26:37.916361Z\", \"duration\": \"0:01:05\", \"iteration\": \"21\", \"goal\": \"accuracy_max\", \"run_name\": \"MinMaxScaler, LightGBM\", \"run_properties\": \"copy=True, feature_range=(0, 1\", \"primary_metric\": 0.57076521, \"best_metric\": 0.63956599}, {\"run_id\": \"AutoML_f2600643-baea-4a05-8786-d99bb8e114b5_22\", \"run_number\": 27, \"metric\": null, \"status\": \"Completed\", \"run_type\": \"azureml.scriptrun\", \"training_percent\": \"100\", \"start_time\": \"2021-01-25T21:27:04.785503Z\", \"end_time\": \"2021-01-25T21:28:06.9778Z\", \"created_time\": \"2021-01-25T21:26:46.737142Z\", \"created_time_dt\": \"2021-01-25T21:26:46.737142Z\", \"duration\": \"0:01:20\", \"iteration\": \"22\", \"goal\": \"accuracy_max\", \"run_name\": \"SparseNormalizer, LightGBM\", \"run_properties\": \"<azureml.automl.runtime.shared.model_wrappers.SparseNormalizer object at 0x7f47c2466160\", \"primary_metric\": 0.58405442, \"best_metric\": 0.63956599}, {\"run_id\": \"AutoML_f2600643-baea-4a05-8786-d99bb8e114b5_23\", \"run_number\": 28, \"metric\": null, \"status\": \"Completed\", \"run_type\": \"azureml.scriptrun\", \"training_percent\": \"100\", \"start_time\": \"2021-01-25T21:27:30.718409Z\", \"end_time\": \"2021-01-25T21:28:21.130296Z\", \"created_time\": \"2021-01-25T21:27:01.917746Z\", \"created_time_dt\": \"2021-01-25T21:27:01.917746Z\", \"duration\": \"0:01:19\", \"iteration\": \"23\", \"goal\": \"accuracy_max\", \"run_name\": \"SparseNormalizer, ExtremeRandomTrees\", \"run_properties\": \"<azureml.automl.runtime.shared.model_wrappers.SparseNormalizer object at 0x7fdabd2fcf60\", \"primary_metric\": 0.52617893, \"best_metric\": 0.63956599}, {\"run_id\": \"AutoML_f2600643-baea-4a05-8786-d99bb8e114b5_24\", \"run_number\": 29, \"metric\": null, \"status\": \"Completed\", \"run_type\": \"azureml.scriptrun\", \"training_percent\": \"100\", \"start_time\": \"2021-01-25T21:27:48.047046Z\", \"end_time\": \"2021-01-25T21:28:35.210585Z\", \"created_time\": \"2021-01-25T21:27:30.208193Z\", \"created_time_dt\": \"2021-01-25T21:27:30.208193Z\", \"duration\": \"0:01:05\", \"iteration\": \"24\", \"goal\": \"accuracy_max\", \"run_name\": \"SparseNormalizer, LightGBM\", \"run_properties\": \"<azureml.automl.runtime.shared.model_wrappers.SparseNormalizer object at 0x7f1b83141080\", \"primary_metric\": 0.54182838, \"best_metric\": 0.63956599}, {\"run_id\": \"AutoML_f2600643-baea-4a05-8786-d99bb8e114b5_25\", \"run_number\": 30, \"metric\": null, \"status\": \"Completed\", \"run_type\": \"azureml.scriptrun\", \"training_percent\": \"100\", \"start_time\": \"2021-01-25T21:28:01.074322Z\", \"end_time\": \"2021-01-25T21:28:43.913049Z\", \"created_time\": \"2021-01-25T21:27:46.968706Z\", \"created_time_dt\": \"2021-01-25T21:27:46.968706Z\", \"duration\": \"0:00:56\", \"iteration\": \"25\", \"goal\": \"accuracy_max\", \"run_name\": \"SparseNormalizer, LightGBM\", \"run_properties\": \"<azureml.automl.runtime.shared.model_wrappers.SparseNormalizer object at 0x7f242c146470\", \"primary_metric\": 0.51367403, \"best_metric\": 0.63956599}, {\"run_id\": \"AutoML_f2600643-baea-4a05-8786-d99bb8e114b5_26\", \"run_number\": 31, \"metric\": null, \"status\": \"Completed\", \"run_type\": \"azureml.scriptrun\", \"training_percent\": \"100\", \"start_time\": \"2021-01-25T21:28:11.534293Z\", \"end_time\": \"2021-01-25T21:29:07.338289Z\", \"created_time\": \"2021-01-25T21:27:53.569568Z\", \"created_time_dt\": \"2021-01-25T21:27:53.569568Z\", \"duration\": \"0:01:13\", \"iteration\": \"26\", \"goal\": \"accuracy_max\", \"run_name\": \"SparseNormalizer, RandomForest\", \"run_properties\": \"<azureml.automl.runtime.shared.model_wrappers.SparseNormalizer object at 0x7fa4129372b0\", \"primary_metric\": 0.36748359, \"best_metric\": 0.63956599}, {\"run_id\": \"AutoML_f2600643-baea-4a05-8786-d99bb8e114b5_27\", \"run_number\": 32, \"metric\": null, \"status\": \"Completed\", \"run_type\": \"azureml.scriptrun\", \"training_percent\": \"100\", \"start_time\": \"2021-01-25T21:28:26.231041Z\", \"end_time\": \"2021-01-25T21:29:13.351267Z\", \"created_time\": \"2021-01-25T21:28:09.262953Z\", \"created_time_dt\": \"2021-01-25T21:28:09.262953Z\", \"duration\": \"0:01:04\", \"iteration\": \"27\", \"goal\": \"accuracy_max\", \"run_name\": \"RobustScaler, LightGBM\", \"run_properties\": \"copy=True, quantile_range=[10, 90], with_centering=False,\\n             with_scaling=True\", \"primary_metric\": 0.58404342, \"best_metric\": 0.63956599}, {\"run_id\": \"AutoML_f2600643-baea-4a05-8786-d99bb8e114b5_28\", \"run_number\": 33, \"metric\": null, \"status\": \"Completed\", \"run_type\": \"azureml.scriptrun\", \"training_percent\": \"100\", \"start_time\": \"2021-01-25T21:28:38.817538Z\", \"end_time\": \"2021-01-25T21:29:27.845498Z\", \"created_time\": \"2021-01-25T21:28:23.459097Z\", \"created_time_dt\": \"2021-01-25T21:28:23.459097Z\", \"duration\": \"0:01:04\", \"iteration\": \"28\", \"goal\": \"accuracy_max\", \"run_name\": \"StandardScalerWrapper, ExtremeRandomTrees\", \"run_properties\": \"<azureml.automl.runtime.shared.model_wrappers.StandardScalerWrapper object at 0x7f26f9b17cf8\", \"primary_metric\": 0.40348649, \"best_metric\": 0.63956599}, {\"run_id\": \"AutoML_f2600643-baea-4a05-8786-d99bb8e114b5_29\", \"run_number\": 34, \"metric\": null, \"status\": \"Completed\", \"run_type\": \"azureml.scriptrun\", \"training_percent\": \"100\", \"start_time\": \"2021-01-25T21:29:00.181486Z\", \"end_time\": \"2021-01-25T21:29:51.578632Z\", \"created_time\": \"2021-01-25T21:28:48.116334Z\", \"created_time_dt\": \"2021-01-25T21:28:48.116334Z\", \"duration\": \"0:01:03\", \"iteration\": \"29\", \"goal\": \"accuracy_max\", \"run_name\": \"MaxAbsScaler, RandomForest\", \"run_properties\": \"copy=True\", \"primary_metric\": 0.38861218, \"best_metric\": 0.63956599}, {\"run_id\": \"AutoML_f2600643-baea-4a05-8786-d99bb8e114b5_30\", \"run_number\": 35, \"metric\": null, \"status\": \"Completed\", \"run_type\": \"azureml.scriptrun\", \"training_percent\": \"100\", \"start_time\": \"2021-01-25T21:29:10.956939Z\", \"end_time\": \"2021-01-25T21:30:10.083414Z\", \"created_time\": \"2021-01-25T21:28:53.371501Z\", \"created_time_dt\": \"2021-01-25T21:28:53.371501Z\", \"duration\": \"0:01:16\", \"iteration\": \"30\", \"goal\": \"accuracy_max\", \"run_name\": \"StandardScalerWrapper, LightGBM\", \"run_properties\": \"<azureml.automl.runtime.shared.model_wrappers.StandardScalerWrapper object at 0x7f2268a4de80\", \"primary_metric\": 0.45194116, \"best_metric\": 0.63956599}, {\"run_id\": \"AutoML_f2600643-baea-4a05-8786-d99bb8e114b5_31\", \"run_number\": 36, \"metric\": null, \"status\": \"Completed\", \"run_type\": \"azureml.scriptrun\", \"training_percent\": \"100\", \"start_time\": \"2021-01-25T21:29:20.734785Z\", \"end_time\": \"2021-01-25T21:30:05.23283Z\", \"created_time\": \"2021-01-25T21:29:10.121318Z\", \"created_time_dt\": \"2021-01-25T21:29:10.121318Z\", \"duration\": \"0:00:55\", \"iteration\": \"31\", \"goal\": \"accuracy_max\", \"run_name\": \"MinMaxScaler, LightGBM\", \"run_properties\": \"copy=True, feature_range=(0, 1\", \"primary_metric\": 0.5895134, \"best_metric\": 0.63956599}, {\"run_id\": \"AutoML_f2600643-baea-4a05-8786-d99bb8e114b5_32\", \"run_number\": 37, \"metric\": null, \"status\": \"Completed\", \"run_type\": \"azureml.scriptrun\", \"training_percent\": \"100\", \"start_time\": \"2021-01-25T21:29:32.835769Z\", \"end_time\": \"2021-01-25T21:30:23.777453Z\", \"created_time\": \"2021-01-25T21:29:16.800398Z\", \"created_time_dt\": \"2021-01-25T21:29:16.800398Z\", \"duration\": \"0:01:06\", \"iteration\": \"32\", \"goal\": \"accuracy_max\", \"run_name\": \"MaxAbsScaler, ExtremeRandomTrees\", \"run_properties\": \"copy=True\", \"primary_metric\": 0.5739061, \"best_metric\": 0.63956599}, {\"run_id\": \"AutoML_f2600643-baea-4a05-8786-d99bb8e114b5_33\", \"run_number\": 38, \"metric\": null, \"status\": \"Completed\", \"run_type\": \"azureml.scriptrun\", \"training_percent\": \"100\", \"start_time\": \"2021-01-25T21:29:57.845926Z\", \"end_time\": \"2021-01-25T21:30:53.890663Z\", \"created_time\": \"2021-01-25T21:29:31.630678Z\", \"created_time_dt\": \"2021-01-25T21:29:31.630678Z\", \"duration\": \"0:01:22\", \"iteration\": \"33\", \"goal\": \"accuracy_max\", \"run_name\": \"MaxAbsScaler, ExtremeRandomTrees\", \"run_properties\": \"copy=True\", \"primary_metric\": 0.57624252, \"best_metric\": 0.63956599}, {\"run_id\": \"AutoML_f2600643-baea-4a05-8786-d99bb8e114b5_34\", \"run_number\": 39, \"metric\": null, \"status\": \"Canceled\", \"run_type\": \"azureml.scriptrun\", \"training_percent\": \"100\", \"start_time\": \"2021-01-25T21:30:24.486995Z\", \"end_time\": \"2021-01-25T21:31:03.304979Z\", \"created_time\": \"2021-01-25T21:29:54.685463Z\", \"created_time_dt\": \"2021-01-25T21:29:54.685463Z\", \"duration\": \"0:01:08\", \"iteration\": \"34\", \"goal\": \"accuracy_max\", \"run_name\": \"StandardScalerWrapper, ExtremeRandomTrees\", \"run_properties\": \"<azureml.automl.runtime.shared.model_wrappers.StandardScalerWrapper object at 0x7fae041aec88\", \"primary_metric\": 0.5832921, \"best_metric\": 0.63956599}, {\"run_id\": \"AutoML_f2600643-baea-4a05-8786-d99bb8e114b5_36\", \"run_number\": 40, \"metric\": null, \"status\": \"Canceled\", \"run_type\": \"azureml.scriptrun\", \"training_percent\": \"100\", \"start_time\": \"2021-01-25T21:30:31.241974Z\", \"end_time\": \"2021-01-25T21:31:05.714452Z\", \"created_time\": \"2021-01-25T21:30:19.854004Z\", \"created_time_dt\": \"2021-01-25T21:30:19.854004Z\", \"duration\": \"0:00:45\", \"iteration\": \"36\", \"goal\": \"accuracy_max\", \"run_name\": \"SparseNormalizer, LightGBM\", \"run_properties\": \"<azureml.automl.runtime.shared.model_wrappers.SparseNormalizer object at 0x7f85cc1befd0\", \"primary_metric\": 0.52619726, \"best_metric\": 0.63956599}, {\"run_id\": \"AutoML_f2600643-baea-4a05-8786-d99bb8e114b5_35\", \"run_number\": 41, \"metric\": null, \"status\": \"Canceled\", \"run_type\": \"azureml.scriptrun\", \"training_percent\": \"100\", \"start_time\": \"2021-01-25T21:30:32.316035Z\", \"end_time\": \"2021-01-25T21:31:03.98896Z\", \"created_time\": \"2021-01-25T21:30:19.906498Z\", \"created_time_dt\": \"2021-01-25T21:30:19.906498Z\", \"duration\": \"0:00:44\", \"iteration\": \"35\", \"goal\": \"accuracy_max\", \"run_name\": \"StandardScalerWrapper, LightGBM\", \"run_properties\": \"<azureml.automl.runtime.shared.model_wrappers.StandardScalerWrapper object at 0x7ff3cb25a4a8\", \"primary_metric\": 0.5973308, \"best_metric\": 0.63956599}, {\"run_id\": \"AutoML_f2600643-baea-4a05-8786-d99bb8e114b5_37\", \"run_number\": 42, \"metric\": null, \"status\": \"Canceled\", \"run_type\": \"azureml.scriptrun\", \"training_percent\": \"100\", \"start_time\": \"2021-01-25T21:30:27.804712Z\", \"end_time\": \"2021-01-25T21:31:02.893439Z\", \"created_time\": \"2021-01-25T21:30:27.804712Z\", \"created_time_dt\": \"2021-01-25T21:30:27.804712Z\", \"duration\": \"0:00:35\", \"iteration\": \"37\", \"goal\": null, \"run_name\": \"Canceled\", \"run_properties\": null}, {\"run_id\": \"AutoML_f2600643-baea-4a05-8786-d99bb8e114b5_39\", \"run_number\": 43, \"metric\": null, \"status\": \"Completed\", \"run_type\": \"azureml.scriptrun\", \"training_percent\": \"100\", \"start_time\": \"2021-01-25T21:31:22.135136Z\", \"end_time\": \"2021-01-25T21:32:46.242718Z\", \"created_time\": \"2021-01-25T21:31:08.186576Z\", \"created_time_dt\": \"2021-01-25T21:31:08.186576Z\", \"duration\": \"0:01:38\", \"iteration\": \"39\", \"goal\": \"accuracy_max\", \"run_name\": \"StackEnsemble\", \"run_properties\": \"base_learners=[('0',\\n                                        Pipeline(memory=None,\\n                                                 steps=[('maxabsscaler',\\n                                                         MaxAbsScaler(copy=True\", \"primary_metric\": 0.66067809, \"best_metric\": 0.66693238}, {\"run_id\": \"AutoML_f2600643-baea-4a05-8786-d99bb8e114b5_38\", \"run_number\": 44, \"metric\": null, \"status\": \"Completed\", \"run_type\": \"azureml.scriptrun\", \"training_percent\": \"100\", \"start_time\": \"2021-01-25T21:31:19.340414Z\", \"end_time\": \"2021-01-25T21:32:48.534478Z\", \"created_time\": \"2021-01-25T21:31:08.326848Z\", \"created_time_dt\": \"2021-01-25T21:31:08.326848Z\", \"duration\": \"0:01:40\", \"iteration\": \"38\", \"goal\": \"accuracy_max\", \"run_name\": \"VotingEnsemble\", \"run_properties\": \"classification_labels=None,\\n                              estimators=[('0',\\n                                           Pipeline(memory=None,\\n                                                    steps=[('maxabsscaler',\\n                                                            MaxAbsScaler(copy=True\", \"primary_metric\": 0.66693238, \"best_metric\": 0.66693238}], \"children_metrics\": {\"categories\": [0], \"series\": {\"recall_score_micro\": [{\"categories\": [\"0\", \"1\", \"2\", \"3\", \"4\", \"5\", \"6\", \"7\", \"8\", \"9\", \"10\", \"11\", \"12\", \"13\", \"14\", \"15\", \"16\", \"17\", \"18\", \"19\", \"20\", \"21\", \"22\", \"23\", \"24\", \"25\", \"26\", \"27\", \"28\", \"29\", \"30\", \"31\", \"32\", \"33\", \"34\", \"35\", \"36\", \"38\", \"39\"], \"mode\": \"markers\", \"name\": \"recall_score_micro\", \"stepped\": false, \"type\": \"scatter\", \"data\": [0.6395659934103711, 0.6145305347568104, 0.580924527126328, 0.5895207309430353, 0.5324515398401336, 0.62626212649302, 0.6059398284057717, 0.5949870443059083, 0.6208123055271519, 0.6192363653688983, 0.595771349407923, 0.5926451239312011, 0.5840415901602695, 0.576231523934133, 0.5848460526364013, 0.5793522519451866, 0.580939187034777, 0.5801475519785378, 0.5926451239312011, 0.5684269551736649, 0.6059361634286594, 0.57076521057126, 0.5840544175801622, 0.5261789315125728, 0.5418283837817433, 0.5136740296056851, 0.36748359006498005, 0.5840434226488256, 0.40348649272685294, 0.3886121831169165, 0.4519411551274863, 0.5895134009888109, 0.5739060959564307, 0.5762425188654696, 0.5832921023408209, 0.5973307971691717, 0.5261972563981338, 0.6669323775073025, 0.6606780940653026]}, {\"categories\": [\"0\", \"1\", \"2\", \"3\", \"4\", \"5\", \"6\", \"7\", \"8\", \"9\", \"10\", \"11\", \"12\", \"13\", \"14\", \"15\", \"16\", \"17\", \"18\", \"19\", \"20\", \"21\", \"22\", \"23\", \"24\", \"25\", \"26\", \"27\", \"28\", \"29\", \"30\", \"31\", \"32\", \"33\", \"34\", \"35\", \"36\", \"38\", \"39\"], \"mode\": \"lines\", \"name\": \"recall_score_micro_max\", \"stepped\": true, \"type\": \"scatter\", \"data\": [0.6395659934103711, 0.6395659934103711, 0.6395659934103711, 0.6395659934103711, 0.6395659934103711, 0.6395659934103711, 0.6395659934103711, 0.6395659934103711, 0.6395659934103711, 0.6395659934103711, 0.6395659934103711, 0.6395659934103711, 0.6395659934103711, 0.6395659934103711, 0.6395659934103711, 0.6395659934103711, 0.6395659934103711, 0.6395659934103711, 0.6395659934103711, 0.6395659934103711, 0.6395659934103711, 0.6395659934103711, 0.6395659934103711, 0.6395659934103711, 0.6395659934103711, 0.6395659934103711, 0.6395659934103711, 0.6395659934103711, 0.6395659934103711, 0.6395659934103711, 0.6395659934103711, 0.6395659934103711, 0.6395659934103711, 0.6395659934103711, 0.6395659934103711, 0.6395659934103711, 0.6395659934103711, 0.6669323775073025, 0.6669323775073025]}], \"log_loss\": [{\"categories\": [\"0\", \"1\", \"2\", \"3\", \"4\", \"5\", \"6\", \"7\", \"8\", \"9\", \"10\", \"11\", \"12\", \"13\", \"14\", \"15\", \"16\", \"17\", \"18\", \"19\", \"20\", \"21\", \"22\", \"23\", \"24\", \"25\", \"26\", \"27\", \"28\", \"29\", \"30\", \"31\", \"32\", \"33\", \"34\", \"35\", \"36\", \"38\", \"39\"], \"mode\": \"markers\", \"name\": \"log_loss\", \"stepped\": false, \"type\": \"scatter\", \"data\": [1.085433391233049, 0.9485507490109427, 1.0085137082406521, 1.0394335867126123, 1.1171693822730988, 0.9125449925023231, 0.9794370254068729, 0.9925009698567512, 1.015487041039194, 0.964687718835, 1.2548928510899209, 0.9555903551107646, 0.9792635061656617, 1.0310559391966374, 1.0502456332159007, 1.283803124186755, 1.0057824455462618, 1.0419085575811817, 1.0532469851687403, 1.0260744606450485, 0.9502168890663021, 1.0685745520137988, 0.9977590926334049, 1.0945566127249446, 1.0917005169323382, 1.1490404023608896, 1.5128647378288331, 0.9508156412424794, 1.4597236389180164, 1.384196198485661, 1.1850384167852734, 0.9591994900199707, 1.0488728184651563, 1.0032382844804226, 1.0166350100052017, 0.9654341497640181, 1.0836091465230273, 0.9165615775757497, 0.8785927446763044]}, {\"categories\": [\"0\", \"1\", \"2\", \"3\", \"4\", \"5\", \"6\", \"7\", \"8\", \"9\", \"10\", \"11\", \"12\", \"13\", \"14\", \"15\", \"16\", \"17\", \"18\", \"19\", \"20\", \"21\", \"22\", \"23\", \"24\", \"25\", \"26\", \"27\", \"28\", \"29\", \"30\", \"31\", \"32\", \"33\", \"34\", \"35\", \"36\", \"38\", \"39\"], \"mode\": \"lines\", \"name\": \"log_loss_min\", \"stepped\": true, \"type\": \"scatter\", \"data\": [1.085433391233049, 0.9485507490109427, 0.9485507490109427, 0.9485507490109427, 0.9485507490109427, 0.9125449925023231, 0.9125449925023231, 0.9125449925023231, 0.9125449925023231, 0.9125449925023231, 0.9125449925023231, 0.9125449925023231, 0.9125449925023231, 0.9125449925023231, 0.9125449925023231, 0.9125449925023231, 0.9125449925023231, 0.9125449925023231, 0.9125449925023231, 0.9125449925023231, 0.9125449925023231, 0.9125449925023231, 0.9125449925023231, 0.9125449925023231, 0.9125449925023231, 0.9125449925023231, 0.9125449925023231, 0.9125449925023231, 0.9125449925023231, 0.9125449925023231, 0.9125449925023231, 0.9125449925023231, 0.9125449925023231, 0.9125449925023231, 0.9125449925023231, 0.9125449925023231, 0.9125449925023231, 0.9125449925023231, 0.8785927446763044]}], \"AUC_weighted\": [{\"categories\": [\"0\", \"1\", \"2\", \"3\", \"4\", \"5\", \"6\", \"7\", \"8\", \"9\", \"10\", \"11\", \"12\", \"13\", \"14\", \"15\", \"16\", \"17\", \"18\", \"19\", \"20\", \"21\", \"22\", \"23\", \"24\", \"25\", \"26\", \"27\", \"28\", \"29\", \"30\", \"31\", \"32\", \"33\", \"34\", \"35\", \"36\", \"38\", \"39\"], \"mode\": \"markers\", \"name\": \"AUC_weighted\", \"stepped\": false, \"type\": \"scatter\", \"data\": [0.8049818938646696, 0.7832740526161603, 0.7501577402821434, 0.7423641382424914, 0.7526882937817522, 0.7990567039485329, 0.7620553759382527, 0.7559545974261751, 0.7802547422552734, 0.7848799943680754, 0.750387967757741, 0.7640531805040425, 0.7571294760791684, 0.7495574914304822, 0.7608081629954929, 0.7360492725929536, 0.748958659382358, 0.7486545667609047, 0.7563654282191589, 0.7484354862933676, 0.7720423085523236, 0.7527310403050316, 0.7519392858573245, 0.6868782198050818, 0.7159616060080872, 0.6779779363511761, 0.661143048437424, 0.7700244136933906, 0.6975296961149012, 0.6962723154216114, 0.7305349263968016, 0.7660326616158658, 0.750549794921529, 0.7470702175061833, 0.7577488651215315, 0.77008795536483, 0.697469827350036, 0.8139218998338428, 0.8156471681366707]}, {\"categories\": [\"0\", \"1\", \"2\", \"3\", \"4\", \"5\", \"6\", \"7\", \"8\", \"9\", \"10\", \"11\", \"12\", \"13\", \"14\", \"15\", \"16\", \"17\", \"18\", \"19\", \"20\", \"21\", \"22\", \"23\", \"24\", \"25\", \"26\", \"27\", \"28\", \"29\", \"30\", \"31\", \"32\", \"33\", \"34\", \"35\", \"36\", \"38\", \"39\"], \"mode\": \"lines\", \"name\": \"AUC_weighted_max\", \"stepped\": true, \"type\": \"scatter\", \"data\": [0.8049818938646696, 0.8049818938646696, 0.8049818938646696, 0.8049818938646696, 0.8049818938646696, 0.8049818938646696, 0.8049818938646696, 0.8049818938646696, 0.8049818938646696, 0.8049818938646696, 0.8049818938646696, 0.8049818938646696, 0.8049818938646696, 0.8049818938646696, 0.8049818938646696, 0.8049818938646696, 0.8049818938646696, 0.8049818938646696, 0.8049818938646696, 0.8049818938646696, 0.8049818938646696, 0.8049818938646696, 0.8049818938646696, 0.8049818938646696, 0.8049818938646696, 0.8049818938646696, 0.8049818938646696, 0.8049818938646696, 0.8049818938646696, 0.8049818938646696, 0.8049818938646696, 0.8049818938646696, 0.8049818938646696, 0.8049818938646696, 0.8049818938646696, 0.8049818938646696, 0.8049818938646696, 0.8139218998338428, 0.8156471681366707]}], \"recall_score_macro\": [{\"categories\": [\"0\", \"1\", \"2\", \"3\", \"4\", \"5\", \"6\", \"7\", \"8\", \"9\", \"10\", \"11\", \"12\", \"13\", \"14\", \"15\", \"16\", \"17\", \"18\", \"19\", \"20\", \"21\", \"22\", \"23\", \"24\", \"25\", \"26\", \"27\", \"28\", \"29\", \"30\", \"31\", \"32\", \"33\", \"34\", \"35\", \"36\", \"38\", \"39\"], \"mode\": \"markers\", \"name\": \"recall_score_macro\", \"stepped\": false, \"type\": \"scatter\", \"data\": [0.3291316728837724, 0.3034814620693835, 0.2662291535137702, 0.265447872892737, 0.3806495275015125, 0.3071943566816859, 0.2752764353787256, 0.2624941184125904, 0.3003152674504621, 0.29683308058968416, 0.28256209217934736, 0.2841664101233452, 0.2583938278262034, 0.24581628993933272, 0.2409467545422134, 0.25883668615429606, 0.2671778642992247, 0.2615652829347791, 0.33927446631656455, 0.23114571292426822, 0.2894052205557774, 0.23227458163356998, 0.2804875015057486, 0.2149981186896318, 0.22482085644481598, 0.20903055263620288, 0.36676433785159596, 0.28190880442774885, 0.3593035419683868, 0.35030168898911, 0.18018617021276595, 0.2864289606975782, 0.23336772934965308, 0.243390104495102, 0.2372473118001596, 0.28474469169630495, 0.21767407174248, 0.32232115939764744, 0.32295226486020684]}, {\"categories\": [\"0\", \"1\", \"2\", \"3\", \"4\", \"5\", \"6\", \"7\", \"8\", \"9\", \"10\", \"11\", \"12\", \"13\", \"14\", \"15\", \"16\", \"17\", \"18\", \"19\", \"20\", \"21\", \"22\", \"23\", \"24\", \"25\", \"26\", \"27\", \"28\", \"29\", \"30\", \"31\", \"32\", \"33\", \"34\", \"35\", \"36\", \"38\", \"39\"], \"mode\": \"lines\", \"name\": \"recall_score_macro_max\", \"stepped\": true, \"type\": \"scatter\", \"data\": [0.3291316728837724, 0.3291316728837724, 0.3291316728837724, 0.3291316728837724, 0.3806495275015125, 0.3806495275015125, 0.3806495275015125, 0.3806495275015125, 0.3806495275015125, 0.3806495275015125, 0.3806495275015125, 0.3806495275015125, 0.3806495275015125, 0.3806495275015125, 0.3806495275015125, 0.3806495275015125, 0.3806495275015125, 0.3806495275015125, 0.3806495275015125, 0.3806495275015125, 0.3806495275015125, 0.3806495275015125, 0.3806495275015125, 0.3806495275015125, 0.3806495275015125, 0.3806495275015125, 0.3806495275015125, 0.3806495275015125, 0.3806495275015125, 0.3806495275015125, 0.3806495275015125, 0.3806495275015125, 0.3806495275015125, 0.3806495275015125, 0.3806495275015125, 0.3806495275015125, 0.3806495275015125, 0.3806495275015125, 0.3806495275015125]}], \"f1_score_macro\": [{\"categories\": [\"0\", \"1\", \"2\", \"3\", \"4\", \"5\", \"6\", \"7\", \"8\", \"9\", \"10\", \"11\", \"12\", \"13\", \"14\", \"15\", \"16\", \"17\", \"18\", \"19\", \"20\", \"21\", \"22\", \"23\", \"24\", \"25\", \"26\", \"27\", \"28\", \"29\", \"30\", \"31\", \"32\", \"33\", \"34\", \"35\", \"36\", \"38\", \"39\"], \"mode\": \"markers\", \"name\": \"f1_score_macro\", \"stepped\": false, \"type\": \"scatter\", \"data\": [0.3334256071834281, 0.30574195902147894, 0.26455006960677707, 0.26504149822871204, 0.312950537196848, 0.30750244980367936, 0.27466643444819644, 0.2572690818645069, 0.30211823526334386, 0.29748345222681527, 0.28394910799462264, 0.2819288016831906, 0.25507560079108577, 0.23621720613536304, 0.22100038066915625, 0.2571031436395901, 0.26803757846388043, 0.25872979336338914, 0.3001690487532666, 0.20743726021049558, 0.28759053322534206, 0.20817727418691687, 0.28145355464491384, 0.19349138450676892, 0.20864699932446784, 0.18668082242689357, 0.24179879370632085, 0.27919963707879175, 0.24151760268306446, 0.2387658654053791, 0.12420145649075025, 0.28341809929061257, 0.20883593372439777, 0.22890852663252725, 0.2128594542489335, 0.2835867488138286, 0.20126884152035165, 0.32465381826739886, 0.3236355983233889]}, {\"categories\": [\"0\", \"1\", \"2\", \"3\", \"4\", \"5\", \"6\", \"7\", \"8\", \"9\", \"10\", \"11\", \"12\", \"13\", \"14\", \"15\", \"16\", \"17\", \"18\", \"19\", \"20\", \"21\", \"22\", \"23\", \"24\", \"25\", \"26\", \"27\", \"28\", \"29\", \"30\", \"31\", \"32\", \"33\", \"34\", \"35\", \"36\", \"38\", \"39\"], \"mode\": \"lines\", \"name\": \"f1_score_macro_max\", \"stepped\": true, \"type\": \"scatter\", \"data\": [0.3334256071834281, 0.3334256071834281, 0.3334256071834281, 0.3334256071834281, 0.3334256071834281, 0.3334256071834281, 0.3334256071834281, 0.3334256071834281, 0.3334256071834281, 0.3334256071834281, 0.3334256071834281, 0.3334256071834281, 0.3334256071834281, 0.3334256071834281, 0.3334256071834281, 0.3334256071834281, 0.3334256071834281, 0.3334256071834281, 0.3334256071834281, 0.3334256071834281, 0.3334256071834281, 0.3334256071834281, 0.3334256071834281, 0.3334256071834281, 0.3334256071834281, 0.3334256071834281, 0.3334256071834281, 0.3334256071834281, 0.3334256071834281, 0.3334256071834281, 0.3334256071834281, 0.3334256071834281, 0.3334256071834281, 0.3334256071834281, 0.3334256071834281, 0.3334256071834281, 0.3334256071834281, 0.3334256071834281, 0.3334256071834281]}], \"AUC_micro\": [{\"categories\": [\"0\", \"1\", \"2\", \"3\", \"4\", \"5\", \"6\", \"7\", \"8\", \"9\", \"10\", \"11\", \"12\", \"13\", \"14\", \"15\", \"16\", \"17\", \"18\", \"19\", \"20\", \"21\", \"22\", \"23\", \"24\", \"25\", \"26\", \"27\", \"28\", \"29\", \"30\", \"31\", \"32\", \"33\", \"34\", \"35\", \"36\", \"38\", \"39\"], \"mode\": \"markers\", \"name\": \"AUC_micro\", \"stepped\": false, \"type\": \"scatter\", \"data\": [0.9152208539645436, 0.9088800922926333, 0.8987951900250444, 0.8967794427780363, 0.880414913239552, 0.9153651534956094, 0.9012168120426155, 0.8986490850763907, 0.9039423306693282, 0.9072041348964954, 0.8915263719635735, 0.9044712343073041, 0.9011858297990948, 0.8933616106467642, 0.8926319194378668, 0.8920915972066937, 0.8970658827944584, 0.8926647625324038, 0.8960180891715733, 0.8934225912201659, 0.9057832786652358, 0.8886233962036675, 0.896859115648426, 0.8747214256935386, 0.8793675986797193, 0.8683913388905472, 0.7925230847961945, 0.90536405783988, 0.7987347797855237, 0.8051121146356076, 0.8673172020221832, 0.9038629027220924, 0.8903844698070232, 0.8968801422734258, 0.8964070147708995, 0.9039735084218146, 0.8777965355489931, 0.9171122601798994, 0.9209917548103927]}, {\"categories\": [\"0\", \"1\", \"2\", \"3\", \"4\", \"5\", \"6\", \"7\", \"8\", \"9\", \"10\", \"11\", \"12\", \"13\", \"14\", \"15\", \"16\", \"17\", \"18\", \"19\", \"20\", \"21\", \"22\", \"23\", \"24\", \"25\", \"26\", \"27\", \"28\", \"29\", \"30\", \"31\", \"32\", \"33\", \"34\", \"35\", \"36\", \"38\", \"39\"], \"mode\": \"lines\", \"name\": \"AUC_micro_max\", \"stepped\": true, \"type\": \"scatter\", \"data\": [0.9152208539645436, 0.9152208539645436, 0.9152208539645436, 0.9152208539645436, 0.9152208539645436, 0.9153651534956094, 0.9153651534956094, 0.9153651534956094, 0.9153651534956094, 0.9153651534956094, 0.9153651534956094, 0.9153651534956094, 0.9153651534956094, 0.9153651534956094, 0.9153651534956094, 0.9153651534956094, 0.9153651534956094, 0.9153651534956094, 0.9153651534956094, 0.9153651534956094, 0.9153651534956094, 0.9153651534956094, 0.9153651534956094, 0.9153651534956094, 0.9153651534956094, 0.9153651534956094, 0.9153651534956094, 0.9153651534956094, 0.9153651534956094, 0.9153651534956094, 0.9153651534956094, 0.9153651534956094, 0.9153651534956094, 0.9153651534956094, 0.9153651534956094, 0.9153651534956094, 0.9153651534956094, 0.9171122601798994, 0.9209917548103927]}], \"accuracy\": [{\"categories\": [\"0\", \"1\", \"2\", \"3\", \"4\", \"5\", \"6\", \"7\", \"8\", \"9\", \"10\", \"11\", \"12\", \"13\", \"14\", \"15\", \"16\", \"17\", \"18\", \"19\", \"20\", \"21\", \"22\", \"23\", \"24\", \"25\", \"26\", \"27\", \"28\", \"29\", \"30\", \"31\", \"32\", \"33\", \"34\", \"35\", \"36\", \"38\", \"39\"], \"mode\": \"markers\", \"name\": \"accuracy\", \"stepped\": false, \"type\": \"scatter\", \"data\": [0.6395659934103711, 0.6145305347568104, 0.580924527126328, 0.5895207309430353, 0.5324515398401336, 0.62626212649302, 0.6059398284057717, 0.5949870443059083, 0.6208123055271519, 0.6192363653688983, 0.595771349407923, 0.5926451239312011, 0.5840415901602695, 0.576231523934133, 0.5848460526364013, 0.5793522519451866, 0.580939187034777, 0.5801475519785378, 0.5926451239312011, 0.5684269551736649, 0.6059361634286594, 0.57076521057126, 0.5840544175801622, 0.5261789315125728, 0.5418283837817433, 0.5136740296056851, 0.36748359006498005, 0.5840434226488256, 0.40348649272685294, 0.3886121831169165, 0.4519411551274863, 0.5895134009888109, 0.5739060959564307, 0.5762425188654696, 0.5832921023408209, 0.5973307971691717, 0.5261972563981338, 0.6669323775073025, 0.6606780940653026]}, {\"categories\": [\"0\", \"1\", \"2\", \"3\", \"4\", \"5\", \"6\", \"7\", \"8\", \"9\", \"10\", \"11\", \"12\", \"13\", \"14\", \"15\", \"16\", \"17\", \"18\", \"19\", \"20\", \"21\", \"22\", \"23\", \"24\", \"25\", \"26\", \"27\", \"28\", \"29\", \"30\", \"31\", \"32\", \"33\", \"34\", \"35\", \"36\", \"38\", \"39\"], \"mode\": \"lines\", \"name\": \"accuracy_max\", \"stepped\": true, \"type\": \"scatter\", \"data\": [0.6395659934103711, 0.6395659934103711, 0.6395659934103711, 0.6395659934103711, 0.6395659934103711, 0.6395659934103711, 0.6395659934103711, 0.6395659934103711, 0.6395659934103711, 0.6395659934103711, 0.6395659934103711, 0.6395659934103711, 0.6395659934103711, 0.6395659934103711, 0.6395659934103711, 0.6395659934103711, 0.6395659934103711, 0.6395659934103711, 0.6395659934103711, 0.6395659934103711, 0.6395659934103711, 0.6395659934103711, 0.6395659934103711, 0.6395659934103711, 0.6395659934103711, 0.6395659934103711, 0.6395659934103711, 0.6395659934103711, 0.6395659934103711, 0.6395659934103711, 0.6395659934103711, 0.6395659934103711, 0.6395659934103711, 0.6395659934103711, 0.6395659934103711, 0.6395659934103711, 0.6395659934103711, 0.6669323775073025, 0.6669323775073025]}], \"matthews_correlation\": [{\"categories\": [\"0\", \"1\", \"2\", \"3\", \"4\", \"5\", \"6\", \"7\", \"8\", \"9\", \"10\", \"11\", \"12\", \"13\", \"14\", \"15\", \"16\", \"17\", \"18\", \"19\", \"20\", \"21\", \"22\", \"23\", \"24\", \"25\", \"26\", \"27\", \"28\", \"29\", \"30\", \"31\", \"32\", \"33\", \"34\", \"35\", \"36\", \"38\", \"39\"], \"mode\": \"markers\", \"name\": \"matthews_correlation\", \"stepped\": false, \"type\": \"scatter\", \"data\": [0.42668708048389553, 0.3855997110245793, 0.32055658087514477, 0.33012575416661416, 0.3164112277572417, 0.401175779705733, 0.35865789436035755, 0.33776410114895244, 0.3922399167728165, 0.38872548166022064, 0.3502216061687709, 0.3450702094085718, 0.3182324651960447, 0.2995205114907142, 0.3134430008915871, 0.3105276206711792, 0.31619828245972376, 0.3126879163119957, 0.34589039959897366, 0.2818496818831691, 0.36572133238621385, 0.28743357680751114, 0.3305307010823972, 0.21168919588509447, 0.2365771723382075, 0.18713662156653008, 0.1825086045357728, 0.3314167311843465, 0.23000493396996932, 0.2114032502509011, 0.06999019739151335, 0.34141691338851804, 0.29227077316659794, 0.29889063984375785, 0.3078430801744642, 0.3498480454762292, 0.21097421437379313, 0.4635653853131416, 0.454575816342868]}, {\"categories\": [\"0\", \"1\", \"2\", \"3\", \"4\", \"5\", \"6\", \"7\", \"8\", \"9\", \"10\", \"11\", \"12\", \"13\", \"14\", \"15\", \"16\", \"17\", \"18\", \"19\", \"20\", \"21\", \"22\", \"23\", \"24\", \"25\", \"26\", \"27\", \"28\", \"29\", \"30\", \"31\", \"32\", \"33\", \"34\", \"35\", \"36\", \"38\", \"39\"], \"mode\": \"lines\", \"name\": \"matthews_correlation_max\", \"stepped\": true, \"type\": \"scatter\", \"data\": [0.42668708048389553, 0.42668708048389553, 0.42668708048389553, 0.42668708048389553, 0.42668708048389553, 0.42668708048389553, 0.42668708048389553, 0.42668708048389553, 0.42668708048389553, 0.42668708048389553, 0.42668708048389553, 0.42668708048389553, 0.42668708048389553, 0.42668708048389553, 0.42668708048389553, 0.42668708048389553, 0.42668708048389553, 0.42668708048389553, 0.42668708048389553, 0.42668708048389553, 0.42668708048389553, 0.42668708048389553, 0.42668708048389553, 0.42668708048389553, 0.42668708048389553, 0.42668708048389553, 0.42668708048389553, 0.42668708048389553, 0.42668708048389553, 0.42668708048389553, 0.42668708048389553, 0.42668708048389553, 0.42668708048389553, 0.42668708048389553, 0.42668708048389553, 0.42668708048389553, 0.42668708048389553, 0.4635653853131416, 0.4635653853131416]}], \"average_precision_score_weighted\": [{\"categories\": [\"0\", \"1\", \"2\", \"3\", \"4\", \"5\", \"6\", \"7\", \"8\", \"9\", \"10\", \"11\", \"12\", \"13\", \"14\", \"15\", \"16\", \"17\", \"18\", \"19\", \"20\", \"21\", \"22\", \"23\", \"24\", \"25\", \"26\", \"27\", \"28\", \"29\", \"30\", \"31\", \"32\", \"33\", \"34\", \"35\", \"36\", \"38\", \"39\"], \"mode\": \"markers\", \"name\": \"average_precision_score_weighted\", \"stepped\": false, \"type\": \"scatter\", \"data\": [0.6555728155184664, 0.6146304485452333, 0.590306758563669, 0.5792372752784721, 0.5918948412530266, 0.6442394665934971, 0.5841737190273735, 0.5791346002080046, 0.6506347901851116, 0.6548081054837264, 0.6071839245155134, 0.597942089368359, 0.6023795225232557, 0.5874458082981748, 0.5999279483906769, 0.5741816572260057, 0.5890497370728442, 0.5866910350308105, 0.614750815529502, 0.5837142396826387, 0.6071379845828376, 0.587312557759045, 0.5988378863218401, 0.5346743440854823, 0.5615377636966494, 0.5229094157618996, 0.5101550275699456, 0.6091221178837455, 0.5375692411089749, 0.5238650385688989, 0.5572647014217739, 0.5985813362978384, 0.5875752281930017, 0.5832783018425539, 0.5952031308546366, 0.6103481700100204, 0.5320034703575843, 0.6685769807091098, 0.6807215025193427]}, {\"categories\": [\"0\", \"1\", \"2\", \"3\", \"4\", \"5\", \"6\", \"7\", \"8\", \"9\", \"10\", \"11\", \"12\", \"13\", \"14\", \"15\", \"16\", \"17\", \"18\", \"19\", \"20\", \"21\", \"22\", \"23\", \"24\", \"25\", \"26\", \"27\", \"28\", \"29\", \"30\", \"31\", \"32\", \"33\", \"34\", \"35\", \"36\", \"38\", \"39\"], \"mode\": \"lines\", \"name\": \"average_precision_score_weighted_max\", \"stepped\": true, \"type\": \"scatter\", \"data\": [0.6555728155184664, 0.6555728155184664, 0.6555728155184664, 0.6555728155184664, 0.6555728155184664, 0.6555728155184664, 0.6555728155184664, 0.6555728155184664, 0.6555728155184664, 0.6555728155184664, 0.6555728155184664, 0.6555728155184664, 0.6555728155184664, 0.6555728155184664, 0.6555728155184664, 0.6555728155184664, 0.6555728155184664, 0.6555728155184664, 0.6555728155184664, 0.6555728155184664, 0.6555728155184664, 0.6555728155184664, 0.6555728155184664, 0.6555728155184664, 0.6555728155184664, 0.6555728155184664, 0.6555728155184664, 0.6555728155184664, 0.6555728155184664, 0.6555728155184664, 0.6555728155184664, 0.6555728155184664, 0.6555728155184664, 0.6555728155184664, 0.6555728155184664, 0.6555728155184664, 0.6555728155184664, 0.6685769807091098, 0.6807215025193427]}], \"weighted_accuracy\": [{\"categories\": [\"0\", \"1\", \"2\", \"3\", \"4\", \"5\", \"6\", \"7\", \"8\", \"9\", \"10\", \"11\", \"12\", \"13\", \"14\", \"15\", \"16\", \"17\", \"18\", \"19\", \"20\", \"21\", \"22\", \"23\", \"24\", \"25\", \"26\", \"27\", \"28\", \"29\", \"30\", \"31\", \"32\", \"33\", \"34\", \"35\", \"36\", \"38\", \"39\"], \"mode\": \"markers\", \"name\": \"weighted_accuracy\", \"stepped\": false, \"type\": \"scatter\", \"data\": [0.6869535721432832, 0.6669973275601174, 0.6468867697146458, 0.6598291817794039, 0.5539251444585856, 0.6786312731419488, 0.6765901485976901, 0.6719463016160923, 0.6767601974517964, 0.6776555538147969, 0.6545163803653248, 0.6496389900263488, 0.6594040123230798, 0.6588453815008443, 0.6757421613115652, 0.6523744460773694, 0.6470060730874363, 0.6514684644213823, 0.6473164706638519, 0.6607801665127312, 0.6649881667507526, 0.6629246748417055, 0.6383823682009662, 0.6087080707291831, 0.6255720225800264, 0.5966889628076116, 0.36390822179928395, 0.6385815686288673, 0.4199606093376946, 0.3966363885538445, 0.5354163160209611, 0.642490351434371, 0.66725389922918, 0.6617556659929833, 0.6780467051286504, 0.6562629052209054, 0.6074083646827825, 0.726906636277057, 0.7174706741483337]}, {\"categories\": [\"0\", \"1\", \"2\", \"3\", \"4\", \"5\", \"6\", \"7\", \"8\", \"9\", \"10\", \"11\", \"12\", \"13\", \"14\", \"15\", \"16\", \"17\", \"18\", \"19\", \"20\", \"21\", \"22\", \"23\", \"24\", \"25\", \"26\", \"27\", \"28\", \"29\", \"30\", \"31\", \"32\", \"33\", \"34\", \"35\", \"36\", \"38\", \"39\"], \"mode\": \"lines\", \"name\": \"weighted_accuracy_max\", \"stepped\": true, \"type\": \"scatter\", \"data\": [0.6869535721432832, 0.6869535721432832, 0.6869535721432832, 0.6869535721432832, 0.6869535721432832, 0.6869535721432832, 0.6869535721432832, 0.6869535721432832, 0.6869535721432832, 0.6869535721432832, 0.6869535721432832, 0.6869535721432832, 0.6869535721432832, 0.6869535721432832, 0.6869535721432832, 0.6869535721432832, 0.6869535721432832, 0.6869535721432832, 0.6869535721432832, 0.6869535721432832, 0.6869535721432832, 0.6869535721432832, 0.6869535721432832, 0.6869535721432832, 0.6869535721432832, 0.6869535721432832, 0.6869535721432832, 0.6869535721432832, 0.6869535721432832, 0.6869535721432832, 0.6869535721432832, 0.6869535721432832, 0.6869535721432832, 0.6869535721432832, 0.6869535721432832, 0.6869535721432832, 0.6869535721432832, 0.726906636277057, 0.726906636277057]}], \"AUC_macro\": [{\"categories\": [\"0\", \"1\", \"2\", \"3\", \"4\", \"5\", \"6\", \"7\", \"8\", \"9\", \"10\", \"11\", \"12\", \"13\", \"14\", \"15\", \"16\", \"17\", \"18\", \"19\", \"20\", \"21\", \"22\", \"23\", \"24\", \"25\", \"26\", \"27\", \"28\", \"29\", \"30\", \"31\", \"32\", \"33\", \"34\", \"35\", \"36\", \"38\", \"39\"], \"mode\": \"markers\", \"name\": \"AUC_macro\", \"stepped\": false, \"type\": \"scatter\", \"data\": [0.8261301317756856, 0.7889481597034025, 0.7798994674472448, 0.7593291284858785, 0.7867456328852437, 0.8239871613816203, 0.7952726292309994, 0.7912242003275457, 0.7507252534027945, 0.748970829828973, 0.710850943421221, 0.8067659705702304, 0.7866123664222139, 0.7791696692226419, 0.7700445982544575, 0.7090173188441788, 0.7798369923812253, 0.7709150400933282, 0.7449365773705389, 0.7966190092609078, 0.7766252567348153, 0.768522641395228, 0.7443643698512039, 0.696699631197876, 0.7142583188157287, 0.6940890579859927, 0.6977358365667784, 0.7966568327883242, 0.763481191984768, 0.7568270478699713, 0.7098592138661122, 0.7931130473067746, 0.793698929506003, 0.7945296620397929, 0.7932751990204371, 0.7955601773761133, 0.7261745652046803, 0.8325863889418957, 0.8218840728865477]}, {\"categories\": [\"0\", \"1\", \"2\", \"3\", \"4\", \"5\", \"6\", \"7\", \"8\", \"9\", \"10\", \"11\", \"12\", \"13\", \"14\", \"15\", \"16\", \"17\", \"18\", \"19\", \"20\", \"21\", \"22\", \"23\", \"24\", \"25\", \"26\", \"27\", \"28\", \"29\", \"30\", \"31\", \"32\", \"33\", \"34\", \"35\", \"36\", \"38\", \"39\"], \"mode\": \"lines\", \"name\": \"AUC_macro_max\", \"stepped\": true, \"type\": \"scatter\", \"data\": [0.8261301317756856, 0.8261301317756856, 0.8261301317756856, 0.8261301317756856, 0.8261301317756856, 0.8261301317756856, 0.8261301317756856, 0.8261301317756856, 0.8261301317756856, 0.8261301317756856, 0.8261301317756856, 0.8261301317756856, 0.8261301317756856, 0.8261301317756856, 0.8261301317756856, 0.8261301317756856, 0.8261301317756856, 0.8261301317756856, 0.8261301317756856, 0.8261301317756856, 0.8261301317756856, 0.8261301317756856, 0.8261301317756856, 0.8261301317756856, 0.8261301317756856, 0.8261301317756856, 0.8261301317756856, 0.8261301317756856, 0.8261301317756856, 0.8261301317756856, 0.8261301317756856, 0.8261301317756856, 0.8261301317756856, 0.8261301317756856, 0.8261301317756856, 0.8261301317756856, 0.8261301317756856, 0.8325863889418957, 0.8325863889418957]}], \"precision_score_weighted\": [{\"categories\": [\"0\", \"1\", \"2\", \"3\", \"4\", \"5\", \"6\", \"7\", \"8\", \"9\", \"10\", \"11\", \"12\", \"13\", \"14\", \"15\", \"16\", \"17\", \"18\", \"19\", \"20\", \"21\", \"22\", \"23\", \"24\", \"25\", \"26\", \"27\", \"28\", \"29\", \"30\", \"31\", \"32\", \"33\", \"34\", \"35\", \"36\", \"38\", \"39\"], \"mode\": \"markers\", \"name\": \"precision_score_weighted\", \"stepped\": false, \"type\": \"scatter\", \"data\": [0.6173903331233618, 0.5967361006771058, 0.5524511014809433, 0.5770321339753123, 0.5701757905029536, 0.600292524192998, 0.5826063640517017, 0.5677200555394978, 0.5988340139295275, 0.5936838089991481, 0.5752967958743999, 0.5618304912282395, 0.5630752405800935, 0.5857092905268727, 0.5626612492553505, 0.5552547522126209, 0.5552108526276681, 0.5622253084843888, 0.5669331988331839, 0.46535049040086546, 0.5725743034108507, 0.4682228935672826, 0.5606989353793157, 0.4382516273607943, 0.5016702145270433, 0.42061293736669697, 0.5212332338790917, 0.5523050729525844, 0.5793664369352859, 0.5379158725835638, 0.253390698636994, 0.5584936364724015, 0.46878928952346294, 0.5258098769786745, 0.4771315044005078, 0.5652705371064667, 0.4592998864190711, 0.6384532782137585, 0.6300304547846408]}, {\"categories\": [\"0\", \"1\", \"2\", \"3\", \"4\", \"5\", \"6\", \"7\", \"8\", \"9\", \"10\", \"11\", \"12\", \"13\", \"14\", \"15\", \"16\", \"17\", \"18\", \"19\", \"20\", \"21\", \"22\", \"23\", \"24\", \"25\", \"26\", \"27\", \"28\", \"29\", \"30\", \"31\", \"32\", \"33\", \"34\", \"35\", \"36\", \"38\", \"39\"], \"mode\": \"lines\", \"name\": \"precision_score_weighted_max\", \"stepped\": true, \"type\": \"scatter\", \"data\": [0.6173903331233618, 0.6173903331233618, 0.6173903331233618, 0.6173903331233618, 0.6173903331233618, 0.6173903331233618, 0.6173903331233618, 0.6173903331233618, 0.6173903331233618, 0.6173903331233618, 0.6173903331233618, 0.6173903331233618, 0.6173903331233618, 0.6173903331233618, 0.6173903331233618, 0.6173903331233618, 0.6173903331233618, 0.6173903331233618, 0.6173903331233618, 0.6173903331233618, 0.6173903331233618, 0.6173903331233618, 0.6173903331233618, 0.6173903331233618, 0.6173903331233618, 0.6173903331233618, 0.6173903331233618, 0.6173903331233618, 0.6173903331233618, 0.6173903331233618, 0.6173903331233618, 0.6173903331233618, 0.6173903331233618, 0.6173903331233618, 0.6173903331233618, 0.6173903331233618, 0.6173903331233618, 0.6384532782137585, 0.6384532782137585]}], \"precision_score_macro\": [{\"categories\": [\"0\", \"1\", \"2\", \"3\", \"4\", \"5\", \"6\", \"7\", \"8\", \"9\", \"10\", \"11\", \"12\", \"13\", \"14\", \"15\", \"16\", \"17\", \"18\", \"19\", \"20\", \"21\", \"22\", \"23\", \"24\", \"25\", \"26\", \"27\", \"28\", \"29\", \"30\", \"31\", \"32\", \"33\", \"34\", \"35\", \"36\", \"38\", \"39\"], \"mode\": \"markers\", \"name\": \"precision_score_macro\", \"stepped\": false, \"type\": \"scatter\", \"data\": [0.372392840414648, 0.33239785890167156, 0.2825494898551459, 0.31122749157616963, 0.3052099404757327, 0.31297429113479, 0.3074545213294706, 0.29434089542398156, 0.3120323470154636, 0.3060700128271853, 0.3005622599661472, 0.28691436501327594, 0.3006230490427497, 0.3362081565949331, 0.29300513081531737, 0.2953780860061253, 0.2939608427317994, 0.30428882789952844, 0.3008038565286553, 0.18875215642286547, 0.2915056393912301, 0.18988582247083138, 0.29213809580615746, 0.1777863133945858, 0.2542746885398376, 0.1708593422820844, 0.2642040803286174, 0.2813689783467977, 0.2895626697865023, 0.27078086194244944, 0.1024185284787172, 0.2850294456235211, 0.19017602349396243, 0.26242985270546143, 0.19363749179355746, 0.2904788490846782, 0.20667055873144372, 0.33913533147324143, 0.3321286367747455]}, {\"categories\": [\"0\", \"1\", \"2\", \"3\", \"4\", \"5\", \"6\", \"7\", \"8\", \"9\", \"10\", \"11\", \"12\", \"13\", \"14\", \"15\", \"16\", \"17\", \"18\", \"19\", \"20\", \"21\", \"22\", \"23\", \"24\", \"25\", \"26\", \"27\", \"28\", \"29\", \"30\", \"31\", \"32\", \"33\", \"34\", \"35\", \"36\", \"38\", \"39\"], \"mode\": \"lines\", \"name\": \"precision_score_macro_max\", \"stepped\": true, \"type\": \"scatter\", \"data\": [0.372392840414648, 0.372392840414648, 0.372392840414648, 0.372392840414648, 0.372392840414648, 0.372392840414648, 0.372392840414648, 0.372392840414648, 0.372392840414648, 0.372392840414648, 0.372392840414648, 0.372392840414648, 0.372392840414648, 0.372392840414648, 0.372392840414648, 0.372392840414648, 0.372392840414648, 0.372392840414648, 0.372392840414648, 0.372392840414648, 0.372392840414648, 0.372392840414648, 0.372392840414648, 0.372392840414648, 0.372392840414648, 0.372392840414648, 0.372392840414648, 0.372392840414648, 0.372392840414648, 0.372392840414648, 0.372392840414648, 0.372392840414648, 0.372392840414648, 0.372392840414648, 0.372392840414648, 0.372392840414648, 0.372392840414648, 0.372392840414648, 0.372392840414648]}], \"f1_score_weighted\": [{\"categories\": [\"0\", \"1\", \"2\", \"3\", \"4\", \"5\", \"6\", \"7\", \"8\", \"9\", \"10\", \"11\", \"12\", \"13\", \"14\", \"15\", \"16\", \"17\", \"18\", \"19\", \"20\", \"21\", \"22\", \"23\", \"24\", \"25\", \"26\", \"27\", \"28\", \"29\", \"30\", \"31\", \"32\", \"33\", \"34\", \"35\", \"36\", \"38\", \"39\"], \"mode\": \"markers\", \"name\": \"f1_score_weighted\", \"stepped\": false, \"type\": \"scatter\", \"data\": [0.6257961239586567, 0.5999636669663478, 0.5557520536053892, 0.5609814067034139, 0.5439959556622992, 0.6100052928791255, 0.5778345112460187, 0.5613561771661529, 0.6052078502998935, 0.6018325918449067, 0.5768748115326945, 0.5728690314222802, 0.5505016656121375, 0.5335910197461223, 0.5318594303913758, 0.5481966027510189, 0.5557237679021444, 0.5484521672153562, 0.5757317601352788, 0.5108360045014801, 0.585572871069027, 0.5125281525551467, 0.5666259748145613, 0.4754172517247744, 0.4941901075807209, 0.4591943256722964, 0.41274217357738435, 0.5649659728647715, 0.41862318993764247, 0.41619864430758313, 0.30995802603875205, 0.5706425214035384, 0.5142544903719912, 0.5284486708905732, 0.5239748381231135, 0.5765999067593798, 0.48117675961639295, 0.6460117070097383, 0.6404986297772082]}, {\"categories\": [\"0\", \"1\", \"2\", \"3\", \"4\", \"5\", \"6\", \"7\", \"8\", \"9\", \"10\", \"11\", \"12\", \"13\", \"14\", \"15\", \"16\", \"17\", \"18\", \"19\", \"20\", \"21\", \"22\", \"23\", \"24\", \"25\", \"26\", \"27\", \"28\", \"29\", \"30\", \"31\", \"32\", \"33\", \"34\", \"35\", \"36\", \"38\", \"39\"], \"mode\": \"lines\", \"name\": \"f1_score_weighted_max\", \"stepped\": true, \"type\": \"scatter\", \"data\": [0.6257961239586567, 0.6257961239586567, 0.6257961239586567, 0.6257961239586567, 0.6257961239586567, 0.6257961239586567, 0.6257961239586567, 0.6257961239586567, 0.6257961239586567, 0.6257961239586567, 0.6257961239586567, 0.6257961239586567, 0.6257961239586567, 0.6257961239586567, 0.6257961239586567, 0.6257961239586567, 0.6257961239586567, 0.6257961239586567, 0.6257961239586567, 0.6257961239586567, 0.6257961239586567, 0.6257961239586567, 0.6257961239586567, 0.6257961239586567, 0.6257961239586567, 0.6257961239586567, 0.6257961239586567, 0.6257961239586567, 0.6257961239586567, 0.6257961239586567, 0.6257961239586567, 0.6257961239586567, 0.6257961239586567, 0.6257961239586567, 0.6257961239586567, 0.6257961239586567, 0.6257961239586567, 0.6460117070097383, 0.6460117070097383]}], \"f1_score_micro\": [{\"categories\": [\"0\", \"1\", \"2\", \"3\", \"4\", \"5\", \"6\", \"7\", \"8\", \"9\", \"10\", \"11\", \"12\", \"13\", \"14\", \"15\", \"16\", \"17\", \"18\", \"19\", \"20\", \"21\", \"22\", \"23\", \"24\", \"25\", \"26\", \"27\", \"28\", \"29\", \"30\", \"31\", \"32\", \"33\", \"34\", \"35\", \"36\", \"38\", \"39\"], \"mode\": \"markers\", \"name\": \"f1_score_micro\", \"stepped\": false, \"type\": \"scatter\", \"data\": [0.6395659934103711, 0.6145305347568104, 0.580924527126328, 0.5895207309430353, 0.5324515398401336, 0.62626212649302, 0.6059398284057717, 0.5949870443059083, 0.6208123055271519, 0.6192363653688983, 0.595771349407923, 0.5926451239312011, 0.5840415901602695, 0.576231523934133, 0.5848460526364013, 0.5793522519451866, 0.580939187034777, 0.5801475519785378, 0.5926451239312011, 0.5684269551736649, 0.6059361634286594, 0.57076521057126, 0.5840544175801622, 0.5261789315125728, 0.5418283837817433, 0.5136740296056851, 0.36748359006498, 0.5840434226488256, 0.40348649272685294, 0.3886121831169165, 0.4519411551274863, 0.5895134009888109, 0.5739060959564307, 0.5762425188654696, 0.5832921023408209, 0.5973307971691717, 0.5261972563981338, 0.6669323775073025, 0.6606780940653026]}, {\"categories\": [\"0\", \"1\", \"2\", \"3\", \"4\", \"5\", \"6\", \"7\", \"8\", \"9\", \"10\", \"11\", \"12\", \"13\", \"14\", \"15\", \"16\", \"17\", \"18\", \"19\", \"20\", \"21\", \"22\", \"23\", \"24\", \"25\", \"26\", \"27\", \"28\", \"29\", \"30\", \"31\", \"32\", \"33\", \"34\", \"35\", \"36\", \"38\", \"39\"], \"mode\": \"lines\", \"name\": \"f1_score_micro_max\", \"stepped\": true, \"type\": \"scatter\", \"data\": [0.6395659934103711, 0.6395659934103711, 0.6395659934103711, 0.6395659934103711, 0.6395659934103711, 0.6395659934103711, 0.6395659934103711, 0.6395659934103711, 0.6395659934103711, 0.6395659934103711, 0.6395659934103711, 0.6395659934103711, 0.6395659934103711, 0.6395659934103711, 0.6395659934103711, 0.6395659934103711, 0.6395659934103711, 0.6395659934103711, 0.6395659934103711, 0.6395659934103711, 0.6395659934103711, 0.6395659934103711, 0.6395659934103711, 0.6395659934103711, 0.6395659934103711, 0.6395659934103711, 0.6395659934103711, 0.6395659934103711, 0.6395659934103711, 0.6395659934103711, 0.6395659934103711, 0.6395659934103711, 0.6395659934103711, 0.6395659934103711, 0.6395659934103711, 0.6395659934103711, 0.6395659934103711, 0.6669323775073025, 0.6669323775073025]}], \"balanced_accuracy\": [{\"categories\": [\"0\", \"1\", \"2\", \"3\", \"4\", \"5\", \"6\", \"7\", \"8\", \"9\", \"10\", \"11\", \"12\", \"13\", \"14\", \"15\", \"16\", \"17\", \"18\", \"19\", \"20\", \"21\", \"22\", \"23\", \"24\", \"25\", \"26\", \"27\", \"28\", \"29\", \"30\", \"31\", \"32\", \"33\", \"34\", \"35\", \"36\", \"38\", \"39\"], \"mode\": \"markers\", \"name\": \"balanced_accuracy\", \"stepped\": false, \"type\": \"scatter\", \"data\": [0.3291316728837724, 0.3034814620693835, 0.2662291535137702, 0.265447872892737, 0.3806495275015125, 0.3071943566816859, 0.2752764353787256, 0.2624941184125904, 0.3003152674504621, 0.29683308058968416, 0.28256209217934736, 0.2841664101233452, 0.2583938278262034, 0.24581628993933272, 0.2409467545422134, 0.25883668615429606, 0.2671778642992247, 0.2615652829347791, 0.33927446631656455, 0.23114571292426822, 0.2894052205557774, 0.23227458163356998, 0.2804875015057486, 0.2149981186896318, 0.22482085644481598, 0.20903055263620288, 0.36676433785159596, 0.28190880442774885, 0.3593035419683868, 0.35030168898911, 0.18018617021276595, 0.2864289606975782, 0.23336772934965308, 0.243390104495102, 0.2372473118001596, 0.28474469169630495, 0.21767407174248, 0.32232115939764744, 0.32295226486020684]}, {\"categories\": [\"0\", \"1\", \"2\", \"3\", \"4\", \"5\", \"6\", \"7\", \"8\", \"9\", \"10\", \"11\", \"12\", \"13\", \"14\", \"15\", \"16\", \"17\", \"18\", \"19\", \"20\", \"21\", \"22\", \"23\", \"24\", \"25\", \"26\", \"27\", \"28\", \"29\", \"30\", \"31\", \"32\", \"33\", \"34\", \"35\", \"36\", \"38\", \"39\"], \"mode\": \"lines\", \"name\": \"balanced_accuracy_max\", \"stepped\": true, \"type\": \"scatter\", \"data\": [0.3291316728837724, 0.3291316728837724, 0.3291316728837724, 0.3291316728837724, 0.3806495275015125, 0.3806495275015125, 0.3806495275015125, 0.3806495275015125, 0.3806495275015125, 0.3806495275015125, 0.3806495275015125, 0.3806495275015125, 0.3806495275015125, 0.3806495275015125, 0.3806495275015125, 0.3806495275015125, 0.3806495275015125, 0.3806495275015125, 0.3806495275015125, 0.3806495275015125, 0.3806495275015125, 0.3806495275015125, 0.3806495275015125, 0.3806495275015125, 0.3806495275015125, 0.3806495275015125, 0.3806495275015125, 0.3806495275015125, 0.3806495275015125, 0.3806495275015125, 0.3806495275015125, 0.3806495275015125, 0.3806495275015125, 0.3806495275015125, 0.3806495275015125, 0.3806495275015125, 0.3806495275015125, 0.3806495275015125, 0.3806495275015125]}], \"norm_macro_recall\": [{\"categories\": [\"0\", \"1\", \"2\", \"3\", \"4\", \"5\", \"6\", \"7\", \"8\", \"9\", \"10\", \"11\", \"12\", \"13\", \"14\", \"15\", \"16\", \"17\", \"18\", \"19\", \"20\", \"21\", \"22\", \"23\", \"24\", \"25\", \"26\", \"27\", \"28\", \"29\", \"30\", \"31\", \"32\", \"33\", \"34\", \"35\", \"36\", \"38\", \"39\"], \"mode\": \"markers\", \"name\": \"norm_macro_recall\", \"stepped\": false, \"type\": \"scatter\", \"data\": [0.19495800746052683, 0.1641777544832602, 0.11947498421652425, 0.11853744747128442, 0.25677943300181494, 0.16863322801802302, 0.1303317224544707, 0.11499294209510848, 0.16037832094055457, 0.15619969670762102, 0.13907451061521683, 0.14099969214801425, 0.1100725933914441, 0.09497954792719927, 0.0891361054506561, 0.11060402338515525, 0.12061343715906969, 0.11387833952173493, 0.2071293595798774, 0.07737485550912183, 0.14728626466693284, 0.07872949796028399, 0.13658500180689825, 0.057997742427558195, 0.06978502773377919, 0.050836663163443485, 0.2401172054219152, 0.13829056531329864, 0.2311642503620642, 0.22036202678693204, 0.016223404255319162, 0.1437147528370938, 0.08004127521958367, 0.09206812539412242, 0.08469677416019152, 0.14169363003556587, 0.061208886090975995, 0.18678539127717694, 0.1875427178322482]}, {\"categories\": [\"0\", \"1\", \"2\", \"3\", \"4\", \"5\", \"6\", \"7\", \"8\", \"9\", \"10\", \"11\", \"12\", \"13\", \"14\", \"15\", \"16\", \"17\", \"18\", \"19\", \"20\", \"21\", \"22\", \"23\", \"24\", \"25\", \"26\", \"27\", \"28\", \"29\", \"30\", \"31\", \"32\", \"33\", \"34\", \"35\", \"36\", \"38\", \"39\"], \"mode\": \"lines\", \"name\": \"norm_macro_recall_max\", \"stepped\": true, \"type\": \"scatter\", \"data\": [0.19495800746052683, 0.19495800746052683, 0.19495800746052683, 0.19495800746052683, 0.25677943300181494, 0.25677943300181494, 0.25677943300181494, 0.25677943300181494, 0.25677943300181494, 0.25677943300181494, 0.25677943300181494, 0.25677943300181494, 0.25677943300181494, 0.25677943300181494, 0.25677943300181494, 0.25677943300181494, 0.25677943300181494, 0.25677943300181494, 0.25677943300181494, 0.25677943300181494, 0.25677943300181494, 0.25677943300181494, 0.25677943300181494, 0.25677943300181494, 0.25677943300181494, 0.25677943300181494, 0.25677943300181494, 0.25677943300181494, 0.25677943300181494, 0.25677943300181494, 0.25677943300181494, 0.25677943300181494, 0.25677943300181494, 0.25677943300181494, 0.25677943300181494, 0.25677943300181494, 0.25677943300181494, 0.25677943300181494, 0.25677943300181494]}], \"precision_score_micro\": [{\"categories\": [\"0\", \"1\", \"2\", \"3\", \"4\", \"5\", \"6\", \"7\", \"8\", \"9\", \"10\", \"11\", \"12\", \"13\", \"14\", \"15\", \"16\", \"17\", \"18\", \"19\", \"20\", \"21\", \"22\", \"23\", \"24\", \"25\", \"26\", \"27\", \"28\", \"29\", \"30\", \"31\", \"32\", \"33\", \"34\", \"35\", \"36\", \"38\", \"39\"], \"mode\": \"markers\", \"name\": \"precision_score_micro\", \"stepped\": false, \"type\": \"scatter\", \"data\": [0.6395659934103711, 0.6145305347568104, 0.580924527126328, 0.5895207309430353, 0.5324515398401336, 0.62626212649302, 0.6059398284057717, 0.5949870443059083, 0.6208123055271519, 0.6192363653688983, 0.595771349407923, 0.5926451239312011, 0.5840415901602695, 0.576231523934133, 0.5848460526364013, 0.5793522519451866, 0.580939187034777, 0.5801475519785378, 0.5926451239312011, 0.5684269551736649, 0.6059361634286594, 0.57076521057126, 0.5840544175801622, 0.5261789315125728, 0.5418283837817433, 0.5136740296056851, 0.36748359006498005, 0.5840434226488256, 0.40348649272685294, 0.3886121831169165, 0.4519411551274863, 0.5895134009888109, 0.5739060959564307, 0.5762425188654696, 0.5832921023408209, 0.5973307971691717, 0.5261972563981338, 0.6669323775073025, 0.6606780940653026]}, {\"categories\": [\"0\", \"1\", \"2\", \"3\", \"4\", \"5\", \"6\", \"7\", \"8\", \"9\", \"10\", \"11\", \"12\", \"13\", \"14\", \"15\", \"16\", \"17\", \"18\", \"19\", \"20\", \"21\", \"22\", \"23\", \"24\", \"25\", \"26\", \"27\", \"28\", \"29\", \"30\", \"31\", \"32\", \"33\", \"34\", \"35\", \"36\", \"38\", \"39\"], \"mode\": \"lines\", \"name\": \"precision_score_micro_max\", \"stepped\": true, \"type\": \"scatter\", \"data\": [0.6395659934103711, 0.6395659934103711, 0.6395659934103711, 0.6395659934103711, 0.6395659934103711, 0.6395659934103711, 0.6395659934103711, 0.6395659934103711, 0.6395659934103711, 0.6395659934103711, 0.6395659934103711, 0.6395659934103711, 0.6395659934103711, 0.6395659934103711, 0.6395659934103711, 0.6395659934103711, 0.6395659934103711, 0.6395659934103711, 0.6395659934103711, 0.6395659934103711, 0.6395659934103711, 0.6395659934103711, 0.6395659934103711, 0.6395659934103711, 0.6395659934103711, 0.6395659934103711, 0.6395659934103711, 0.6395659934103711, 0.6395659934103711, 0.6395659934103711, 0.6395659934103711, 0.6395659934103711, 0.6395659934103711, 0.6395659934103711, 0.6395659934103711, 0.6395659934103711, 0.6395659934103711, 0.6669323775073025, 0.6669323775073025]}], \"average_precision_score_macro\": [{\"categories\": [\"0\", \"1\", \"2\", \"3\", \"4\", \"5\", \"6\", \"7\", \"8\", \"9\", \"10\", \"11\", \"12\", \"13\", \"14\", \"15\", \"16\", \"17\", \"18\", \"19\", \"20\", \"21\", \"22\", \"23\", \"24\", \"25\", \"26\", \"27\", \"28\", \"29\", \"30\", \"31\", \"32\", \"33\", \"34\", \"35\", \"36\", \"38\", \"39\"], \"mode\": \"markers\", \"name\": \"average_precision_score_macro\", \"stepped\": false, \"type\": \"scatter\", \"data\": [0.3889109998645832, 0.38151617326929776, 0.3391580981876856, 0.32377801216736407, 0.4002977379808732, 0.40450892801510346, 0.3379081972177686, 0.3340361653972592, 0.3791786454937344, 0.38642875353106376, 0.3386097173841714, 0.3672958184079711, 0.351242979321557, 0.3697462005112682, 0.407518237397335, 0.34942366788194607, 0.3543518903264958, 0.3296839573344906, 0.3726383587131799, 0.3726842637041648, 0.37430867616728086, 0.35289704388515464, 0.39000143601276055, 0.3339432734226702, 0.30641660425628237, 0.2855626344569715, 0.30535880350674943, 0.3720076566886461, 0.3418541977707037, 0.35569340936939575, 0.30872489426860833, 0.3672286082960437, 0.3734181729215211, 0.4031740346371233, 0.40294605387830185, 0.3843177788254948, 0.30507006880660587, 0.4112780734033879, 0.4143763422009397]}, {\"categories\": [\"0\", \"1\", \"2\", \"3\", \"4\", \"5\", \"6\", \"7\", \"8\", \"9\", \"10\", \"11\", \"12\", \"13\", \"14\", \"15\", \"16\", \"17\", \"18\", \"19\", \"20\", \"21\", \"22\", \"23\", \"24\", \"25\", \"26\", \"27\", \"28\", \"29\", \"30\", \"31\", \"32\", \"33\", \"34\", \"35\", \"36\", \"38\", \"39\"], \"mode\": \"lines\", \"name\": \"average_precision_score_macro_max\", \"stepped\": true, \"type\": \"scatter\", \"data\": [0.3889109998645832, 0.3889109998645832, 0.3889109998645832, 0.3889109998645832, 0.4002977379808732, 0.40450892801510346, 0.40450892801510346, 0.40450892801510346, 0.40450892801510346, 0.40450892801510346, 0.40450892801510346, 0.40450892801510346, 0.40450892801510346, 0.40450892801510346, 0.407518237397335, 0.407518237397335, 0.407518237397335, 0.407518237397335, 0.407518237397335, 0.407518237397335, 0.407518237397335, 0.407518237397335, 0.407518237397335, 0.407518237397335, 0.407518237397335, 0.407518237397335, 0.407518237397335, 0.407518237397335, 0.407518237397335, 0.407518237397335, 0.407518237397335, 0.407518237397335, 0.407518237397335, 0.407518237397335, 0.407518237397335, 0.407518237397335, 0.407518237397335, 0.4112780734033879, 0.4143763422009397]}], \"average_precision_score_micro\": [{\"categories\": [\"0\", \"1\", \"2\", \"3\", \"4\", \"5\", \"6\", \"7\", \"8\", \"9\", \"10\", \"11\", \"12\", \"13\", \"14\", \"15\", \"16\", \"17\", \"18\", \"19\", \"20\", \"21\", \"22\", \"23\", \"24\", \"25\", \"26\", \"27\", \"28\", \"29\", \"30\", \"31\", \"32\", \"33\", \"34\", \"35\", \"36\", \"38\", \"39\"], \"mode\": \"markers\", \"name\": \"average_precision_score_micro\", \"stepped\": false, \"type\": \"scatter\", \"data\": [0.666001236986316, 0.6353061464995841, 0.6119054478771592, 0.6033320699218996, 0.5655225349816949, 0.6635817271030139, 0.5992805011071952, 0.5949004505182948, 0.6629410857823979, 0.6668589497421841, 0.6236179701896908, 0.6212473286429249, 0.6194099396078133, 0.5998647785728207, 0.6075800978329321, 0.5987579470264274, 0.6077735636007443, 0.601805531585153, 0.6294292801501847, 0.6006657641883812, 0.629557536760285, 0.5962796717380399, 0.6138492033485687, 0.5512621188072803, 0.5755106623632941, 0.540029510022967, 0.4028815127666112, 0.6330641897081809, 0.39729061818988365, 0.3951645463198344, 0.546388251383659, 0.6230994818939003, 0.6007829778318639, 0.6022888694721852, 0.613307570409148, 0.6299917542639499, 0.5492372422211652, 0.681784931245892, 0.6923332308602683]}, {\"categories\": [\"0\", \"1\", \"2\", \"3\", \"4\", \"5\", \"6\", \"7\", \"8\", \"9\", \"10\", \"11\", \"12\", \"13\", \"14\", \"15\", \"16\", \"17\", \"18\", \"19\", \"20\", \"21\", \"22\", \"23\", \"24\", \"25\", \"26\", \"27\", \"28\", \"29\", \"30\", \"31\", \"32\", \"33\", \"34\", \"35\", \"36\", \"38\", \"39\"], \"mode\": \"lines\", \"name\": \"average_precision_score_micro_max\", \"stepped\": true, \"type\": \"scatter\", \"data\": [0.666001236986316, 0.666001236986316, 0.666001236986316, 0.666001236986316, 0.666001236986316, 0.666001236986316, 0.666001236986316, 0.666001236986316, 0.666001236986316, 0.6668589497421841, 0.6668589497421841, 0.6668589497421841, 0.6668589497421841, 0.6668589497421841, 0.6668589497421841, 0.6668589497421841, 0.6668589497421841, 0.6668589497421841, 0.6668589497421841, 0.6668589497421841, 0.6668589497421841, 0.6668589497421841, 0.6668589497421841, 0.6668589497421841, 0.6668589497421841, 0.6668589497421841, 0.6668589497421841, 0.6668589497421841, 0.6668589497421841, 0.6668589497421841, 0.6668589497421841, 0.6668589497421841, 0.6668589497421841, 0.6668589497421841, 0.6668589497421841, 0.6668589497421841, 0.6668589497421841, 0.681784931245892, 0.6923332308602683]}], \"recall_score_weighted\": [{\"categories\": [\"0\", \"1\", \"2\", \"3\", \"4\", \"5\", \"6\", \"7\", \"8\", \"9\", \"10\", \"11\", \"12\", \"13\", \"14\", \"15\", \"16\", \"17\", \"18\", \"19\", \"20\", \"21\", \"22\", \"23\", \"24\", \"25\", \"26\", \"27\", \"28\", \"29\", \"30\", \"31\", \"32\", \"33\", \"34\", \"35\", \"36\", \"38\", \"39\"], \"mode\": \"markers\", \"name\": \"recall_score_weighted\", \"stepped\": false, \"type\": \"scatter\", \"data\": [0.6395659934103711, 0.6145305347568104, 0.580924527126328, 0.5895207309430353, 0.5324515398401336, 0.62626212649302, 0.6059398284057717, 0.5949870443059083, 0.6208123055271519, 0.6192363653688983, 0.595771349407923, 0.5926451239312011, 0.5840415901602695, 0.576231523934133, 0.5848460526364013, 0.5793522519451866, 0.580939187034777, 0.5801475519785378, 0.5926451239312011, 0.5684269551736649, 0.6059361634286594, 0.57076521057126, 0.5840544175801622, 0.5261789315125728, 0.5418283837817433, 0.5136740296056851, 0.36748359006498005, 0.5840434226488256, 0.40348649272685294, 0.3886121831169165, 0.4519411551274863, 0.5895134009888109, 0.5739060959564307, 0.5762425188654696, 0.5832921023408209, 0.5973307971691717, 0.5261972563981338, 0.6669323775073025, 0.6606780940653026]}, {\"categories\": [\"0\", \"1\", \"2\", \"3\", \"4\", \"5\", \"6\", \"7\", \"8\", \"9\", \"10\", \"11\", \"12\", \"13\", \"14\", \"15\", \"16\", \"17\", \"18\", \"19\", \"20\", \"21\", \"22\", \"23\", \"24\", \"25\", \"26\", \"27\", \"28\", \"29\", \"30\", \"31\", \"32\", \"33\", \"34\", \"35\", \"36\", \"38\", \"39\"], \"mode\": \"lines\", \"name\": \"recall_score_weighted_max\", \"stepped\": true, \"type\": \"scatter\", \"data\": [0.6395659934103711, 0.6395659934103711, 0.6395659934103711, 0.6395659934103711, 0.6395659934103711, 0.6395659934103711, 0.6395659934103711, 0.6395659934103711, 0.6395659934103711, 0.6395659934103711, 0.6395659934103711, 0.6395659934103711, 0.6395659934103711, 0.6395659934103711, 0.6395659934103711, 0.6395659934103711, 0.6395659934103711, 0.6395659934103711, 0.6395659934103711, 0.6395659934103711, 0.6395659934103711, 0.6395659934103711, 0.6395659934103711, 0.6395659934103711, 0.6395659934103711, 0.6395659934103711, 0.6395659934103711, 0.6395659934103711, 0.6395659934103711, 0.6395659934103711, 0.6395659934103711, 0.6395659934103711, 0.6395659934103711, 0.6395659934103711, 0.6395659934103711, 0.6395659934103711, 0.6395659934103711, 0.6669323775073025, 0.6669323775073025]}]}, \"metricName\": null, \"primaryMetricName\": \"accuracy\", \"showLegend\": false}, \"run_metrics\": [{\"name\": \"experiment_status\", \"run_id\": \"AutoML_f2600643-baea-4a05-8786-d99bb8e114b5\", \"categories\": [0, 1, 2, 3, 4, 5, 6, 7, 8, 9, 10, 11, 12, 13, 14], \"series\": [{\"data\": [\"DatasetEvaluation\", \"FeaturesGeneration\", \"DatasetFeaturization\", \"DatasetFeaturizationCompleted\", \"DatasetBalancing\", \"DatasetCrossValidationSplit\", \"ModelSelection\", \"BestRunExplainModel\", \"ModelExplanationDataSetSetup\", \"PickSurrogateModel\", \"EngineeredFeatureExplanations\", \"EngineeredFeatureExplanations\", \"RawFeaturesExplanations\", \"RawFeaturesExplanations\", \"BestRunExplainModel\"]}]}, {\"name\": \"experiment_status_description\", \"run_id\": \"AutoML_f2600643-baea-4a05-8786-d99bb8e114b5\", \"categories\": [0, 1, 2, 3, 4, 5, 6, 7, 8, 9, 10, 11, 12, 13, 14], \"series\": [{\"data\": [\"Gathering dataset statistics.\", \"Generating features for the dataset.\", \"Beginning to fit featurizers and featurize the dataset.\", \"Completed fit featurizers and featurizing the dataset.\", \"Performing class balancing sweeping\", \"Generating individually featurized CV splits.\", \"Beginning model selection.\", \"Best run model explanations started\", \"Model explanations data setup completed\", \"Choosing LightGBM as the surrogate model for explanations\", \"Computation of engineered features started\", \"Computation of engineered features completed\", \"Computation of raw features started\", \"Computation of raw features completed\", \"Best run model explanations completed\"]}]}, {\"name\": \"f1_score_micro\", \"run_id\": \"AutoML_f2600643-baea-4a05-8786-d99bb8e114b5\", \"categories\": [0], \"series\": [{\"data\": [0.6669323775073025]}]}, {\"name\": \"matthews_correlation\", \"run_id\": \"AutoML_f2600643-baea-4a05-8786-d99bb8e114b5\", \"categories\": [0], \"series\": [{\"data\": [0.4635653853131416]}]}, {\"name\": \"log_loss\", \"run_id\": \"AutoML_f2600643-baea-4a05-8786-d99bb8e114b5\", \"categories\": [0], \"series\": [{\"data\": [0.9165615775757497]}]}, {\"name\": \"precision_score_macro\", \"run_id\": \"AutoML_f2600643-baea-4a05-8786-d99bb8e114b5\", \"categories\": [0], \"series\": [{\"data\": [0.33913533147324143]}]}, {\"name\": \"recall_score_macro\", \"run_id\": \"AutoML_f2600643-baea-4a05-8786-d99bb8e114b5\", \"categories\": [0], \"series\": [{\"data\": [0.32232115939764744]}]}, {\"name\": \"weighted_accuracy\", \"run_id\": \"AutoML_f2600643-baea-4a05-8786-d99bb8e114b5\", \"categories\": [0], \"series\": [{\"data\": [0.726906636277057]}]}, {\"name\": \"average_precision_score_macro\", \"run_id\": \"AutoML_f2600643-baea-4a05-8786-d99bb8e114b5\", \"categories\": [0], \"series\": [{\"data\": [0.4112780734033879]}]}, {\"name\": \"f1_score_weighted\", \"run_id\": \"AutoML_f2600643-baea-4a05-8786-d99bb8e114b5\", \"categories\": [0], \"series\": [{\"data\": [0.6460117070097383]}]}, {\"name\": \"AUC_micro\", \"run_id\": \"AutoML_f2600643-baea-4a05-8786-d99bb8e114b5\", \"categories\": [0], \"series\": [{\"data\": [0.9171122601798994]}]}, {\"name\": \"AUC_weighted\", \"run_id\": \"AutoML_f2600643-baea-4a05-8786-d99bb8e114b5\", \"categories\": [0], \"series\": [{\"data\": [0.8139218998338428]}]}, {\"name\": \"balanced_accuracy\", \"run_id\": \"AutoML_f2600643-baea-4a05-8786-d99bb8e114b5\", \"categories\": [0], \"series\": [{\"data\": [0.32232115939764744]}]}, {\"name\": \"average_precision_score_weighted\", \"run_id\": \"AutoML_f2600643-baea-4a05-8786-d99bb8e114b5\", \"categories\": [0], \"series\": [{\"data\": [0.6685769807091098]}]}, {\"name\": \"f1_score_macro\", \"run_id\": \"AutoML_f2600643-baea-4a05-8786-d99bb8e114b5\", \"categories\": [0], \"series\": [{\"data\": [0.32465381826739886]}]}, {\"name\": \"norm_macro_recall\", \"run_id\": \"AutoML_f2600643-baea-4a05-8786-d99bb8e114b5\", \"categories\": [0], \"series\": [{\"data\": [0.18678539127717694]}]}, {\"name\": \"precision_score_weighted\", \"run_id\": \"AutoML_f2600643-baea-4a05-8786-d99bb8e114b5\", \"categories\": [0], \"series\": [{\"data\": [0.6384532782137585]}]}, {\"name\": \"recall_score_weighted\", \"run_id\": \"AutoML_f2600643-baea-4a05-8786-d99bb8e114b5\", \"categories\": [0], \"series\": [{\"data\": [0.6669323775073025]}]}, {\"name\": \"average_precision_score_micro\", \"run_id\": \"AutoML_f2600643-baea-4a05-8786-d99bb8e114b5\", \"categories\": [0], \"series\": [{\"data\": [0.681784931245892]}]}, {\"name\": \"accuracy\", \"run_id\": \"AutoML_f2600643-baea-4a05-8786-d99bb8e114b5\", \"categories\": [0], \"series\": [{\"data\": [0.6669323775073025]}]}, {\"name\": \"recall_score_micro\", \"run_id\": \"AutoML_f2600643-baea-4a05-8786-d99bb8e114b5\", \"categories\": [0], \"series\": [{\"data\": [0.6669323775073025]}]}, {\"name\": \"precision_score_micro\", \"run_id\": \"AutoML_f2600643-baea-4a05-8786-d99bb8e114b5\", \"categories\": [0], \"series\": [{\"data\": [0.6669323775073025]}]}, {\"name\": \"AUC_macro\", \"run_id\": \"AutoML_f2600643-baea-4a05-8786-d99bb8e114b5\", \"categories\": [0], \"series\": [{\"data\": [0.8325863889418957]}]}], \"run_logs\": \"\\nRun is completed.\", \"graph\": {}, \"widget_settings\": {\"childWidgetDisplay\": \"popup\", \"send_telemetry\": false, \"log_level\": \"INFO\", \"sdk_version\": \"1.19.0\"}, \"loading\": false}"
     },
     "metadata": {},
     "output_type": "display_data"
    },
    {
     "name": "stdout",
     "output_type": "stream",
     "text": [
      "\n",
      "\n",
      "****************************************************************************************************\n",
      "DATA GUARDRAILS: \n",
      "\n",
      "TYPE:         Cross validation\n",
      "STATUS:       DONE\n",
      "DESCRIPTION:  Each iteration of the trained model was validated through cross-validation.\n",
      "              \n",
      "DETAILS:      \n",
      "+---------------------------------+\n",
      "|Number of folds                  |\n",
      "+=================================+\n",
      "|3                                |\n",
      "+---------------------------------+\n",
      "\n",
      "****************************************************************************************************\n",
      "\n",
      "TYPE:         Class balancing detection\n",
      "STATUS:       ALERTED\n",
      "DESCRIPTION:  To decrease model bias, please cancel the current run and fix balancing problem.\n",
      "              Learn more about imbalanced data: https://aka.ms/AutomatedMLImbalancedData\n",
      "DETAILS:      Imbalanced data can lead to a falsely perceived positive effect of a model's accuracy because the input data has bias towards one class.\n",
      "+---------------------------------+---------------------------------+--------------------------------------+\n",
      "|Size of the smallest class       |Name/Label of the smallest class |Number of samples in the training data|\n",
      "+=================================+=================================+======================================+\n",
      "|9                                |3                                |1279                                  |\n",
      "+---------------------------------+---------------------------------+--------------------------------------+\n",
      "\n",
      "****************************************************************************************************\n",
      "\n",
      "TYPE:         Missing feature values imputation\n",
      "STATUS:       DONE\n",
      "DESCRIPTION:  If the missing values are expected, let the run complete. Otherwise cancel the current run and use a script to customize the handling of missing feature values that may be more appropriate based on the data type and business requirement.\n",
      "              Learn more about missing value imputation: https://aka.ms/AutomatedMLFeaturization\n",
      "DETAILS:      \n",
      "+---------------------------------+---------------------------------+---------------------------------+\n",
      "|Column name                      |Missing value count              |Imputation type                  |\n",
      "+=================================+=================================+=================================+\n",
      "|free sulfur dioxide              |3                                |mean                             |\n",
      "|total sulfur dioxide             |2                                |mean                             |\n",
      "+---------------------------------+---------------------------------+---------------------------------+\n",
      "\n",
      "****************************************************************************************************\n",
      "\n",
      "TYPE:         High cardinality feature detection\n",
      "STATUS:       PASSED\n",
      "DESCRIPTION:  Your inputs were analyzed, and no high cardinality features were detected.\n",
      "              Learn more about high cardinality feature handling: https://aka.ms/AutomatedMLFeaturization\n",
      "\n",
      "****************************************************************************************************\n",
      "\n",
      "****************************************************************************************************\n",
      "ITERATION: The iteration being evaluated.\n",
      "PIPELINE: A summary description of the pipeline being evaluated.\n",
      "DURATION: Time taken for the current iteration.\n",
      "METRIC: The result of computing score on the fitted pipeline.\n",
      "BEST: The best observed score thus far.\n",
      "****************************************************************************************************\n",
      "\n",
      " ITERATION   PIPELINE                                       DURATION      METRIC      BEST\n",
      "         0   MaxAbsScaler LightGBM                          0:03:40       0.6396    0.6396\n",
      "         1   MaxAbsScaler XGBoostClassifier                 0:00:53       0.6145    0.6396\n",
      "         2   MinMaxScaler RandomForest                      0:01:27       0.5809    0.6396\n",
      "         3   MinMaxScaler RandomForest                      0:00:50       0.5895    0.6396\n",
      "         4   MinMaxScaler RandomForest                      0:00:51       0.5325    0.6396\n",
      "         5   StandardScalerWrapper XGBoostClassifier        0:03:41       0.6263    0.6396\n",
      "         6   MinMaxScaler SVM                               0:05:28       0.6059    0.6396\n",
      "         7   MinMaxScaler SVM                               0:01:03       0.5950    0.6396\n",
      "         8   SparseNormalizer XGBoostClassifier             0:00:51       0.6208    0.6396\n",
      "         9   SparseNormalizer XGBoostClassifier             0:00:52       0.6192    0.6396\n",
      "        10   SparseNormalizer XGBoostClassifier             0:00:48       0.5958    0.6396\n",
      "        11   MaxAbsScaler GradientBoosting                  0:00:51       0.5926    0.6396\n",
      "        12   StandardScalerWrapper RandomForest             0:00:50       0.5840    0.6396\n",
      "        13   MinMaxScaler LightGBM                          0:00:52       0.5762    0.6396\n",
      "        14   MaxAbsScaler LightGBM                          0:00:51       0.5848    0.6396\n",
      "        15   StandardScalerWrapper XGBoostClassifier        0:00:53       0.5794    0.6396\n",
      "        16   StandardScalerWrapper LightGBM                 0:00:55       0.5809    0.6396\n",
      "        17   MaxAbsScaler LightGBM                          0:00:49       0.5801    0.6396\n",
      "        18   SparseNormalizer XGBoostClassifier             0:00:50       0.5926    0.6396\n",
      "        19   StandardScalerWrapper ExtremeRandomTrees       0:01:25       0.5684    0.6396\n",
      "        20   StandardScalerWrapper LightGBM                 0:00:50       0.6059    0.6396\n",
      "        21   MinMaxScaler LightGBM                          0:00:52       0.5708    0.6396\n",
      "        22   SparseNormalizer LightGBM                      0:01:02       0.5841    0.6396\n",
      "        23   SparseNormalizer ExtremeRandomTrees            0:00:50       0.5262    0.6396\n",
      "        24   SparseNormalizer LightGBM                      0:00:47       0.5418    0.6396\n",
      "        25   SparseNormalizer LightGBM                      0:00:43       0.5137    0.6396\n",
      "        26   SparseNormalizer RandomForest                  0:00:56       0.3675    0.6396\n",
      "        27   RobustScaler LightGBM                          0:00:47       0.5840    0.6396\n",
      "        28   StandardScalerWrapper ExtremeRandomTrees       0:00:49       0.4035    0.6396\n",
      "        29   MaxAbsScaler RandomForest                      0:00:51       0.3886    0.6396\n",
      "        30   StandardScalerWrapper LightGBM                 0:00:59       0.4519    0.6396\n",
      "        31   MinMaxScaler LightGBM                          0:00:44       0.5895    0.6396\n",
      "        32   MaxAbsScaler ExtremeRandomTrees                0:00:51       0.5739    0.6396\n",
      "        33   MaxAbsScaler ExtremeRandomTrees                0:00:56       0.5762    0.6396\n",
      "        34   StandardScalerWrapper ExtremeRandomTrees       0:00:39       0.5833    0.6396\n",
      "        35   StandardScalerWrapper LightGBM                 0:00:32       0.5973    0.6396\n",
      "        36   SparseNormalizer LightGBM                      0:00:34       0.5262    0.6396\n",
      "        37                                                  0:00:35          nan    0.6396\n",
      "        38    VotingEnsemble                                0:01:29       0.6669    0.6669\n",
      "        39    StackEnsemble                                 0:01:24       0.6607    0.6669\n"
     ]
    },
    {
     "data": {
      "text/plain": [
       "{'runId': 'AutoML_f2600643-baea-4a05-8786-d99bb8e114b5',\n",
       " 'target': 'auto-ml',\n",
       " 'status': 'Completed',\n",
       " 'startTimeUtc': '2021-01-25T21:07:42.635533Z',\n",
       " 'endTimeUtc': '2021-01-25T21:33:03.719469Z',\n",
       " 'properties': {'num_iterations': '1000',\n",
       "  'training_type': 'TrainFull',\n",
       "  'acquisition_function': 'EI',\n",
       "  'primary_metric': 'accuracy',\n",
       "  'train_split': '0',\n",
       "  'acquisition_parameter': '0',\n",
       "  'num_cross_validation': None,\n",
       "  'target': 'auto-ml',\n",
       "  'AMLSettingsJsonString': '{\"path\":null,\"name\":\"ml-capstone-1\",\"subscription_id\":\"d7f39349-a66b-446e-aba6-0053c2cf1c11\",\"resource_group\":\"aml-quickstarts-136033\",\"workspace_name\":\"quick-starts-ws-136033\",\"region\":\"southcentralus\",\"compute_target\":\"auto-ml\",\"spark_service\":null,\"azure_service\":\"remote\",\"many_models\":false,\"pipeline_fetch_max_batch_size\":1,\"iterations\":1000,\"primary_metric\":\"accuracy\",\"task_type\":\"classification\",\"data_script\":null,\"validation_size\":0.0,\"n_cross_validations\":null,\"y_min\":null,\"y_max\":null,\"num_classes\":null,\"featurization\":\"auto\",\"_ignore_package_version_incompatibilities\":false,\"is_timeseries\":false,\"max_cores_per_iteration\":1,\"max_concurrent_iterations\":5,\"iteration_timeout_minutes\":null,\"mem_in_mb\":null,\"enforce_time_on_windows\":false,\"experiment_timeout_minutes\":20,\"experiment_exit_score\":null,\"whitelist_models\":null,\"blacklist_algos\":[\"TensorFlowLinearClassifier\",\"TensorFlowDNN\"],\"supported_models\":[\"MultinomialNaiveBayes\",\"BernoulliNaiveBayes\",\"ExtremeRandomTrees\",\"RandomForest\",\"LightGBM\",\"SGD\",\"GradientBoosting\",\"LinearSVM\",\"XGBoostClassifier\",\"LogisticRegression\",\"SVM\",\"KNN\",\"DecisionTree\",\"TensorFlowLinearClassifier\",\"TensorFlowDNN\",\"AveragedPerceptronClassifier\"],\"auto_blacklist\":true,\"blacklist_samples_reached\":false,\"exclude_nan_labels\":true,\"verbosity\":20,\"_debug_log\":\"azureml_automl.log\",\"show_warnings\":false,\"model_explainability\":true,\"service_url\":null,\"sdk_url\":null,\"sdk_packages\":null,\"enable_onnx_compatible_models\":false,\"enable_split_onnx_featurizer_estimator_models\":false,\"vm_type\":\"STANDARD_D2_V2\",\"telemetry_verbosity\":20,\"send_telemetry\":true,\"enable_dnn\":false,\"scenario\":\"SDK-1.13.0\",\"environment_label\":null,\"force_text_dnn\":false,\"enable_feature_sweeping\":true,\"enable_early_stopping\":true,\"early_stopping_n_iters\":10,\"metrics\":null,\"enable_ensembling\":true,\"enable_stack_ensembling\":true,\"ensemble_iterations\":15,\"enable_tf\":false,\"enable_subsampling\":null,\"subsample_seed\":null,\"enable_nimbusml\":false,\"enable_streaming\":false,\"force_streaming\":false,\"track_child_runs\":true,\"allowed_private_models\":[],\"label_column_name\":\"quality\",\"weight_column_name\":null,\"cv_split_column_names\":null,\"enable_local_managed\":false,\"_local_managed_run_id\":null,\"cost_mode\":1,\"lag_length\":0,\"metric_operation\":\"maximize\",\"preprocess\":true}',\n",
       "  'DataPrepJsonString': '{\\\\\"training_data\\\\\": \\\\\"{\\\\\\\\\\\\\"blocks\\\\\\\\\\\\\": [{\\\\\\\\\\\\\"id\\\\\\\\\\\\\": \\\\\\\\\\\\\"5a539b37-3975-40ff-9c80-63628b1801df\\\\\\\\\\\\\", \\\\\\\\\\\\\"type\\\\\\\\\\\\\": \\\\\\\\\\\\\"Microsoft.DPrep.GetDatastoreFilesBlock\\\\\\\\\\\\\", \\\\\\\\\\\\\"arguments\\\\\\\\\\\\\": {\\\\\\\\\\\\\"datastores\\\\\\\\\\\\\": [{\\\\\\\\\\\\\"datastoreName\\\\\\\\\\\\\": \\\\\\\\\\\\\"workspaceblobstore\\\\\\\\\\\\\", \\\\\\\\\\\\\"path\\\\\\\\\\\\\": \\\\\\\\\\\\\"capstone-project/train_data.csv\\\\\\\\\\\\\", \\\\\\\\\\\\\"resourceGroup\\\\\\\\\\\\\": \\\\\\\\\\\\\"aml-quickstarts-136033\\\\\\\\\\\\\", \\\\\\\\\\\\\"subscription\\\\\\\\\\\\\": \\\\\\\\\\\\\"d7f39349-a66b-446e-aba6-0053c2cf1c11\\\\\\\\\\\\\", \\\\\\\\\\\\\"workspaceName\\\\\\\\\\\\\": \\\\\\\\\\\\\"quick-starts-ws-136033\\\\\\\\\\\\\"}]}, \\\\\\\\\\\\\"localData\\\\\\\\\\\\\": {}, \\\\\\\\\\\\\"isEnabled\\\\\\\\\\\\\": true, \\\\\\\\\\\\\"name\\\\\\\\\\\\\": null, \\\\\\\\\\\\\"annotation\\\\\\\\\\\\\": null}, {\\\\\\\\\\\\\"id\\\\\\\\\\\\\": \\\\\\\\\\\\\"4d9b56cd-7bda-47be-97f0-242389e32d44\\\\\\\\\\\\\", \\\\\\\\\\\\\"type\\\\\\\\\\\\\": \\\\\\\\\\\\\"Microsoft.DPrep.ParseDelimitedBlock\\\\\\\\\\\\\", \\\\\\\\\\\\\"arguments\\\\\\\\\\\\\": {\\\\\\\\\\\\\"columnHeadersMode\\\\\\\\\\\\\": 3, \\\\\\\\\\\\\"fileEncoding\\\\\\\\\\\\\": 0, \\\\\\\\\\\\\"handleQuotedLineBreaks\\\\\\\\\\\\\": false, \\\\\\\\\\\\\"preview\\\\\\\\\\\\\": false, \\\\\\\\\\\\\"separator\\\\\\\\\\\\\": \\\\\\\\\\\\\",\\\\\\\\\\\\\", \\\\\\\\\\\\\"skipRows\\\\\\\\\\\\\": 0, \\\\\\\\\\\\\"skipRowsMode\\\\\\\\\\\\\": 0}, \\\\\\\\\\\\\"localData\\\\\\\\\\\\\": {}, \\\\\\\\\\\\\"isEnabled\\\\\\\\\\\\\": true, \\\\\\\\\\\\\"name\\\\\\\\\\\\\": null, \\\\\\\\\\\\\"annotation\\\\\\\\\\\\\": null}, {\\\\\\\\\\\\\"id\\\\\\\\\\\\\": \\\\\\\\\\\\\"1354d160-c911-4fb1-b2f2-1993fc5f7edd\\\\\\\\\\\\\", \\\\\\\\\\\\\"type\\\\\\\\\\\\\": \\\\\\\\\\\\\"Microsoft.DPrep.DropColumnsBlock\\\\\\\\\\\\\", \\\\\\\\\\\\\"arguments\\\\\\\\\\\\\": {\\\\\\\\\\\\\"columns\\\\\\\\\\\\\": {\\\\\\\\\\\\\"type\\\\\\\\\\\\\": 0, \\\\\\\\\\\\\"details\\\\\\\\\\\\\": {\\\\\\\\\\\\\"selectedColumns\\\\\\\\\\\\\": [\\\\\\\\\\\\\"Path\\\\\\\\\\\\\"]}}}, \\\\\\\\\\\\\"localData\\\\\\\\\\\\\": {}, \\\\\\\\\\\\\"isEnabled\\\\\\\\\\\\\": true, \\\\\\\\\\\\\"name\\\\\\\\\\\\\": null, \\\\\\\\\\\\\"annotation\\\\\\\\\\\\\": null}, {\\\\\\\\\\\\\"id\\\\\\\\\\\\\": \\\\\\\\\\\\\"293b76db-39a8-4911-b242-ba6987fca27f\\\\\\\\\\\\\", \\\\\\\\\\\\\"type\\\\\\\\\\\\\": \\\\\\\\\\\\\"Microsoft.DPrep.SetColumnTypesBlock\\\\\\\\\\\\\", \\\\\\\\\\\\\"arguments\\\\\\\\\\\\\": {\\\\\\\\\\\\\"columnConversion\\\\\\\\\\\\\": [{\\\\\\\\\\\\\"column\\\\\\\\\\\\\": {\\\\\\\\\\\\\"type\\\\\\\\\\\\\": 2, \\\\\\\\\\\\\"details\\\\\\\\\\\\\": {\\\\\\\\\\\\\"selectedColumn\\\\\\\\\\\\\": \\\\\\\\\\\\\"fixed acidity\\\\\\\\\\\\\"}}, \\\\\\\\\\\\\"typeProperty\\\\\\\\\\\\\": 3}, {\\\\\\\\\\\\\"column\\\\\\\\\\\\\": {\\\\\\\\\\\\\"type\\\\\\\\\\\\\": 2, \\\\\\\\\\\\\"details\\\\\\\\\\\\\": {\\\\\\\\\\\\\"selectedColumn\\\\\\\\\\\\\": \\\\\\\\\\\\\"volatile acidity\\\\\\\\\\\\\"}}, \\\\\\\\\\\\\"typeProperty\\\\\\\\\\\\\": 3}, {\\\\\\\\\\\\\"column\\\\\\\\\\\\\": {\\\\\\\\\\\\\"type\\\\\\\\\\\\\": 2, \\\\\\\\\\\\\"details\\\\\\\\\\\\\": {\\\\\\\\\\\\\"selectedColumn\\\\\\\\\\\\\": \\\\\\\\\\\\\"citric acid\\\\\\\\\\\\\"}}, \\\\\\\\\\\\\"typeProperty\\\\\\\\\\\\\": 3}, {\\\\\\\\\\\\\"column\\\\\\\\\\\\\": {\\\\\\\\\\\\\"type\\\\\\\\\\\\\": 2, \\\\\\\\\\\\\"details\\\\\\\\\\\\\": {\\\\\\\\\\\\\"selectedColumn\\\\\\\\\\\\\": \\\\\\\\\\\\\"residual sugar\\\\\\\\\\\\\"}}, \\\\\\\\\\\\\"typeProperty\\\\\\\\\\\\\": 3}, {\\\\\\\\\\\\\"column\\\\\\\\\\\\\": {\\\\\\\\\\\\\"type\\\\\\\\\\\\\": 2, \\\\\\\\\\\\\"details\\\\\\\\\\\\\": {\\\\\\\\\\\\\"selectedColumn\\\\\\\\\\\\\": \\\\\\\\\\\\\"chlorides\\\\\\\\\\\\\"}}, \\\\\\\\\\\\\"typeProperty\\\\\\\\\\\\\": 3}, {\\\\\\\\\\\\\"column\\\\\\\\\\\\\": {\\\\\\\\\\\\\"type\\\\\\\\\\\\\": 2, \\\\\\\\\\\\\"details\\\\\\\\\\\\\": {\\\\\\\\\\\\\"selectedColumn\\\\\\\\\\\\\": \\\\\\\\\\\\\"free sulfur dioxide\\\\\\\\\\\\\"}}, \\\\\\\\\\\\\"typeProperty\\\\\\\\\\\\\": 3}, {\\\\\\\\\\\\\"column\\\\\\\\\\\\\": {\\\\\\\\\\\\\"type\\\\\\\\\\\\\": 2, \\\\\\\\\\\\\"details\\\\\\\\\\\\\": {\\\\\\\\\\\\\"selectedColumn\\\\\\\\\\\\\": \\\\\\\\\\\\\"total sulfur dioxide\\\\\\\\\\\\\"}}, \\\\\\\\\\\\\"typeProperty\\\\\\\\\\\\\": 3}, {\\\\\\\\\\\\\"column\\\\\\\\\\\\\": {\\\\\\\\\\\\\"type\\\\\\\\\\\\\": 2, \\\\\\\\\\\\\"details\\\\\\\\\\\\\": {\\\\\\\\\\\\\"selectedColumn\\\\\\\\\\\\\": \\\\\\\\\\\\\"density\\\\\\\\\\\\\"}}, \\\\\\\\\\\\\"typeProperty\\\\\\\\\\\\\": 3}, {\\\\\\\\\\\\\"column\\\\\\\\\\\\\": {\\\\\\\\\\\\\"type\\\\\\\\\\\\\": 2, \\\\\\\\\\\\\"details\\\\\\\\\\\\\": {\\\\\\\\\\\\\"selectedColumn\\\\\\\\\\\\\": \\\\\\\\\\\\\"pH\\\\\\\\\\\\\"}}, \\\\\\\\\\\\\"typeProperty\\\\\\\\\\\\\": 3}, {\\\\\\\\\\\\\"column\\\\\\\\\\\\\": {\\\\\\\\\\\\\"type\\\\\\\\\\\\\": 2, \\\\\\\\\\\\\"details\\\\\\\\\\\\\": {\\\\\\\\\\\\\"selectedColumn\\\\\\\\\\\\\": \\\\\\\\\\\\\"sulphates\\\\\\\\\\\\\"}}, \\\\\\\\\\\\\"typeProperty\\\\\\\\\\\\\": 3}, {\\\\\\\\\\\\\"column\\\\\\\\\\\\\": {\\\\\\\\\\\\\"type\\\\\\\\\\\\\": 2, \\\\\\\\\\\\\"details\\\\\\\\\\\\\": {\\\\\\\\\\\\\"selectedColumn\\\\\\\\\\\\\": \\\\\\\\\\\\\"alcohol\\\\\\\\\\\\\"}}, \\\\\\\\\\\\\"typeProperty\\\\\\\\\\\\\": 3}, {\\\\\\\\\\\\\"column\\\\\\\\\\\\\": {\\\\\\\\\\\\\"type\\\\\\\\\\\\\": 2, \\\\\\\\\\\\\"details\\\\\\\\\\\\\": {\\\\\\\\\\\\\"selectedColumn\\\\\\\\\\\\\": \\\\\\\\\\\\\"quality\\\\\\\\\\\\\"}}, \\\\\\\\\\\\\"typeProperty\\\\\\\\\\\\\": 2}]}, \\\\\\\\\\\\\"localData\\\\\\\\\\\\\": {}, \\\\\\\\\\\\\"isEnabled\\\\\\\\\\\\\": true, \\\\\\\\\\\\\"name\\\\\\\\\\\\\": null, \\\\\\\\\\\\\"annotation\\\\\\\\\\\\\": null}], \\\\\\\\\\\\\"inspectors\\\\\\\\\\\\\": [], \\\\\\\\\\\\\"meta\\\\\\\\\\\\\": {\\\\\\\\\\\\\"savedDatasetId\\\\\\\\\\\\\": \\\\\\\\\\\\\"c938b7ff-b871-4c64-8778-10a5ca015bba\\\\\\\\\\\\\", \\\\\\\\\\\\\"datasetType\\\\\\\\\\\\\": \\\\\\\\\\\\\"tabular\\\\\\\\\\\\\", \\\\\\\\\\\\\"subscriptionId\\\\\\\\\\\\\": \\\\\\\\\\\\\"d7f39349-a66b-446e-aba6-0053c2cf1c11\\\\\\\\\\\\\", \\\\\\\\\\\\\"workspaceId\\\\\\\\\\\\\": \\\\\\\\\\\\\"89c022fe-3c8f-458b-b94c-316da60f1ca3\\\\\\\\\\\\\", \\\\\\\\\\\\\"workspaceLocation\\\\\\\\\\\\\": \\\\\\\\\\\\\"southcentralus\\\\\\\\\\\\\"}}\\\\\", \\\\\"activities\\\\\": 0}',\n",
       "  'EnableSubsampling': None,\n",
       "  'runTemplate': 'AutoML',\n",
       "  'azureml.runsource': 'automl',\n",
       "  'display_task_type': 'classification',\n",
       "  'dependencies_versions': '{\"azureml-widgets\": \"1.19.0\", \"azureml-train\": \"1.19.0\", \"azureml-train-restclients-hyperdrive\": \"1.19.0\", \"azureml-train-core\": \"1.19.0\", \"azureml-train-automl\": \"1.19.0\", \"azureml-train-automl-runtime\": \"1.19.0\", \"azureml-train-automl-client\": \"1.19.0\", \"azureml-tensorboard\": \"1.19.0\", \"azureml-telemetry\": \"1.19.0\", \"azureml-sdk\": \"1.19.0\", \"azureml-samples\": \"0+unknown\", \"azureml-pipeline\": \"1.19.0\", \"azureml-pipeline-steps\": \"1.19.0\", \"azureml-pipeline-core\": \"1.19.0\", \"azureml-opendatasets\": \"1.19.0\", \"azureml-model-management-sdk\": \"1.0.1b6.post1\", \"azureml-mlflow\": \"1.19.0\", \"azureml-interpret\": \"1.19.0\", \"azureml-explain-model\": \"1.19.0\", \"azureml-defaults\": \"1.19.0\", \"azureml-dataset-runtime\": \"1.19.0.post1\", \"azureml-dataprep\": \"2.6.1\", \"azureml-dataprep-rslex\": \"1.4.0\", \"azureml-dataprep-native\": \"26.0.0\", \"azureml-datadrift\": \"1.19.0\", \"azureml-core\": \"1.19.0\", \"azureml-contrib-services\": \"1.19.0\", \"azureml-contrib-server\": \"1.19.0\", \"azureml-contrib-reinforcementlearning\": \"1.19.0\", \"azureml-contrib-pipeline-steps\": \"1.19.0\", \"azureml-contrib-notebook\": \"1.19.0\", \"azureml-contrib-interpret\": \"1.19.0\", \"azureml-contrib-gbdt\": \"1.19.0\", \"azureml-contrib-fairness\": \"1.19.0\", \"azureml-contrib-dataset\": \"1.19.0\", \"azureml-cli-common\": \"1.19.0\", \"azureml-automl-runtime\": \"1.19.0\", \"azureml-automl-core\": \"1.19.0\", \"azureml-accel-models\": \"1.19.0\"}',\n",
       "  '_aml_system_scenario_identification': 'Remote.Parent',\n",
       "  'ClientType': 'SDK',\n",
       "  'environment_cpu_name': 'AzureML-AutoML',\n",
       "  'environment_cpu_label': 'prod',\n",
       "  'environment_gpu_name': 'AzureML-AutoML-GPU',\n",
       "  'environment_gpu_label': 'prod',\n",
       "  'root_attribution': 'automl',\n",
       "  'attribution': 'AutoML',\n",
       "  'Orchestrator': 'AutoML',\n",
       "  'CancelUri': 'https://southcentralus.experiments.azureml.net/jasmine/v1.0/subscriptions/d7f39349-a66b-446e-aba6-0053c2cf1c11/resourceGroups/aml-quickstarts-136033/providers/Microsoft.MachineLearningServices/workspaces/quick-starts-ws-136033/experimentids/356deccb-8b3d-4873-a30e-6a02aa09d5ec/cancel/AutoML_f2600643-baea-4a05-8786-d99bb8e114b5',\n",
       "  'ClientSdkVersion': '1.20.0.post1',\n",
       "  'snapshotId': '00000000-0000-0000-0000-000000000000',\n",
       "  'SetupRunId': 'AutoML_f2600643-baea-4a05-8786-d99bb8e114b5_setup',\n",
       "  'SetupRunContainerId': 'dcid.AutoML_f2600643-baea-4a05-8786-d99bb8e114b5_setup',\n",
       "  'FeaturizationRunJsonPath': 'featurizer_container.json',\n",
       "  'FeaturizationRunId': 'AutoML_f2600643-baea-4a05-8786-d99bb8e114b5_featurize',\n",
       "  'ProblemInfoJsonString': '{\"dataset_num_categorical\": 0, \"is_sparse\": false, \"subsampling\": false, \"dataset_classes\": 6, \"dataset_features\": 11, \"dataset_samples\": 1279, \"single_frequency_class_detected\": false}',\n",
       "  'ModelExplainRunId': 'AutoML_f2600643-baea-4a05-8786-d99bb8e114b5_ModelExplain'},\n",
       " 'inputDatasets': [{'dataset': {'id': 'c938b7ff-b871-4c64-8778-10a5ca015bba'}, 'consumptionDetails': {'type': 'RunInput', 'inputName': 'training_data', 'mechanism': 'Direct'}}],\n",
       " 'outputDatasets': [],\n",
       " 'logFiles': {}}"
      ]
     },
     "execution_count": 17,
     "metadata": {},
     "output_type": "execute_result"
    }
   ],
   "source": [
    "#View more details from running cell\n",
    "from azureml.widgets import RunDetails\n",
    "\n",
    "RunDetails(automl_run).show()\n",
    "automl_run.wait_for_completion(show_output=True)"
   ]
  },
  {
   "cell_type": "markdown",
   "metadata": {},
   "source": [
    "## Best Model\n",
    "\n",
    "TODO: In the cell below, get the best model from the automl experiments and display all the properties of the model.\n",
    "\n"
   ]
  },
  {
   "cell_type": "code",
   "execution_count": 11,
   "metadata": {
    "gather": {
     "logged": 1598431426111
    },
    "jupyter": {
     "outputs_hidden": false,
     "source_hidden": false
    },
    "nteract": {
     "transient": {
      "deleting": false
     }
    }
   },
   "outputs": [
    {
     "name": "stdout",
     "output_type": "stream",
     "text": [
      "Run(Experiment: ml-capstone-1,\n",
      "Id: AutoML_d60e34fe-f18d-46a4-8dfe-77b12dca0a2f_38,\n",
      "Type: azureml.scriptrun,\n",
      "Status: Completed)\n"
     ]
    }
   ],
   "source": [
    "#TODO: Save the best model\n",
    "# Retrieve and save your best automl model.\n",
    "#Validate highest performance Model\n",
    "\n",
    "\n",
    "best_model, fitted_model = automl_run.get_output()\n",
    "print(best_model)"
   ]
  },
  {
   "cell_type": "code",
   "execution_count": 12,
   "metadata": {},
   "outputs": [
    {
     "name": "stdout",
     "output_type": "stream",
     "text": [
      "Pipeline(memory=None,\n",
      "         steps=[('datatransformer',\n",
      "                 DataTransformer(enable_dnn=None, enable_feature_sweeping=None,\n",
      "                                 feature_sweeping_config=None,\n",
      "                                 feature_sweeping_timeout=None,\n",
      "                                 featurization_config=None, force_text_dnn=None,\n",
      "                                 is_cross_validation=None,\n",
      "                                 is_onnx_compatible=None, logger=None,\n",
      "                                 observer=None, task=None, working_dir=None)),\n",
      "                ('prefittedsoftvotingclassifier',...\n",
      "                                                                                                  min_samples_split=0.19736842105263158,\n",
      "                                                                                                  min_weight_fraction_leaf=0.0,\n",
      "                                                                                                  n_estimators=50,\n",
      "                                                                                                  n_jobs=1,\n",
      "                                                                                                  oob_score=False,\n",
      "                                                                                                  random_state=None,\n",
      "                                                                                                  verbose=0,\n",
      "                                                                                                  warm_start=False))],\n",
      "                                                                     verbose=False))],\n",
      "                                               flatten_transform=None,\n",
      "                                               weights=[0.36363636363636365,\n",
      "                                                        0.09090909090909091,\n",
      "                                                        0.09090909090909091,\n",
      "                                                        0.09090909090909091,\n",
      "                                                        0.09090909090909091,\n",
      "                                                        0.09090909090909091,\n",
      "                                                        0.09090909090909091,\n",
      "                                                        0.09090909090909091]))],\n",
      "         verbose=False)\n"
     ]
    }
   ],
   "source": [
    "print(fitted_model)"
   ]
  },
  {
   "cell_type": "code",
   "execution_count": 13,
   "metadata": {},
   "outputs": [
    {
     "data": {
      "text/plain": [
       "{'accuracy': 0.666149904893844}"
      ]
     },
     "execution_count": 13,
     "metadata": {},
     "output_type": "execute_result"
    }
   ],
   "source": [
    "automl_run.get_metrics('accuracy')"
   ]
  },
  {
   "cell_type": "code",
   "execution_count": 14,
   "metadata": {},
   "outputs": [
    {
     "name": "stdout",
     "output_type": "stream",
     "text": [
      "https://ml.azure.com/experiments/ml-capstone-1/runs/AutoML_d60e34fe-f18d-46a4-8dfe-77b12dca0a2f?wsid=/subscriptions/5a4ab2ba-6c51-4805-8155-58759ad589d8/resourcegroups/aml-quickstarts-136423/workspaces/quick-starts-ws-136423\n"
     ]
    }
   ],
   "source": [
    "print(automl_run.get_portal_url())"
   ]
  },
  {
   "cell_type": "code",
   "execution_count": 15,
   "metadata": {},
   "outputs": [],
   "source": [
    "#SAVE model\n",
    "\n",
    "best_model.download_file('outputs/model.pkl', 'outputs/automl_wine.pkl')\n",
    "best_model.download_file('outputs/scoring_file_v_1_0_0.py', 'outputs/score_aml.py')\n",
    "best_model.download_file('automl_driver.py', 'outputs/automl_driver.py')"
   ]
  },
  {
   "cell_type": "markdown",
   "metadata": {},
   "source": [
    "## Model Deployment\n",
    "\n",
    "Remember you have to deploy only one of the two models you trained.. Perform the steps in the rest of this notebook only if you wish to deploy this model.\n",
    "\n",
    "TODO: In the cell below, register the model, create an inference config and deploy the model as a web service."
   ]
  },
  {
   "cell_type": "code",
   "execution_count": 16,
   "metadata": {
    "gather": {
     "logged": 1598431435189
    },
    "jupyter": {
     "outputs_hidden": false,
     "source_hidden": false
    },
    "nteract": {
     "transient": {
      "deleting": false
     }
    }
   },
   "outputs": [
    {
     "name": "stdout",
     "output_type": "stream",
     "text": [
      "Registering model automl_wine\n"
     ]
    }
   ],
   "source": [
    "#Register a model\n",
    "\n",
    "model = Model.register(workspace = ws,\n",
    "                        model_path =\"outputs/automl_wine.pkl\",\n",
    "                        model_name = \"automl_wine\")\n",
    "\n",
    "#model = Model.register(workspace =ws, model_path= './', model_name='best_automl_run.pkl')\n",
    "best_model.download_file(constants.CONDA_ENV_FILE_PATH, 'myenv.yml')\n",
    "#print(model.name, model.id, model.version, sep='\\t')"
   ]
  },
  {
   "cell_type": "code",
   "execution_count": 17,
   "metadata": {},
   "outputs": [],
   "source": [
    "\n",
    "# Define Deployment\n",
    "aci_config = AciWebservice.deploy_configuration(cpu_cores=1, memory_gb=2,\n",
    "                                                tags = {'name':'deployment'},\n",
    "                                   description='Quality Portuguese red wine',\n",
    "                                              enable_app_insights=True) \n",
    "\n"
   ]
  },
  {
   "cell_type": "code",
   "execution_count": 18,
   "metadata": {},
   "outputs": [
    {
     "name": "stdout",
     "output_type": "stream",
     "text": [
      "packages # Conda environment specification. The dependencies defined in this file will\n",
      "# be automatically provisioned for runs with userManagedDependencies=False.\n",
      "\n",
      "# Details about the Conda environment file format:\n",
      "# https://conda.io/docs/user-guide/tasks/manage-environments.html#create-env-file-manually\n",
      "\n",
      "name: project_environment\n",
      "dependencies:\n",
      "  # The python interpreter version.\n",
      "  # Currently Azure ML only supports 3.5.2 and later.\n",
      "- python=3.6.2\n",
      "\n",
      "- pip:\n",
      "  - azureml-train-automl-runtime==1.20.0.post1\n",
      "  - inference-schema\n",
      "  - azureml-interpret==1.20.0\n",
      "  - azureml-defaults==1.20.0\n",
      "- numpy>=1.16.0,<1.19.0\n",
      "- pandas==0.25.1\n",
      "- scikit-learn==0.22.1\n",
      "- py-xgboost<=0.90\n",
      "- fbprophet==0.5\n",
      "- holidays==0.9.11\n",
      "- psutil>=5.2.2,<6.0.0\n",
      "channels:\n",
      "- anaconda\n",
      "- conda-forge\n",
      "\n"
     ]
    }
   ],
   "source": [
    "# Create the environment\n",
    "\n",
    "env = Environment.from_conda_specification(name=\"myenv\",file_path=\"myenv.yml\")\n",
    "inferencefinal = InferenceConfig(entry_script='score.py',environment=env)\n",
    "\n",
    "\n",
    "f = open(\"envnew.yml\", \"w\")\n",
    "f.write(env.python.conda_dependencies.serialize_to_string())\n",
    "f.close()\n",
    "\n",
    "print(\"packages\", env.python.conda_dependencies.serialize_to_string())"
   ]
  },
  {
   "cell_type": "markdown",
   "metadata": {
    "collapsed": true,
    "gather": {
     "logged": 1598431657736
    },
    "jupyter": {
     "outputs_hidden": false,
     "source_hidden": false
    },
    "nteract": {
     "transient": {
      "deleting": false
     }
    }
   },
   "source": [
    "TODO: In the cell below, send a request to the web service you deployed to test it."
   ]
  },
  {
   "cell_type": "code",
   "execution_count": 19,
   "metadata": {
    "gather": {
     "logged": 1598432707604
    },
    "jupyter": {
     "outputs_hidden": false,
     "source_hidden": false
    },
    "nteract": {
     "transient": {
      "deleting": false
     }
    }
   },
   "outputs": [],
   "source": [
    "service = Model.deploy(workspace=ws,name='demo-deploy', models=[model], inference_config=inferencefinal, deployment_config=aci_config)\n"
   ]
  },
  {
   "cell_type": "code",
   "execution_count": 20,
   "metadata": {},
   "outputs": [
    {
     "name": "stdout",
     "output_type": "stream",
     "text": [
      "Tips: You can try get_logs(): https://aka.ms/debugimage#dockerlog or local deployment: https://aka.ms/debugimage#debug-locally to debug if deployment takes longer than 10 minutes.\n",
      "Running...................................................................................................................................................................................................................\n",
      "Succeeded\n",
      "ACI service creation operation finished, operation \"Succeeded\"\n",
      "Healthy\n"
     ]
    }
   ],
   "source": [
    "service.wait_for_deployment(show_output = True)\n",
    "print(service.state)"
   ]
  },
  {
   "cell_type": "code",
   "execution_count": 21,
   "metadata": {},
   "outputs": [
    {
     "name": "stdout",
     "output_type": "stream",
     "text": [
      "scoring URI: http://6b049cf7-78dc-4681-99c6-200100f86197.southcentralus.azurecontainer.io/score\n"
     ]
    }
   ],
   "source": [
    "print(\"scoring URI: \" + service.scoring_uri)"
   ]
  },
  {
   "cell_type": "markdown",
   "metadata": {
    "collapsed": true,
    "gather": {
     "logged": 1598432765711
    },
    "jupyter": {
     "outputs_hidden": false,
     "source_hidden": false
    },
    "nteract": {
     "transient": {
      "deleting": false
     }
    }
   },
   "source": [
    "TODO: In the cell below, print the logs of the web service and delete the service"
   ]
  },
  {
   "cell_type": "code",
   "execution_count": 22,
   "metadata": {},
   "outputs": [
    {
     "name": "stdout",
     "output_type": "stream",
     "text": [
      "[5, 5]\n"
     ]
    }
   ],
   "source": [
    "# URL for the web service, should be similar to:\n",
    "\n",
    "scoring_uri = 'http://6b049cf7-78dc-4681-99c6-200100f86197.southcentralus.azurecontainer.io/score'\n",
    "\n",
    "# Two sets of data to score, so we get two results back\n",
    "data = {\"data\":\n",
    "        [\n",
    "          {\n",
    "            \"fixed acidity\":7.4,\n",
    "            \"volatile acidity\":0.70,\n",
    "            \"citric acid\":0.00,\n",
    "            \"residual sugar\":1.9,\n",
    "            \"chlorides\":0.098,\n",
    "            \"free sulfur dioxide\":11,\n",
    "            \"total sulfur dioxide\":34,\n",
    "            \"density\":0.9978,\n",
    "            \"pH\":3.51,\n",
    "            \"sulphates\":0.55,\n",
    "            \"alcohol\":9.4,\n",
    "            \n",
    "          },\n",
    "          {\n",
    "            \"fixed acidity\":7.4,\n",
    "            \"volatile acidity\":0.88,\n",
    "            \"citric acid\":0.00,\n",
    "            \"residual sugar\":2.6,\n",
    "            \"chlorides\":0.098,\n",
    "            \"free sulfur dioxide\":25,\n",
    "            \"total sulfur dioxide\":67,\n",
    "            \"density\":0.9968,\n",
    "            \"pH\":3.20,\n",
    "            \"sulphates\":0.68,\n",
    "            \"alcohol\":9.8,\n",
    "           \n",
    "          },\n",
    "      ]\n",
    "    }\n",
    "# Convert to JSON string\n",
    "input_data = json.dumps(data)\n",
    "with open(\"data.json\", \"w\") as _f:\n",
    "    _f.write(input_data)\n",
    "\n",
    "# Set the content type\n",
    "headers = {'Content-Type': 'application/json'}\n",
    "\n",
    "\n",
    "# Make the request and display the response\n",
    "resp = requests.post(scoring_uri, input_data, headers=headers)\n",
    "print(resp.json())\n"
   ]
  },
  {
   "cell_type": "code",
   "execution_count": 23,
   "metadata": {
    "jupyter": {
     "outputs_hidden": false,
     "source_hidden": false
    },
    "nteract": {
     "transient": {
      "deleting": false
     }
    }
   },
   "outputs": [
    {
     "name": "stdout",
     "output_type": "stream",
     "text": [
      "2021-01-28T21:09:48,516891925+00:00 - rsyslog/run \n",
      "2021-01-28T21:09:48,518871799+00:00 - iot-server/run \n",
      "2021-01-28T21:09:48,520171482+00:00 - nginx/run \n",
      "/usr/sbin/nginx: /azureml-envs/azureml_4f26b5b9300bb3a3b89415c34dafac63/lib/libcrypto.so.1.0.0: no version information available (required by /usr/sbin/nginx)\n",
      "/usr/sbin/nginx: /azureml-envs/azureml_4f26b5b9300bb3a3b89415c34dafac63/lib/libcrypto.so.1.0.0: no version information available (required by /usr/sbin/nginx)\n",
      "/usr/sbin/nginx: /azureml-envs/azureml_4f26b5b9300bb3a3b89415c34dafac63/lib/libssl.so.1.0.0: no version information available (required by /usr/sbin/nginx)\n",
      "/usr/sbin/nginx: /azureml-envs/azureml_4f26b5b9300bb3a3b89415c34dafac63/lib/libssl.so.1.0.0: no version information available (required by /usr/sbin/nginx)\n",
      "/usr/sbin/nginx: /azureml-envs/azureml_4f26b5b9300bb3a3b89415c34dafac63/lib/libssl.so.1.0.0: no version information available (required by /usr/sbin/nginx)\n",
      "2021-01-28T21:09:48,518255007+00:00 - gunicorn/run \n",
      "rsyslogd: /azureml-envs/azureml_4f26b5b9300bb3a3b89415c34dafac63/lib/libuuid.so.1: no version information available (required by rsyslogd)\n",
      "EdgeHubConnectionString and IOTEDGE_IOTHUBHOSTNAME are not set. Exiting...\n",
      "2021-01-28T21:09:48,658016956+00:00 - iot-server/finish 1 0\n",
      "2021-01-28T21:09:48,659329439+00:00 - Exit code 1 is normal. Not restarting iot-server.\n",
      "Starting gunicorn 19.9.0\n",
      "Listening at: http://127.0.0.1:31311 (11)\n",
      "Using worker: sync\n",
      "worker timeout is set to 300\n",
      "Booting worker with pid: 41\n",
      "SPARK_HOME not set. Skipping PySpark Initialization.\n",
      "Generating new fontManager, this may take some time...\n",
      "Initializing logger\n",
      "2021-01-28 21:09:50,981 | root | INFO | Starting up app insights client\n",
      "2021-01-28 21:09:50,981 | root | INFO | Starting up request id generator\n",
      "2021-01-28 21:09:50,981 | root | INFO | Starting up app insight hooks\n",
      "2021-01-28 21:09:50,982 | root | INFO | Invoking user's init function\n",
      "Found model:\n",
      "True\n",
      "2021-01-28 21:09:52,967 | root | INFO | Users's init has completed successfully\n",
      "2021-01-28 21:09:52,970 | root | INFO | Skipping middleware: dbg_model_info as it's not enabled.\n",
      "2021-01-28 21:09:52,970 | root | INFO | Skipping middleware: dbg_resource_usage as it's not enabled.\n",
      "2021-01-28 21:09:52,971 | root | INFO | Scoring timeout is found from os.environ: 60000 ms\n",
      "2021-01-28 21:10:01,958 | root | INFO | Swagger file not present\n",
      "2021-01-28 21:10:01,958 | root | INFO | 404\n",
      "127.0.0.1 - - [28/Jan/2021:21:10:01 +0000] \"GET /swagger.json HTTP/1.0\" 404 19 \"-\" \"Go-http-client/1.1\"\n",
      "2021-01-28 21:10:03,660 | root | INFO | Swagger file not present\n",
      "2021-01-28 21:10:03,660 | root | INFO | 404\n",
      "127.0.0.1 - - [28/Jan/2021:21:10:03 +0000] \"GET /swagger.json HTTP/1.0\" 404 19 \"-\" \"Go-http-client/1.1\"\n",
      "2021-01-28 21:16:58,535 | root | INFO | Validation Request Content-Type\n",
      "2021-01-28 21:16:58,536 | root | INFO | Scoring Timer is set to 60.0 seconds\n",
      "2021-01-28 21:16:58,670 | root | INFO | 200\n",
      "127.0.0.1 - - [28/Jan/2021:21:16:58 +0000] \"POST /score HTTP/1.0\" 200 6 \"-\" \"python-requests/2.25.1\"\n",
      "\n"
     ]
    }
   ],
   "source": [
    "logs = service.get_logs()\n",
    "\n",
    "for line in logs.split('\\n'):\n",
    "    print(line)"
   ]
  },
  {
   "cell_type": "markdown",
   "metadata": {},
   "source": [
    "TODO: In the cell below, print the logs of the web service and delete the service"
   ]
  },
  {
   "cell_type": "code",
   "execution_count": 24,
   "metadata": {},
   "outputs": [
    {
     "name": "stdout",
     "output_type": "stream",
     "text": [
      "200\n",
      "0:00:00.202965\n",
      "[5, 5]\n"
     ]
    }
   ],
   "source": [
    "## print request status_code \n",
    "print(resp.status_code)\n",
    "print(resp.elapsed)\n",
    "print(resp.json())"
   ]
  },
  {
   "cell_type": "code",
   "execution_count": 32,
   "metadata": {},
   "outputs": [],
   "source": [
    "#Delete Service\n",
    "service.delete()"
   ]
  },
  {
   "cell_type": "code",
   "execution_count": 33,
   "metadata": {},
   "outputs": [],
   "source": [
    "#To save money on Azure Cost, delete compute cluster\n",
    "compute_target.delete()"
   ]
  },
  {
   "cell_type": "code",
   "execution_count": null,
   "metadata": {},
   "outputs": [],
   "source": []
  }
 ],
 "metadata": {
  "kernel_info": {
   "name": "python3"
  },
  "kernelspec": {
   "display_name": "Python 3",
   "language": "python",
   "name": "python3"
  },
  "language_info": {
   "codemirror_mode": {
    "name": "ipython",
    "version": 3
   },
   "file_extension": ".py",
   "mimetype": "text/x-python",
   "name": "python",
   "nbconvert_exporter": "python",
   "pygments_lexer": "ipython3",
   "version": "3.6.9"
  },
  "nteract": {
   "version": "nteract-front-end@1.0.0"
  }
 },
 "nbformat": 4,
 "nbformat_minor": 2
}
